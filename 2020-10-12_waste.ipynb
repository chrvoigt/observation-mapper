{
 "cells": [
  {
   "cell_type": "markdown",
   "metadata": {
    "toc": true
   },
   "source": [
    "<h1>Table of Contents<span class=\"tocSkip\"></span></h1>\n",
    "<div class=\"toc\"><ul class=\"toc-item\"><li><span><a href=\"#Basic-Map-Parameters\" data-toc-modified-id=\"Basic-Map-Parameters-1\"><span class=\"toc-item-num\">1&nbsp;&nbsp;</span>Basic Map Parameters</a></span></li><li><span><a href=\"#Basic-Map\" data-toc-modified-id=\"Basic-Map-2\"><span class=\"toc-item-num\">2&nbsp;&nbsp;</span>Basic Map</a></span></li><li><span><a href=\"#Create-a-Split-Map\" data-toc-modified-id=\"Create-a-Split-Map-3\"><span class=\"toc-item-num\">3&nbsp;&nbsp;</span>Create a Split Map</a></span></li><li><span><a href=\"#Reading-the-data-as-provided-by-the-gadget-(there-are-always-two-types-of-files---tracks-and-ratings-of-spots)\" data-toc-modified-id=\"Reading-the-data-as-provided-by-the-gadget-(there-are-always-two-types-of-files---tracks-and-ratings-of-spots)-4\"><span class=\"toc-item-num\">4&nbsp;&nbsp;</span>Reading the data as provided by the gadget (there are always two types of files - tracks and ratings of spots)</a></span></li><li><span><a href=\"#Frequency-of-categories-1---5\" data-toc-modified-id=\"Frequency-of-categories-1---5-5\"><span class=\"toc-item-num\">5&nbsp;&nbsp;</span>Frequency of categories 1 - 5</a></span></li><li><span><a href=\"#Adding-tree--and-rubish-bin-locations-to-the-map\" data-toc-modified-id=\"Adding-tree--and-rubish-bin-locations-to-the-map-6\"><span class=\"toc-item-num\">6&nbsp;&nbsp;</span>Adding tree- and rubish bin locations to the map</a></span></li><li><span><a href=\"#Grouping-of-markers-(not-really-useful-in-this-context)\" data-toc-modified-id=\"Grouping-of-markers-(not-really-useful-in-this-context)-7\"><span class=\"toc-item-num\">7&nbsp;&nbsp;</span>Grouping of markers (not really useful in this context)</a></span></li><li><span><a href=\"#The-resulting-HTML-file-should-be-visible-in-any-browser-(however,-icons-will-be-missing---fixible)\" data-toc-modified-id=\"The-resulting-HTML-file-should-be-visible-in-any-browser-(however,-icons-will-be-missing---fixible)-8\"><span class=\"toc-item-num\">8&nbsp;&nbsp;</span>The resulting HTML file should be visible in any browser (however, icons will be missing - fixible)</a></span></li><li><span><a href=\"#Some-cleaning-up-if-needed\" data-toc-modified-id=\"Some-cleaning-up-if-needed-9\"><span class=\"toc-item-num\">9&nbsp;&nbsp;</span>Some cleaning up if needed</a></span></li><li><span><a href=\"#Integrating-a-different-basemap-with-more-details\" data-toc-modified-id=\"Integrating-a-different-basemap-with-more-details-10\"><span class=\"toc-item-num\">10&nbsp;&nbsp;</span>Integrating a different basemap with more details</a></span></li><li><span><a href=\"#For-later:-Experimenting-with-coloring-regions-or-neighborhoods\" data-toc-modified-id=\"For-later:-Experimenting-with-coloring-regions-or-neighborhoods-11\"><span class=\"toc-item-num\">11&nbsp;&nbsp;</span>For later: Experimenting with coloring regions or neighborhoods</a></span></li></ul></div>"
   ]
  },
  {
   "cell_type": "code",
   "execution_count": 1,
   "metadata": {},
   "outputs": [],
   "source": [
    "# not all of these libraries are needed but for now let's load them to be prepared :-) \n",
    "from ipyleaflet import (Map, GeoData, WidgetControl, GeoJSON, basemaps, LocalTileLayer,\n",
    " LayersControl, Icon, Marker,basemap_to_tiles, Choropleth, AntPath,\n",
    " MarkerCluster, Heatmap, SearchControl, FullScreenControl, AwesomeIcon, \n",
    " ScaleControl, MeasureControl, SplitMapControl, WMSLayer, Polygon, Choropleth)"
   ]
  },
  {
   "cell_type": "code",
   "execution_count": 2,
   "metadata": {},
   "outputs": [],
   "source": [
    "# ipywidgets add user interactions to our notebook cells \n",
    "# read the docs https://ipywidgets.readthedocs.io/en/latest/\n",
    "from ipywidgets import Text, HTML, IntSlider, ColorPicker, jslink, Layout\n",
    "from branca.colormap import linear"
   ]
  },
  {
   "cell_type": "code",
   "execution_count": 3,
   "metadata": {},
   "outputs": [],
   "source": [
    "# something to look into when wanting to color areas of a city or a region (Choropleth Maps)\n",
    "# https://blog.datawrapper.de/choroplethmaps/\n",
    "#import geopandas as gpd\n",
    "#import json"
   ]
  },
  {
   "cell_type": "code",
   "execution_count": 4,
   "metadata": {},
   "outputs": [],
   "source": [
    "# Pandas = derived from \"Python and data analysis\"\n",
    "import pandas as pd  "
   ]
  },
  {
   "cell_type": "markdown",
   "metadata": {},
   "source": [
    "## Basic Map Parameters "
   ]
  },
  {
   "cell_type": "code",
   "execution_count": 5,
   "metadata": {},
   "outputs": [
    {
     "data": {
      "text/plain": [
       "'\\nalternative options for basemaps are \\nbasemap = basemaps.Stamen.Watercolor\\nbasemap = basemaps.Stamen.Toner\\nbasemap = basemaps.Stamen.Terrain\\netc \\n\\n'"
      ]
     },
     "execution_count": 5,
     "metadata": {},
     "output_type": "execute_result"
    }
   ],
   "source": [
    "# the centre of your map should be about the starting point of your mapping tour \n",
    "center = [48.231139, 16.374955]\n",
    "zoom =16\n",
    "\n",
    "# you can adjust the map size via ipwidgets *Layout* attribute  \n",
    "basemap = basemaps.Esri.WorldStreetMap\n",
    "layout = Layout(width='100%', height='600px')\n",
    "\n",
    "\"\"\"\n",
    "alternative options for basemaps are \n",
    "basemap = basemaps.Stamen.Watercolor\n",
    "basemap = basemaps.Stamen.Toner\n",
    "basemap = basemaps.Stamen.Terrain\n",
    "etc \n",
    "\n",
    "\"\"\""
   ]
  },
  {
   "cell_type": "markdown",
   "metadata": {},
   "source": [
    "## Basic Map "
   ]
  },
  {
   "cell_type": "code",
   "execution_count": 6,
   "metadata": {},
   "outputs": [
    {
     "data": {
      "application/vnd.jupyter.widget-view+json": {
       "model_id": "8ba045e142c44f38885830f4be324313",
       "version_major": 2,
       "version_minor": 0
      },
      "text/plain": [
       "Map(center=[48.231139, 16.374955], controls=(ZoomControl(options=['position', 'zoom_in_text', 'zoom_in_title',…"
      ]
     },
     "metadata": {},
     "output_type": "display_data"
    }
   ],
   "source": [
    "m = Map(center=center, zoom=zoom, basemap = basemap, layout=layout)\n",
    "\n",
    "# add user interaction / user information such as the scale of a map \n",
    "zoom_slider = IntSlider(description='Zoom level:', min=10, max=20, value=16)\n",
    "jslink((zoom_slider, 'value'), (m, 'zoom'))\n",
    "\n",
    "widget_control1 = WidgetControl(widget=zoom_slider, position='topright')\n",
    "m.add_control(widget_control1)\n",
    "m.add_control(FullScreenControl())\n",
    "m.add_control(ScaleControl(position='bottomleft', imperial = False))\n",
    "m.add_control(LayersControl(position='topright'))\n",
    "\n",
    "# this adds a nice feature to meassure the length of a path or a polygone area in square meters \n",
    "measure = MeasureControl(\n",
    "    position='bottomleft',\n",
    "    active_color = 'orange',\n",
    "    primary_length_unit = 'meters',\n",
    "    primary_area_unit = 'sqmeters',\n",
    "    completed_color = 'blue'\n",
    ")\n",
    "m.add_control(measure)\n",
    "display (m)"
   ]
  },
  {
   "cell_type": "markdown",
   "metadata": {},
   "source": [
    "## Create a Split Map "
   ]
  },
  {
   "cell_type": "code",
   "execution_count": 7,
   "metadata": {},
   "outputs": [
    {
     "data": {
      "application/vnd.jupyter.widget-view+json": {
       "model_id": "00634a116e34423a94ae4011aaef91b6",
       "version_major": 2,
       "version_minor": 0
      },
      "text/plain": [
       "Map(center=[48.231139, 16.374955], controls=(ZoomControl(options=['position', 'zoom_in_text', 'zoom_in_title',…"
      ]
     },
     "metadata": {},
     "output_type": "display_data"
    }
   ],
   "source": [
    "basemap = basemaps.Esri.WorldStreetMap\n",
    "split_map = Map(center=center, zoom=zoom, layout=layout)\n",
    "\n",
    "# create right and left layers\n",
    "left_layer  = basemap_to_tiles(basemap=basemap)\n",
    "right_layer = basemap_to_tiles(basemap=basemaps.Stamen.Toner) \n",
    "\n",
    "# create split control\n",
    "control = SplitMapControl(left_layer=left_layer, right_layer=right_layer)\n",
    "\n",
    "#add control to map\n",
    "split_map.add_control(control)\n",
    "\n",
    "# display map\n",
    "\n",
    "zoom_slider = IntSlider(description='Zoom level:', min=10, max=20, value=16)\n",
    "jslink((zoom_slider, 'value'), (m, 'zoom'))\n",
    "\n",
    "widget_control1 = WidgetControl(widget=zoom_slider, position='topright')\n",
    "split_map.add_control(widget_control1)\n",
    "split_map.add_control(FullScreenControl())\n",
    "split_map.add_control(ScaleControl(position='bottomleft', imperial = False))\n",
    "split_map.add_control(LayersControl(position='topright')) \n",
    "\n",
    "display(split_map)"
   ]
  },
  {
   "cell_type": "markdown",
   "metadata": {},
   "source": [
    "## Reading the data as provided by the gadget (there are always two types of files - tracks and ratings of spots)"
   ]
  },
  {
   "cell_type": "code",
   "execution_count": 8,
   "metadata": {},
   "outputs": [
    {
     "name": "stdout",
     "output_type": "stream",
     "text": [
      "number of track points:  500\n"
     ]
    },
    {
     "data": {
      "text/html": [
       "<div>\n",
       "<style scoped>\n",
       "    .dataframe tbody tr th:only-of-type {\n",
       "        vertical-align: middle;\n",
       "    }\n",
       "\n",
       "    .dataframe tbody tr th {\n",
       "        vertical-align: top;\n",
       "    }\n",
       "\n",
       "    .dataframe thead th {\n",
       "        text-align: right;\n",
       "    }\n",
       "</style>\n",
       "<table border=\"1\" class=\"dataframe\">\n",
       "  <thead>\n",
       "    <tr style=\"text-align: right;\">\n",
       "      <th></th>\n",
       "      <th>Date</th>\n",
       "      <th>Time</th>\n",
       "      <th>Raw_Time</th>\n",
       "      <th>Latitude</th>\n",
       "      <th>Longitude</th>\n",
       "      <th>Altitude</th>\n",
       "      <th>Sats</th>\n",
       "      <th>Sat_Speed</th>\n",
       "      <th>Precision</th>\n",
       "    </tr>\n",
       "  </thead>\n",
       "  <tbody>\n",
       "    <tr>\n",
       "      <th>0</th>\n",
       "      <td>121020</td>\n",
       "      <td>07:12:47</td>\n",
       "      <td>6124700</td>\n",
       "      <td>48.2311</td>\n",
       "      <td>16.375006</td>\n",
       "      <td>160.2</td>\n",
       "      <td>4</td>\n",
       "      <td>0.5926</td>\n",
       "      <td>6.51</td>\n",
       "    </tr>\n",
       "    <tr>\n",
       "      <th>1</th>\n",
       "      <td>121020</td>\n",
       "      <td>07:12:47</td>\n",
       "      <td>6124700</td>\n",
       "      <td>48.2311</td>\n",
       "      <td>16.375006</td>\n",
       "      <td>160.2</td>\n",
       "      <td>4</td>\n",
       "      <td>0.5926</td>\n",
       "      <td>6.51</td>\n",
       "    </tr>\n",
       "    <tr>\n",
       "      <th>2</th>\n",
       "      <td>121020</td>\n",
       "      <td>07:12:47</td>\n",
       "      <td>6124700</td>\n",
       "      <td>48.2311</td>\n",
       "      <td>16.375006</td>\n",
       "      <td>160.2</td>\n",
       "      <td>4</td>\n",
       "      <td>0.5926</td>\n",
       "      <td>6.51</td>\n",
       "    </tr>\n",
       "  </tbody>\n",
       "</table>\n",
       "</div>"
      ],
      "text/plain": [
       "     Date      Time  Raw_Time  Latitude  Longitude  Altitude  Sats  Sat_Speed  \\\n",
       "0  121020  07:12:47   6124700   48.2311  16.375006     160.2     4     0.5926   \n",
       "1  121020  07:12:47   6124700   48.2311  16.375006     160.2     4     0.5926   \n",
       "2  121020  07:12:47   6124700   48.2311  16.375006     160.2     4     0.5926   \n",
       "\n",
       "   Precision  \n",
       "0       6.51  \n",
       "1       6.51  \n",
       "2       6.51  "
      ]
     },
     "execution_count": 8,
     "metadata": {},
     "output_type": "execute_result"
    }
   ],
   "source": [
    "ratings=pd.read_csv('data/2020-10-12_rate_waste.csv', sep=';')\n",
    "tracks=pd.read_csv('data/2020-10-12_track_waste.csv', sep=';')\n",
    "print('number of track points: ', len (tracks))\n",
    "tracks.head(3)"
   ]
  },
  {
   "cell_type": "markdown",
   "metadata": {},
   "source": [
    "## Frequency of categories 1 - 5 "
   ]
  },
  {
   "cell_type": "code",
   "execution_count": 9,
   "metadata": {},
   "outputs": [
    {
     "data": {
      "text/plain": [
       "Category\n",
       "1    13\n",
       "2     4\n",
       "4     5\n",
       "dtype: int64"
      ]
     },
     "execution_count": 9,
     "metadata": {},
     "output_type": "execute_result"
    }
   ],
   "source": [
    "ratings.groupby(['Category']).size()"
   ]
  },
  {
   "cell_type": "code",
   "execution_count": 10,
   "metadata": {},
   "outputs": [
    {
     "name": "stdout",
     "output_type": "stream",
     "text": [
      "number of polutted trees:  17\n",
      "number of overflowing bins:  5\n"
     ]
    }
   ],
   "source": [
    "# at this point we add some meaning to the categories \n",
    "tree_waste = ratings[ (ratings['Category'] == 1) | (ratings['Category'] == 2) ] \n",
    "bin_waste = ratings[ ratings['Category'] == 4] \n",
    "print ('number of polutted trees: ', len(tree_waste))\n",
    "print ('number of overflowing bins: ', len(bin_waste))"
   ]
  },
  {
   "cell_type": "code",
   "execution_count": 11,
   "metadata": {},
   "outputs": [],
   "source": [
    "# a collection of points (GPS coordinates) needs to be provided as a list of lists, this is what this funciton does  \n",
    "def location_converter (df): \n",
    "    markers = df.loc[:,{'Latitude','Longitude'}] #ouput dataframe \n",
    "    markers = markers.reindex(columns = ['Latitude','Longitude']) #\n",
    "    markers = markers.to_records(index=False) #output array\n",
    "    markers = list (markers) #output list of tuples\n",
    "    markers = [list(i) for i in markers] # list of lists\n",
    "    return markers\n"
   ]
  },
  {
   "cell_type": "code",
   "execution_count": 12,
   "metadata": {},
   "outputs": [
    {
     "data": {
      "text/plain": [
       "[[48.231136, 16.374966], [48.231619, 16.374845]]"
      ]
     },
     "execution_count": 12,
     "metadata": {},
     "output_type": "execute_result"
    }
   ],
   "source": [
    "# calling the funnnction and checking outpu \n",
    "tree_pos = location_converter (tree_waste)\n",
    "bin_pos = location_converter (bin_waste)\n",
    "track_pos = location_converter (tracks)\n",
    "tree_pos [0:2]"
   ]
  },
  {
   "cell_type": "code",
   "execution_count": 13,
   "metadata": {},
   "outputs": [
    {
     "data": {
      "text/plain": [
       "'/Users/me/code/notebooks/ipyleaflet'"
      ]
     },
     "execution_count": 13,
     "metadata": {},
     "output_type": "execute_result"
    }
   ],
   "source": [
    "import os\n",
    "os.getcwd()"
   ]
  },
  {
   "cell_type": "markdown",
   "metadata": {},
   "source": [
    "## Adding tree- and rubish bin locations to the map "
   ]
  },
  {
   "cell_type": "code",
   "execution_count": 17,
   "metadata": {},
   "outputs": [
    {
     "name": "stdout",
     "output_type": "stream",
     "text": [
      "Icon(icon_size=[30, 40], icon_url='files/ipyleaflet/icons/foot.png', options=['icon_anchor', 'icon_size', 'icon_url', 'popup_anchor', 'shadow_anchor', 'shadow_size', 'shadow_url'], popup_anchor=[0, 0])\n"
     ]
    },
    {
     "data": {
      "application/vnd.jupyter.widget-view+json": {
       "model_id": "8ba045e142c44f38885830f4be324313",
       "version_major": 2,
       "version_minor": 0
      },
      "text/plain": [
       "Map(bottom=5816168.0, center=[48.231139, 16.374955], controls=(ZoomControl(options=['position', 'zoom_in_text'…"
      ]
     },
     "metadata": {},
     "output_type": "display_data"
    }
   ],
   "source": [
    "#trash_icon = AwesomeIcon (name='trash', marker_color='white', icon_color='black', spin=True)\n",
    "#trash_icon = Icon(icon_url='https://leafletjs.com/examples/custom-icons/leaf-red.png', icon_size=[25, 40]) #red, green, yellow\n",
    "\n",
    "bin_markers = []\n",
    "tree_markers = []\n",
    "foot_markers = []\n",
    "\n",
    "'''\n",
    "#for jupyter notebook \n",
    "trash_icon = Icon(icon_url= 'icons/trashbin.png', icon_size=[30, 40])\n",
    "tree_icon =  Icon(icon_url= 'icons/tree.png', icon_size=[30, 40])\n",
    "'''\n",
    "\n",
    "#for jupyter labs \n",
    "trash_icon = Icon(icon_url='files/'+os.getcwd().split('/')[-1]+'/icons/trashbin.png', icon_size=[30, 40])\n",
    "tree_icon = Icon(icon_url='files/'+os.getcwd().split('/')[-1]+'/icons/tree.png', icon_size=[30, 40])\n",
    "\n",
    "#external icons \n",
    "#icon = Icon(icon_url='https://leafletjs.com/examples/custom-icons/leaf-green.png', icon_size=[38, 95], icon_anchor=[22,94])\n",
    "\n",
    "\n",
    "# Just to see what os.path returns?\n",
    "try: \n",
    "    print(\"File exist: \", os.path.isfile(foot_icon))\n",
    "except:\n",
    "    print(foot_icon)\n",
    "\n",
    "\n",
    "\n",
    "for i in range(len(bin_pos)):\n",
    "    markertrash  = Marker(location=bin_pos[i], icon = trash_icon)\n",
    "    m.add_layer(markertrash);\n",
    "    #bin_markers = bin_markers + marker\n",
    "    \n",
    "    \n",
    "for i in range(len(tree_pos)):\n",
    "    markertree  = Marker(location=tree_pos[i], icon = tree_icon)\n",
    "    m.add_layer(markertree);\n",
    "    #tree_markers = tree_markers + marker\n",
    "    \n",
    "'''\n",
    "for i in range(len(track_pos)):\n",
    "    marker  = [Marker(location=track_pos[i], icon = foot_icon)]\n",
    "    foot_markers = foot_markers + marker\n",
    "   \n",
    "\n",
    "bin_markers = tuple (bin_markers)\n",
    "tree_markers = tuple (tree_markers)\n",
    "#foot_markers = tuple (foot_markers)\n",
    "''' \n",
    " # creating the path of the mapping exercise \n",
    "\n",
    "ant_path = AntPath (\n",
    "    locations=track_pos,     \n",
    "    dash_array=[1, 10],\n",
    "    delay=2000,\n",
    "    color='#7590ba',\n",
    "    pulse_color='#3f6fba',\n",
    "    name='Trail')\n",
    "\n",
    "m.add_layer(ant_path)\n",
    "\n",
    "display (m) "
   ]
  },
  {
   "cell_type": "code",
   "execution_count": 18,
   "metadata": {},
   "outputs": [
    {
     "data": {
      "application/vnd.jupyter.widget-view+json": {
       "model_id": "8ba045e142c44f38885830f4be324313",
       "version_major": 2,
       "version_minor": 0
      },
      "text/plain": [
       "Map(bottom=5816168.0, center=[48.231139, 16.374955], controls=(ZoomControl(options=['position', 'zoom_in_text'…"
      ]
     },
     "metadata": {},
     "output_type": "display_data"
    }
   ],
   "source": [
    "# creating the path of the mapping exercise \n",
    "\n",
    "ant_path = AntPath (\n",
    "    locations=track_pos,     \n",
    "    dash_array=[1, 10],\n",
    "    delay=2000,\n",
    "    color='#7590ba',\n",
    "    pulse_color='#3f6fba',\n",
    "    name='Trail')\n",
    "\n",
    "m.add_layer(ant_path)\n",
    "\n",
    "display (m) "
   ]
  },
  {
   "cell_type": "markdown",
   "metadata": {},
   "source": [
    "## Grouping of markers (not really useful in this context) "
   ]
  },
  {
   "cell_type": "code",
   "execution_count": null,
   "metadata": {},
   "outputs": [],
   "source": [
    "\"\"\"\n",
    "bin_layer = MarkerCluster(markers = bin_markers, name='Trash bins')\n",
    "tree_layer = MarkerCluster(markers = tree_markers, name='Tree w. trash')\n",
    "\n",
    "#foot_layer = MarkerCluster(markers = foot_markers, name='Trail')\n",
    "# print(bin_layer)\n",
    "\n",
    "m.add_layer(bin_layer) \n",
    "m.add_layer(tree_layer) \n",
    "m.add_layer(ant_path)\n",
    "m\n",
    "\"\"\"\n"
   ]
  },
  {
   "cell_type": "markdown",
   "metadata": {},
   "source": [
    "## The resulting HTML file should be visible in any browser (however, icons will be missing - fixible)"
   ]
  },
  {
   "cell_type": "code",
   "execution_count": null,
   "metadata": {},
   "outputs": [],
   "source": [
    "m.save('my_map.html', title='My Map')"
   ]
  },
  {
   "cell_type": "markdown",
   "metadata": {},
   "source": [
    "## Some cleaning up if needed "
   ]
  },
  {
   "cell_type": "code",
   "execution_count": null,
   "metadata": {},
   "outputs": [],
   "source": [
    "m.clear_layers()"
   ]
  },
  {
   "cell_type": "code",
   "execution_count": null,
   "metadata": {},
   "outputs": [],
   "source": [
    "m.remove_layer(bin_layer)\n",
    "m.remove_layer(tree_layer)\n",
    "m.remove_layer (ant_path)"
   ]
  },
  {
   "cell_type": "markdown",
   "metadata": {},
   "source": [
    "## Integrating a different basemap with more details "
   ]
  },
  {
   "cell_type": "code",
   "execution_count": null,
   "metadata": {},
   "outputs": [],
   "source": [
    "from ipyleaflet import Map, WMSLayer, basemaps\n",
    "#wmts = \"http://maps.wien.gv.at/basemap/geolandbasemap/normal/google3857/{z}/{y}/{x}.png\"\n",
    "\n",
    "wms = WMSLayer(\n",
    "    url='http://maps.wien.gv.at/basemap/geolandbasemap/normal/google3857/{z}/{y}/{x}.png',\n",
    "    format='image/png',\n",
    "    transparent=True,\n",
    "    attribution='wait'\n",
    ")\n",
    "\n",
    "m.add_layer(wms)\n",
    "\n",
    "m"
   ]
  },
  {
   "cell_type": "markdown",
   "metadata": {},
   "source": [
    "## For later: Experimenting with coloring regions or neighborhoods "
   ]
  },
  {
   "cell_type": "code",
   "execution_count": null,
   "metadata": {},
   "outputs": [],
   "source": [
    "import csv \n",
    "from collections import defaultdict"
   ]
  },
  {
   "cell_type": "code",
   "execution_count": null,
   "metadata": {},
   "outputs": [],
   "source": [
    "#the syntax is: mydict[key] = \"value\"\n",
    "#mydict [\"iphone 5S\"] = 2013\n",
    "\n",
    "def parse_csv_by_field(filename, fieldnames):\n",
    "    print(fieldnames)\n",
    "    d = defaultdict(list)\n",
    "    with open(filename, newline='') as csvfile:\n",
    "        reader = csv.DictReader(csvfile, fieldnames)\n",
    "        next(reader)  # remove header\n",
    "        for row in reader:\n",
    "            d[row ['bundesland']] = int (row ['measurement'])\n",
    "    return dict(d)\n",
    "\n",
    "\n",
    "area_data = parse_csv_by_field('data/area_data.csv', ['bundesland','measurement'])\n",
    "area_data \n",
    " \n",
    "    "
   ]
  },
  {
   "cell_type": "code",
   "execution_count": null,
   "metadata": {},
   "outputs": [],
   "source": [
    "m.clear_layers()"
   ]
  },
  {
   "cell_type": "raw",
   "metadata": {},
   "source": [
    "geo_json_borders\n",
    "\n",
    "{'type': 'FeatureCollection',\n",
    " 'name': 'gemeinden_999_geo',\n",
    " 'crs': {'type': 'name',\n",
    "  'properties': {'name': 'urn:ogc:def:crs:OGC:1.3:CRS84'}},\n",
    " 'features': [{'type': 'Feature',\n",
    "   'properties': {'name': 'Pöttsching', 'iso': '10609'},\n",
    "   'geometry': {'type': 'MultiPolygon',\n",
    "    'coordinates': [[[[16.404354111718263, 47.79918128500937],\n",
    "       [16.400857594414486, 47.79178318259396],\n",
    "       [16.370098559225617, 47.75647909430695],\n",
    "       [16.36178609891293, 47.750404442983026],\n",
    "       [16.337313248332276, 47.775956948979676],"
   ]
  },
  {
   "cell_type": "code",
   "execution_count": null,
   "metadata": {},
   "outputs": [],
   "source": [
    "import geopandas as gpd\n",
    "import json \n",
    "states = gpd.read_file('geojson/laender.json')\n",
    "print(states.head())"
   ]
  },
  {
   "cell_type": "raw",
   "metadata": {},
   "source": [
    "borders1 = 'geojson/bezirke_vienna.json'\n",
    "borders2 = 'geojson/gemeinden_999_geo.json'\n",
    "borders3 = 'geojson/laender.json'\n",
    "\n",
    "with open(borders3) as f:\n",
    "    geo_json_borders = json.load(f)\n",
    "\n",
    "wms = WMSLayer(\n",
    "    url='http://maps.wien.gv.at/basemap/geolandbasemap/normal/google3857/{z}/{y}/{x}.png',\n",
    "    format='image/png',\n",
    "    transparent=True,\n",
    "    attribution='wait'\n",
    ")\n",
    "\n",
    "\n",
    "m = Map(center=center, zoom=12, layout=Layout(width='100%', height='600px'))\n",
    "\n",
    "'''\n",
    "border_layer = GeoJSON(data=geo_json_borders,\n",
    "                                 style = {'color': 'red', \n",
    "                                          'opacity': 1.0, \n",
    "                                          'weight': 2.9,\n",
    "                                          'fill': 'blue',\n",
    "                                          'fillOpacity': 0.2})\n",
    "'''\n",
    "\n",
    "layer = Choropleth(\n",
    "    geo_data=geo_json_borders,\n",
    "    choro_data=area_data,\n",
    "    key_on= 'iso',\n",
    "    colormap=linear.YlOrRd_04,\n",
    "    border_color='black',\n",
    "    style={'fillOpacity': 0.8, 'dashArray': '5, 5'})\n",
    "\n",
    "\n",
    "m.add_layer(wms)\n",
    "m.add_layer(border_layer)\n",
    "\n",
    "m"
   ]
  },
  {
   "cell_type": "code",
   "execution_count": null,
   "metadata": {},
   "outputs": [],
   "source": [
    "geo_json_borders ['features'] [0] ['properties'] ['name']"
   ]
  },
  {
   "cell_type": "code",
   "execution_count": null,
   "metadata": {},
   "outputs": [],
   "source": []
  }
 ],
 "metadata": {
  "hide_input": false,
  "kernelspec": {
   "display_name": "ipyleaflet",
   "language": "python",
   "name": "ipyleaflet"
  },
  "language_info": {
   "codemirror_mode": {
    "name": "ipython",
    "version": 3
   },
   "file_extension": ".py",
   "mimetype": "text/x-python",
   "name": "python",
   "nbconvert_exporter": "python",
   "pygments_lexer": "ipython3",
   "version": "3.8.1"
  },
  "toc": {
   "base_numbering": 1,
   "nav_menu": {},
   "number_sections": true,
   "sideBar": true,
   "skip_h1_title": false,
   "title_cell": "Table of Contents",
   "title_sidebar": "Contents",
   "toc_cell": true,
   "toc_position": {},
   "toc_section_display": true,
   "toc_window_display": true
  },
  "widgets": {
   "application/vnd.jupyter.widget-state+json": {
    "state": {
     "00634a116e34423a94ae4011aaef91b6": {
      "model_module": "jupyter-leaflet",
      "model_module_version": "^0.13.2",
      "model_name": "LeafletMapModel",
      "state": {
       "_model_module_version": "^0.13.2",
       "_view_module_version": "^0.13.2",
       "bottom": 5816168,
       "center": [
        48.231139,
        16.374955
       ],
       "controls": [
        "IPY_MODEL_e62c0db39cf243f2b496b016748f6c4e",
        "IPY_MODEL_8593a38754c24dabbc336726997157a9",
        "IPY_MODEL_bf27d1ec56d248ce88a2ba52eb0e932e",
        "IPY_MODEL_b4f13b7b0c034238ad6db0c8bc60ef9e",
        "IPY_MODEL_aa4589869c534a5eb10fa04c4ef320a4",
        "IPY_MODEL_f2dbf411e7f64d5d8dc2f859fdf3daa3",
        "IPY_MODEL_f4de1416d363417997412be4c0c8fe0d"
       ],
       "default_style": "IPY_MODEL_3a8cf67743b74aab987dbd1c3e79c04e",
       "dragging_style": "IPY_MODEL_a0f576e968d3487c96698cf4209a7eb3",
       "east": 16.38518571853638,
       "fullscreen": false,
       "interpolation": "bilinear",
       "layers": [
        "IPY_MODEL_8c510037839b401c96c8eea0f6bc8fbc"
       ],
       "layout": "IPY_MODEL_d43dff2b51574f34921135276afd3266",
       "left": 9151260,
       "modisdate": "yesterday",
       "north": 48.235421620572104,
       "options": [
        "bounce_at_zoom_limits",
        "box_zoom",
        "center",
        "close_popup_on_click",
        "double_click_zoom",
        "dragging",
        "fullscreen",
        "inertia",
        "inertia_deceleration",
        "inertia_max_speed",
        "interpolation",
        "keyboard",
        "keyboard_pan_offset",
        "keyboard_zoom_offset",
        "max_zoom",
        "min_zoom",
        "scroll_wheel_zoom",
        "tap",
        "tap_tolerance",
        "touch_zoom",
        "world_copy_jump",
        "zoom",
        "zoom_animation_threshold",
        "zoom_delta",
        "zoom_snap",
        "zoom_start"
       ],
       "right": 9152213,
       "south": 48.22684549597699,
       "style": "IPY_MODEL_a0e510f4b4a3445eb331d35e288e1fc0",
       "top": 5815568,
       "west": 16.36473655700684,
       "window_url": "http://localhost:8888/lab",
       "zoom": 16
      }
     },
     "02ce887b97bc4c388f6f1a106d47a66b": {
      "model_module": "@jupyter-widgets/controls",
      "model_module_version": "1.5.0",
      "model_name": "IntSliderModel",
      "state": {
       "description": "Zoom level:",
       "layout": "IPY_MODEL_86efa254dd8b48328b8e518c31516aad",
       "max": 20,
       "min": 10,
       "style": "IPY_MODEL_6ef468407bc1441d9fdd2cdfe131ed4d",
       "value": 16
      }
     },
     "05146adff0f54ad5b6561a8036455cf4": {
      "model_module": "jupyter-leaflet",
      "model_module_version": "^0.13.2",
      "model_name": "LeafletMarkerModel",
      "state": {
       "_model_module_version": "^0.13.2",
       "_view_module_version": "^0.13.2",
       "icon": "IPY_MODEL_05ddda36b75e44299039ad53e79df66d",
       "location": [
        48.233336,
        16.374308
       ],
       "options": [
        "alt",
        "draggable",
        "keyboard",
        "rise_offset",
        "rise_on_hover",
        "rotation_angle",
        "rotation_origin",
        "title",
        "z_index_offset"
       ]
      }
     },
     "05ddda36b75e44299039ad53e79df66d": {
      "model_module": "jupyter-leaflet",
      "model_module_version": "^0.13.2",
      "model_name": "LeafletIconModel",
      "state": {
       "_model_module_version": "^0.13.2",
       "_view_module_version": "^0.13.2",
       "icon_size": [
        30,
        40
       ],
       "icon_url": "files/ipyleaflet/icons/tree.png",
       "options": [
        "icon_anchor",
        "icon_size",
        "icon_url",
        "popup_anchor",
        "shadow_anchor",
        "shadow_size",
        "shadow_url"
       ],
       "shadow_url": null
      }
     },
     "091dc61a91f4488faa68f06b93e8a05b": {
      "model_module": "jupyter-leaflet",
      "model_module_version": "^0.13.2",
      "model_name": "LeafletMarkerModel",
      "state": {
       "_model_module_version": "^0.13.2",
       "_view_module_version": "^0.13.2",
       "icon": "IPY_MODEL_804a9edaebfc44478c925395e21f659e",
       "location": [
        48.231184999999996,
        16.372423
       ],
       "options": [
        "alt",
        "draggable",
        "keyboard",
        "rise_offset",
        "rise_on_hover",
        "rotation_angle",
        "rotation_origin",
        "title",
        "z_index_offset"
       ]
      }
     },
     "0b2adb4cfa9547cba4e9270674610e03": {
      "model_module": "jupyter-leaflet",
      "model_module_version": "^0.13.2",
      "model_name": "LeafletMarkerModel",
      "state": {
       "_model_module_version": "^0.13.2",
       "_view_module_version": "^0.13.2",
       "icon": "IPY_MODEL_b6b6251a8eec44ffaddb6a0eca206238",
       "location": [
        48.233253000000005,
        16.374233
       ],
       "options": [
        "alt",
        "draggable",
        "keyboard",
        "rise_offset",
        "rise_on_hover",
        "rotation_angle",
        "rotation_origin",
        "title",
        "z_index_offset"
       ]
      }
     },
     "0b371d6fc0dd403392606bf2d5aec9c8": {
      "model_module": "jupyter-leaflet",
      "model_module_version": "^0.13.2",
      "model_name": "LeafletMarkerModel",
      "state": {
       "_model_module_version": "^0.13.2",
       "_view_module_version": "^0.13.2",
       "icon": "IPY_MODEL_05ddda36b75e44299039ad53e79df66d",
       "location": [
        48.233724,
        16.373077
       ],
       "options": [
        "alt",
        "draggable",
        "keyboard",
        "rise_offset",
        "rise_on_hover",
        "rotation_angle",
        "rotation_origin",
        "title",
        "z_index_offset"
       ]
      }
     },
     "0fe5a4d6152045ebac6e14290b77eb4a": {
      "model_module": "jupyter-leaflet",
      "model_module_version": "^0.13.2",
      "model_name": "LeafletMarkerModel",
      "state": {
       "_model_module_version": "^0.13.2",
       "_view_module_version": "^0.13.2",
       "icon": "IPY_MODEL_b6b6251a8eec44ffaddb6a0eca206238",
       "location": [
        48.233894,
        16.373085
       ],
       "options": [
        "alt",
        "draggable",
        "keyboard",
        "rise_offset",
        "rise_on_hover",
        "rotation_angle",
        "rotation_origin",
        "title",
        "z_index_offset"
       ]
      }
     },
     "136eb8d1f56a44c5b953c281a43739ec": {
      "model_module": "jupyter-leaflet",
      "model_module_version": "^0.13.2",
      "model_name": "LeafletScaleControlModel",
      "state": {
       "_model_module_version": "^0.13.2",
       "_view_module_version": "^0.13.2",
       "imperial": false,
       "max_width": 100,
       "metric": true,
       "options": [
        "imperial",
        "max_width",
        "metric",
        "position",
        "update_when_idle"
       ],
       "position": "bottomleft",
       "update_when_idle": false
      }
     },
     "169d5e64cf164743b6fa37d9dc635c40": {
      "model_module": "jupyter-leaflet",
      "model_module_version": "^0.13.2",
      "model_name": "LeafletMarkerModel",
      "state": {
       "_model_module_version": "^0.13.2",
       "_view_module_version": "^0.13.2",
       "icon": "IPY_MODEL_05ddda36b75e44299039ad53e79df66d",
       "location": [
        48.233894,
        16.373085
       ],
       "options": [
        "alt",
        "draggable",
        "keyboard",
        "rise_offset",
        "rise_on_hover",
        "rotation_angle",
        "rotation_origin",
        "title",
        "z_index_offset"
       ]
      }
     },
     "179ae8acf73a491184cb43caa5a6d6f2": {
      "model_module": "jupyter-leaflet",
      "model_module_version": "^0.13.2",
      "model_name": "LeafletMarkerModel",
      "state": {
       "_model_module_version": "^0.13.2",
       "_view_module_version": "^0.13.2",
       "icon": "IPY_MODEL_f8c90c84beea48b5af018701589edbf0",
       "location": [
        48.232442,
        16.374664000000003
       ],
       "options": [
        "alt",
        "draggable",
        "keyboard",
        "rise_offset",
        "rise_on_hover",
        "rotation_angle",
        "rotation_origin",
        "title",
        "z_index_offset"
       ]
      }
     },
     "19c1e31e8d19478cb4110922c6183a75": {
      "model_module": "jupyter-leaflet",
      "model_module_version": "^0.13.2",
      "model_name": "LeafletMarkerModel",
      "state": {
       "_model_module_version": "^0.13.2",
       "_view_module_version": "^0.13.2",
       "icon": "IPY_MODEL_c84e580c284745eebaf7b40531c7944d",
       "location": [
        48.232625,
        16.369195
       ],
       "options": [
        "alt",
        "draggable",
        "keyboard",
        "rise_offset",
        "rise_on_hover",
        "rotation_angle",
        "rotation_origin",
        "title",
        "z_index_offset"
       ]
      }
     },
     "1aba931e3746424a96de22ebda9970e4": {
      "model_module": "jupyter-leaflet",
      "model_module_version": "^0.13.2",
      "model_name": "LeafletMarkerModel",
      "state": {
       "_model_module_version": "^0.13.2",
       "_view_module_version": "^0.13.2",
       "icon": "IPY_MODEL_f8c90c84beea48b5af018701589edbf0",
       "location": [
        48.235084,
        16.370098000000002
       ],
       "options": [
        "alt",
        "draggable",
        "keyboard",
        "rise_offset",
        "rise_on_hover",
        "rotation_angle",
        "rotation_origin",
        "title",
        "z_index_offset"
       ]
      }
     },
     "1c4256c261774d84802df6292ed42450": {
      "model_module": "jupyter-leaflet",
      "model_module_version": "^0.13.2",
      "model_name": "LeafletMarkerModel",
      "state": {
       "_model_module_version": "^0.13.2",
       "_view_module_version": "^0.13.2",
       "icon": "IPY_MODEL_05ddda36b75e44299039ad53e79df66d",
       "location": [
        48.231947999999996,
        16.371916
       ],
       "options": [
        "alt",
        "draggable",
        "keyboard",
        "rise_offset",
        "rise_on_hover",
        "rotation_angle",
        "rotation_origin",
        "title",
        "z_index_offset"
       ]
      }
     },
     "1de58fb2e7b1428e8bc32bdf8fae7b6e": {
      "model_module": "jupyter-leaflet",
      "model_module_version": "^0.13.2",
      "model_name": "LeafletIconModel",
      "state": {
       "_model_module_version": "^0.13.2",
       "_view_module_version": "^0.13.2",
       "icon_size": [
        30,
        40
       ],
       "icon_url": "files/ipyleaflet/icons/foot.png",
       "options": [
        "icon_anchor",
        "icon_size",
        "icon_url",
        "popup_anchor",
        "shadow_anchor",
        "shadow_size",
        "shadow_url"
       ],
       "shadow_url": null
      }
     },
     "1ef69fb7fe274e9fa11f8de46613f0ef": {
      "model_module": "jupyter-leaflet",
      "model_module_version": "^0.13.2",
      "model_name": "LeafletMarkerModel",
      "state": {
       "_model_module_version": "^0.13.2",
       "_view_module_version": "^0.13.2",
       "icon": "IPY_MODEL_f8c90c84beea48b5af018701589edbf0",
       "location": [
        48.233336,
        16.374308
       ],
       "options": [
        "alt",
        "draggable",
        "keyboard",
        "rise_offset",
        "rise_on_hover",
        "rotation_angle",
        "rotation_origin",
        "title",
        "z_index_offset"
       ]
      }
     },
     "1f6c1f2f63f34deea9add2258558f510": {
      "model_module": "jupyter-leaflet",
      "model_module_version": "^0.13.2",
      "model_name": "LeafletIconModel",
      "state": {
       "_model_module_version": "^0.13.2",
       "_view_module_version": "^0.13.2",
       "icon_size": [
        30,
        40
       ],
       "icon_url": "icons/tree.png",
       "options": [
        "icon_anchor",
        "icon_size",
        "icon_url",
        "popup_anchor",
        "shadow_anchor",
        "shadow_size",
        "shadow_url"
       ],
       "shadow_url": null
      }
     },
     "20742a7189794f7ca7e2c8d1bdf50e4b": {
      "model_module": "jupyter-leaflet",
      "model_module_version": "^0.13.2",
      "model_name": "LeafletMarkerModel",
      "state": {
       "_model_module_version": "^0.13.2",
       "_view_module_version": "^0.13.2",
       "icon": "IPY_MODEL_05ddda36b75e44299039ad53e79df66d",
       "location": [
        48.235084,
        16.370098000000002
       ],
       "options": [
        "alt",
        "draggable",
        "keyboard",
        "rise_offset",
        "rise_on_hover",
        "rotation_angle",
        "rotation_origin",
        "title",
        "z_index_offset"
       ]
      }
     },
     "211ef0810bd04cc2a4ff468fb84e501e": {
      "model_module": "jupyter-leaflet",
      "model_module_version": "^0.13.2",
      "model_name": "LeafletMarkerModel",
      "state": {
       "_model_module_version": "^0.13.2",
       "_view_module_version": "^0.13.2",
       "icon": "IPY_MODEL_05ddda36b75e44299039ad53e79df66d",
       "location": [
        48.232615,
        16.374924
       ],
       "options": [
        "alt",
        "draggable",
        "keyboard",
        "rise_offset",
        "rise_on_hover",
        "rotation_angle",
        "rotation_origin",
        "title",
        "z_index_offset"
       ]
      }
     },
     "24e5a3d2a0674a79824eff50abeb6388": {
      "model_module": "jupyter-leaflet",
      "model_module_version": "^0.13.2",
      "model_name": "LeafletLayersControlModel",
      "state": {
       "_model_module_version": "^0.13.2",
       "_view_module_version": "^0.13.2",
       "options": [
        "position"
       ],
       "position": "topright"
      }
     },
     "28da2b39c6a34a25881612f1f4015392": {
      "model_module": "jupyter-leaflet",
      "model_module_version": "^0.13.2",
      "model_name": "LeafletMarkerModel",
      "state": {
       "_model_module_version": "^0.13.2",
       "_view_module_version": "^0.13.2",
       "icon": "IPY_MODEL_f8c90c84beea48b5af018701589edbf0",
       "location": [
        48.23324,
        16.374012
       ],
       "options": [
        "alt",
        "draggable",
        "keyboard",
        "rise_offset",
        "rise_on_hover",
        "rotation_angle",
        "rotation_origin",
        "title",
        "z_index_offset"
       ]
      }
     },
     "290eabe983e54ccbbab8036acb610742": {
      "model_module": "jupyter-leaflet",
      "model_module_version": "^0.13.2",
      "model_name": "LeafletIconModel",
      "state": {
       "_model_module_version": "^0.13.2",
       "_view_module_version": "^0.13.2",
       "icon_size": [
        30,
        40
       ],
       "icon_url": "files/ipyleaflet/icons/foot.png",
       "options": [
        "icon_anchor",
        "icon_size",
        "icon_url",
        "popup_anchor",
        "shadow_anchor",
        "shadow_size",
        "shadow_url"
       ],
       "shadow_url": null
      }
     },
     "2b8eedc710c94f93b9310483b89f3d22": {
      "model_module": "jupyter-leaflet",
      "model_module_version": "^0.13.2",
      "model_name": "LeafletMarkerModel",
      "state": {
       "_model_module_version": "^0.13.2",
       "_view_module_version": "^0.13.2",
       "icon": "IPY_MODEL_f8c90c84beea48b5af018701589edbf0",
       "location": [
        48.235285,
        16.372603
       ],
       "options": [
        "alt",
        "draggable",
        "keyboard",
        "rise_offset",
        "rise_on_hover",
        "rotation_angle",
        "rotation_origin",
        "title",
        "z_index_offset"
       ]
      }
     },
     "2c54aa67f14e48048d616431b72e723a": {
      "model_module": "jupyter-leaflet",
      "model_module_version": "^0.13.2",
      "model_name": "LeafletMarkerModel",
      "state": {
       "_model_module_version": "^0.13.2",
       "_view_module_version": "^0.13.2",
       "icon": "IPY_MODEL_b6b6251a8eec44ffaddb6a0eca206238",
       "location": [
        48.233724,
        16.373077
       ],
       "options": [
        "alt",
        "draggable",
        "keyboard",
        "rise_offset",
        "rise_on_hover",
        "rotation_angle",
        "rotation_origin",
        "title",
        "z_index_offset"
       ]
      }
     },
     "33562916f745410f882bcc21a2797222": {
      "model_module": "jupyter-leaflet",
      "model_module_version": "^0.13.2",
      "model_name": "LeafletMarkerModel",
      "state": {
       "_model_module_version": "^0.13.2",
       "_view_module_version": "^0.13.2",
       "icon": "IPY_MODEL_804a9edaebfc44478c925395e21f659e",
       "location": [
        48.231945,
        16.371917
       ],
       "options": [
        "alt",
        "draggable",
        "keyboard",
        "rise_offset",
        "rise_on_hover",
        "rotation_angle",
        "rotation_origin",
        "title",
        "z_index_offset"
       ]
      }
     },
     "3507e3d13e52442aadad98d9298791bf": {
      "model_module": "jupyter-leaflet",
      "model_module_version": "^0.13.2",
      "model_name": "LeafletMarkerModel",
      "state": {
       "_model_module_version": "^0.13.2",
       "_view_module_version": "^0.13.2",
       "icon": "IPY_MODEL_b6b6251a8eec44ffaddb6a0eca206238",
       "location": [
        48.233889000000005,
        16.373088
       ],
       "options": [
        "alt",
        "draggable",
        "keyboard",
        "rise_offset",
        "rise_on_hover",
        "rotation_angle",
        "rotation_origin",
        "title",
        "z_index_offset"
       ]
      }
     },
     "36953400ba524de7a2c3b38c469acc09": {
      "model_module": "jupyter-leaflet",
      "model_module_version": "^0.13.2",
      "model_name": "LeafletMapStyleModel",
      "state": {
       "_model_module_version": "^0.13.2"
      }
     },
     "39870465c08342b7a0a5bc746d611928": {
      "model_module": "jupyter-leaflet",
      "model_module_version": "^0.13.2",
      "model_name": "LeafletMarkerModel",
      "state": {
       "_model_module_version": "^0.13.2",
       "_view_module_version": "^0.13.2",
       "icon": "IPY_MODEL_f8c90c84beea48b5af018701589edbf0",
       "location": [
        48.233513,
        16.374668
       ],
       "options": [
        "alt",
        "draggable",
        "keyboard",
        "rise_offset",
        "rise_on_hover",
        "rotation_angle",
        "rotation_origin",
        "title",
        "z_index_offset"
       ]
      }
     },
     "3a8cf67743b74aab987dbd1c3e79c04e": {
      "model_module": "jupyter-leaflet",
      "model_module_version": "^0.13.2",
      "model_name": "LeafletMapStyleModel",
      "state": {
       "_model_module_version": "^0.13.2"
      }
     },
     "3ab88d47b51a4d01ad7c66735935ed58": {
      "model_module": "@jupyter-widgets/controls",
      "model_module_version": "1.5.0",
      "model_name": "LinkModel",
      "state": {
       "source": [
        "IPY_MODEL_02ce887b97bc4c388f6f1a106d47a66b",
        "value"
       ],
       "target": [
        "IPY_MODEL_8ba045e142c44f38885830f4be324313",
        "zoom"
       ]
      }
     },
     "3c795c5680644d0e9f59f46f818edd60": {
      "model_module": "jupyter-leaflet",
      "model_module_version": "^0.13.2",
      "model_name": "LeafletMarkerModel",
      "state": {
       "_model_module_version": "^0.13.2",
       "_view_module_version": "^0.13.2",
       "icon": "IPY_MODEL_f8c90c84beea48b5af018701589edbf0",
       "location": [
        48.23324,
        16.374012
       ],
       "options": [
        "alt",
        "draggable",
        "keyboard",
        "rise_offset",
        "rise_on_hover",
        "rotation_angle",
        "rotation_origin",
        "title",
        "z_index_offset"
       ]
      }
     },
     "3dafb549c4a247878bbd1d35a56bbb7c": {
      "model_module": "jupyter-leaflet",
      "model_module_version": "^0.13.2",
      "model_name": "LeafletMarkerModel",
      "state": {
       "_model_module_version": "^0.13.2",
       "_view_module_version": "^0.13.2",
       "icon": "IPY_MODEL_f8c90c84beea48b5af018701589edbf0",
       "location": [
        48.231619,
        16.374845
       ],
       "options": [
        "alt",
        "draggable",
        "keyboard",
        "rise_offset",
        "rise_on_hover",
        "rotation_angle",
        "rotation_origin",
        "title",
        "z_index_offset"
       ]
      }
     },
     "3e25cc6172be414c831abaf82a4c25b3": {
      "model_module": "jupyter-leaflet",
      "model_module_version": "^0.13.2",
      "model_name": "LeafletMarkerModel",
      "state": {
       "_model_module_version": "^0.13.2",
       "_view_module_version": "^0.13.2",
       "icon": "IPY_MODEL_f8c90c84beea48b5af018701589edbf0",
       "location": [
        48.233894,
        16.373085
       ],
       "options": [
        "alt",
        "draggable",
        "keyboard",
        "rise_offset",
        "rise_on_hover",
        "rotation_angle",
        "rotation_origin",
        "title",
        "z_index_offset"
       ]
      }
     },
     "3e46b176445a4f44b60e3020ecaac5a3": {
      "model_module": "jupyter-leaflet",
      "model_module_version": "^0.13.2",
      "model_name": "LeafletMarkerModel",
      "state": {
       "_model_module_version": "^0.13.2",
       "_view_module_version": "^0.13.2",
       "icon": "IPY_MODEL_f8c90c84beea48b5af018701589edbf0",
       "location": [
        48.233889000000005,
        16.373088
       ],
       "options": [
        "alt",
        "draggable",
        "keyboard",
        "rise_offset",
        "rise_on_hover",
        "rotation_angle",
        "rotation_origin",
        "title",
        "z_index_offset"
       ]
      }
     },
     "3f7570f13dcd4662b8d75d0fc337170b": {
      "model_module": "jupyter-leaflet",
      "model_module_version": "^0.13.2",
      "model_name": "LeafletIconModel",
      "state": {
       "_model_module_version": "^0.13.2",
       "_view_module_version": "^0.13.2",
       "icon_size": [
        30,
        40
       ],
       "icon_url": "files/ipyleaflet/icons/foot.png",
       "options": [
        "icon_anchor",
        "icon_size",
        "icon_url",
        "popup_anchor",
        "shadow_anchor",
        "shadow_size",
        "shadow_url"
       ],
       "shadow_url": null
      }
     },
     "46a1c734cad14e468ac3ef3d23efde9e": {
      "model_module": "@jupyter-widgets/base",
      "model_module_version": "1.2.0",
      "model_name": "LayoutModel",
      "state": {}
     },
     "46a669eb5ab548ae8216b2b4921f0f8d": {
      "model_module": "@jupyter-widgets/controls",
      "model_module_version": "1.5.0",
      "model_name": "SliderStyleModel",
      "state": {
       "description_width": ""
      }
     },
     "4b5d8cfcedbe4cd0bda5951037c2613d": {
      "model_module": "jupyter-leaflet",
      "model_module_version": "^0.13.2",
      "model_name": "LeafletMarkerModel",
      "state": {
       "_model_module_version": "^0.13.2",
       "_view_module_version": "^0.13.2",
       "icon": "IPY_MODEL_05ddda36b75e44299039ad53e79df66d",
       "location": [
        48.232442,
        16.374664000000003
       ],
       "options": [
        "alt",
        "draggable",
        "keyboard",
        "rise_offset",
        "rise_on_hover",
        "rotation_angle",
        "rotation_origin",
        "title",
        "z_index_offset"
       ]
      }
     },
     "4e7082b33d0445899cd15a9f524c4964": {
      "model_module": "jupyter-leaflet",
      "model_module_version": "^0.13.2",
      "model_name": "LeafletMarkerModel",
      "state": {
       "_model_module_version": "^0.13.2",
       "_view_module_version": "^0.13.2",
       "icon": "IPY_MODEL_05ddda36b75e44299039ad53e79df66d",
       "location": [
        48.233513,
        16.374668
       ],
       "options": [
        "alt",
        "draggable",
        "keyboard",
        "rise_offset",
        "rise_on_hover",
        "rotation_angle",
        "rotation_origin",
        "title",
        "z_index_offset"
       ]
      }
     },
     "522ee4144a1d4354815169ba2ff50f9f": {
      "model_module": "jupyter-leaflet",
      "model_module_version": "^0.13.2",
      "model_name": "LeafletMarkerModel",
      "state": {
       "_model_module_version": "^0.13.2",
       "_view_module_version": "^0.13.2",
       "icon": "IPY_MODEL_b6b6251a8eec44ffaddb6a0eca206238",
       "location": [
        48.235334,
        16.372338
       ],
       "options": [
        "alt",
        "draggable",
        "keyboard",
        "rise_offset",
        "rise_on_hover",
        "rotation_angle",
        "rotation_origin",
        "title",
        "z_index_offset"
       ]
      }
     },
     "53c390c0234043a8827f27f0ccc10c06": {
      "model_module": "jupyter-leaflet",
      "model_module_version": "^0.13.2",
      "model_name": "LeafletMarkerModel",
      "state": {
       "_model_module_version": "^0.13.2",
       "_view_module_version": "^0.13.2",
       "icon": "IPY_MODEL_05ddda36b75e44299039ad53e79df66d",
       "location": [
        48.231136,
        16.374966
       ],
       "options": [
        "alt",
        "draggable",
        "keyboard",
        "rise_offset",
        "rise_on_hover",
        "rotation_angle",
        "rotation_origin",
        "title",
        "z_index_offset"
       ]
      }
     },
     "570a888f83dd4acd9e51e70b0a4b5a47": {
      "model_module": "jupyter-leaflet",
      "model_module_version": "^0.13.2",
      "model_name": "LeafletMarkerModel",
      "state": {
       "_model_module_version": "^0.13.2",
       "_view_module_version": "^0.13.2",
       "icon": "IPY_MODEL_b6b6251a8eec44ffaddb6a0eca206238",
       "location": [
        48.232442,
        16.374664000000003
       ],
       "options": [
        "alt",
        "draggable",
        "keyboard",
        "rise_offset",
        "rise_on_hover",
        "rotation_angle",
        "rotation_origin",
        "title",
        "z_index_offset"
       ]
      }
     },
     "5bbbd685e7ee423092d0c787549a5a0a": {
      "model_module": "jupyter-leaflet",
      "model_module_version": "^0.13.2",
      "model_name": "LeafletMarkerModel",
      "state": {
       "_model_module_version": "^0.13.2",
       "_view_module_version": "^0.13.2",
       "icon": "IPY_MODEL_f8c90c84beea48b5af018701589edbf0",
       "location": [
        48.233253000000005,
        16.374233
       ],
       "options": [
        "alt",
        "draggable",
        "keyboard",
        "rise_offset",
        "rise_on_hover",
        "rotation_angle",
        "rotation_origin",
        "title",
        "z_index_offset"
       ]
      }
     },
     "604fac64808947c3b591f5d08a9a88f7": {
      "model_module": "jupyter-leaflet",
      "model_module_version": "^0.13.2",
      "model_name": "LeafletMarkerModel",
      "state": {
       "_model_module_version": "^0.13.2",
       "_view_module_version": "^0.13.2",
       "icon": "IPY_MODEL_b6b6251a8eec44ffaddb6a0eca206238",
       "location": [
        48.231136,
        16.374966
       ],
       "options": [
        "alt",
        "draggable",
        "keyboard",
        "rise_offset",
        "rise_on_hover",
        "rotation_angle",
        "rotation_origin",
        "title",
        "z_index_offset"
       ]
      }
     },
     "6467447b9ee84b7c8623172ab809b27a": {
      "model_module": "jupyter-leaflet",
      "model_module_version": "^0.13.2",
      "model_name": "LeafletIconModel",
      "state": {
       "_model_module_version": "^0.13.2",
       "_view_module_version": "^0.13.2",
       "icon_size": [
        30,
        40
       ],
       "icon_url": "icons/trashbin.png",
       "options": [
        "icon_anchor",
        "icon_size",
        "icon_url",
        "popup_anchor",
        "shadow_anchor",
        "shadow_size",
        "shadow_url"
       ],
       "shadow_url": null
      }
     },
     "69565db5adf740c387a54801d8248db9": {
      "model_module": "jupyter-leaflet",
      "model_module_version": "^0.13.2",
      "model_name": "LeafletIconModel",
      "state": {
       "_model_module_version": "^0.13.2",
       "_view_module_version": "^0.13.2",
       "icon_size": [
        30,
        40
       ],
       "icon_url": "files/ipyleaflet/icons/foot.png",
       "options": [
        "icon_anchor",
        "icon_size",
        "icon_url",
        "popup_anchor",
        "shadow_anchor",
        "shadow_size",
        "shadow_url"
       ],
       "shadow_url": null
      }
     },
     "6c095ace9f6a4972ab2e0cae46399d78": {
      "model_module": "jupyter-leaflet",
      "model_module_version": "^0.13.2",
      "model_name": "LeafletMarkerModel",
      "state": {
       "_model_module_version": "^0.13.2",
       "_view_module_version": "^0.13.2",
       "icon": "IPY_MODEL_05ddda36b75e44299039ad53e79df66d",
       "location": [
        48.23324,
        16.374012
       ],
       "options": [
        "alt",
        "draggable",
        "keyboard",
        "rise_offset",
        "rise_on_hover",
        "rotation_angle",
        "rotation_origin",
        "title",
        "z_index_offset"
       ]
      }
     },
     "6db91f1881254f0c88dfcdc03a7a581c": {
      "model_module": "jupyter-leaflet",
      "model_module_version": "^0.13.2",
      "model_name": "LeafletMarkerModel",
      "state": {
       "_model_module_version": "^0.13.2",
       "_view_module_version": "^0.13.2",
       "icon": "IPY_MODEL_804a9edaebfc44478c925395e21f659e",
       "location": [
        48.233536,
        16.374654
       ],
       "options": [
        "alt",
        "draggable",
        "keyboard",
        "rise_offset",
        "rise_on_hover",
        "rotation_angle",
        "rotation_origin",
        "title",
        "z_index_offset"
       ]
      }
     },
     "6e9e24a896694e76b1431f9782c96381": {
      "model_module": "jupyter-leaflet",
      "model_module_version": "^0.13.2",
      "model_name": "LeafletAntPathModel",
      "state": {
       "_model_module_version": "^0.13.2",
       "_view_module_version": "^0.13.2",
       "color": "#7590ba",
       "dash_array": [
        1,
        10
       ],
       "delay": 2000,
       "locations": [
        [
         48.2311,
         16.375006
        ],
        [
         48.2311,
         16.375006
        ],
        [
         48.2311,
         16.375006
        ],
        [
         48.2311,
         16.375006
        ],
        [
         48.2311,
         16.375006
        ],
        [
         48.2311,
         16.375006
        ],
        [
         48.2311,
         16.375006
        ],
        [
         48.2311,
         16.375006
        ],
        [
         48.2311,
         16.375006
        ],
        [
         48.2311,
         16.375006
        ],
        [
         48.2311,
         16.375006
        ],
        [
         48.2311,
         16.375006
        ],
        [
         48.231136,
         16.374966
        ],
        [
         48.231136,
         16.374966
        ],
        [
         48.231136,
         16.374966
        ],
        [
         48.231139,
         16.374955
        ],
        [
         48.231139,
         16.374955
        ],
        [
         48.231139,
         16.374955
        ],
        [
         48.231139,
         16.374955
        ],
        [
         48.231139,
         16.374955
        ],
        [
         48.231139,
         16.374955
        ],
        [
         48.231139,
         16.374955
        ],
        [
         48.231139,
         16.374955
        ],
        [
         48.231139,
         16.374955
        ],
        [
         48.231139,
         16.374955
        ],
        [
         48.231139,
         16.374955
        ],
        [
         48.231139,
         16.374955
        ],
        [
         48.231139,
         16.374955
        ],
        [
         48.231139,
         16.374955
        ],
        [
         48.231139,
         16.374955
        ],
        [
         48.231139,
         16.374955
        ],
        [
         48.231139,
         16.374955
        ],
        [
         48.231139,
         16.374955
        ],
        [
         48.231619,
         16.374845
        ],
        [
         48.231619,
         16.374845
        ],
        [
         48.231619,
         16.374845
        ],
        [
         48.231619,
         16.374845
        ],
        [
         48.231619,
         16.374845
        ],
        [
         48.231619,
         16.374845
        ],
        [
         48.231619,
         16.374845
        ],
        [
         48.231619,
         16.374845
        ],
        [
         48.231619,
         16.374845
        ],
        [
         48.231835,
         16.374748
        ],
        [
         48.231854,
         16.374751
        ],
        [
         48.231878,
         16.374744
        ],
        [
         48.2319,
         16.374732
        ],
        [
         48.23193,
         16.374722
        ],
        [
         48.231968,
         16.374724
        ],
        [
         48.231994,
         16.374727
        ],
        [
         48.232023999999996,
         16.374717
        ],
        [
         48.232075,
         16.374732
        ],
        [
         48.23212,
         16.37474
        ],
        [
         48.232163,
         16.374747
        ],
        [
         48.2322,
         16.374753
        ],
        [
         48.232238,
         16.374759
        ],
        [
         48.232248,
         16.374748999999998
        ],
        [
         48.232281,
         16.374744
        ],
        [
         48.23232,
         16.374758
        ],
        [
         48.232355,
         16.374763
        ],
        [
         48.232374,
         16.374735
        ],
        [
         48.232385,
         16.374694
        ],
        [
         48.232405,
         16.374673
        ],
        [
         48.232442,
         16.374664000000003
        ],
        [
         48.232442999999996,
         16.374668
        ],
        [
         48.232446,
         16.374667000000002
        ],
        [
         48.232479999999995,
         16.374675
        ],
        [
         48.232496000000005,
         16.374685999999997
        ],
        [
         48.232504999999996,
         16.374693
        ],
        [
         48.232531,
         16.374693
        ],
        [
         48.23256,
         16.374701
        ],
        [
         48.232571,
         16.374706
        ],
        [
         48.232569,
         16.37471
        ],
        [
         48.232589000000004,
         16.374716
        ],
        [
         48.232608,
         16.374751999999997
        ],
        [
         48.232628000000005,
         16.374767000000002
        ],
        [
         48.232618,
         16.374781
        ],
        [
         48.232616,
         16.374812
        ],
        [
         48.232616,
         16.374856
        ],
        [
         48.232642,
         16.374888000000002
        ],
        [
         48.232642,
         16.374888000000002
        ],
        [
         48.232615,
         16.374924
        ],
        [
         48.232615,
         16.374924
        ],
        [
         48.232615,
         16.374924
        ],
        [
         48.232615,
         16.374924
        ],
        [
         48.232615,
         16.374924
        ],
        [
         48.232615,
         16.374924
        ],
        [
         48.232818,
         16.374986
        ],
        [
         48.232818,
         16.374986
        ],
        [
         48.232818,
         16.374986
        ],
        [
         48.232818,
         16.374986
        ],
        [
         48.232818,
         16.374986
        ],
        [
         48.232818,
         16.374986
        ],
        [
         48.232818,
         16.374986
        ],
        [
         48.232818,
         16.374986
        ],
        [
         48.232818,
         16.374986
        ],
        [
         48.232818,
         16.374986
        ],
        [
         48.232818,
         16.374986
        ],
        [
         48.232818,
         16.374986
        ],
        [
         48.232818,
         16.374986
        ],
        [
         48.232818,
         16.374986
        ],
        [
         48.233447,
         16.374697
        ],
        [
         48.233447,
         16.374697
        ],
        [
         48.233447,
         16.374697
        ],
        [
         48.233447,
         16.374697
        ],
        [
         48.233447,
         16.374697
        ],
        [
         48.233447,
         16.374697
        ],
        [
         48.233447,
         16.374697
        ],
        [
         48.233447,
         16.374697
        ],
        [
         48.233447,
         16.374697
        ],
        [
         48.233447,
         16.374697
        ],
        [
         48.233447,
         16.374697
        ],
        [
         48.233447,
         16.374697
        ],
        [
         48.233447,
         16.374697
        ],
        [
         48.233518,
         16.374664000000003
        ],
        [
         48.233518,
         16.374664000000003
        ],
        [
         48.233518,
         16.374664000000003
        ],
        [
         48.233518,
         16.374664000000003
        ],
        [
         48.233518,
         16.374664000000003
        ],
        [
         48.233518,
         16.374664000000003
        ],
        [
         48.233518,
         16.374664000000003
        ],
        [
         48.233518,
         16.374664000000003
        ],
        [
         48.233518,
         16.374664000000003
        ],
        [
         48.233518,
         16.374664000000003
        ],
        [
         48.233518,
         16.374664000000003
        ],
        [
         48.233518,
         16.374664000000003
        ],
        [
         48.233518,
         16.374664000000003
        ],
        [
         48.233519,
         16.374678
        ],
        [
         48.233513,
         16.374674
        ],
        [
         48.233515999999995,
         16.374669
        ],
        [
         48.233515999999995,
         16.374667000000002
        ],
        [
         48.233525,
         16.374665
        ],
        [
         48.233523999999996,
         16.374667000000002
        ],
        [
         48.233531,
         16.374668
        ],
        [
         48.233531,
         16.374667000000002
        ],
        [
         48.233536,
         16.374654
        ],
        [
         48.233534000000006,
         16.374653
        ],
        [
         48.233525,
         16.374653
        ],
        [
         48.233507,
         16.374648
        ],
        [
         48.233506,
         16.374653
        ],
        [
         48.233503999999996,
         16.374663
        ],
        [
         48.233499,
         16.374665
        ],
        [
         48.233495,
         16.374674
        ],
        [
         48.233509999999995,
         16.374657
        ],
        [
         48.23348,
         16.374661
        ],
        [
         48.233455,
         16.374669
        ],
        [
         48.233434,
         16.374659
        ],
        [
         48.233427,
         16.374613
        ],
        [
         48.233429,
         16.374563000000002
        ],
        [
         48.233436,
         16.374509
        ],
        [
         48.233449,
         16.37446
        ],
        [
         48.233465,
         16.374415
        ],
        [
         48.233486,
         16.374365
        ],
        [
         48.23349,
         16.37432
        ],
        [
         48.233487,
         16.374267
        ],
        [
         48.233476,
         16.374228
        ],
        [
         48.233458,
         16.374214000000002
        ],
        [
         48.233441,
         16.374219
        ],
        [
         48.233415,
         16.374242000000002
        ],
        [
         48.233401,
         16.374246
        ],
        [
         48.233378,
         16.374273000000002
        ],
        [
         48.233366,
         16.374287
        ],
        [
         48.233364,
         16.374288
        ],
        [
         48.233342,
         16.374302
        ],
        [
         48.233337,
         16.374303
        ],
        [
         48.233329,
         16.374318
        ],
        [
         48.233301000000004,
         16.374323
        ],
        [
         48.233287,
         16.374271
        ],
        [
         48.233268,
         16.374236
        ],
        [
         48.233253000000005,
         16.374233
        ],
        [
         48.233243,
         16.374223
        ],
        [
         48.233249,
         16.374216
        ],
        [
         48.233249,
         16.374216
        ],
        [
         48.233249,
         16.374216
        ],
        [
         48.233249,
         16.374216
        ],
        [
         48.233249,
         16.374216
        ],
        [
         48.233249,
         16.374216
        ],
        [
         48.23324,
         16.374012
        ],
        [
         48.23324,
         16.374012
        ],
        [
         48.23324,
         16.374012
        ],
        [
         48.23324,
         16.374012
        ],
        [
         48.23324,
         16.374012
        ],
        [
         48.23324,
         16.374012
        ],
        [
         48.233115999999995,
         16.373853
        ],
        [
         48.233121999999995,
         16.373819
        ],
        [
         48.233112,
         16.373767
        ],
        [
         48.233102,
         16.373713000000002
        ],
        [
         48.233093,
         16.37365
        ],
        [
         48.233090000000004,
         16.373587
        ],
        [
         48.233074,
         16.37353
        ],
        [
         48.233149,
         16.373388000000002
        ],
        [
         48.23317,
         16.373345
        ],
        [
         48.233199,
         16.373309
        ],
        [
         48.233230999999996,
         16.373279
        ],
        [
         48.233269,
         16.373273
        ],
        [
         48.233306,
         16.373251999999997
        ],
        [
         48.233340000000005,
         16.37323
        ],
        [
         48.233378,
         16.373209
        ],
        [
         48.233415,
         16.373186999999998
        ],
        [
         48.233449,
         16.373171
        ],
        [
         48.23348,
         16.373157
        ],
        [
         48.233512,
         16.373143
        ],
        [
         48.23355,
         16.37313
        ],
        [
         48.233585999999995,
         16.373123
        ],
        [
         48.233615,
         16.37311
        ],
        [
         48.233649,
         16.373085999999997
        ],
        [
         48.233693,
         16.373062
        ],
        [
         48.233711,
         16.373057
        ],
        [
         48.233724,
         16.373077
        ],
        [
         48.233737,
         16.373089999999998
        ],
        [
         48.233737,
         16.373089999999998
        ],
        [
         48.233737,
         16.373089999999998
        ],
        [
         48.233737,
         16.373089999999998
        ],
        [
         48.233737,
         16.373089999999998
        ],
        [
         48.233894,
         16.373085
        ],
        [
         48.233889000000005,
         16.373088
        ],
        [
         48.233889000000005,
         16.373088
        ],
        [
         48.233889000000005,
         16.373088
        ],
        [
         48.233889000000005,
         16.373088
        ],
        [
         48.233889000000005,
         16.373088
        ],
        [
         48.233889000000005,
         16.373088
        ],
        [
         48.233889000000005,
         16.373088
        ],
        [
         48.233889000000005,
         16.373088
        ],
        [
         48.233889000000005,
         16.373088
        ],
        [
         48.233889000000005,
         16.373088
        ],
        [
         48.233889000000005,
         16.373088
        ],
        [
         48.233889000000005,
         16.373088
        ],
        [
         48.233889000000005,
         16.373088
        ],
        [
         48.233889000000005,
         16.373088
        ],
        [
         48.233889000000005,
         16.373088
        ],
        [
         48.233889000000005,
         16.373088
        ],
        [
         48.233889000000005,
         16.373088
        ],
        [
         48.233889000000005,
         16.373088
        ],
        [
         48.233889000000005,
         16.373088
        ],
        [
         48.233889000000005,
         16.373088
        ],
        [
         48.233889000000005,
         16.373088
        ],
        [
         48.234426,
         16.372957999999997
        ],
        [
         48.234423,
         16.372961
        ],
        [
         48.234431,
         16.372945
        ],
        [
         48.234464,
         16.372932000000002
        ],
        [
         48.234505,
         16.372923999999998
        ],
        [
         48.234524,
         16.372914
        ],
        [
         48.234569,
         16.372888
        ],
        [
         48.234586,
         16.372865
        ],
        [
         48.234595,
         16.372864
        ],
        [
         48.234621999999995,
         16.372866000000002
        ],
        [
         48.234652000000004,
         16.372866000000002
        ],
        [
         48.234727,
         16.372867000000003
        ],
        [
         48.234771,
         16.372869
        ],
        [
         48.234802,
         16.372869
        ],
        [
         48.234840000000005,
         16.37286
        ],
        [
         48.23488,
         16.37284
        ],
        [
         48.23493,
         16.37284
        ],
        [
         48.234981,
         16.372825
        ],
        [
         48.235029,
         16.372821
        ],
        [
         48.235093,
         16.372770000000003
        ],
        [
         48.235178000000005,
         16.372694
        ],
        [
         48.235233,
         16.372668
        ],
        [
         48.235269,
         16.372643
        ],
        [
         48.235299,
         16.372607000000002
        ],
        [
         48.235285,
         16.372603
        ],
        [
         48.235284,
         16.372603
        ],
        [
         48.235301,
         16.372575
        ],
        [
         48.235305,
         16.372526999999998
        ],
        [
         48.235309,
         16.372479000000002
        ],
        [
         48.235321,
         16.372425
        ],
        [
         48.235336,
         16.372374
        ],
        [
         48.235333000000004,
         16.372335999999997
        ],
        [
         48.235335,
         16.372291
        ],
        [
         48.235347999999995,
         16.372241
        ],
        [
         48.235354,
         16.372188
        ],
        [
         48.235358000000005,
         16.372142999999998
        ],
        [
         48.235363,
         16.372097
        ],
        [
         48.23537,
         16.372054000000002
        ],
        [
         48.235382,
         16.372004999999998
        ],
        [
         48.235378999999995,
         16.371951
        ],
        [
         48.235381,
         16.371894
        ],
        [
         48.235397,
         16.371838
        ],
        [
         48.235415,
         16.371783999999998
        ],
        [
         48.235442,
         16.371745999999998
        ],
        [
         48.235439,
         16.371726000000002
        ],
        [
         48.235440000000004,
         16.371716
        ],
        [
         48.235465000000005,
         16.371675
        ],
        [
         48.235473,
         16.371616
        ],
        [
         48.235479,
         16.371567000000002
        ],
        [
         48.235481,
         16.37153
        ],
        [
         48.235463,
         16.371472
        ],
        [
         48.235403999999996,
         16.37141
        ],
        [
         48.235362,
         16.37135
        ],
        [
         48.235319,
         16.371278
        ],
        [
         48.235304,
         16.371235000000002
        ],
        [
         48.235303,
         16.371197
        ],
        [
         48.235306,
         16.371183
        ],
        [
         48.235315,
         16.371182
        ],
        [
         48.235327000000005,
         16.371177
        ],
        [
         48.235329,
         16.371167
        ],
        [
         48.235307,
         16.371143
        ],
        [
         48.235302000000004,
         16.371126
        ],
        [
         48.235307,
         16.371086
        ],
        [
         48.235289,
         16.371029999999998
        ],
        [
         48.235275,
         16.370986
        ],
        [
         48.235244,
         16.370934
        ],
        [
         48.235242,
         16.370882
        ],
        [
         48.235239,
         16.370816
        ],
        [
         48.235234000000005,
         16.370754
        ],
        [
         48.235221,
         16.370685
        ],
        [
         48.235211,
         16.370619
        ],
        [
         48.235201,
         16.370558
        ],
        [
         48.235170000000004,
         16.370499
        ],
        [
         48.235168,
         16.370464000000002
        ],
        [
         48.235147,
         16.370407999999998
        ],
        [
         48.235109,
         16.370382
        ],
        [
         48.235076,
         16.370382
        ],
        [
         48.235068,
         16.370369
        ],
        [
         48.235098,
         16.370345999999998
        ],
        [
         48.235106,
         16.370305
        ],
        [
         48.235108000000004,
         16.370297
        ],
        [
         48.23511,
         16.37029
        ],
        [
         48.235134,
         16.370244
        ],
        [
         48.23515,
         16.370182999999997
        ],
        [
         48.235137,
         16.37013
        ],
        [
         48.235106,
         16.37011
        ],
        [
         48.235094000000004,
         16.370101000000002
        ],
        [
         48.235091,
         16.370089
        ],
        [
         48.235085999999995,
         16.370078
        ],
        [
         48.235087,
         16.370093
        ],
        [
         48.235084,
         16.370098000000002
        ],
        [
         48.235084,
         16.370098000000002
        ],
        [
         48.235084,
         16.370098000000002
        ],
        [
         48.235084,
         16.370098000000002
        ],
        [
         48.235084,
         16.370098000000002
        ],
        [
         48.235084,
         16.370098000000002
        ],
        [
         48.235084,
         16.370098000000002
        ],
        [
         48.235084,
         16.370098000000002
        ],
        [
         48.235084,
         16.370098000000002
        ],
        [
         48.235084,
         16.370098000000002
        ],
        [
         48.235084,
         16.370098000000002
        ],
        [
         48.235084,
         16.370098000000002
        ],
        [
         48.235084,
         16.370098000000002
        ],
        [
         48.234423,
         16.370252999999998
        ],
        [
         48.23438,
         16.370264000000002
        ],
        [
         48.234333,
         16.370272
        ],
        [
         48.234286,
         16.370271
        ],
        [
         48.234245,
         16.370252999999998
        ],
        [
         48.234206,
         16.370257000000002
        ],
        [
         48.234173,
         16.370252
        ],
        [
         48.234147,
         16.370256
        ],
        [
         48.234124,
         16.370254
        ],
        [
         48.234092,
         16.370260000000002
        ],
        [
         48.234052,
         16.370267000000002
        ],
        [
         48.234016,
         16.370281
        ],
        [
         48.233978,
         16.370287
        ],
        [
         48.233958,
         16.370279
        ],
        [
         48.233964,
         16.370242
        ],
        [
         48.233952,
         16.370245
        ],
        [
         48.233959000000006,
         16.370239
        ],
        [
         48.233965999999995,
         16.370236
        ],
        [
         48.233975,
         16.370231
        ],
        [
         48.233985,
         16.370216
        ],
        [
         48.233982,
         16.370202
        ],
        [
         48.23395,
         16.370194
        ],
        [
         48.233922,
         16.370184
        ],
        [
         48.233896,
         16.37017
        ],
        [
         48.233876,
         16.370154
        ],
        [
         48.233832,
         16.370151999999997
        ],
        [
         48.233785,
         16.370141
        ],
        [
         48.233740000000004,
         16.370127
        ],
        [
         48.233689,
         16.37013
        ],
        [
         48.23364,
         16.370133
        ],
        [
         48.233593,
         16.37014
        ],
        [
         48.233544,
         16.370148
        ],
        [
         48.233509999999995,
         16.370155
        ],
        [
         48.233473,
         16.370163
        ],
        [
         48.233438,
         16.370160000000002
        ],
        [
         48.233401,
         16.370167000000002
        ],
        [
         48.233359,
         16.370173
        ],
        [
         48.233314,
         16.370162
        ],
        [
         48.233274,
         16.370157
        ],
        [
         48.233246,
         16.370119
        ],
        [
         48.233230999999996,
         16.370054999999997
        ],
        [
         48.233224,
         16.369999
        ],
        [
         48.233222999999995,
         16.369927
        ],
        [
         48.233218,
         16.369868
        ],
        [
         48.233208000000005,
         16.369811
        ],
        [
         48.233227,
         16.369754999999998
        ],
        [
         48.233251,
         16.36972
        ],
        [
         48.233224,
         16.369685
        ],
        [
         48.233219,
         16.369604000000002
        ],
        [
         48.23322,
         16.369532
        ],
        [
         48.23324,
         16.369462
        ],
        [
         48.233319,
         16.369396
        ],
        [
         48.233332,
         16.369321
        ],
        [
         48.233313,
         16.369253
        ],
        [
         48.233292999999996,
         16.369175
        ],
        [
         48.233233,
         16.369113
        ],
        [
         48.233193,
         16.369064
        ],
        [
         48.233176,
         16.369013
        ],
        [
         48.233096999999994,
         16.368982
        ],
        [
         48.233044,
         16.368983
        ],
        [
         48.232994,
         16.369022
        ],
        [
         48.232946000000005,
         16.369019
        ],
        [
         48.232884999999996,
         16.369003
        ],
        [
         48.232856,
         16.369024
        ],
        [
         48.232805,
         16.369006
        ],
        [
         48.232764,
         16.368999
        ],
        [
         48.232732,
         16.369004999999998
        ],
        [
         48.232685,
         16.369013
        ],
        [
         48.232651000000004,
         16.369026
        ],
        [
         48.23264,
         16.369051000000002
        ],
        [
         48.232634000000004,
         16.369086
        ],
        [
         48.232627,
         16.36915
        ],
        [
         48.232628000000005,
         16.369191
        ],
        [
         48.232625,
         16.369195
        ],
        [
         48.232625,
         16.369204
        ],
        [
         48.23264,
         16.369257
        ],
        [
         48.232662,
         16.369314000000003
        ],
        [
         48.23268,
         16.369367
        ],
        [
         48.232704,
         16.369426
        ],
        [
         48.232706,
         16.369478
        ],
        [
         48.232725,
         16.369531
        ],
        [
         48.232748,
         16.369587
        ],
        [
         48.232773,
         16.369644
        ],
        [
         48.232774,
         16.369704000000002
        ],
        [
         48.2328,
         16.369768
        ],
        [
         48.232817,
         16.369835000000002
        ],
        [
         48.232842,
         16.369905
        ],
        [
         48.232856,
         16.369975
        ],
        [
         48.232856,
         16.370046
        ],
        [
         48.232853999999996,
         16.370113
        ],
        [
         48.232846,
         16.370174
        ],
        [
         48.232858,
         16.370241
        ],
        [
         48.232865000000004,
         16.370305
        ],
        [
         48.232859999999995,
         16.370361
        ],
        [
         48.232827,
         16.370393
        ],
        [
         48.2328,
         16.370426000000002
        ],
        [
         48.232764,
         16.370445
        ],
        [
         48.232732,
         16.370471
        ],
        [
         48.232698,
         16.370463
        ],
        [
         48.232698,
         16.370469
        ],
        [
         48.23271,
         16.370521
        ],
        [
         48.232702,
         16.370579
        ],
        [
         48.232703,
         16.370626
        ],
        [
         48.232706,
         16.37066
        ],
        [
         48.232707,
         16.370670999999998
        ],
        [
         48.232695,
         16.370717000000003
        ],
        [
         48.232669,
         16.370788
        ],
        [
         48.232663,
         16.370832999999998
        ],
        [
         48.232653000000006,
         16.370892
        ],
        [
         48.232641,
         16.370973
        ],
        [
         48.232628000000005,
         16.37104
        ],
        [
         48.23261,
         16.371118
        ],
        [
         48.232605,
         16.371187
        ],
        [
         48.23259,
         16.371259
        ],
        [
         48.23256,
         16.371316
        ],
        [
         48.232535999999996,
         16.371361
        ],
        [
         48.232504,
         16.371382999999998
        ],
        [
         48.232479999999995,
         16.37138
        ],
        [
         48.232476,
         16.371363
        ],
        [
         48.232446,
         16.371385999999998
        ],
        [
         48.232392,
         16.371451
        ],
        [
         48.232338,
         16.371499
        ],
        [
         48.232314,
         16.37153
        ],
        [
         48.232293,
         16.371610999999998
        ],
        [
         48.232285,
         16.371682
        ],
        [
         48.232274,
         16.371737
        ],
        [
         48.232271999999995,
         16.371793
        ],
        [
         48.232279999999996,
         16.371839
        ],
        [
         48.232261,
         16.371861
        ],
        [
         48.232238,
         16.371873
        ],
        [
         48.232196,
         16.371896
        ],
        [
         48.232141,
         16.371889000000003
        ],
        [
         48.232096999999996,
         16.371891
        ],
        [
         48.232054999999995,
         16.371895000000002
        ],
        [
         48.23202,
         16.371904999999998
        ],
        [
         48.231981,
         16.371910999999997
        ],
        [
         48.231958,
         16.371917
        ],
        [
         48.231947999999996,
         16.371916
        ],
        [
         48.231945,
         16.371917
        ],
        [
         48.231945,
         16.371917
        ],
        [
         48.231945,
         16.371917
        ],
        [
         48.231945,
         16.371917
        ],
        [
         48.231945,
         16.371917
        ],
        [
         48.231945,
         16.371917
        ],
        [
         48.231945,
         16.371917
        ],
        [
         48.231945,
         16.371917
        ],
        [
         48.231945,
         16.371917
        ],
        [
         48.231945,
         16.371917
        ],
        [
         48.231945,
         16.371917
        ],
        [
         48.231945,
         16.371917
        ],
        [
         48.231945,
         16.371917
        ],
        [
         48.231945,
         16.371917
        ],
        [
         48.231945,
         16.371917
        ],
        [
         48.231945,
         16.371917
        ],
        [
         48.231945,
         16.371917
        ],
        [
         48.231945,
         16.371917
        ],
        [
         48.231945,
         16.371917
        ],
        [
         48.231945,
         16.371917
        ],
        [
         48.231945,
         16.371917
        ],
        [
         48.231945,
         16.371917
        ],
        [
         48.231945,
         16.371917
        ],
        [
         48.231945,
         16.371917
        ]
       ],
       "name": "Trail",
       "options": [
        "color",
        "dash_array",
        "delay",
        "hardware_accelerated",
        "paused",
        "pulse_color",
        "radius",
        "reverse",
        "use",
        "weight"
       ],
       "pulse_color": "#3f6fba"
      }
     },
     "6ef468407bc1441d9fdd2cdfe131ed4d": {
      "model_module": "@jupyter-widgets/controls",
      "model_module_version": "1.5.0",
      "model_name": "SliderStyleModel",
      "state": {
       "description_width": ""
      }
     },
     "753cd88a7dd942fc9f14e0a90175cf07": {
      "model_module": "jupyter-leaflet",
      "model_module_version": "^0.13.2",
      "model_name": "LeafletMarkerModel",
      "state": {
       "_model_module_version": "^0.13.2",
       "_view_module_version": "^0.13.2",
       "icon": "IPY_MODEL_05ddda36b75e44299039ad53e79df66d",
       "location": [
        48.235334,
        16.372338
       ],
       "options": [
        "alt",
        "draggable",
        "keyboard",
        "rise_offset",
        "rise_on_hover",
        "rotation_angle",
        "rotation_origin",
        "title",
        "z_index_offset"
       ]
      }
     },
     "7708fc8395e946ee9e9249c77fd6664d": {
      "model_module": "jupyter-leaflet",
      "model_module_version": "^0.13.2",
      "model_name": "LeafletMarkerModel",
      "state": {
       "_model_module_version": "^0.13.2",
       "_view_module_version": "^0.13.2",
       "icon": "IPY_MODEL_b6b6251a8eec44ffaddb6a0eca206238",
       "location": [
        48.235084,
        16.370098000000002
       ],
       "options": [
        "alt",
        "draggable",
        "keyboard",
        "rise_offset",
        "rise_on_hover",
        "rotation_angle",
        "rotation_origin",
        "title",
        "z_index_offset"
       ]
      }
     },
     "792454e652194738b90049a8be4aacda": {
      "model_module": "jupyter-leaflet",
      "model_module_version": "^0.13.2",
      "model_name": "LeafletMarkerModel",
      "state": {
       "_model_module_version": "^0.13.2",
       "_view_module_version": "^0.13.2",
       "icon": "IPY_MODEL_f8c90c84beea48b5af018701589edbf0",
       "location": [
        48.232615,
        16.374924
       ],
       "options": [
        "alt",
        "draggable",
        "keyboard",
        "rise_offset",
        "rise_on_hover",
        "rotation_angle",
        "rotation_origin",
        "title",
        "z_index_offset"
       ]
      }
     },
     "79f627b168ef434b80eedf0d8918b609": {
      "model_module": "jupyter-leaflet",
      "model_module_version": "^0.13.2",
      "model_name": "LeafletMeasureControlModel",
      "state": {
       "_model_module_version": "^0.13.2",
       "_view_module_version": "^0.13.2",
       "active_color": "orange",
       "completed_color": "blue",
       "options": [
        "active_color",
        "capture_z_index",
        "completed_color",
        "popup_options",
        "position",
        "primary_area_unit",
        "primary_length_unit",
        "secondary_area_unit",
        "secondary_length_unit"
       ],
       "position": "bottomleft",
       "primary_area_unit": "sqmeters",
       "primary_length_unit": "meters",
       "secondary_area_unit": null,
       "secondary_length_unit": null
      }
     },
     "7a841ebf2bcb48f1a060cfa8f1c86703": {
      "model_module": "jupyter-leaflet",
      "model_module_version": "^0.13.2",
      "model_name": "LeafletMarkerModel",
      "state": {
       "_model_module_version": "^0.13.2",
       "_view_module_version": "^0.13.2",
       "icon": "IPY_MODEL_b6ad9267c42a405ab8cfb36a877ecd14",
       "location": [
        48.231184999999996,
        16.372423
       ],
       "options": [
        "alt",
        "draggable",
        "keyboard",
        "rise_offset",
        "rise_on_hover",
        "rotation_angle",
        "rotation_origin",
        "title",
        "z_index_offset"
       ]
      }
     },
     "7bf1ddf467ef45de906cc57d6958ee49": {
      "model_module": "jupyter-leaflet",
      "model_module_version": "^0.13.2",
      "model_name": "LeafletMarkerModel",
      "state": {
       "_model_module_version": "^0.13.2",
       "_view_module_version": "^0.13.2",
       "icon": "IPY_MODEL_f8c90c84beea48b5af018701589edbf0",
       "location": [
        48.231947999999996,
        16.371916
       ],
       "options": [
        "alt",
        "draggable",
        "keyboard",
        "rise_offset",
        "rise_on_hover",
        "rotation_angle",
        "rotation_origin",
        "title",
        "z_index_offset"
       ]
      }
     },
     "7c7afb49929c461d9a7d77a93ab81234": {
      "model_module": "jupyter-leaflet",
      "model_module_version": "^0.13.2",
      "model_name": "LeafletMarkerModel",
      "state": {
       "_model_module_version": "^0.13.2",
       "_view_module_version": "^0.13.2",
       "icon": "IPY_MODEL_f8c90c84beea48b5af018701589edbf0",
       "location": [
        48.231136,
        16.374966
       ],
       "options": [
        "alt",
        "draggable",
        "keyboard",
        "rise_offset",
        "rise_on_hover",
        "rotation_angle",
        "rotation_origin",
        "title",
        "z_index_offset"
       ]
      }
     },
     "7f8094d99fde40f988454add64357022": {
      "model_module": "jupyter-leaflet",
      "model_module_version": "^0.13.2",
      "model_name": "LeafletFullScreenControlModel",
      "state": {
       "_model_module_version": "^0.13.2",
       "_view_module_version": "^0.13.2",
       "options": [
        "position"
       ]
      }
     },
     "804a9edaebfc44478c925395e21f659e": {
      "model_module": "jupyter-leaflet",
      "model_module_version": "^0.13.2",
      "model_name": "LeafletIconModel",
      "state": {
       "_model_module_version": "^0.13.2",
       "_view_module_version": "^0.13.2",
       "icon_size": [
        30,
        40
       ],
       "icon_url": "files/ipyleafleticons/trashbin.png",
       "options": [
        "icon_anchor",
        "icon_size",
        "icon_url",
        "popup_anchor",
        "shadow_anchor",
        "shadow_size",
        "shadow_url"
       ],
       "shadow_url": null
      }
     },
     "81b36a6a9aa1453fb0f4498518f45ca9": {
      "model_module": "jupyter-leaflet",
      "model_module_version": "^0.13.2",
      "model_name": "LeafletMarkerModel",
      "state": {
       "_model_module_version": "^0.13.2",
       "_view_module_version": "^0.13.2",
       "icon": "IPY_MODEL_05ddda36b75e44299039ad53e79df66d",
       "location": [
        48.233889000000005,
        16.373088
       ],
       "options": [
        "alt",
        "draggable",
        "keyboard",
        "rise_offset",
        "rise_on_hover",
        "rotation_angle",
        "rotation_origin",
        "title",
        "z_index_offset"
       ]
      }
     },
     "8593a38754c24dabbc336726997157a9": {
      "model_module": "jupyter-leaflet",
      "model_module_version": "^0.13.2",
      "model_name": "LeafletAttributionControlModel",
      "state": {
       "_model_module_version": "^0.13.2",
       "_view_module_version": "^0.13.2",
       "options": [
        "position",
        "prefix"
       ],
       "position": "bottomright",
       "prefix": "ipyleaflet"
      }
     },
     "85e1fda878b748a1b24f7cc42ce1a442": {
      "model_module": "jupyter-leaflet",
      "model_module_version": "^0.13.2",
      "model_name": "LeafletMarkerModel",
      "state": {
       "_model_module_version": "^0.13.2",
       "_view_module_version": "^0.13.2",
       "icon": "IPY_MODEL_c84e580c284745eebaf7b40531c7944d",
       "location": [
        48.231945,
        16.371917
       ],
       "options": [
        "alt",
        "draggable",
        "keyboard",
        "rise_offset",
        "rise_on_hover",
        "rotation_angle",
        "rotation_origin",
        "title",
        "z_index_offset"
       ]
      }
     },
     "86efa254dd8b48328b8e518c31516aad": {
      "model_module": "@jupyter-widgets/base",
      "model_module_version": "1.2.0",
      "model_name": "LayoutModel",
      "state": {}
     },
     "872ba4882a6047a884a8c91e2e666f9d": {
      "model_module": "jupyter-leaflet",
      "model_module_version": "^0.13.2",
      "model_name": "LeafletMarkerModel",
      "state": {
       "_model_module_version": "^0.13.2",
       "_view_module_version": "^0.13.2",
       "icon": "IPY_MODEL_b6ad9267c42a405ab8cfb36a877ecd14",
       "location": [
        48.231945,
        16.371917
       ],
       "options": [
        "alt",
        "draggable",
        "keyboard",
        "rise_offset",
        "rise_on_hover",
        "rotation_angle",
        "rotation_origin",
        "title",
        "z_index_offset"
       ]
      }
     },
     "8ba045e142c44f38885830f4be324313": {
      "model_module": "jupyter-leaflet",
      "model_module_version": "^0.13.2",
      "model_name": "LeafletMapModel",
      "state": {
       "_model_module_version": "^0.13.2",
       "_view_module_version": "^0.13.2",
       "bottom": 5816168,
       "center": [
        48.231139,
        16.374955
       ],
       "controls": [
        "IPY_MODEL_ba368cdd3658497c9d09d41fb0017e2b",
        "IPY_MODEL_8c94d5a84f0a42d0852176dec6c67aa2",
        "IPY_MODEL_b6ab74801d5c49a3bf5c6cd2594fc094",
        "IPY_MODEL_7f8094d99fde40f988454add64357022",
        "IPY_MODEL_136eb8d1f56a44c5b953c281a43739ec",
        "IPY_MODEL_24e5a3d2a0674a79824eff50abeb6388",
        "IPY_MODEL_79f627b168ef434b80eedf0d8918b609"
       ],
       "default_style": "IPY_MODEL_ef9d2eb819e447bba57a517f59f3f818",
       "dragging_style": "IPY_MODEL_98e6e8fd03a24841a83f56d001c9df72",
       "east": 16.38518571853638,
       "fullscreen": false,
       "interpolation": "bilinear",
       "layers": [
        "IPY_MODEL_ce55f3d4e9f3469d9dc7c9d0ce65b1d0",
        "IPY_MODEL_6db91f1881254f0c88dfcdc03a7a581c",
        "IPY_MODEL_a5fffceaf1e24cbd8dd36724f4ae2358",
        "IPY_MODEL_9e8abe2f8ae64a63b1492427ecea8983",
        "IPY_MODEL_33562916f745410f882bcc21a2797222",
        "IPY_MODEL_091dc61a91f4488faa68f06b93e8a05b",
        "IPY_MODEL_7c7afb49929c461d9a7d77a93ab81234",
        "IPY_MODEL_3dafb549c4a247878bbd1d35a56bbb7c",
        "IPY_MODEL_179ae8acf73a491184cb43caa5a6d6f2",
        "IPY_MODEL_792454e652194738b90049a8be4aacda",
        "IPY_MODEL_39870465c08342b7a0a5bc746d611928",
        "IPY_MODEL_1ef69fb7fe274e9fa11f8de46613f0ef",
        "IPY_MODEL_5bbbd685e7ee423092d0c787549a5a0a",
        "IPY_MODEL_3c795c5680644d0e9f59f46f818edd60",
        "IPY_MODEL_28da2b39c6a34a25881612f1f4015392",
        "IPY_MODEL_9b0c236fa2e5437b8e88e6ed88c8e845",
        "IPY_MODEL_3e25cc6172be414c831abaf82a4c25b3",
        "IPY_MODEL_3e46b176445a4f44b60e3020ecaac5a3",
        "IPY_MODEL_2b8eedc710c94f93b9310483b89f3d22",
        "IPY_MODEL_b4750826651548b4a7a6a67f73973db4",
        "IPY_MODEL_dfd90de60a2b4f66a6c60499e5183e52",
        "IPY_MODEL_1aba931e3746424a96de22ebda9970e4",
        "IPY_MODEL_7bf1ddf467ef45de906cc57d6958ee49",
        "IPY_MODEL_6e9e24a896694e76b1431f9782c96381",
        "IPY_MODEL_ad9ae07e82514cb8a74d8fa49f48c216",
        "IPY_MODEL_b82b99e70fa5421d94c79e030326a7ed",
        "IPY_MODEL_f633dbed813649819e235842b8240e2a",
        "IPY_MODEL_d69cfa2d7dc04f64b0719d0718879e04",
        "IPY_MODEL_872ba4882a6047a884a8c91e2e666f9d",
        "IPY_MODEL_7a841ebf2bcb48f1a060cfa8f1c86703",
        "IPY_MODEL_604fac64808947c3b591f5d08a9a88f7",
        "IPY_MODEL_ea0e15bc4b0248e683f9aad63582ae27",
        "IPY_MODEL_570a888f83dd4acd9e51e70b0a4b5a47",
        "IPY_MODEL_8e2da0eaab5c429386238ef91dcc767d",
        "IPY_MODEL_93ce0bc0737e4dab9db114765dbbca3f",
        "IPY_MODEL_f73f61bbcad14a5e905ac77516883c9a",
        "IPY_MODEL_0b2adb4cfa9547cba4e9270674610e03",
        "IPY_MODEL_a8189fd04f3942ea9b63320e99c633d5",
        "IPY_MODEL_aaba0f88464d46eda58819a70fd848d1",
        "IPY_MODEL_2c54aa67f14e48048d616431b72e723a",
        "IPY_MODEL_0fe5a4d6152045ebac6e14290b77eb4a",
        "IPY_MODEL_3507e3d13e52442aadad98d9298791bf",
        "IPY_MODEL_9f43f9b87eea4b42b7fa1c0f309e1a21",
        "IPY_MODEL_522ee4144a1d4354815169ba2ff50f9f",
        "IPY_MODEL_a48ef39416fa4da5affd6d2fdeec7358",
        "IPY_MODEL_7708fc8395e946ee9e9249c77fd6664d",
        "IPY_MODEL_b78e6d60103f4a75a8f9b482e8bf9a53",
        "IPY_MODEL_d117af6fabef4c8284e12155914d975d",
        "IPY_MODEL_b8eb03efecaf47498ffcd86c68507d73",
        "IPY_MODEL_d86335a616384b2cb00e521bde1a6ffa",
        "IPY_MODEL_19c1e31e8d19478cb4110922c6183a75",
        "IPY_MODEL_85e1fda878b748a1b24f7cc42ce1a442",
        "IPY_MODEL_bb45197b305945c9a5cb9285d0157f2b",
        "IPY_MODEL_53c390c0234043a8827f27f0ccc10c06",
        "IPY_MODEL_a6494a7e6c974a46bb1b77a538f3873a",
        "IPY_MODEL_4b5d8cfcedbe4cd0bda5951037c2613d",
        "IPY_MODEL_211ef0810bd04cc2a4ff468fb84e501e",
        "IPY_MODEL_4e7082b33d0445899cd15a9f524c4964",
        "IPY_MODEL_05146adff0f54ad5b6561a8036455cf4",
        "IPY_MODEL_e75b4927a345434c96ba0f81ec469adc",
        "IPY_MODEL_6c095ace9f6a4972ab2e0cae46399d78",
        "IPY_MODEL_aa0fe4acdc2c4635afbfef6e7b125b55",
        "IPY_MODEL_0b371d6fc0dd403392606bf2d5aec9c8",
        "IPY_MODEL_169d5e64cf164743b6fa37d9dc635c40",
        "IPY_MODEL_81b36a6a9aa1453fb0f4498518f45ca9",
        "IPY_MODEL_bd814842e8ff4b94a878b30385bc40ad",
        "IPY_MODEL_753cd88a7dd942fc9f14e0a90175cf07",
        "IPY_MODEL_c115368466174c3dac2cd4c30bbbf102",
        "IPY_MODEL_20742a7189794f7ca7e2c8d1bdf50e4b",
        "IPY_MODEL_1c4256c261774d84802df6292ed42450",
        "IPY_MODEL_c0f6ce25a784491e8723c898a9750703",
        "IPY_MODEL_be7c982c5ae44244be7f6cc714f1ffda"
       ],
       "layout": "IPY_MODEL_d43dff2b51574f34921135276afd3266",
       "left": 9151260,
       "modisdate": "yesterday",
       "north": 48.235421620572104,
       "options": [
        "bounce_at_zoom_limits",
        "box_zoom",
        "center",
        "close_popup_on_click",
        "double_click_zoom",
        "dragging",
        "fullscreen",
        "inertia",
        "inertia_deceleration",
        "inertia_max_speed",
        "interpolation",
        "keyboard",
        "keyboard_pan_offset",
        "keyboard_zoom_offset",
        "max_zoom",
        "min_zoom",
        "scroll_wheel_zoom",
        "tap",
        "tap_tolerance",
        "touch_zoom",
        "world_copy_jump",
        "zoom",
        "zoom_animation_threshold",
        "zoom_delta",
        "zoom_snap",
        "zoom_start"
       ],
       "right": 9152213,
       "south": 48.22684549597699,
       "style": "IPY_MODEL_36953400ba524de7a2c3b38c469acc09",
       "top": 5815568,
       "west": 16.36473655700684,
       "window_url": "http://localhost:8888/lab",
       "zoom": 16
      }
     },
     "8c510037839b401c96c8eea0f6bc8fbc": {
      "model_module": "jupyter-leaflet",
      "model_module_version": "^0.13.2",
      "model_name": "LeafletTileLayerModel",
      "state": {
       "_model_module_version": "^0.13.2",
       "_view_module_version": "^0.13.2",
       "base": true,
       "max_native_zoom": 18,
       "max_zoom": 19,
       "min_native_zoom": 0,
       "min_zoom": 1,
       "options": [
        "attribution",
        "detect_retina",
        "max_native_zoom",
        "max_zoom",
        "min_native_zoom",
        "min_zoom",
        "no_wrap",
        "tile_size",
        "tms"
       ]
      }
     },
     "8c94d5a84f0a42d0852176dec6c67aa2": {
      "model_module": "jupyter-leaflet",
      "model_module_version": "^0.13.2",
      "model_name": "LeafletAttributionControlModel",
      "state": {
       "_model_module_version": "^0.13.2",
       "_view_module_version": "^0.13.2",
       "options": [
        "position",
        "prefix"
       ],
       "position": "bottomright",
       "prefix": "ipyleaflet"
      }
     },
     "8e2da0eaab5c429386238ef91dcc767d": {
      "model_module": "jupyter-leaflet",
      "model_module_version": "^0.13.2",
      "model_name": "LeafletMarkerModel",
      "state": {
       "_model_module_version": "^0.13.2",
       "_view_module_version": "^0.13.2",
       "icon": "IPY_MODEL_b6b6251a8eec44ffaddb6a0eca206238",
       "location": [
        48.232615,
        16.374924
       ],
       "options": [
        "alt",
        "draggable",
        "keyboard",
        "rise_offset",
        "rise_on_hover",
        "rotation_angle",
        "rotation_origin",
        "title",
        "z_index_offset"
       ]
      }
     },
     "93ce0bc0737e4dab9db114765dbbca3f": {
      "model_module": "jupyter-leaflet",
      "model_module_version": "^0.13.2",
      "model_name": "LeafletMarkerModel",
      "state": {
       "_model_module_version": "^0.13.2",
       "_view_module_version": "^0.13.2",
       "icon": "IPY_MODEL_b6b6251a8eec44ffaddb6a0eca206238",
       "location": [
        48.233513,
        16.374668
       ],
       "options": [
        "alt",
        "draggable",
        "keyboard",
        "rise_offset",
        "rise_on_hover",
        "rotation_angle",
        "rotation_origin",
        "title",
        "z_index_offset"
       ]
      }
     },
     "96fc70802ce845d681326bba674ddec9": {
      "model_module": "jupyter-leaflet",
      "model_module_version": "^0.13.2",
      "model_name": "LeafletTileLayerModel",
      "state": {
       "_model_module_version": "^0.13.2",
       "_view_module_version": "^0.13.2",
       "attribution": "Map tiles by <a href=\"http://stamen.com/\">Stamen Design</a>, under <a href=\"http://creativecommons.org/licenses/by/3.0\">CC BY 3.0</a>. Data by <a href=\"http://openstreetmap.org/\">OpenStreetMap</a>, under <a href=\"http://creativecommons.org/licenses/by-sa/3.0\">CC BY SA</a>.",
       "max_native_zoom": 18,
       "max_zoom": 20,
       "min_native_zoom": 0,
       "name": "Stamen.Toner",
       "options": [
        "attribution",
        "detect_retina",
        "max_native_zoom",
        "max_zoom",
        "min_native_zoom",
        "min_zoom",
        "no_wrap",
        "tile_size",
        "tms"
       ],
       "url": "https://stamen-tiles-a.a.ssl.fastly.net/toner/{z}/{x}/{y}.png"
      }
     },
     "98e6e8fd03a24841a83f56d001c9df72": {
      "model_module": "jupyter-leaflet",
      "model_module_version": "^0.13.2",
      "model_name": "LeafletMapStyleModel",
      "state": {
       "_model_module_version": "^0.13.2",
       "cursor": "move"
      }
     },
     "9b0c236fa2e5437b8e88e6ed88c8e845": {
      "model_module": "jupyter-leaflet",
      "model_module_version": "^0.13.2",
      "model_name": "LeafletMarkerModel",
      "state": {
       "_model_module_version": "^0.13.2",
       "_view_module_version": "^0.13.2",
       "icon": "IPY_MODEL_f8c90c84beea48b5af018701589edbf0",
       "location": [
        48.233724,
        16.373077
       ],
       "options": [
        "alt",
        "draggable",
        "keyboard",
        "rise_offset",
        "rise_on_hover",
        "rotation_angle",
        "rotation_origin",
        "title",
        "z_index_offset"
       ]
      }
     },
     "9d02066cbe9c41a580e8206d4594709c": {
      "model_module": "jupyter-leaflet",
      "model_module_version": "^0.13.2",
      "model_name": "LeafletIconModel",
      "state": {
       "_model_module_version": "^0.13.2",
       "_view_module_version": "^0.13.2",
       "icon_size": [
        30,
        40
       ],
       "icon_url": "icons/tree.png",
       "options": [
        "icon_anchor",
        "icon_size",
        "icon_url",
        "popup_anchor",
        "shadow_anchor",
        "shadow_size",
        "shadow_url"
       ],
       "shadow_url": null
      }
     },
     "9e8abe2f8ae64a63b1492427ecea8983": {
      "model_module": "jupyter-leaflet",
      "model_module_version": "^0.13.2",
      "model_name": "LeafletMarkerModel",
      "state": {
       "_model_module_version": "^0.13.2",
       "_view_module_version": "^0.13.2",
       "icon": "IPY_MODEL_804a9edaebfc44478c925395e21f659e",
       "location": [
        48.232625,
        16.369195
       ],
       "options": [
        "alt",
        "draggable",
        "keyboard",
        "rise_offset",
        "rise_on_hover",
        "rotation_angle",
        "rotation_origin",
        "title",
        "z_index_offset"
       ]
      }
     },
     "9f43f9b87eea4b42b7fa1c0f309e1a21": {
      "model_module": "jupyter-leaflet",
      "model_module_version": "^0.13.2",
      "model_name": "LeafletMarkerModel",
      "state": {
       "_model_module_version": "^0.13.2",
       "_view_module_version": "^0.13.2",
       "icon": "IPY_MODEL_b6b6251a8eec44ffaddb6a0eca206238",
       "location": [
        48.235285,
        16.372603
       ],
       "options": [
        "alt",
        "draggable",
        "keyboard",
        "rise_offset",
        "rise_on_hover",
        "rotation_angle",
        "rotation_origin",
        "title",
        "z_index_offset"
       ]
      }
     },
     "a0e510f4b4a3445eb331d35e288e1fc0": {
      "model_module": "jupyter-leaflet",
      "model_module_version": "^0.13.2",
      "model_name": "LeafletMapStyleModel",
      "state": {
       "_model_module_version": "^0.13.2"
      }
     },
     "a0f576e968d3487c96698cf4209a7eb3": {
      "model_module": "jupyter-leaflet",
      "model_module_version": "^0.13.2",
      "model_name": "LeafletMapStyleModel",
      "state": {
       "_model_module_version": "^0.13.2",
       "cursor": "move"
      }
     },
     "a48ef39416fa4da5affd6d2fdeec7358": {
      "model_module": "jupyter-leaflet",
      "model_module_version": "^0.13.2",
      "model_name": "LeafletMarkerModel",
      "state": {
       "_model_module_version": "^0.13.2",
       "_view_module_version": "^0.13.2",
       "icon": "IPY_MODEL_b6b6251a8eec44ffaddb6a0eca206238",
       "location": [
        48.235440999999994,
        16.371724
       ],
       "options": [
        "alt",
        "draggable",
        "keyboard",
        "rise_offset",
        "rise_on_hover",
        "rotation_angle",
        "rotation_origin",
        "title",
        "z_index_offset"
       ]
      }
     },
     "a5fffceaf1e24cbd8dd36724f4ae2358": {
      "model_module": "jupyter-leaflet",
      "model_module_version": "^0.13.2",
      "model_name": "LeafletMarkerModel",
      "state": {
       "_model_module_version": "^0.13.2",
       "_view_module_version": "^0.13.2",
       "icon": "IPY_MODEL_804a9edaebfc44478c925395e21f659e",
       "location": [
        48.235323,
        16.371179
       ],
       "options": [
        "alt",
        "draggable",
        "keyboard",
        "rise_offset",
        "rise_on_hover",
        "rotation_angle",
        "rotation_origin",
        "title",
        "z_index_offset"
       ]
      }
     },
     "a6494a7e6c974a46bb1b77a538f3873a": {
      "model_module": "jupyter-leaflet",
      "model_module_version": "^0.13.2",
      "model_name": "LeafletMarkerModel",
      "state": {
       "_model_module_version": "^0.13.2",
       "_view_module_version": "^0.13.2",
       "icon": "IPY_MODEL_05ddda36b75e44299039ad53e79df66d",
       "location": [
        48.231619,
        16.374845
       ],
       "options": [
        "alt",
        "draggable",
        "keyboard",
        "rise_offset",
        "rise_on_hover",
        "rotation_angle",
        "rotation_origin",
        "title",
        "z_index_offset"
       ]
      }
     },
     "a8189fd04f3942ea9b63320e99c633d5": {
      "model_module": "jupyter-leaflet",
      "model_module_version": "^0.13.2",
      "model_name": "LeafletMarkerModel",
      "state": {
       "_model_module_version": "^0.13.2",
       "_view_module_version": "^0.13.2",
       "icon": "IPY_MODEL_b6b6251a8eec44ffaddb6a0eca206238",
       "location": [
        48.23324,
        16.374012
       ],
       "options": [
        "alt",
        "draggable",
        "keyboard",
        "rise_offset",
        "rise_on_hover",
        "rotation_angle",
        "rotation_origin",
        "title",
        "z_index_offset"
       ]
      }
     },
     "aa0fe4acdc2c4635afbfef6e7b125b55": {
      "model_module": "jupyter-leaflet",
      "model_module_version": "^0.13.2",
      "model_name": "LeafletMarkerModel",
      "state": {
       "_model_module_version": "^0.13.2",
       "_view_module_version": "^0.13.2",
       "icon": "IPY_MODEL_05ddda36b75e44299039ad53e79df66d",
       "location": [
        48.23324,
        16.374012
       ],
       "options": [
        "alt",
        "draggable",
        "keyboard",
        "rise_offset",
        "rise_on_hover",
        "rotation_angle",
        "rotation_origin",
        "title",
        "z_index_offset"
       ]
      }
     },
     "aa4589869c534a5eb10fa04c4ef320a4": {
      "model_module": "jupyter-leaflet",
      "model_module_version": "^0.13.2",
      "model_name": "LeafletFullScreenControlModel",
      "state": {
       "_model_module_version": "^0.13.2",
       "_view_module_version": "^0.13.2",
       "options": [
        "position"
       ]
      }
     },
     "aaba0f88464d46eda58819a70fd848d1": {
      "model_module": "jupyter-leaflet",
      "model_module_version": "^0.13.2",
      "model_name": "LeafletMarkerModel",
      "state": {
       "_model_module_version": "^0.13.2",
       "_view_module_version": "^0.13.2",
       "icon": "IPY_MODEL_b6b6251a8eec44ffaddb6a0eca206238",
       "location": [
        48.23324,
        16.374012
       ],
       "options": [
        "alt",
        "draggable",
        "keyboard",
        "rise_offset",
        "rise_on_hover",
        "rotation_angle",
        "rotation_origin",
        "title",
        "z_index_offset"
       ]
      }
     },
     "ad9ae07e82514cb8a74d8fa49f48c216": {
      "model_module": "jupyter-leaflet",
      "model_module_version": "^0.13.2",
      "model_name": "LeafletAntPathModel",
      "state": {
       "_model_module_version": "^0.13.2",
       "_view_module_version": "^0.13.2",
       "color": "#7590ba",
       "dash_array": [
        1,
        10
       ],
       "delay": 2000,
       "locations": [
        [
         48.2311,
         16.375006
        ],
        [
         48.2311,
         16.375006
        ],
        [
         48.2311,
         16.375006
        ],
        [
         48.2311,
         16.375006
        ],
        [
         48.2311,
         16.375006
        ],
        [
         48.2311,
         16.375006
        ],
        [
         48.2311,
         16.375006
        ],
        [
         48.2311,
         16.375006
        ],
        [
         48.2311,
         16.375006
        ],
        [
         48.2311,
         16.375006
        ],
        [
         48.2311,
         16.375006
        ],
        [
         48.2311,
         16.375006
        ],
        [
         48.231136,
         16.374966
        ],
        [
         48.231136,
         16.374966
        ],
        [
         48.231136,
         16.374966
        ],
        [
         48.231139,
         16.374955
        ],
        [
         48.231139,
         16.374955
        ],
        [
         48.231139,
         16.374955
        ],
        [
         48.231139,
         16.374955
        ],
        [
         48.231139,
         16.374955
        ],
        [
         48.231139,
         16.374955
        ],
        [
         48.231139,
         16.374955
        ],
        [
         48.231139,
         16.374955
        ],
        [
         48.231139,
         16.374955
        ],
        [
         48.231139,
         16.374955
        ],
        [
         48.231139,
         16.374955
        ],
        [
         48.231139,
         16.374955
        ],
        [
         48.231139,
         16.374955
        ],
        [
         48.231139,
         16.374955
        ],
        [
         48.231139,
         16.374955
        ],
        [
         48.231139,
         16.374955
        ],
        [
         48.231139,
         16.374955
        ],
        [
         48.231139,
         16.374955
        ],
        [
         48.231619,
         16.374845
        ],
        [
         48.231619,
         16.374845
        ],
        [
         48.231619,
         16.374845
        ],
        [
         48.231619,
         16.374845
        ],
        [
         48.231619,
         16.374845
        ],
        [
         48.231619,
         16.374845
        ],
        [
         48.231619,
         16.374845
        ],
        [
         48.231619,
         16.374845
        ],
        [
         48.231619,
         16.374845
        ],
        [
         48.231835,
         16.374748
        ],
        [
         48.231854,
         16.374751
        ],
        [
         48.231878,
         16.374744
        ],
        [
         48.2319,
         16.374732
        ],
        [
         48.23193,
         16.374722
        ],
        [
         48.231968,
         16.374724
        ],
        [
         48.231994,
         16.374727
        ],
        [
         48.232023999999996,
         16.374717
        ],
        [
         48.232075,
         16.374732
        ],
        [
         48.23212,
         16.37474
        ],
        [
         48.232163,
         16.374747
        ],
        [
         48.2322,
         16.374753
        ],
        [
         48.232238,
         16.374759
        ],
        [
         48.232248,
         16.374748999999998
        ],
        [
         48.232281,
         16.374744
        ],
        [
         48.23232,
         16.374758
        ],
        [
         48.232355,
         16.374763
        ],
        [
         48.232374,
         16.374735
        ],
        [
         48.232385,
         16.374694
        ],
        [
         48.232405,
         16.374673
        ],
        [
         48.232442,
         16.374664000000003
        ],
        [
         48.232442999999996,
         16.374668
        ],
        [
         48.232446,
         16.374667000000002
        ],
        [
         48.232479999999995,
         16.374675
        ],
        [
         48.232496000000005,
         16.374685999999997
        ],
        [
         48.232504999999996,
         16.374693
        ],
        [
         48.232531,
         16.374693
        ],
        [
         48.23256,
         16.374701
        ],
        [
         48.232571,
         16.374706
        ],
        [
         48.232569,
         16.37471
        ],
        [
         48.232589000000004,
         16.374716
        ],
        [
         48.232608,
         16.374751999999997
        ],
        [
         48.232628000000005,
         16.374767000000002
        ],
        [
         48.232618,
         16.374781
        ],
        [
         48.232616,
         16.374812
        ],
        [
         48.232616,
         16.374856
        ],
        [
         48.232642,
         16.374888000000002
        ],
        [
         48.232642,
         16.374888000000002
        ],
        [
         48.232615,
         16.374924
        ],
        [
         48.232615,
         16.374924
        ],
        [
         48.232615,
         16.374924
        ],
        [
         48.232615,
         16.374924
        ],
        [
         48.232615,
         16.374924
        ],
        [
         48.232615,
         16.374924
        ],
        [
         48.232818,
         16.374986
        ],
        [
         48.232818,
         16.374986
        ],
        [
         48.232818,
         16.374986
        ],
        [
         48.232818,
         16.374986
        ],
        [
         48.232818,
         16.374986
        ],
        [
         48.232818,
         16.374986
        ],
        [
         48.232818,
         16.374986
        ],
        [
         48.232818,
         16.374986
        ],
        [
         48.232818,
         16.374986
        ],
        [
         48.232818,
         16.374986
        ],
        [
         48.232818,
         16.374986
        ],
        [
         48.232818,
         16.374986
        ],
        [
         48.232818,
         16.374986
        ],
        [
         48.232818,
         16.374986
        ],
        [
         48.233447,
         16.374697
        ],
        [
         48.233447,
         16.374697
        ],
        [
         48.233447,
         16.374697
        ],
        [
         48.233447,
         16.374697
        ],
        [
         48.233447,
         16.374697
        ],
        [
         48.233447,
         16.374697
        ],
        [
         48.233447,
         16.374697
        ],
        [
         48.233447,
         16.374697
        ],
        [
         48.233447,
         16.374697
        ],
        [
         48.233447,
         16.374697
        ],
        [
         48.233447,
         16.374697
        ],
        [
         48.233447,
         16.374697
        ],
        [
         48.233447,
         16.374697
        ],
        [
         48.233518,
         16.374664000000003
        ],
        [
         48.233518,
         16.374664000000003
        ],
        [
         48.233518,
         16.374664000000003
        ],
        [
         48.233518,
         16.374664000000003
        ],
        [
         48.233518,
         16.374664000000003
        ],
        [
         48.233518,
         16.374664000000003
        ],
        [
         48.233518,
         16.374664000000003
        ],
        [
         48.233518,
         16.374664000000003
        ],
        [
         48.233518,
         16.374664000000003
        ],
        [
         48.233518,
         16.374664000000003
        ],
        [
         48.233518,
         16.374664000000003
        ],
        [
         48.233518,
         16.374664000000003
        ],
        [
         48.233518,
         16.374664000000003
        ],
        [
         48.233519,
         16.374678
        ],
        [
         48.233513,
         16.374674
        ],
        [
         48.233515999999995,
         16.374669
        ],
        [
         48.233515999999995,
         16.374667000000002
        ],
        [
         48.233525,
         16.374665
        ],
        [
         48.233523999999996,
         16.374667000000002
        ],
        [
         48.233531,
         16.374668
        ],
        [
         48.233531,
         16.374667000000002
        ],
        [
         48.233536,
         16.374654
        ],
        [
         48.233534000000006,
         16.374653
        ],
        [
         48.233525,
         16.374653
        ],
        [
         48.233507,
         16.374648
        ],
        [
         48.233506,
         16.374653
        ],
        [
         48.233503999999996,
         16.374663
        ],
        [
         48.233499,
         16.374665
        ],
        [
         48.233495,
         16.374674
        ],
        [
         48.233509999999995,
         16.374657
        ],
        [
         48.23348,
         16.374661
        ],
        [
         48.233455,
         16.374669
        ],
        [
         48.233434,
         16.374659
        ],
        [
         48.233427,
         16.374613
        ],
        [
         48.233429,
         16.374563000000002
        ],
        [
         48.233436,
         16.374509
        ],
        [
         48.233449,
         16.37446
        ],
        [
         48.233465,
         16.374415
        ],
        [
         48.233486,
         16.374365
        ],
        [
         48.23349,
         16.37432
        ],
        [
         48.233487,
         16.374267
        ],
        [
         48.233476,
         16.374228
        ],
        [
         48.233458,
         16.374214000000002
        ],
        [
         48.233441,
         16.374219
        ],
        [
         48.233415,
         16.374242000000002
        ],
        [
         48.233401,
         16.374246
        ],
        [
         48.233378,
         16.374273000000002
        ],
        [
         48.233366,
         16.374287
        ],
        [
         48.233364,
         16.374288
        ],
        [
         48.233342,
         16.374302
        ],
        [
         48.233337,
         16.374303
        ],
        [
         48.233329,
         16.374318
        ],
        [
         48.233301000000004,
         16.374323
        ],
        [
         48.233287,
         16.374271
        ],
        [
         48.233268,
         16.374236
        ],
        [
         48.233253000000005,
         16.374233
        ],
        [
         48.233243,
         16.374223
        ],
        [
         48.233249,
         16.374216
        ],
        [
         48.233249,
         16.374216
        ],
        [
         48.233249,
         16.374216
        ],
        [
         48.233249,
         16.374216
        ],
        [
         48.233249,
         16.374216
        ],
        [
         48.233249,
         16.374216
        ],
        [
         48.23324,
         16.374012
        ],
        [
         48.23324,
         16.374012
        ],
        [
         48.23324,
         16.374012
        ],
        [
         48.23324,
         16.374012
        ],
        [
         48.23324,
         16.374012
        ],
        [
         48.23324,
         16.374012
        ],
        [
         48.233115999999995,
         16.373853
        ],
        [
         48.233121999999995,
         16.373819
        ],
        [
         48.233112,
         16.373767
        ],
        [
         48.233102,
         16.373713000000002
        ],
        [
         48.233093,
         16.37365
        ],
        [
         48.233090000000004,
         16.373587
        ],
        [
         48.233074,
         16.37353
        ],
        [
         48.233149,
         16.373388000000002
        ],
        [
         48.23317,
         16.373345
        ],
        [
         48.233199,
         16.373309
        ],
        [
         48.233230999999996,
         16.373279
        ],
        [
         48.233269,
         16.373273
        ],
        [
         48.233306,
         16.373251999999997
        ],
        [
         48.233340000000005,
         16.37323
        ],
        [
         48.233378,
         16.373209
        ],
        [
         48.233415,
         16.373186999999998
        ],
        [
         48.233449,
         16.373171
        ],
        [
         48.23348,
         16.373157
        ],
        [
         48.233512,
         16.373143
        ],
        [
         48.23355,
         16.37313
        ],
        [
         48.233585999999995,
         16.373123
        ],
        [
         48.233615,
         16.37311
        ],
        [
         48.233649,
         16.373085999999997
        ],
        [
         48.233693,
         16.373062
        ],
        [
         48.233711,
         16.373057
        ],
        [
         48.233724,
         16.373077
        ],
        [
         48.233737,
         16.373089999999998
        ],
        [
         48.233737,
         16.373089999999998
        ],
        [
         48.233737,
         16.373089999999998
        ],
        [
         48.233737,
         16.373089999999998
        ],
        [
         48.233737,
         16.373089999999998
        ],
        [
         48.233894,
         16.373085
        ],
        [
         48.233889000000005,
         16.373088
        ],
        [
         48.233889000000005,
         16.373088
        ],
        [
         48.233889000000005,
         16.373088
        ],
        [
         48.233889000000005,
         16.373088
        ],
        [
         48.233889000000005,
         16.373088
        ],
        [
         48.233889000000005,
         16.373088
        ],
        [
         48.233889000000005,
         16.373088
        ],
        [
         48.233889000000005,
         16.373088
        ],
        [
         48.233889000000005,
         16.373088
        ],
        [
         48.233889000000005,
         16.373088
        ],
        [
         48.233889000000005,
         16.373088
        ],
        [
         48.233889000000005,
         16.373088
        ],
        [
         48.233889000000005,
         16.373088
        ],
        [
         48.233889000000005,
         16.373088
        ],
        [
         48.233889000000005,
         16.373088
        ],
        [
         48.233889000000005,
         16.373088
        ],
        [
         48.233889000000005,
         16.373088
        ],
        [
         48.233889000000005,
         16.373088
        ],
        [
         48.233889000000005,
         16.373088
        ],
        [
         48.233889000000005,
         16.373088
        ],
        [
         48.233889000000005,
         16.373088
        ],
        [
         48.234426,
         16.372957999999997
        ],
        [
         48.234423,
         16.372961
        ],
        [
         48.234431,
         16.372945
        ],
        [
         48.234464,
         16.372932000000002
        ],
        [
         48.234505,
         16.372923999999998
        ],
        [
         48.234524,
         16.372914
        ],
        [
         48.234569,
         16.372888
        ],
        [
         48.234586,
         16.372865
        ],
        [
         48.234595,
         16.372864
        ],
        [
         48.234621999999995,
         16.372866000000002
        ],
        [
         48.234652000000004,
         16.372866000000002
        ],
        [
         48.234727,
         16.372867000000003
        ],
        [
         48.234771,
         16.372869
        ],
        [
         48.234802,
         16.372869
        ],
        [
         48.234840000000005,
         16.37286
        ],
        [
         48.23488,
         16.37284
        ],
        [
         48.23493,
         16.37284
        ],
        [
         48.234981,
         16.372825
        ],
        [
         48.235029,
         16.372821
        ],
        [
         48.235093,
         16.372770000000003
        ],
        [
         48.235178000000005,
         16.372694
        ],
        [
         48.235233,
         16.372668
        ],
        [
         48.235269,
         16.372643
        ],
        [
         48.235299,
         16.372607000000002
        ],
        [
         48.235285,
         16.372603
        ],
        [
         48.235284,
         16.372603
        ],
        [
         48.235301,
         16.372575
        ],
        [
         48.235305,
         16.372526999999998
        ],
        [
         48.235309,
         16.372479000000002
        ],
        [
         48.235321,
         16.372425
        ],
        [
         48.235336,
         16.372374
        ],
        [
         48.235333000000004,
         16.372335999999997
        ],
        [
         48.235335,
         16.372291
        ],
        [
         48.235347999999995,
         16.372241
        ],
        [
         48.235354,
         16.372188
        ],
        [
         48.235358000000005,
         16.372142999999998
        ],
        [
         48.235363,
         16.372097
        ],
        [
         48.23537,
         16.372054000000002
        ],
        [
         48.235382,
         16.372004999999998
        ],
        [
         48.235378999999995,
         16.371951
        ],
        [
         48.235381,
         16.371894
        ],
        [
         48.235397,
         16.371838
        ],
        [
         48.235415,
         16.371783999999998
        ],
        [
         48.235442,
         16.371745999999998
        ],
        [
         48.235439,
         16.371726000000002
        ],
        [
         48.235440000000004,
         16.371716
        ],
        [
         48.235465000000005,
         16.371675
        ],
        [
         48.235473,
         16.371616
        ],
        [
         48.235479,
         16.371567000000002
        ],
        [
         48.235481,
         16.37153
        ],
        [
         48.235463,
         16.371472
        ],
        [
         48.235403999999996,
         16.37141
        ],
        [
         48.235362,
         16.37135
        ],
        [
         48.235319,
         16.371278
        ],
        [
         48.235304,
         16.371235000000002
        ],
        [
         48.235303,
         16.371197
        ],
        [
         48.235306,
         16.371183
        ],
        [
         48.235315,
         16.371182
        ],
        [
         48.235327000000005,
         16.371177
        ],
        [
         48.235329,
         16.371167
        ],
        [
         48.235307,
         16.371143
        ],
        [
         48.235302000000004,
         16.371126
        ],
        [
         48.235307,
         16.371086
        ],
        [
         48.235289,
         16.371029999999998
        ],
        [
         48.235275,
         16.370986
        ],
        [
         48.235244,
         16.370934
        ],
        [
         48.235242,
         16.370882
        ],
        [
         48.235239,
         16.370816
        ],
        [
         48.235234000000005,
         16.370754
        ],
        [
         48.235221,
         16.370685
        ],
        [
         48.235211,
         16.370619
        ],
        [
         48.235201,
         16.370558
        ],
        [
         48.235170000000004,
         16.370499
        ],
        [
         48.235168,
         16.370464000000002
        ],
        [
         48.235147,
         16.370407999999998
        ],
        [
         48.235109,
         16.370382
        ],
        [
         48.235076,
         16.370382
        ],
        [
         48.235068,
         16.370369
        ],
        [
         48.235098,
         16.370345999999998
        ],
        [
         48.235106,
         16.370305
        ],
        [
         48.235108000000004,
         16.370297
        ],
        [
         48.23511,
         16.37029
        ],
        [
         48.235134,
         16.370244
        ],
        [
         48.23515,
         16.370182999999997
        ],
        [
         48.235137,
         16.37013
        ],
        [
         48.235106,
         16.37011
        ],
        [
         48.235094000000004,
         16.370101000000002
        ],
        [
         48.235091,
         16.370089
        ],
        [
         48.235085999999995,
         16.370078
        ],
        [
         48.235087,
         16.370093
        ],
        [
         48.235084,
         16.370098000000002
        ],
        [
         48.235084,
         16.370098000000002
        ],
        [
         48.235084,
         16.370098000000002
        ],
        [
         48.235084,
         16.370098000000002
        ],
        [
         48.235084,
         16.370098000000002
        ],
        [
         48.235084,
         16.370098000000002
        ],
        [
         48.235084,
         16.370098000000002
        ],
        [
         48.235084,
         16.370098000000002
        ],
        [
         48.235084,
         16.370098000000002
        ],
        [
         48.235084,
         16.370098000000002
        ],
        [
         48.235084,
         16.370098000000002
        ],
        [
         48.235084,
         16.370098000000002
        ],
        [
         48.235084,
         16.370098000000002
        ],
        [
         48.234423,
         16.370252999999998
        ],
        [
         48.23438,
         16.370264000000002
        ],
        [
         48.234333,
         16.370272
        ],
        [
         48.234286,
         16.370271
        ],
        [
         48.234245,
         16.370252999999998
        ],
        [
         48.234206,
         16.370257000000002
        ],
        [
         48.234173,
         16.370252
        ],
        [
         48.234147,
         16.370256
        ],
        [
         48.234124,
         16.370254
        ],
        [
         48.234092,
         16.370260000000002
        ],
        [
         48.234052,
         16.370267000000002
        ],
        [
         48.234016,
         16.370281
        ],
        [
         48.233978,
         16.370287
        ],
        [
         48.233958,
         16.370279
        ],
        [
         48.233964,
         16.370242
        ],
        [
         48.233952,
         16.370245
        ],
        [
         48.233959000000006,
         16.370239
        ],
        [
         48.233965999999995,
         16.370236
        ],
        [
         48.233975,
         16.370231
        ],
        [
         48.233985,
         16.370216
        ],
        [
         48.233982,
         16.370202
        ],
        [
         48.23395,
         16.370194
        ],
        [
         48.233922,
         16.370184
        ],
        [
         48.233896,
         16.37017
        ],
        [
         48.233876,
         16.370154
        ],
        [
         48.233832,
         16.370151999999997
        ],
        [
         48.233785,
         16.370141
        ],
        [
         48.233740000000004,
         16.370127
        ],
        [
         48.233689,
         16.37013
        ],
        [
         48.23364,
         16.370133
        ],
        [
         48.233593,
         16.37014
        ],
        [
         48.233544,
         16.370148
        ],
        [
         48.233509999999995,
         16.370155
        ],
        [
         48.233473,
         16.370163
        ],
        [
         48.233438,
         16.370160000000002
        ],
        [
         48.233401,
         16.370167000000002
        ],
        [
         48.233359,
         16.370173
        ],
        [
         48.233314,
         16.370162
        ],
        [
         48.233274,
         16.370157
        ],
        [
         48.233246,
         16.370119
        ],
        [
         48.233230999999996,
         16.370054999999997
        ],
        [
         48.233224,
         16.369999
        ],
        [
         48.233222999999995,
         16.369927
        ],
        [
         48.233218,
         16.369868
        ],
        [
         48.233208000000005,
         16.369811
        ],
        [
         48.233227,
         16.369754999999998
        ],
        [
         48.233251,
         16.36972
        ],
        [
         48.233224,
         16.369685
        ],
        [
         48.233219,
         16.369604000000002
        ],
        [
         48.23322,
         16.369532
        ],
        [
         48.23324,
         16.369462
        ],
        [
         48.233319,
         16.369396
        ],
        [
         48.233332,
         16.369321
        ],
        [
         48.233313,
         16.369253
        ],
        [
         48.233292999999996,
         16.369175
        ],
        [
         48.233233,
         16.369113
        ],
        [
         48.233193,
         16.369064
        ],
        [
         48.233176,
         16.369013
        ],
        [
         48.233096999999994,
         16.368982
        ],
        [
         48.233044,
         16.368983
        ],
        [
         48.232994,
         16.369022
        ],
        [
         48.232946000000005,
         16.369019
        ],
        [
         48.232884999999996,
         16.369003
        ],
        [
         48.232856,
         16.369024
        ],
        [
         48.232805,
         16.369006
        ],
        [
         48.232764,
         16.368999
        ],
        [
         48.232732,
         16.369004999999998
        ],
        [
         48.232685,
         16.369013
        ],
        [
         48.232651000000004,
         16.369026
        ],
        [
         48.23264,
         16.369051000000002
        ],
        [
         48.232634000000004,
         16.369086
        ],
        [
         48.232627,
         16.36915
        ],
        [
         48.232628000000005,
         16.369191
        ],
        [
         48.232625,
         16.369195
        ],
        [
         48.232625,
         16.369204
        ],
        [
         48.23264,
         16.369257
        ],
        [
         48.232662,
         16.369314000000003
        ],
        [
         48.23268,
         16.369367
        ],
        [
         48.232704,
         16.369426
        ],
        [
         48.232706,
         16.369478
        ],
        [
         48.232725,
         16.369531
        ],
        [
         48.232748,
         16.369587
        ],
        [
         48.232773,
         16.369644
        ],
        [
         48.232774,
         16.369704000000002
        ],
        [
         48.2328,
         16.369768
        ],
        [
         48.232817,
         16.369835000000002
        ],
        [
         48.232842,
         16.369905
        ],
        [
         48.232856,
         16.369975
        ],
        [
         48.232856,
         16.370046
        ],
        [
         48.232853999999996,
         16.370113
        ],
        [
         48.232846,
         16.370174
        ],
        [
         48.232858,
         16.370241
        ],
        [
         48.232865000000004,
         16.370305
        ],
        [
         48.232859999999995,
         16.370361
        ],
        [
         48.232827,
         16.370393
        ],
        [
         48.2328,
         16.370426000000002
        ],
        [
         48.232764,
         16.370445
        ],
        [
         48.232732,
         16.370471
        ],
        [
         48.232698,
         16.370463
        ],
        [
         48.232698,
         16.370469
        ],
        [
         48.23271,
         16.370521
        ],
        [
         48.232702,
         16.370579
        ],
        [
         48.232703,
         16.370626
        ],
        [
         48.232706,
         16.37066
        ],
        [
         48.232707,
         16.370670999999998
        ],
        [
         48.232695,
         16.370717000000003
        ],
        [
         48.232669,
         16.370788
        ],
        [
         48.232663,
         16.370832999999998
        ],
        [
         48.232653000000006,
         16.370892
        ],
        [
         48.232641,
         16.370973
        ],
        [
         48.232628000000005,
         16.37104
        ],
        [
         48.23261,
         16.371118
        ],
        [
         48.232605,
         16.371187
        ],
        [
         48.23259,
         16.371259
        ],
        [
         48.23256,
         16.371316
        ],
        [
         48.232535999999996,
         16.371361
        ],
        [
         48.232504,
         16.371382999999998
        ],
        [
         48.232479999999995,
         16.37138
        ],
        [
         48.232476,
         16.371363
        ],
        [
         48.232446,
         16.371385999999998
        ],
        [
         48.232392,
         16.371451
        ],
        [
         48.232338,
         16.371499
        ],
        [
         48.232314,
         16.37153
        ],
        [
         48.232293,
         16.371610999999998
        ],
        [
         48.232285,
         16.371682
        ],
        [
         48.232274,
         16.371737
        ],
        [
         48.232271999999995,
         16.371793
        ],
        [
         48.232279999999996,
         16.371839
        ],
        [
         48.232261,
         16.371861
        ],
        [
         48.232238,
         16.371873
        ],
        [
         48.232196,
         16.371896
        ],
        [
         48.232141,
         16.371889000000003
        ],
        [
         48.232096999999996,
         16.371891
        ],
        [
         48.232054999999995,
         16.371895000000002
        ],
        [
         48.23202,
         16.371904999999998
        ],
        [
         48.231981,
         16.371910999999997
        ],
        [
         48.231958,
         16.371917
        ],
        [
         48.231947999999996,
         16.371916
        ],
        [
         48.231945,
         16.371917
        ],
        [
         48.231945,
         16.371917
        ],
        [
         48.231945,
         16.371917
        ],
        [
         48.231945,
         16.371917
        ],
        [
         48.231945,
         16.371917
        ],
        [
         48.231945,
         16.371917
        ],
        [
         48.231945,
         16.371917
        ],
        [
         48.231945,
         16.371917
        ],
        [
         48.231945,
         16.371917
        ],
        [
         48.231945,
         16.371917
        ],
        [
         48.231945,
         16.371917
        ],
        [
         48.231945,
         16.371917
        ],
        [
         48.231945,
         16.371917
        ],
        [
         48.231945,
         16.371917
        ],
        [
         48.231945,
         16.371917
        ],
        [
         48.231945,
         16.371917
        ],
        [
         48.231945,
         16.371917
        ],
        [
         48.231945,
         16.371917
        ],
        [
         48.231945,
         16.371917
        ],
        [
         48.231945,
         16.371917
        ],
        [
         48.231945,
         16.371917
        ],
        [
         48.231945,
         16.371917
        ],
        [
         48.231945,
         16.371917
        ],
        [
         48.231945,
         16.371917
        ]
       ],
       "name": "Trail",
       "options": [
        "color",
        "dash_array",
        "delay",
        "hardware_accelerated",
        "paused",
        "pulse_color",
        "radius",
        "reverse",
        "use",
        "weight"
       ],
       "pulse_color": "#3f6fba"
      }
     },
     "b4750826651548b4a7a6a67f73973db4": {
      "model_module": "jupyter-leaflet",
      "model_module_version": "^0.13.2",
      "model_name": "LeafletMarkerModel",
      "state": {
       "_model_module_version": "^0.13.2",
       "_view_module_version": "^0.13.2",
       "icon": "IPY_MODEL_f8c90c84beea48b5af018701589edbf0",
       "location": [
        48.235334,
        16.372338
       ],
       "options": [
        "alt",
        "draggable",
        "keyboard",
        "rise_offset",
        "rise_on_hover",
        "rotation_angle",
        "rotation_origin",
        "title",
        "z_index_offset"
       ]
      }
     },
     "b4f13b7b0c034238ad6db0c8bc60ef9e": {
      "model_module": "jupyter-leaflet",
      "model_module_version": "^0.13.2",
      "model_name": "LeafletWidgetControlModel",
      "state": {
       "_model_module": "jupyter-leaflet",
       "_model_module_version": "^0.13.2",
       "_view_count": null,
       "_view_module": "jupyter-leaflet",
       "_view_module_version": "^0.13.2",
       "options": [
        "position"
       ],
       "position": "topright",
       "widget": "IPY_MODEL_02ce887b97bc4c388f6f1a106d47a66b"
      }
     },
     "b6ab74801d5c49a3bf5c6cd2594fc094": {
      "model_module": "jupyter-leaflet",
      "model_module_version": "^0.13.2",
      "model_name": "LeafletWidgetControlModel",
      "state": {
       "_model_module": "jupyter-leaflet",
       "_model_module_version": "^0.13.2",
       "_view_count": null,
       "_view_module": "jupyter-leaflet",
       "_view_module_version": "^0.13.2",
       "options": [
        "position"
       ],
       "position": "topright",
       "widget": "IPY_MODEL_ecea03cc21314523a389c04dd8803383"
      }
     },
     "b6ad9267c42a405ab8cfb36a877ecd14": {
      "model_module": "jupyter-leaflet",
      "model_module_version": "^0.13.2",
      "model_name": "LeafletIconModel",
      "state": {
       "_model_module_version": "^0.13.2",
       "_view_module_version": "^0.13.2",
       "icon_size": [
        30,
        40
       ],
       "icon_url": "files/ipyleaflet/icons/trashbin.png",
       "options": [
        "icon_anchor",
        "icon_size",
        "icon_url",
        "popup_anchor",
        "shadow_anchor",
        "shadow_size",
        "shadow_url"
       ],
       "shadow_url": null
      }
     },
     "b6b6251a8eec44ffaddb6a0eca206238": {
      "model_module": "jupyter-leaflet",
      "model_module_version": "^0.13.2",
      "model_name": "LeafletIconModel",
      "state": {
       "_model_module_version": "^0.13.2",
       "_view_module_version": "^0.13.2",
       "icon_size": [
        30,
        40
       ],
       "icon_url": "files/ipyleaflet/icons/tree.png",
       "options": [
        "icon_anchor",
        "icon_size",
        "icon_url",
        "popup_anchor",
        "shadow_anchor",
        "shadow_size",
        "shadow_url"
       ],
       "shadow_url": null
      }
     },
     "b78e6d60103f4a75a8f9b482e8bf9a53": {
      "model_module": "jupyter-leaflet",
      "model_module_version": "^0.13.2",
      "model_name": "LeafletMarkerModel",
      "state": {
       "_model_module_version": "^0.13.2",
       "_view_module_version": "^0.13.2",
       "icon": "IPY_MODEL_b6b6251a8eec44ffaddb6a0eca206238",
       "location": [
        48.231947999999996,
        16.371916
       ],
       "options": [
        "alt",
        "draggable",
        "keyboard",
        "rise_offset",
        "rise_on_hover",
        "rotation_angle",
        "rotation_origin",
        "title",
        "z_index_offset"
       ]
      }
     },
     "b82b99e70fa5421d94c79e030326a7ed": {
      "model_module": "jupyter-leaflet",
      "model_module_version": "^0.13.2",
      "model_name": "LeafletMarkerModel",
      "state": {
       "_model_module_version": "^0.13.2",
       "_view_module_version": "^0.13.2",
       "icon": "IPY_MODEL_b6ad9267c42a405ab8cfb36a877ecd14",
       "location": [
        48.233536,
        16.374654
       ],
       "options": [
        "alt",
        "draggable",
        "keyboard",
        "rise_offset",
        "rise_on_hover",
        "rotation_angle",
        "rotation_origin",
        "title",
        "z_index_offset"
       ]
      }
     },
     "b8eb03efecaf47498ffcd86c68507d73": {
      "model_module": "jupyter-leaflet",
      "model_module_version": "^0.13.2",
      "model_name": "LeafletMarkerModel",
      "state": {
       "_model_module_version": "^0.13.2",
       "_view_module_version": "^0.13.2",
       "icon": "IPY_MODEL_c84e580c284745eebaf7b40531c7944d",
       "location": [
        48.233536,
        16.374654
       ],
       "options": [
        "alt",
        "draggable",
        "keyboard",
        "rise_offset",
        "rise_on_hover",
        "rotation_angle",
        "rotation_origin",
        "title",
        "z_index_offset"
       ]
      }
     },
     "ba368cdd3658497c9d09d41fb0017e2b": {
      "model_module": "jupyter-leaflet",
      "model_module_version": "^0.13.2",
      "model_name": "LeafletZoomControlModel",
      "state": {
       "_model_module_version": "^0.13.2",
       "_view_module_version": "^0.13.2",
       "options": [
        "position",
        "zoom_in_text",
        "zoom_in_title",
        "zoom_out_text",
        "zoom_out_title"
       ]
      }
     },
     "bb45197b305945c9a5cb9285d0157f2b": {
      "model_module": "jupyter-leaflet",
      "model_module_version": "^0.13.2",
      "model_name": "LeafletMarkerModel",
      "state": {
       "_model_module_version": "^0.13.2",
       "_view_module_version": "^0.13.2",
       "icon": "IPY_MODEL_c84e580c284745eebaf7b40531c7944d",
       "location": [
        48.231184999999996,
        16.372423
       ],
       "options": [
        "alt",
        "draggable",
        "keyboard",
        "rise_offset",
        "rise_on_hover",
        "rotation_angle",
        "rotation_origin",
        "title",
        "z_index_offset"
       ]
      }
     },
     "bd814842e8ff4b94a878b30385bc40ad": {
      "model_module": "jupyter-leaflet",
      "model_module_version": "^0.13.2",
      "model_name": "LeafletMarkerModel",
      "state": {
       "_model_module_version": "^0.13.2",
       "_view_module_version": "^0.13.2",
       "icon": "IPY_MODEL_05ddda36b75e44299039ad53e79df66d",
       "location": [
        48.235285,
        16.372603
       ],
       "options": [
        "alt",
        "draggable",
        "keyboard",
        "rise_offset",
        "rise_on_hover",
        "rotation_angle",
        "rotation_origin",
        "title",
        "z_index_offset"
       ]
      }
     },
     "be7c982c5ae44244be7f6cc714f1ffda": {
      "model_module": "jupyter-leaflet",
      "model_module_version": "^0.13.2",
      "model_name": "LeafletAntPathModel",
      "state": {
       "_model_module_version": "^0.13.2",
       "_view_module_version": "^0.13.2",
       "color": "#7590ba",
       "dash_array": [
        1,
        10
       ],
       "delay": 2000,
       "locations": [
        [
         48.2311,
         16.375006
        ],
        [
         48.2311,
         16.375006
        ],
        [
         48.2311,
         16.375006
        ],
        [
         48.2311,
         16.375006
        ],
        [
         48.2311,
         16.375006
        ],
        [
         48.2311,
         16.375006
        ],
        [
         48.2311,
         16.375006
        ],
        [
         48.2311,
         16.375006
        ],
        [
         48.2311,
         16.375006
        ],
        [
         48.2311,
         16.375006
        ],
        [
         48.2311,
         16.375006
        ],
        [
         48.2311,
         16.375006
        ],
        [
         48.231136,
         16.374966
        ],
        [
         48.231136,
         16.374966
        ],
        [
         48.231136,
         16.374966
        ],
        [
         48.231139,
         16.374955
        ],
        [
         48.231139,
         16.374955
        ],
        [
         48.231139,
         16.374955
        ],
        [
         48.231139,
         16.374955
        ],
        [
         48.231139,
         16.374955
        ],
        [
         48.231139,
         16.374955
        ],
        [
         48.231139,
         16.374955
        ],
        [
         48.231139,
         16.374955
        ],
        [
         48.231139,
         16.374955
        ],
        [
         48.231139,
         16.374955
        ],
        [
         48.231139,
         16.374955
        ],
        [
         48.231139,
         16.374955
        ],
        [
         48.231139,
         16.374955
        ],
        [
         48.231139,
         16.374955
        ],
        [
         48.231139,
         16.374955
        ],
        [
         48.231139,
         16.374955
        ],
        [
         48.231139,
         16.374955
        ],
        [
         48.231139,
         16.374955
        ],
        [
         48.231619,
         16.374845
        ],
        [
         48.231619,
         16.374845
        ],
        [
         48.231619,
         16.374845
        ],
        [
         48.231619,
         16.374845
        ],
        [
         48.231619,
         16.374845
        ],
        [
         48.231619,
         16.374845
        ],
        [
         48.231619,
         16.374845
        ],
        [
         48.231619,
         16.374845
        ],
        [
         48.231619,
         16.374845
        ],
        [
         48.231835,
         16.374748
        ],
        [
         48.231854,
         16.374751
        ],
        [
         48.231878,
         16.374744
        ],
        [
         48.2319,
         16.374732
        ],
        [
         48.23193,
         16.374722
        ],
        [
         48.231968,
         16.374724
        ],
        [
         48.231994,
         16.374727
        ],
        [
         48.232023999999996,
         16.374717
        ],
        [
         48.232075,
         16.374732
        ],
        [
         48.23212,
         16.37474
        ],
        [
         48.232163,
         16.374747
        ],
        [
         48.2322,
         16.374753
        ],
        [
         48.232238,
         16.374759
        ],
        [
         48.232248,
         16.374748999999998
        ],
        [
         48.232281,
         16.374744
        ],
        [
         48.23232,
         16.374758
        ],
        [
         48.232355,
         16.374763
        ],
        [
         48.232374,
         16.374735
        ],
        [
         48.232385,
         16.374694
        ],
        [
         48.232405,
         16.374673
        ],
        [
         48.232442,
         16.374664000000003
        ],
        [
         48.232442999999996,
         16.374668
        ],
        [
         48.232446,
         16.374667000000002
        ],
        [
         48.232479999999995,
         16.374675
        ],
        [
         48.232496000000005,
         16.374685999999997
        ],
        [
         48.232504999999996,
         16.374693
        ],
        [
         48.232531,
         16.374693
        ],
        [
         48.23256,
         16.374701
        ],
        [
         48.232571,
         16.374706
        ],
        [
         48.232569,
         16.37471
        ],
        [
         48.232589000000004,
         16.374716
        ],
        [
         48.232608,
         16.374751999999997
        ],
        [
         48.232628000000005,
         16.374767000000002
        ],
        [
         48.232618,
         16.374781
        ],
        [
         48.232616,
         16.374812
        ],
        [
         48.232616,
         16.374856
        ],
        [
         48.232642,
         16.374888000000002
        ],
        [
         48.232642,
         16.374888000000002
        ],
        [
         48.232615,
         16.374924
        ],
        [
         48.232615,
         16.374924
        ],
        [
         48.232615,
         16.374924
        ],
        [
         48.232615,
         16.374924
        ],
        [
         48.232615,
         16.374924
        ],
        [
         48.232615,
         16.374924
        ],
        [
         48.232818,
         16.374986
        ],
        [
         48.232818,
         16.374986
        ],
        [
         48.232818,
         16.374986
        ],
        [
         48.232818,
         16.374986
        ],
        [
         48.232818,
         16.374986
        ],
        [
         48.232818,
         16.374986
        ],
        [
         48.232818,
         16.374986
        ],
        [
         48.232818,
         16.374986
        ],
        [
         48.232818,
         16.374986
        ],
        [
         48.232818,
         16.374986
        ],
        [
         48.232818,
         16.374986
        ],
        [
         48.232818,
         16.374986
        ],
        [
         48.232818,
         16.374986
        ],
        [
         48.232818,
         16.374986
        ],
        [
         48.233447,
         16.374697
        ],
        [
         48.233447,
         16.374697
        ],
        [
         48.233447,
         16.374697
        ],
        [
         48.233447,
         16.374697
        ],
        [
         48.233447,
         16.374697
        ],
        [
         48.233447,
         16.374697
        ],
        [
         48.233447,
         16.374697
        ],
        [
         48.233447,
         16.374697
        ],
        [
         48.233447,
         16.374697
        ],
        [
         48.233447,
         16.374697
        ],
        [
         48.233447,
         16.374697
        ],
        [
         48.233447,
         16.374697
        ],
        [
         48.233447,
         16.374697
        ],
        [
         48.233518,
         16.374664000000003
        ],
        [
         48.233518,
         16.374664000000003
        ],
        [
         48.233518,
         16.374664000000003
        ],
        [
         48.233518,
         16.374664000000003
        ],
        [
         48.233518,
         16.374664000000003
        ],
        [
         48.233518,
         16.374664000000003
        ],
        [
         48.233518,
         16.374664000000003
        ],
        [
         48.233518,
         16.374664000000003
        ],
        [
         48.233518,
         16.374664000000003
        ],
        [
         48.233518,
         16.374664000000003
        ],
        [
         48.233518,
         16.374664000000003
        ],
        [
         48.233518,
         16.374664000000003
        ],
        [
         48.233518,
         16.374664000000003
        ],
        [
         48.233519,
         16.374678
        ],
        [
         48.233513,
         16.374674
        ],
        [
         48.233515999999995,
         16.374669
        ],
        [
         48.233515999999995,
         16.374667000000002
        ],
        [
         48.233525,
         16.374665
        ],
        [
         48.233523999999996,
         16.374667000000002
        ],
        [
         48.233531,
         16.374668
        ],
        [
         48.233531,
         16.374667000000002
        ],
        [
         48.233536,
         16.374654
        ],
        [
         48.233534000000006,
         16.374653
        ],
        [
         48.233525,
         16.374653
        ],
        [
         48.233507,
         16.374648
        ],
        [
         48.233506,
         16.374653
        ],
        [
         48.233503999999996,
         16.374663
        ],
        [
         48.233499,
         16.374665
        ],
        [
         48.233495,
         16.374674
        ],
        [
         48.233509999999995,
         16.374657
        ],
        [
         48.23348,
         16.374661
        ],
        [
         48.233455,
         16.374669
        ],
        [
         48.233434,
         16.374659
        ],
        [
         48.233427,
         16.374613
        ],
        [
         48.233429,
         16.374563000000002
        ],
        [
         48.233436,
         16.374509
        ],
        [
         48.233449,
         16.37446
        ],
        [
         48.233465,
         16.374415
        ],
        [
         48.233486,
         16.374365
        ],
        [
         48.23349,
         16.37432
        ],
        [
         48.233487,
         16.374267
        ],
        [
         48.233476,
         16.374228
        ],
        [
         48.233458,
         16.374214000000002
        ],
        [
         48.233441,
         16.374219
        ],
        [
         48.233415,
         16.374242000000002
        ],
        [
         48.233401,
         16.374246
        ],
        [
         48.233378,
         16.374273000000002
        ],
        [
         48.233366,
         16.374287
        ],
        [
         48.233364,
         16.374288
        ],
        [
         48.233342,
         16.374302
        ],
        [
         48.233337,
         16.374303
        ],
        [
         48.233329,
         16.374318
        ],
        [
         48.233301000000004,
         16.374323
        ],
        [
         48.233287,
         16.374271
        ],
        [
         48.233268,
         16.374236
        ],
        [
         48.233253000000005,
         16.374233
        ],
        [
         48.233243,
         16.374223
        ],
        [
         48.233249,
         16.374216
        ],
        [
         48.233249,
         16.374216
        ],
        [
         48.233249,
         16.374216
        ],
        [
         48.233249,
         16.374216
        ],
        [
         48.233249,
         16.374216
        ],
        [
         48.233249,
         16.374216
        ],
        [
         48.23324,
         16.374012
        ],
        [
         48.23324,
         16.374012
        ],
        [
         48.23324,
         16.374012
        ],
        [
         48.23324,
         16.374012
        ],
        [
         48.23324,
         16.374012
        ],
        [
         48.23324,
         16.374012
        ],
        [
         48.233115999999995,
         16.373853
        ],
        [
         48.233121999999995,
         16.373819
        ],
        [
         48.233112,
         16.373767
        ],
        [
         48.233102,
         16.373713000000002
        ],
        [
         48.233093,
         16.37365
        ],
        [
         48.233090000000004,
         16.373587
        ],
        [
         48.233074,
         16.37353
        ],
        [
         48.233149,
         16.373388000000002
        ],
        [
         48.23317,
         16.373345
        ],
        [
         48.233199,
         16.373309
        ],
        [
         48.233230999999996,
         16.373279
        ],
        [
         48.233269,
         16.373273
        ],
        [
         48.233306,
         16.373251999999997
        ],
        [
         48.233340000000005,
         16.37323
        ],
        [
         48.233378,
         16.373209
        ],
        [
         48.233415,
         16.373186999999998
        ],
        [
         48.233449,
         16.373171
        ],
        [
         48.23348,
         16.373157
        ],
        [
         48.233512,
         16.373143
        ],
        [
         48.23355,
         16.37313
        ],
        [
         48.233585999999995,
         16.373123
        ],
        [
         48.233615,
         16.37311
        ],
        [
         48.233649,
         16.373085999999997
        ],
        [
         48.233693,
         16.373062
        ],
        [
         48.233711,
         16.373057
        ],
        [
         48.233724,
         16.373077
        ],
        [
         48.233737,
         16.373089999999998
        ],
        [
         48.233737,
         16.373089999999998
        ],
        [
         48.233737,
         16.373089999999998
        ],
        [
         48.233737,
         16.373089999999998
        ],
        [
         48.233737,
         16.373089999999998
        ],
        [
         48.233894,
         16.373085
        ],
        [
         48.233889000000005,
         16.373088
        ],
        [
         48.233889000000005,
         16.373088
        ],
        [
         48.233889000000005,
         16.373088
        ],
        [
         48.233889000000005,
         16.373088
        ],
        [
         48.233889000000005,
         16.373088
        ],
        [
         48.233889000000005,
         16.373088
        ],
        [
         48.233889000000005,
         16.373088
        ],
        [
         48.233889000000005,
         16.373088
        ],
        [
         48.233889000000005,
         16.373088
        ],
        [
         48.233889000000005,
         16.373088
        ],
        [
         48.233889000000005,
         16.373088
        ],
        [
         48.233889000000005,
         16.373088
        ],
        [
         48.233889000000005,
         16.373088
        ],
        [
         48.233889000000005,
         16.373088
        ],
        [
         48.233889000000005,
         16.373088
        ],
        [
         48.233889000000005,
         16.373088
        ],
        [
         48.233889000000005,
         16.373088
        ],
        [
         48.233889000000005,
         16.373088
        ],
        [
         48.233889000000005,
         16.373088
        ],
        [
         48.233889000000005,
         16.373088
        ],
        [
         48.233889000000005,
         16.373088
        ],
        [
         48.234426,
         16.372957999999997
        ],
        [
         48.234423,
         16.372961
        ],
        [
         48.234431,
         16.372945
        ],
        [
         48.234464,
         16.372932000000002
        ],
        [
         48.234505,
         16.372923999999998
        ],
        [
         48.234524,
         16.372914
        ],
        [
         48.234569,
         16.372888
        ],
        [
         48.234586,
         16.372865
        ],
        [
         48.234595,
         16.372864
        ],
        [
         48.234621999999995,
         16.372866000000002
        ],
        [
         48.234652000000004,
         16.372866000000002
        ],
        [
         48.234727,
         16.372867000000003
        ],
        [
         48.234771,
         16.372869
        ],
        [
         48.234802,
         16.372869
        ],
        [
         48.234840000000005,
         16.37286
        ],
        [
         48.23488,
         16.37284
        ],
        [
         48.23493,
         16.37284
        ],
        [
         48.234981,
         16.372825
        ],
        [
         48.235029,
         16.372821
        ],
        [
         48.235093,
         16.372770000000003
        ],
        [
         48.235178000000005,
         16.372694
        ],
        [
         48.235233,
         16.372668
        ],
        [
         48.235269,
         16.372643
        ],
        [
         48.235299,
         16.372607000000002
        ],
        [
         48.235285,
         16.372603
        ],
        [
         48.235284,
         16.372603
        ],
        [
         48.235301,
         16.372575
        ],
        [
         48.235305,
         16.372526999999998
        ],
        [
         48.235309,
         16.372479000000002
        ],
        [
         48.235321,
         16.372425
        ],
        [
         48.235336,
         16.372374
        ],
        [
         48.235333000000004,
         16.372335999999997
        ],
        [
         48.235335,
         16.372291
        ],
        [
         48.235347999999995,
         16.372241
        ],
        [
         48.235354,
         16.372188
        ],
        [
         48.235358000000005,
         16.372142999999998
        ],
        [
         48.235363,
         16.372097
        ],
        [
         48.23537,
         16.372054000000002
        ],
        [
         48.235382,
         16.372004999999998
        ],
        [
         48.235378999999995,
         16.371951
        ],
        [
         48.235381,
         16.371894
        ],
        [
         48.235397,
         16.371838
        ],
        [
         48.235415,
         16.371783999999998
        ],
        [
         48.235442,
         16.371745999999998
        ],
        [
         48.235439,
         16.371726000000002
        ],
        [
         48.235440000000004,
         16.371716
        ],
        [
         48.235465000000005,
         16.371675
        ],
        [
         48.235473,
         16.371616
        ],
        [
         48.235479,
         16.371567000000002
        ],
        [
         48.235481,
         16.37153
        ],
        [
         48.235463,
         16.371472
        ],
        [
         48.235403999999996,
         16.37141
        ],
        [
         48.235362,
         16.37135
        ],
        [
         48.235319,
         16.371278
        ],
        [
         48.235304,
         16.371235000000002
        ],
        [
         48.235303,
         16.371197
        ],
        [
         48.235306,
         16.371183
        ],
        [
         48.235315,
         16.371182
        ],
        [
         48.235327000000005,
         16.371177
        ],
        [
         48.235329,
         16.371167
        ],
        [
         48.235307,
         16.371143
        ],
        [
         48.235302000000004,
         16.371126
        ],
        [
         48.235307,
         16.371086
        ],
        [
         48.235289,
         16.371029999999998
        ],
        [
         48.235275,
         16.370986
        ],
        [
         48.235244,
         16.370934
        ],
        [
         48.235242,
         16.370882
        ],
        [
         48.235239,
         16.370816
        ],
        [
         48.235234000000005,
         16.370754
        ],
        [
         48.235221,
         16.370685
        ],
        [
         48.235211,
         16.370619
        ],
        [
         48.235201,
         16.370558
        ],
        [
         48.235170000000004,
         16.370499
        ],
        [
         48.235168,
         16.370464000000002
        ],
        [
         48.235147,
         16.370407999999998
        ],
        [
         48.235109,
         16.370382
        ],
        [
         48.235076,
         16.370382
        ],
        [
         48.235068,
         16.370369
        ],
        [
         48.235098,
         16.370345999999998
        ],
        [
         48.235106,
         16.370305
        ],
        [
         48.235108000000004,
         16.370297
        ],
        [
         48.23511,
         16.37029
        ],
        [
         48.235134,
         16.370244
        ],
        [
         48.23515,
         16.370182999999997
        ],
        [
         48.235137,
         16.37013
        ],
        [
         48.235106,
         16.37011
        ],
        [
         48.235094000000004,
         16.370101000000002
        ],
        [
         48.235091,
         16.370089
        ],
        [
         48.235085999999995,
         16.370078
        ],
        [
         48.235087,
         16.370093
        ],
        [
         48.235084,
         16.370098000000002
        ],
        [
         48.235084,
         16.370098000000002
        ],
        [
         48.235084,
         16.370098000000002
        ],
        [
         48.235084,
         16.370098000000002
        ],
        [
         48.235084,
         16.370098000000002
        ],
        [
         48.235084,
         16.370098000000002
        ],
        [
         48.235084,
         16.370098000000002
        ],
        [
         48.235084,
         16.370098000000002
        ],
        [
         48.235084,
         16.370098000000002
        ],
        [
         48.235084,
         16.370098000000002
        ],
        [
         48.235084,
         16.370098000000002
        ],
        [
         48.235084,
         16.370098000000002
        ],
        [
         48.235084,
         16.370098000000002
        ],
        [
         48.234423,
         16.370252999999998
        ],
        [
         48.23438,
         16.370264000000002
        ],
        [
         48.234333,
         16.370272
        ],
        [
         48.234286,
         16.370271
        ],
        [
         48.234245,
         16.370252999999998
        ],
        [
         48.234206,
         16.370257000000002
        ],
        [
         48.234173,
         16.370252
        ],
        [
         48.234147,
         16.370256
        ],
        [
         48.234124,
         16.370254
        ],
        [
         48.234092,
         16.370260000000002
        ],
        [
         48.234052,
         16.370267000000002
        ],
        [
         48.234016,
         16.370281
        ],
        [
         48.233978,
         16.370287
        ],
        [
         48.233958,
         16.370279
        ],
        [
         48.233964,
         16.370242
        ],
        [
         48.233952,
         16.370245
        ],
        [
         48.233959000000006,
         16.370239
        ],
        [
         48.233965999999995,
         16.370236
        ],
        [
         48.233975,
         16.370231
        ],
        [
         48.233985,
         16.370216
        ],
        [
         48.233982,
         16.370202
        ],
        [
         48.23395,
         16.370194
        ],
        [
         48.233922,
         16.370184
        ],
        [
         48.233896,
         16.37017
        ],
        [
         48.233876,
         16.370154
        ],
        [
         48.233832,
         16.370151999999997
        ],
        [
         48.233785,
         16.370141
        ],
        [
         48.233740000000004,
         16.370127
        ],
        [
         48.233689,
         16.37013
        ],
        [
         48.23364,
         16.370133
        ],
        [
         48.233593,
         16.37014
        ],
        [
         48.233544,
         16.370148
        ],
        [
         48.233509999999995,
         16.370155
        ],
        [
         48.233473,
         16.370163
        ],
        [
         48.233438,
         16.370160000000002
        ],
        [
         48.233401,
         16.370167000000002
        ],
        [
         48.233359,
         16.370173
        ],
        [
         48.233314,
         16.370162
        ],
        [
         48.233274,
         16.370157
        ],
        [
         48.233246,
         16.370119
        ],
        [
         48.233230999999996,
         16.370054999999997
        ],
        [
         48.233224,
         16.369999
        ],
        [
         48.233222999999995,
         16.369927
        ],
        [
         48.233218,
         16.369868
        ],
        [
         48.233208000000005,
         16.369811
        ],
        [
         48.233227,
         16.369754999999998
        ],
        [
         48.233251,
         16.36972
        ],
        [
         48.233224,
         16.369685
        ],
        [
         48.233219,
         16.369604000000002
        ],
        [
         48.23322,
         16.369532
        ],
        [
         48.23324,
         16.369462
        ],
        [
         48.233319,
         16.369396
        ],
        [
         48.233332,
         16.369321
        ],
        [
         48.233313,
         16.369253
        ],
        [
         48.233292999999996,
         16.369175
        ],
        [
         48.233233,
         16.369113
        ],
        [
         48.233193,
         16.369064
        ],
        [
         48.233176,
         16.369013
        ],
        [
         48.233096999999994,
         16.368982
        ],
        [
         48.233044,
         16.368983
        ],
        [
         48.232994,
         16.369022
        ],
        [
         48.232946000000005,
         16.369019
        ],
        [
         48.232884999999996,
         16.369003
        ],
        [
         48.232856,
         16.369024
        ],
        [
         48.232805,
         16.369006
        ],
        [
         48.232764,
         16.368999
        ],
        [
         48.232732,
         16.369004999999998
        ],
        [
         48.232685,
         16.369013
        ],
        [
         48.232651000000004,
         16.369026
        ],
        [
         48.23264,
         16.369051000000002
        ],
        [
         48.232634000000004,
         16.369086
        ],
        [
         48.232627,
         16.36915
        ],
        [
         48.232628000000005,
         16.369191
        ],
        [
         48.232625,
         16.369195
        ],
        [
         48.232625,
         16.369204
        ],
        [
         48.23264,
         16.369257
        ],
        [
         48.232662,
         16.369314000000003
        ],
        [
         48.23268,
         16.369367
        ],
        [
         48.232704,
         16.369426
        ],
        [
         48.232706,
         16.369478
        ],
        [
         48.232725,
         16.369531
        ],
        [
         48.232748,
         16.369587
        ],
        [
         48.232773,
         16.369644
        ],
        [
         48.232774,
         16.369704000000002
        ],
        [
         48.2328,
         16.369768
        ],
        [
         48.232817,
         16.369835000000002
        ],
        [
         48.232842,
         16.369905
        ],
        [
         48.232856,
         16.369975
        ],
        [
         48.232856,
         16.370046
        ],
        [
         48.232853999999996,
         16.370113
        ],
        [
         48.232846,
         16.370174
        ],
        [
         48.232858,
         16.370241
        ],
        [
         48.232865000000004,
         16.370305
        ],
        [
         48.232859999999995,
         16.370361
        ],
        [
         48.232827,
         16.370393
        ],
        [
         48.2328,
         16.370426000000002
        ],
        [
         48.232764,
         16.370445
        ],
        [
         48.232732,
         16.370471
        ],
        [
         48.232698,
         16.370463
        ],
        [
         48.232698,
         16.370469
        ],
        [
         48.23271,
         16.370521
        ],
        [
         48.232702,
         16.370579
        ],
        [
         48.232703,
         16.370626
        ],
        [
         48.232706,
         16.37066
        ],
        [
         48.232707,
         16.370670999999998
        ],
        [
         48.232695,
         16.370717000000003
        ],
        [
         48.232669,
         16.370788
        ],
        [
         48.232663,
         16.370832999999998
        ],
        [
         48.232653000000006,
         16.370892
        ],
        [
         48.232641,
         16.370973
        ],
        [
         48.232628000000005,
         16.37104
        ],
        [
         48.23261,
         16.371118
        ],
        [
         48.232605,
         16.371187
        ],
        [
         48.23259,
         16.371259
        ],
        [
         48.23256,
         16.371316
        ],
        [
         48.232535999999996,
         16.371361
        ],
        [
         48.232504,
         16.371382999999998
        ],
        [
         48.232479999999995,
         16.37138
        ],
        [
         48.232476,
         16.371363
        ],
        [
         48.232446,
         16.371385999999998
        ],
        [
         48.232392,
         16.371451
        ],
        [
         48.232338,
         16.371499
        ],
        [
         48.232314,
         16.37153
        ],
        [
         48.232293,
         16.371610999999998
        ],
        [
         48.232285,
         16.371682
        ],
        [
         48.232274,
         16.371737
        ],
        [
         48.232271999999995,
         16.371793
        ],
        [
         48.232279999999996,
         16.371839
        ],
        [
         48.232261,
         16.371861
        ],
        [
         48.232238,
         16.371873
        ],
        [
         48.232196,
         16.371896
        ],
        [
         48.232141,
         16.371889000000003
        ],
        [
         48.232096999999996,
         16.371891
        ],
        [
         48.232054999999995,
         16.371895000000002
        ],
        [
         48.23202,
         16.371904999999998
        ],
        [
         48.231981,
         16.371910999999997
        ],
        [
         48.231958,
         16.371917
        ],
        [
         48.231947999999996,
         16.371916
        ],
        [
         48.231945,
         16.371917
        ],
        [
         48.231945,
         16.371917
        ],
        [
         48.231945,
         16.371917
        ],
        [
         48.231945,
         16.371917
        ],
        [
         48.231945,
         16.371917
        ],
        [
         48.231945,
         16.371917
        ],
        [
         48.231945,
         16.371917
        ],
        [
         48.231945,
         16.371917
        ],
        [
         48.231945,
         16.371917
        ],
        [
         48.231945,
         16.371917
        ],
        [
         48.231945,
         16.371917
        ],
        [
         48.231945,
         16.371917
        ],
        [
         48.231945,
         16.371917
        ],
        [
         48.231945,
         16.371917
        ],
        [
         48.231945,
         16.371917
        ],
        [
         48.231945,
         16.371917
        ],
        [
         48.231945,
         16.371917
        ],
        [
         48.231945,
         16.371917
        ],
        [
         48.231945,
         16.371917
        ],
        [
         48.231945,
         16.371917
        ],
        [
         48.231945,
         16.371917
        ],
        [
         48.231945,
         16.371917
        ],
        [
         48.231945,
         16.371917
        ],
        [
         48.231945,
         16.371917
        ]
       ],
       "name": "Trail",
       "options": [
        "color",
        "dash_array",
        "delay",
        "hardware_accelerated",
        "paused",
        "pulse_color",
        "radius",
        "reverse",
        "use",
        "weight"
       ],
       "pulse_color": "#3f6fba"
      }
     },
     "bf27d1ec56d248ce88a2ba52eb0e932e": {
      "model_module": "jupyter-leaflet",
      "model_module_version": "^0.13.2",
      "model_name": "LeafletSplitMapControlModel",
      "state": {
       "_model_module_version": "^0.13.2",
       "_model_name": "LeafletSplitMapControlModel",
       "_view_module_version": "^0.13.2",
       "_view_name": "LeafletSplitMapControlView",
       "left_layer": "IPY_MODEL_e380c36cf0c44e1da80f0e5074a981f8",
       "options": [
        "position"
       ],
       "right_layer": "IPY_MODEL_96fc70802ce845d681326bba674ddec9"
      }
     },
     "c0f6ce25a784491e8723c898a9750703": {
      "model_module": "jupyter-leaflet",
      "model_module_version": "^0.13.2",
      "model_name": "LeafletAntPathModel",
      "state": {
       "_model_module_version": "^0.13.2",
       "_view_module_version": "^0.13.2",
       "color": "#7590ba",
       "dash_array": [
        1,
        10
       ],
       "delay": 2000,
       "locations": [
        [
         48.2311,
         16.375006
        ],
        [
         48.2311,
         16.375006
        ],
        [
         48.2311,
         16.375006
        ],
        [
         48.2311,
         16.375006
        ],
        [
         48.2311,
         16.375006
        ],
        [
         48.2311,
         16.375006
        ],
        [
         48.2311,
         16.375006
        ],
        [
         48.2311,
         16.375006
        ],
        [
         48.2311,
         16.375006
        ],
        [
         48.2311,
         16.375006
        ],
        [
         48.2311,
         16.375006
        ],
        [
         48.2311,
         16.375006
        ],
        [
         48.231136,
         16.374966
        ],
        [
         48.231136,
         16.374966
        ],
        [
         48.231136,
         16.374966
        ],
        [
         48.231139,
         16.374955
        ],
        [
         48.231139,
         16.374955
        ],
        [
         48.231139,
         16.374955
        ],
        [
         48.231139,
         16.374955
        ],
        [
         48.231139,
         16.374955
        ],
        [
         48.231139,
         16.374955
        ],
        [
         48.231139,
         16.374955
        ],
        [
         48.231139,
         16.374955
        ],
        [
         48.231139,
         16.374955
        ],
        [
         48.231139,
         16.374955
        ],
        [
         48.231139,
         16.374955
        ],
        [
         48.231139,
         16.374955
        ],
        [
         48.231139,
         16.374955
        ],
        [
         48.231139,
         16.374955
        ],
        [
         48.231139,
         16.374955
        ],
        [
         48.231139,
         16.374955
        ],
        [
         48.231139,
         16.374955
        ],
        [
         48.231139,
         16.374955
        ],
        [
         48.231619,
         16.374845
        ],
        [
         48.231619,
         16.374845
        ],
        [
         48.231619,
         16.374845
        ],
        [
         48.231619,
         16.374845
        ],
        [
         48.231619,
         16.374845
        ],
        [
         48.231619,
         16.374845
        ],
        [
         48.231619,
         16.374845
        ],
        [
         48.231619,
         16.374845
        ],
        [
         48.231619,
         16.374845
        ],
        [
         48.231835,
         16.374748
        ],
        [
         48.231854,
         16.374751
        ],
        [
         48.231878,
         16.374744
        ],
        [
         48.2319,
         16.374732
        ],
        [
         48.23193,
         16.374722
        ],
        [
         48.231968,
         16.374724
        ],
        [
         48.231994,
         16.374727
        ],
        [
         48.232023999999996,
         16.374717
        ],
        [
         48.232075,
         16.374732
        ],
        [
         48.23212,
         16.37474
        ],
        [
         48.232163,
         16.374747
        ],
        [
         48.2322,
         16.374753
        ],
        [
         48.232238,
         16.374759
        ],
        [
         48.232248,
         16.374748999999998
        ],
        [
         48.232281,
         16.374744
        ],
        [
         48.23232,
         16.374758
        ],
        [
         48.232355,
         16.374763
        ],
        [
         48.232374,
         16.374735
        ],
        [
         48.232385,
         16.374694
        ],
        [
         48.232405,
         16.374673
        ],
        [
         48.232442,
         16.374664000000003
        ],
        [
         48.232442999999996,
         16.374668
        ],
        [
         48.232446,
         16.374667000000002
        ],
        [
         48.232479999999995,
         16.374675
        ],
        [
         48.232496000000005,
         16.374685999999997
        ],
        [
         48.232504999999996,
         16.374693
        ],
        [
         48.232531,
         16.374693
        ],
        [
         48.23256,
         16.374701
        ],
        [
         48.232571,
         16.374706
        ],
        [
         48.232569,
         16.37471
        ],
        [
         48.232589000000004,
         16.374716
        ],
        [
         48.232608,
         16.374751999999997
        ],
        [
         48.232628000000005,
         16.374767000000002
        ],
        [
         48.232618,
         16.374781
        ],
        [
         48.232616,
         16.374812
        ],
        [
         48.232616,
         16.374856
        ],
        [
         48.232642,
         16.374888000000002
        ],
        [
         48.232642,
         16.374888000000002
        ],
        [
         48.232615,
         16.374924
        ],
        [
         48.232615,
         16.374924
        ],
        [
         48.232615,
         16.374924
        ],
        [
         48.232615,
         16.374924
        ],
        [
         48.232615,
         16.374924
        ],
        [
         48.232615,
         16.374924
        ],
        [
         48.232818,
         16.374986
        ],
        [
         48.232818,
         16.374986
        ],
        [
         48.232818,
         16.374986
        ],
        [
         48.232818,
         16.374986
        ],
        [
         48.232818,
         16.374986
        ],
        [
         48.232818,
         16.374986
        ],
        [
         48.232818,
         16.374986
        ],
        [
         48.232818,
         16.374986
        ],
        [
         48.232818,
         16.374986
        ],
        [
         48.232818,
         16.374986
        ],
        [
         48.232818,
         16.374986
        ],
        [
         48.232818,
         16.374986
        ],
        [
         48.232818,
         16.374986
        ],
        [
         48.232818,
         16.374986
        ],
        [
         48.233447,
         16.374697
        ],
        [
         48.233447,
         16.374697
        ],
        [
         48.233447,
         16.374697
        ],
        [
         48.233447,
         16.374697
        ],
        [
         48.233447,
         16.374697
        ],
        [
         48.233447,
         16.374697
        ],
        [
         48.233447,
         16.374697
        ],
        [
         48.233447,
         16.374697
        ],
        [
         48.233447,
         16.374697
        ],
        [
         48.233447,
         16.374697
        ],
        [
         48.233447,
         16.374697
        ],
        [
         48.233447,
         16.374697
        ],
        [
         48.233447,
         16.374697
        ],
        [
         48.233518,
         16.374664000000003
        ],
        [
         48.233518,
         16.374664000000003
        ],
        [
         48.233518,
         16.374664000000003
        ],
        [
         48.233518,
         16.374664000000003
        ],
        [
         48.233518,
         16.374664000000003
        ],
        [
         48.233518,
         16.374664000000003
        ],
        [
         48.233518,
         16.374664000000003
        ],
        [
         48.233518,
         16.374664000000003
        ],
        [
         48.233518,
         16.374664000000003
        ],
        [
         48.233518,
         16.374664000000003
        ],
        [
         48.233518,
         16.374664000000003
        ],
        [
         48.233518,
         16.374664000000003
        ],
        [
         48.233518,
         16.374664000000003
        ],
        [
         48.233519,
         16.374678
        ],
        [
         48.233513,
         16.374674
        ],
        [
         48.233515999999995,
         16.374669
        ],
        [
         48.233515999999995,
         16.374667000000002
        ],
        [
         48.233525,
         16.374665
        ],
        [
         48.233523999999996,
         16.374667000000002
        ],
        [
         48.233531,
         16.374668
        ],
        [
         48.233531,
         16.374667000000002
        ],
        [
         48.233536,
         16.374654
        ],
        [
         48.233534000000006,
         16.374653
        ],
        [
         48.233525,
         16.374653
        ],
        [
         48.233507,
         16.374648
        ],
        [
         48.233506,
         16.374653
        ],
        [
         48.233503999999996,
         16.374663
        ],
        [
         48.233499,
         16.374665
        ],
        [
         48.233495,
         16.374674
        ],
        [
         48.233509999999995,
         16.374657
        ],
        [
         48.23348,
         16.374661
        ],
        [
         48.233455,
         16.374669
        ],
        [
         48.233434,
         16.374659
        ],
        [
         48.233427,
         16.374613
        ],
        [
         48.233429,
         16.374563000000002
        ],
        [
         48.233436,
         16.374509
        ],
        [
         48.233449,
         16.37446
        ],
        [
         48.233465,
         16.374415
        ],
        [
         48.233486,
         16.374365
        ],
        [
         48.23349,
         16.37432
        ],
        [
         48.233487,
         16.374267
        ],
        [
         48.233476,
         16.374228
        ],
        [
         48.233458,
         16.374214000000002
        ],
        [
         48.233441,
         16.374219
        ],
        [
         48.233415,
         16.374242000000002
        ],
        [
         48.233401,
         16.374246
        ],
        [
         48.233378,
         16.374273000000002
        ],
        [
         48.233366,
         16.374287
        ],
        [
         48.233364,
         16.374288
        ],
        [
         48.233342,
         16.374302
        ],
        [
         48.233337,
         16.374303
        ],
        [
         48.233329,
         16.374318
        ],
        [
         48.233301000000004,
         16.374323
        ],
        [
         48.233287,
         16.374271
        ],
        [
         48.233268,
         16.374236
        ],
        [
         48.233253000000005,
         16.374233
        ],
        [
         48.233243,
         16.374223
        ],
        [
         48.233249,
         16.374216
        ],
        [
         48.233249,
         16.374216
        ],
        [
         48.233249,
         16.374216
        ],
        [
         48.233249,
         16.374216
        ],
        [
         48.233249,
         16.374216
        ],
        [
         48.233249,
         16.374216
        ],
        [
         48.23324,
         16.374012
        ],
        [
         48.23324,
         16.374012
        ],
        [
         48.23324,
         16.374012
        ],
        [
         48.23324,
         16.374012
        ],
        [
         48.23324,
         16.374012
        ],
        [
         48.23324,
         16.374012
        ],
        [
         48.233115999999995,
         16.373853
        ],
        [
         48.233121999999995,
         16.373819
        ],
        [
         48.233112,
         16.373767
        ],
        [
         48.233102,
         16.373713000000002
        ],
        [
         48.233093,
         16.37365
        ],
        [
         48.233090000000004,
         16.373587
        ],
        [
         48.233074,
         16.37353
        ],
        [
         48.233149,
         16.373388000000002
        ],
        [
         48.23317,
         16.373345
        ],
        [
         48.233199,
         16.373309
        ],
        [
         48.233230999999996,
         16.373279
        ],
        [
         48.233269,
         16.373273
        ],
        [
         48.233306,
         16.373251999999997
        ],
        [
         48.233340000000005,
         16.37323
        ],
        [
         48.233378,
         16.373209
        ],
        [
         48.233415,
         16.373186999999998
        ],
        [
         48.233449,
         16.373171
        ],
        [
         48.23348,
         16.373157
        ],
        [
         48.233512,
         16.373143
        ],
        [
         48.23355,
         16.37313
        ],
        [
         48.233585999999995,
         16.373123
        ],
        [
         48.233615,
         16.37311
        ],
        [
         48.233649,
         16.373085999999997
        ],
        [
         48.233693,
         16.373062
        ],
        [
         48.233711,
         16.373057
        ],
        [
         48.233724,
         16.373077
        ],
        [
         48.233737,
         16.373089999999998
        ],
        [
         48.233737,
         16.373089999999998
        ],
        [
         48.233737,
         16.373089999999998
        ],
        [
         48.233737,
         16.373089999999998
        ],
        [
         48.233737,
         16.373089999999998
        ],
        [
         48.233894,
         16.373085
        ],
        [
         48.233889000000005,
         16.373088
        ],
        [
         48.233889000000005,
         16.373088
        ],
        [
         48.233889000000005,
         16.373088
        ],
        [
         48.233889000000005,
         16.373088
        ],
        [
         48.233889000000005,
         16.373088
        ],
        [
         48.233889000000005,
         16.373088
        ],
        [
         48.233889000000005,
         16.373088
        ],
        [
         48.233889000000005,
         16.373088
        ],
        [
         48.233889000000005,
         16.373088
        ],
        [
         48.233889000000005,
         16.373088
        ],
        [
         48.233889000000005,
         16.373088
        ],
        [
         48.233889000000005,
         16.373088
        ],
        [
         48.233889000000005,
         16.373088
        ],
        [
         48.233889000000005,
         16.373088
        ],
        [
         48.233889000000005,
         16.373088
        ],
        [
         48.233889000000005,
         16.373088
        ],
        [
         48.233889000000005,
         16.373088
        ],
        [
         48.233889000000005,
         16.373088
        ],
        [
         48.233889000000005,
         16.373088
        ],
        [
         48.233889000000005,
         16.373088
        ],
        [
         48.233889000000005,
         16.373088
        ],
        [
         48.234426,
         16.372957999999997
        ],
        [
         48.234423,
         16.372961
        ],
        [
         48.234431,
         16.372945
        ],
        [
         48.234464,
         16.372932000000002
        ],
        [
         48.234505,
         16.372923999999998
        ],
        [
         48.234524,
         16.372914
        ],
        [
         48.234569,
         16.372888
        ],
        [
         48.234586,
         16.372865
        ],
        [
         48.234595,
         16.372864
        ],
        [
         48.234621999999995,
         16.372866000000002
        ],
        [
         48.234652000000004,
         16.372866000000002
        ],
        [
         48.234727,
         16.372867000000003
        ],
        [
         48.234771,
         16.372869
        ],
        [
         48.234802,
         16.372869
        ],
        [
         48.234840000000005,
         16.37286
        ],
        [
         48.23488,
         16.37284
        ],
        [
         48.23493,
         16.37284
        ],
        [
         48.234981,
         16.372825
        ],
        [
         48.235029,
         16.372821
        ],
        [
         48.235093,
         16.372770000000003
        ],
        [
         48.235178000000005,
         16.372694
        ],
        [
         48.235233,
         16.372668
        ],
        [
         48.235269,
         16.372643
        ],
        [
         48.235299,
         16.372607000000002
        ],
        [
         48.235285,
         16.372603
        ],
        [
         48.235284,
         16.372603
        ],
        [
         48.235301,
         16.372575
        ],
        [
         48.235305,
         16.372526999999998
        ],
        [
         48.235309,
         16.372479000000002
        ],
        [
         48.235321,
         16.372425
        ],
        [
         48.235336,
         16.372374
        ],
        [
         48.235333000000004,
         16.372335999999997
        ],
        [
         48.235335,
         16.372291
        ],
        [
         48.235347999999995,
         16.372241
        ],
        [
         48.235354,
         16.372188
        ],
        [
         48.235358000000005,
         16.372142999999998
        ],
        [
         48.235363,
         16.372097
        ],
        [
         48.23537,
         16.372054000000002
        ],
        [
         48.235382,
         16.372004999999998
        ],
        [
         48.235378999999995,
         16.371951
        ],
        [
         48.235381,
         16.371894
        ],
        [
         48.235397,
         16.371838
        ],
        [
         48.235415,
         16.371783999999998
        ],
        [
         48.235442,
         16.371745999999998
        ],
        [
         48.235439,
         16.371726000000002
        ],
        [
         48.235440000000004,
         16.371716
        ],
        [
         48.235465000000005,
         16.371675
        ],
        [
         48.235473,
         16.371616
        ],
        [
         48.235479,
         16.371567000000002
        ],
        [
         48.235481,
         16.37153
        ],
        [
         48.235463,
         16.371472
        ],
        [
         48.235403999999996,
         16.37141
        ],
        [
         48.235362,
         16.37135
        ],
        [
         48.235319,
         16.371278
        ],
        [
         48.235304,
         16.371235000000002
        ],
        [
         48.235303,
         16.371197
        ],
        [
         48.235306,
         16.371183
        ],
        [
         48.235315,
         16.371182
        ],
        [
         48.235327000000005,
         16.371177
        ],
        [
         48.235329,
         16.371167
        ],
        [
         48.235307,
         16.371143
        ],
        [
         48.235302000000004,
         16.371126
        ],
        [
         48.235307,
         16.371086
        ],
        [
         48.235289,
         16.371029999999998
        ],
        [
         48.235275,
         16.370986
        ],
        [
         48.235244,
         16.370934
        ],
        [
         48.235242,
         16.370882
        ],
        [
         48.235239,
         16.370816
        ],
        [
         48.235234000000005,
         16.370754
        ],
        [
         48.235221,
         16.370685
        ],
        [
         48.235211,
         16.370619
        ],
        [
         48.235201,
         16.370558
        ],
        [
         48.235170000000004,
         16.370499
        ],
        [
         48.235168,
         16.370464000000002
        ],
        [
         48.235147,
         16.370407999999998
        ],
        [
         48.235109,
         16.370382
        ],
        [
         48.235076,
         16.370382
        ],
        [
         48.235068,
         16.370369
        ],
        [
         48.235098,
         16.370345999999998
        ],
        [
         48.235106,
         16.370305
        ],
        [
         48.235108000000004,
         16.370297
        ],
        [
         48.23511,
         16.37029
        ],
        [
         48.235134,
         16.370244
        ],
        [
         48.23515,
         16.370182999999997
        ],
        [
         48.235137,
         16.37013
        ],
        [
         48.235106,
         16.37011
        ],
        [
         48.235094000000004,
         16.370101000000002
        ],
        [
         48.235091,
         16.370089
        ],
        [
         48.235085999999995,
         16.370078
        ],
        [
         48.235087,
         16.370093
        ],
        [
         48.235084,
         16.370098000000002
        ],
        [
         48.235084,
         16.370098000000002
        ],
        [
         48.235084,
         16.370098000000002
        ],
        [
         48.235084,
         16.370098000000002
        ],
        [
         48.235084,
         16.370098000000002
        ],
        [
         48.235084,
         16.370098000000002
        ],
        [
         48.235084,
         16.370098000000002
        ],
        [
         48.235084,
         16.370098000000002
        ],
        [
         48.235084,
         16.370098000000002
        ],
        [
         48.235084,
         16.370098000000002
        ],
        [
         48.235084,
         16.370098000000002
        ],
        [
         48.235084,
         16.370098000000002
        ],
        [
         48.235084,
         16.370098000000002
        ],
        [
         48.234423,
         16.370252999999998
        ],
        [
         48.23438,
         16.370264000000002
        ],
        [
         48.234333,
         16.370272
        ],
        [
         48.234286,
         16.370271
        ],
        [
         48.234245,
         16.370252999999998
        ],
        [
         48.234206,
         16.370257000000002
        ],
        [
         48.234173,
         16.370252
        ],
        [
         48.234147,
         16.370256
        ],
        [
         48.234124,
         16.370254
        ],
        [
         48.234092,
         16.370260000000002
        ],
        [
         48.234052,
         16.370267000000002
        ],
        [
         48.234016,
         16.370281
        ],
        [
         48.233978,
         16.370287
        ],
        [
         48.233958,
         16.370279
        ],
        [
         48.233964,
         16.370242
        ],
        [
         48.233952,
         16.370245
        ],
        [
         48.233959000000006,
         16.370239
        ],
        [
         48.233965999999995,
         16.370236
        ],
        [
         48.233975,
         16.370231
        ],
        [
         48.233985,
         16.370216
        ],
        [
         48.233982,
         16.370202
        ],
        [
         48.23395,
         16.370194
        ],
        [
         48.233922,
         16.370184
        ],
        [
         48.233896,
         16.37017
        ],
        [
         48.233876,
         16.370154
        ],
        [
         48.233832,
         16.370151999999997
        ],
        [
         48.233785,
         16.370141
        ],
        [
         48.233740000000004,
         16.370127
        ],
        [
         48.233689,
         16.37013
        ],
        [
         48.23364,
         16.370133
        ],
        [
         48.233593,
         16.37014
        ],
        [
         48.233544,
         16.370148
        ],
        [
         48.233509999999995,
         16.370155
        ],
        [
         48.233473,
         16.370163
        ],
        [
         48.233438,
         16.370160000000002
        ],
        [
         48.233401,
         16.370167000000002
        ],
        [
         48.233359,
         16.370173
        ],
        [
         48.233314,
         16.370162
        ],
        [
         48.233274,
         16.370157
        ],
        [
         48.233246,
         16.370119
        ],
        [
         48.233230999999996,
         16.370054999999997
        ],
        [
         48.233224,
         16.369999
        ],
        [
         48.233222999999995,
         16.369927
        ],
        [
         48.233218,
         16.369868
        ],
        [
         48.233208000000005,
         16.369811
        ],
        [
         48.233227,
         16.369754999999998
        ],
        [
         48.233251,
         16.36972
        ],
        [
         48.233224,
         16.369685
        ],
        [
         48.233219,
         16.369604000000002
        ],
        [
         48.23322,
         16.369532
        ],
        [
         48.23324,
         16.369462
        ],
        [
         48.233319,
         16.369396
        ],
        [
         48.233332,
         16.369321
        ],
        [
         48.233313,
         16.369253
        ],
        [
         48.233292999999996,
         16.369175
        ],
        [
         48.233233,
         16.369113
        ],
        [
         48.233193,
         16.369064
        ],
        [
         48.233176,
         16.369013
        ],
        [
         48.233096999999994,
         16.368982
        ],
        [
         48.233044,
         16.368983
        ],
        [
         48.232994,
         16.369022
        ],
        [
         48.232946000000005,
         16.369019
        ],
        [
         48.232884999999996,
         16.369003
        ],
        [
         48.232856,
         16.369024
        ],
        [
         48.232805,
         16.369006
        ],
        [
         48.232764,
         16.368999
        ],
        [
         48.232732,
         16.369004999999998
        ],
        [
         48.232685,
         16.369013
        ],
        [
         48.232651000000004,
         16.369026
        ],
        [
         48.23264,
         16.369051000000002
        ],
        [
         48.232634000000004,
         16.369086
        ],
        [
         48.232627,
         16.36915
        ],
        [
         48.232628000000005,
         16.369191
        ],
        [
         48.232625,
         16.369195
        ],
        [
         48.232625,
         16.369204
        ],
        [
         48.23264,
         16.369257
        ],
        [
         48.232662,
         16.369314000000003
        ],
        [
         48.23268,
         16.369367
        ],
        [
         48.232704,
         16.369426
        ],
        [
         48.232706,
         16.369478
        ],
        [
         48.232725,
         16.369531
        ],
        [
         48.232748,
         16.369587
        ],
        [
         48.232773,
         16.369644
        ],
        [
         48.232774,
         16.369704000000002
        ],
        [
         48.2328,
         16.369768
        ],
        [
         48.232817,
         16.369835000000002
        ],
        [
         48.232842,
         16.369905
        ],
        [
         48.232856,
         16.369975
        ],
        [
         48.232856,
         16.370046
        ],
        [
         48.232853999999996,
         16.370113
        ],
        [
         48.232846,
         16.370174
        ],
        [
         48.232858,
         16.370241
        ],
        [
         48.232865000000004,
         16.370305
        ],
        [
         48.232859999999995,
         16.370361
        ],
        [
         48.232827,
         16.370393
        ],
        [
         48.2328,
         16.370426000000002
        ],
        [
         48.232764,
         16.370445
        ],
        [
         48.232732,
         16.370471
        ],
        [
         48.232698,
         16.370463
        ],
        [
         48.232698,
         16.370469
        ],
        [
         48.23271,
         16.370521
        ],
        [
         48.232702,
         16.370579
        ],
        [
         48.232703,
         16.370626
        ],
        [
         48.232706,
         16.37066
        ],
        [
         48.232707,
         16.370670999999998
        ],
        [
         48.232695,
         16.370717000000003
        ],
        [
         48.232669,
         16.370788
        ],
        [
         48.232663,
         16.370832999999998
        ],
        [
         48.232653000000006,
         16.370892
        ],
        [
         48.232641,
         16.370973
        ],
        [
         48.232628000000005,
         16.37104
        ],
        [
         48.23261,
         16.371118
        ],
        [
         48.232605,
         16.371187
        ],
        [
         48.23259,
         16.371259
        ],
        [
         48.23256,
         16.371316
        ],
        [
         48.232535999999996,
         16.371361
        ],
        [
         48.232504,
         16.371382999999998
        ],
        [
         48.232479999999995,
         16.37138
        ],
        [
         48.232476,
         16.371363
        ],
        [
         48.232446,
         16.371385999999998
        ],
        [
         48.232392,
         16.371451
        ],
        [
         48.232338,
         16.371499
        ],
        [
         48.232314,
         16.37153
        ],
        [
         48.232293,
         16.371610999999998
        ],
        [
         48.232285,
         16.371682
        ],
        [
         48.232274,
         16.371737
        ],
        [
         48.232271999999995,
         16.371793
        ],
        [
         48.232279999999996,
         16.371839
        ],
        [
         48.232261,
         16.371861
        ],
        [
         48.232238,
         16.371873
        ],
        [
         48.232196,
         16.371896
        ],
        [
         48.232141,
         16.371889000000003
        ],
        [
         48.232096999999996,
         16.371891
        ],
        [
         48.232054999999995,
         16.371895000000002
        ],
        [
         48.23202,
         16.371904999999998
        ],
        [
         48.231981,
         16.371910999999997
        ],
        [
         48.231958,
         16.371917
        ],
        [
         48.231947999999996,
         16.371916
        ],
        [
         48.231945,
         16.371917
        ],
        [
         48.231945,
         16.371917
        ],
        [
         48.231945,
         16.371917
        ],
        [
         48.231945,
         16.371917
        ],
        [
         48.231945,
         16.371917
        ],
        [
         48.231945,
         16.371917
        ],
        [
         48.231945,
         16.371917
        ],
        [
         48.231945,
         16.371917
        ],
        [
         48.231945,
         16.371917
        ],
        [
         48.231945,
         16.371917
        ],
        [
         48.231945,
         16.371917
        ],
        [
         48.231945,
         16.371917
        ],
        [
         48.231945,
         16.371917
        ],
        [
         48.231945,
         16.371917
        ],
        [
         48.231945,
         16.371917
        ],
        [
         48.231945,
         16.371917
        ],
        [
         48.231945,
         16.371917
        ],
        [
         48.231945,
         16.371917
        ],
        [
         48.231945,
         16.371917
        ],
        [
         48.231945,
         16.371917
        ],
        [
         48.231945,
         16.371917
        ],
        [
         48.231945,
         16.371917
        ],
        [
         48.231945,
         16.371917
        ],
        [
         48.231945,
         16.371917
        ]
       ],
       "name": "Trail",
       "options": [
        "color",
        "dash_array",
        "delay",
        "hardware_accelerated",
        "paused",
        "pulse_color",
        "radius",
        "reverse",
        "use",
        "weight"
       ],
       "pulse_color": "#3f6fba"
      }
     },
     "c115368466174c3dac2cd4c30bbbf102": {
      "model_module": "jupyter-leaflet",
      "model_module_version": "^0.13.2",
      "model_name": "LeafletMarkerModel",
      "state": {
       "_model_module_version": "^0.13.2",
       "_view_module_version": "^0.13.2",
       "icon": "IPY_MODEL_05ddda36b75e44299039ad53e79df66d",
       "location": [
        48.235440999999994,
        16.371724
       ],
       "options": [
        "alt",
        "draggable",
        "keyboard",
        "rise_offset",
        "rise_on_hover",
        "rotation_angle",
        "rotation_origin",
        "title",
        "z_index_offset"
       ]
      }
     },
     "c84e580c284745eebaf7b40531c7944d": {
      "model_module": "jupyter-leaflet",
      "model_module_version": "^0.13.2",
      "model_name": "LeafletIconModel",
      "state": {
       "_model_module_version": "^0.13.2",
       "_view_module_version": "^0.13.2",
       "icon_size": [
        30,
        40
       ],
       "icon_url": "files/ipyleaflet/icons/trashbin.png",
       "options": [
        "icon_anchor",
        "icon_size",
        "icon_url",
        "popup_anchor",
        "shadow_anchor",
        "shadow_size",
        "shadow_url"
       ],
       "shadow_url": null
      }
     },
     "ce55f3d4e9f3469d9dc7c9d0ce65b1d0": {
      "model_module": "jupyter-leaflet",
      "model_module_version": "^0.13.2",
      "model_name": "LeafletTileLayerModel",
      "state": {
       "_model_module_version": "^0.13.2",
       "_view_module_version": "^0.13.2",
       "attribution": "Tiles &copy; Esri &mdash; Source: Esri, DeLorme, NAVTEQ, USGS, Intermap, iPC, NRCAN, Esri Japan, METI, Esri China (Hong Kong), Esri (Thailand), TomTom, 2012",
       "base": true,
       "max_native_zoom": 18,
       "max_zoom": 20,
       "min_native_zoom": 0,
       "min_zoom": 1,
       "name": "Esri.WorldStreetMap",
       "options": [
        "attribution",
        "detect_retina",
        "max_native_zoom",
        "max_zoom",
        "min_native_zoom",
        "min_zoom",
        "no_wrap",
        "tile_size",
        "tms"
       ],
       "url": "http://server.arcgisonline.com/ArcGIS/rest/services/World_Street_Map/MapServer/tile/{z}/{y}/{x}"
      }
     },
     "d117af6fabef4c8284e12155914d975d": {
      "model_module": "jupyter-leaflet",
      "model_module_version": "^0.13.2",
      "model_name": "LeafletAntPathModel",
      "state": {
       "_model_module_version": "^0.13.2",
       "_view_module_version": "^0.13.2",
       "color": "#7590ba",
       "dash_array": [
        1,
        10
       ],
       "delay": 2000,
       "locations": [
        [
         48.2311,
         16.375006
        ],
        [
         48.2311,
         16.375006
        ],
        [
         48.2311,
         16.375006
        ],
        [
         48.2311,
         16.375006
        ],
        [
         48.2311,
         16.375006
        ],
        [
         48.2311,
         16.375006
        ],
        [
         48.2311,
         16.375006
        ],
        [
         48.2311,
         16.375006
        ],
        [
         48.2311,
         16.375006
        ],
        [
         48.2311,
         16.375006
        ],
        [
         48.2311,
         16.375006
        ],
        [
         48.2311,
         16.375006
        ],
        [
         48.231136,
         16.374966
        ],
        [
         48.231136,
         16.374966
        ],
        [
         48.231136,
         16.374966
        ],
        [
         48.231139,
         16.374955
        ],
        [
         48.231139,
         16.374955
        ],
        [
         48.231139,
         16.374955
        ],
        [
         48.231139,
         16.374955
        ],
        [
         48.231139,
         16.374955
        ],
        [
         48.231139,
         16.374955
        ],
        [
         48.231139,
         16.374955
        ],
        [
         48.231139,
         16.374955
        ],
        [
         48.231139,
         16.374955
        ],
        [
         48.231139,
         16.374955
        ],
        [
         48.231139,
         16.374955
        ],
        [
         48.231139,
         16.374955
        ],
        [
         48.231139,
         16.374955
        ],
        [
         48.231139,
         16.374955
        ],
        [
         48.231139,
         16.374955
        ],
        [
         48.231139,
         16.374955
        ],
        [
         48.231139,
         16.374955
        ],
        [
         48.231139,
         16.374955
        ],
        [
         48.231619,
         16.374845
        ],
        [
         48.231619,
         16.374845
        ],
        [
         48.231619,
         16.374845
        ],
        [
         48.231619,
         16.374845
        ],
        [
         48.231619,
         16.374845
        ],
        [
         48.231619,
         16.374845
        ],
        [
         48.231619,
         16.374845
        ],
        [
         48.231619,
         16.374845
        ],
        [
         48.231619,
         16.374845
        ],
        [
         48.231835,
         16.374748
        ],
        [
         48.231854,
         16.374751
        ],
        [
         48.231878,
         16.374744
        ],
        [
         48.2319,
         16.374732
        ],
        [
         48.23193,
         16.374722
        ],
        [
         48.231968,
         16.374724
        ],
        [
         48.231994,
         16.374727
        ],
        [
         48.232023999999996,
         16.374717
        ],
        [
         48.232075,
         16.374732
        ],
        [
         48.23212,
         16.37474
        ],
        [
         48.232163,
         16.374747
        ],
        [
         48.2322,
         16.374753
        ],
        [
         48.232238,
         16.374759
        ],
        [
         48.232248,
         16.374748999999998
        ],
        [
         48.232281,
         16.374744
        ],
        [
         48.23232,
         16.374758
        ],
        [
         48.232355,
         16.374763
        ],
        [
         48.232374,
         16.374735
        ],
        [
         48.232385,
         16.374694
        ],
        [
         48.232405,
         16.374673
        ],
        [
         48.232442,
         16.374664000000003
        ],
        [
         48.232442999999996,
         16.374668
        ],
        [
         48.232446,
         16.374667000000002
        ],
        [
         48.232479999999995,
         16.374675
        ],
        [
         48.232496000000005,
         16.374685999999997
        ],
        [
         48.232504999999996,
         16.374693
        ],
        [
         48.232531,
         16.374693
        ],
        [
         48.23256,
         16.374701
        ],
        [
         48.232571,
         16.374706
        ],
        [
         48.232569,
         16.37471
        ],
        [
         48.232589000000004,
         16.374716
        ],
        [
         48.232608,
         16.374751999999997
        ],
        [
         48.232628000000005,
         16.374767000000002
        ],
        [
         48.232618,
         16.374781
        ],
        [
         48.232616,
         16.374812
        ],
        [
         48.232616,
         16.374856
        ],
        [
         48.232642,
         16.374888000000002
        ],
        [
         48.232642,
         16.374888000000002
        ],
        [
         48.232615,
         16.374924
        ],
        [
         48.232615,
         16.374924
        ],
        [
         48.232615,
         16.374924
        ],
        [
         48.232615,
         16.374924
        ],
        [
         48.232615,
         16.374924
        ],
        [
         48.232615,
         16.374924
        ],
        [
         48.232818,
         16.374986
        ],
        [
         48.232818,
         16.374986
        ],
        [
         48.232818,
         16.374986
        ],
        [
         48.232818,
         16.374986
        ],
        [
         48.232818,
         16.374986
        ],
        [
         48.232818,
         16.374986
        ],
        [
         48.232818,
         16.374986
        ],
        [
         48.232818,
         16.374986
        ],
        [
         48.232818,
         16.374986
        ],
        [
         48.232818,
         16.374986
        ],
        [
         48.232818,
         16.374986
        ],
        [
         48.232818,
         16.374986
        ],
        [
         48.232818,
         16.374986
        ],
        [
         48.232818,
         16.374986
        ],
        [
         48.233447,
         16.374697
        ],
        [
         48.233447,
         16.374697
        ],
        [
         48.233447,
         16.374697
        ],
        [
         48.233447,
         16.374697
        ],
        [
         48.233447,
         16.374697
        ],
        [
         48.233447,
         16.374697
        ],
        [
         48.233447,
         16.374697
        ],
        [
         48.233447,
         16.374697
        ],
        [
         48.233447,
         16.374697
        ],
        [
         48.233447,
         16.374697
        ],
        [
         48.233447,
         16.374697
        ],
        [
         48.233447,
         16.374697
        ],
        [
         48.233447,
         16.374697
        ],
        [
         48.233518,
         16.374664000000003
        ],
        [
         48.233518,
         16.374664000000003
        ],
        [
         48.233518,
         16.374664000000003
        ],
        [
         48.233518,
         16.374664000000003
        ],
        [
         48.233518,
         16.374664000000003
        ],
        [
         48.233518,
         16.374664000000003
        ],
        [
         48.233518,
         16.374664000000003
        ],
        [
         48.233518,
         16.374664000000003
        ],
        [
         48.233518,
         16.374664000000003
        ],
        [
         48.233518,
         16.374664000000003
        ],
        [
         48.233518,
         16.374664000000003
        ],
        [
         48.233518,
         16.374664000000003
        ],
        [
         48.233518,
         16.374664000000003
        ],
        [
         48.233519,
         16.374678
        ],
        [
         48.233513,
         16.374674
        ],
        [
         48.233515999999995,
         16.374669
        ],
        [
         48.233515999999995,
         16.374667000000002
        ],
        [
         48.233525,
         16.374665
        ],
        [
         48.233523999999996,
         16.374667000000002
        ],
        [
         48.233531,
         16.374668
        ],
        [
         48.233531,
         16.374667000000002
        ],
        [
         48.233536,
         16.374654
        ],
        [
         48.233534000000006,
         16.374653
        ],
        [
         48.233525,
         16.374653
        ],
        [
         48.233507,
         16.374648
        ],
        [
         48.233506,
         16.374653
        ],
        [
         48.233503999999996,
         16.374663
        ],
        [
         48.233499,
         16.374665
        ],
        [
         48.233495,
         16.374674
        ],
        [
         48.233509999999995,
         16.374657
        ],
        [
         48.23348,
         16.374661
        ],
        [
         48.233455,
         16.374669
        ],
        [
         48.233434,
         16.374659
        ],
        [
         48.233427,
         16.374613
        ],
        [
         48.233429,
         16.374563000000002
        ],
        [
         48.233436,
         16.374509
        ],
        [
         48.233449,
         16.37446
        ],
        [
         48.233465,
         16.374415
        ],
        [
         48.233486,
         16.374365
        ],
        [
         48.23349,
         16.37432
        ],
        [
         48.233487,
         16.374267
        ],
        [
         48.233476,
         16.374228
        ],
        [
         48.233458,
         16.374214000000002
        ],
        [
         48.233441,
         16.374219
        ],
        [
         48.233415,
         16.374242000000002
        ],
        [
         48.233401,
         16.374246
        ],
        [
         48.233378,
         16.374273000000002
        ],
        [
         48.233366,
         16.374287
        ],
        [
         48.233364,
         16.374288
        ],
        [
         48.233342,
         16.374302
        ],
        [
         48.233337,
         16.374303
        ],
        [
         48.233329,
         16.374318
        ],
        [
         48.233301000000004,
         16.374323
        ],
        [
         48.233287,
         16.374271
        ],
        [
         48.233268,
         16.374236
        ],
        [
         48.233253000000005,
         16.374233
        ],
        [
         48.233243,
         16.374223
        ],
        [
         48.233249,
         16.374216
        ],
        [
         48.233249,
         16.374216
        ],
        [
         48.233249,
         16.374216
        ],
        [
         48.233249,
         16.374216
        ],
        [
         48.233249,
         16.374216
        ],
        [
         48.233249,
         16.374216
        ],
        [
         48.23324,
         16.374012
        ],
        [
         48.23324,
         16.374012
        ],
        [
         48.23324,
         16.374012
        ],
        [
         48.23324,
         16.374012
        ],
        [
         48.23324,
         16.374012
        ],
        [
         48.23324,
         16.374012
        ],
        [
         48.233115999999995,
         16.373853
        ],
        [
         48.233121999999995,
         16.373819
        ],
        [
         48.233112,
         16.373767
        ],
        [
         48.233102,
         16.373713000000002
        ],
        [
         48.233093,
         16.37365
        ],
        [
         48.233090000000004,
         16.373587
        ],
        [
         48.233074,
         16.37353
        ],
        [
         48.233149,
         16.373388000000002
        ],
        [
         48.23317,
         16.373345
        ],
        [
         48.233199,
         16.373309
        ],
        [
         48.233230999999996,
         16.373279
        ],
        [
         48.233269,
         16.373273
        ],
        [
         48.233306,
         16.373251999999997
        ],
        [
         48.233340000000005,
         16.37323
        ],
        [
         48.233378,
         16.373209
        ],
        [
         48.233415,
         16.373186999999998
        ],
        [
         48.233449,
         16.373171
        ],
        [
         48.23348,
         16.373157
        ],
        [
         48.233512,
         16.373143
        ],
        [
         48.23355,
         16.37313
        ],
        [
         48.233585999999995,
         16.373123
        ],
        [
         48.233615,
         16.37311
        ],
        [
         48.233649,
         16.373085999999997
        ],
        [
         48.233693,
         16.373062
        ],
        [
         48.233711,
         16.373057
        ],
        [
         48.233724,
         16.373077
        ],
        [
         48.233737,
         16.373089999999998
        ],
        [
         48.233737,
         16.373089999999998
        ],
        [
         48.233737,
         16.373089999999998
        ],
        [
         48.233737,
         16.373089999999998
        ],
        [
         48.233737,
         16.373089999999998
        ],
        [
         48.233894,
         16.373085
        ],
        [
         48.233889000000005,
         16.373088
        ],
        [
         48.233889000000005,
         16.373088
        ],
        [
         48.233889000000005,
         16.373088
        ],
        [
         48.233889000000005,
         16.373088
        ],
        [
         48.233889000000005,
         16.373088
        ],
        [
         48.233889000000005,
         16.373088
        ],
        [
         48.233889000000005,
         16.373088
        ],
        [
         48.233889000000005,
         16.373088
        ],
        [
         48.233889000000005,
         16.373088
        ],
        [
         48.233889000000005,
         16.373088
        ],
        [
         48.233889000000005,
         16.373088
        ],
        [
         48.233889000000005,
         16.373088
        ],
        [
         48.233889000000005,
         16.373088
        ],
        [
         48.233889000000005,
         16.373088
        ],
        [
         48.233889000000005,
         16.373088
        ],
        [
         48.233889000000005,
         16.373088
        ],
        [
         48.233889000000005,
         16.373088
        ],
        [
         48.233889000000005,
         16.373088
        ],
        [
         48.233889000000005,
         16.373088
        ],
        [
         48.233889000000005,
         16.373088
        ],
        [
         48.233889000000005,
         16.373088
        ],
        [
         48.234426,
         16.372957999999997
        ],
        [
         48.234423,
         16.372961
        ],
        [
         48.234431,
         16.372945
        ],
        [
         48.234464,
         16.372932000000002
        ],
        [
         48.234505,
         16.372923999999998
        ],
        [
         48.234524,
         16.372914
        ],
        [
         48.234569,
         16.372888
        ],
        [
         48.234586,
         16.372865
        ],
        [
         48.234595,
         16.372864
        ],
        [
         48.234621999999995,
         16.372866000000002
        ],
        [
         48.234652000000004,
         16.372866000000002
        ],
        [
         48.234727,
         16.372867000000003
        ],
        [
         48.234771,
         16.372869
        ],
        [
         48.234802,
         16.372869
        ],
        [
         48.234840000000005,
         16.37286
        ],
        [
         48.23488,
         16.37284
        ],
        [
         48.23493,
         16.37284
        ],
        [
         48.234981,
         16.372825
        ],
        [
         48.235029,
         16.372821
        ],
        [
         48.235093,
         16.372770000000003
        ],
        [
         48.235178000000005,
         16.372694
        ],
        [
         48.235233,
         16.372668
        ],
        [
         48.235269,
         16.372643
        ],
        [
         48.235299,
         16.372607000000002
        ],
        [
         48.235285,
         16.372603
        ],
        [
         48.235284,
         16.372603
        ],
        [
         48.235301,
         16.372575
        ],
        [
         48.235305,
         16.372526999999998
        ],
        [
         48.235309,
         16.372479000000002
        ],
        [
         48.235321,
         16.372425
        ],
        [
         48.235336,
         16.372374
        ],
        [
         48.235333000000004,
         16.372335999999997
        ],
        [
         48.235335,
         16.372291
        ],
        [
         48.235347999999995,
         16.372241
        ],
        [
         48.235354,
         16.372188
        ],
        [
         48.235358000000005,
         16.372142999999998
        ],
        [
         48.235363,
         16.372097
        ],
        [
         48.23537,
         16.372054000000002
        ],
        [
         48.235382,
         16.372004999999998
        ],
        [
         48.235378999999995,
         16.371951
        ],
        [
         48.235381,
         16.371894
        ],
        [
         48.235397,
         16.371838
        ],
        [
         48.235415,
         16.371783999999998
        ],
        [
         48.235442,
         16.371745999999998
        ],
        [
         48.235439,
         16.371726000000002
        ],
        [
         48.235440000000004,
         16.371716
        ],
        [
         48.235465000000005,
         16.371675
        ],
        [
         48.235473,
         16.371616
        ],
        [
         48.235479,
         16.371567000000002
        ],
        [
         48.235481,
         16.37153
        ],
        [
         48.235463,
         16.371472
        ],
        [
         48.235403999999996,
         16.37141
        ],
        [
         48.235362,
         16.37135
        ],
        [
         48.235319,
         16.371278
        ],
        [
         48.235304,
         16.371235000000002
        ],
        [
         48.235303,
         16.371197
        ],
        [
         48.235306,
         16.371183
        ],
        [
         48.235315,
         16.371182
        ],
        [
         48.235327000000005,
         16.371177
        ],
        [
         48.235329,
         16.371167
        ],
        [
         48.235307,
         16.371143
        ],
        [
         48.235302000000004,
         16.371126
        ],
        [
         48.235307,
         16.371086
        ],
        [
         48.235289,
         16.371029999999998
        ],
        [
         48.235275,
         16.370986
        ],
        [
         48.235244,
         16.370934
        ],
        [
         48.235242,
         16.370882
        ],
        [
         48.235239,
         16.370816
        ],
        [
         48.235234000000005,
         16.370754
        ],
        [
         48.235221,
         16.370685
        ],
        [
         48.235211,
         16.370619
        ],
        [
         48.235201,
         16.370558
        ],
        [
         48.235170000000004,
         16.370499
        ],
        [
         48.235168,
         16.370464000000002
        ],
        [
         48.235147,
         16.370407999999998
        ],
        [
         48.235109,
         16.370382
        ],
        [
         48.235076,
         16.370382
        ],
        [
         48.235068,
         16.370369
        ],
        [
         48.235098,
         16.370345999999998
        ],
        [
         48.235106,
         16.370305
        ],
        [
         48.235108000000004,
         16.370297
        ],
        [
         48.23511,
         16.37029
        ],
        [
         48.235134,
         16.370244
        ],
        [
         48.23515,
         16.370182999999997
        ],
        [
         48.235137,
         16.37013
        ],
        [
         48.235106,
         16.37011
        ],
        [
         48.235094000000004,
         16.370101000000002
        ],
        [
         48.235091,
         16.370089
        ],
        [
         48.235085999999995,
         16.370078
        ],
        [
         48.235087,
         16.370093
        ],
        [
         48.235084,
         16.370098000000002
        ],
        [
         48.235084,
         16.370098000000002
        ],
        [
         48.235084,
         16.370098000000002
        ],
        [
         48.235084,
         16.370098000000002
        ],
        [
         48.235084,
         16.370098000000002
        ],
        [
         48.235084,
         16.370098000000002
        ],
        [
         48.235084,
         16.370098000000002
        ],
        [
         48.235084,
         16.370098000000002
        ],
        [
         48.235084,
         16.370098000000002
        ],
        [
         48.235084,
         16.370098000000002
        ],
        [
         48.235084,
         16.370098000000002
        ],
        [
         48.235084,
         16.370098000000002
        ],
        [
         48.235084,
         16.370098000000002
        ],
        [
         48.234423,
         16.370252999999998
        ],
        [
         48.23438,
         16.370264000000002
        ],
        [
         48.234333,
         16.370272
        ],
        [
         48.234286,
         16.370271
        ],
        [
         48.234245,
         16.370252999999998
        ],
        [
         48.234206,
         16.370257000000002
        ],
        [
         48.234173,
         16.370252
        ],
        [
         48.234147,
         16.370256
        ],
        [
         48.234124,
         16.370254
        ],
        [
         48.234092,
         16.370260000000002
        ],
        [
         48.234052,
         16.370267000000002
        ],
        [
         48.234016,
         16.370281
        ],
        [
         48.233978,
         16.370287
        ],
        [
         48.233958,
         16.370279
        ],
        [
         48.233964,
         16.370242
        ],
        [
         48.233952,
         16.370245
        ],
        [
         48.233959000000006,
         16.370239
        ],
        [
         48.233965999999995,
         16.370236
        ],
        [
         48.233975,
         16.370231
        ],
        [
         48.233985,
         16.370216
        ],
        [
         48.233982,
         16.370202
        ],
        [
         48.23395,
         16.370194
        ],
        [
         48.233922,
         16.370184
        ],
        [
         48.233896,
         16.37017
        ],
        [
         48.233876,
         16.370154
        ],
        [
         48.233832,
         16.370151999999997
        ],
        [
         48.233785,
         16.370141
        ],
        [
         48.233740000000004,
         16.370127
        ],
        [
         48.233689,
         16.37013
        ],
        [
         48.23364,
         16.370133
        ],
        [
         48.233593,
         16.37014
        ],
        [
         48.233544,
         16.370148
        ],
        [
         48.233509999999995,
         16.370155
        ],
        [
         48.233473,
         16.370163
        ],
        [
         48.233438,
         16.370160000000002
        ],
        [
         48.233401,
         16.370167000000002
        ],
        [
         48.233359,
         16.370173
        ],
        [
         48.233314,
         16.370162
        ],
        [
         48.233274,
         16.370157
        ],
        [
         48.233246,
         16.370119
        ],
        [
         48.233230999999996,
         16.370054999999997
        ],
        [
         48.233224,
         16.369999
        ],
        [
         48.233222999999995,
         16.369927
        ],
        [
         48.233218,
         16.369868
        ],
        [
         48.233208000000005,
         16.369811
        ],
        [
         48.233227,
         16.369754999999998
        ],
        [
         48.233251,
         16.36972
        ],
        [
         48.233224,
         16.369685
        ],
        [
         48.233219,
         16.369604000000002
        ],
        [
         48.23322,
         16.369532
        ],
        [
         48.23324,
         16.369462
        ],
        [
         48.233319,
         16.369396
        ],
        [
         48.233332,
         16.369321
        ],
        [
         48.233313,
         16.369253
        ],
        [
         48.233292999999996,
         16.369175
        ],
        [
         48.233233,
         16.369113
        ],
        [
         48.233193,
         16.369064
        ],
        [
         48.233176,
         16.369013
        ],
        [
         48.233096999999994,
         16.368982
        ],
        [
         48.233044,
         16.368983
        ],
        [
         48.232994,
         16.369022
        ],
        [
         48.232946000000005,
         16.369019
        ],
        [
         48.232884999999996,
         16.369003
        ],
        [
         48.232856,
         16.369024
        ],
        [
         48.232805,
         16.369006
        ],
        [
         48.232764,
         16.368999
        ],
        [
         48.232732,
         16.369004999999998
        ],
        [
         48.232685,
         16.369013
        ],
        [
         48.232651000000004,
         16.369026
        ],
        [
         48.23264,
         16.369051000000002
        ],
        [
         48.232634000000004,
         16.369086
        ],
        [
         48.232627,
         16.36915
        ],
        [
         48.232628000000005,
         16.369191
        ],
        [
         48.232625,
         16.369195
        ],
        [
         48.232625,
         16.369204
        ],
        [
         48.23264,
         16.369257
        ],
        [
         48.232662,
         16.369314000000003
        ],
        [
         48.23268,
         16.369367
        ],
        [
         48.232704,
         16.369426
        ],
        [
         48.232706,
         16.369478
        ],
        [
         48.232725,
         16.369531
        ],
        [
         48.232748,
         16.369587
        ],
        [
         48.232773,
         16.369644
        ],
        [
         48.232774,
         16.369704000000002
        ],
        [
         48.2328,
         16.369768
        ],
        [
         48.232817,
         16.369835000000002
        ],
        [
         48.232842,
         16.369905
        ],
        [
         48.232856,
         16.369975
        ],
        [
         48.232856,
         16.370046
        ],
        [
         48.232853999999996,
         16.370113
        ],
        [
         48.232846,
         16.370174
        ],
        [
         48.232858,
         16.370241
        ],
        [
         48.232865000000004,
         16.370305
        ],
        [
         48.232859999999995,
         16.370361
        ],
        [
         48.232827,
         16.370393
        ],
        [
         48.2328,
         16.370426000000002
        ],
        [
         48.232764,
         16.370445
        ],
        [
         48.232732,
         16.370471
        ],
        [
         48.232698,
         16.370463
        ],
        [
         48.232698,
         16.370469
        ],
        [
         48.23271,
         16.370521
        ],
        [
         48.232702,
         16.370579
        ],
        [
         48.232703,
         16.370626
        ],
        [
         48.232706,
         16.37066
        ],
        [
         48.232707,
         16.370670999999998
        ],
        [
         48.232695,
         16.370717000000003
        ],
        [
         48.232669,
         16.370788
        ],
        [
         48.232663,
         16.370832999999998
        ],
        [
         48.232653000000006,
         16.370892
        ],
        [
         48.232641,
         16.370973
        ],
        [
         48.232628000000005,
         16.37104
        ],
        [
         48.23261,
         16.371118
        ],
        [
         48.232605,
         16.371187
        ],
        [
         48.23259,
         16.371259
        ],
        [
         48.23256,
         16.371316
        ],
        [
         48.232535999999996,
         16.371361
        ],
        [
         48.232504,
         16.371382999999998
        ],
        [
         48.232479999999995,
         16.37138
        ],
        [
         48.232476,
         16.371363
        ],
        [
         48.232446,
         16.371385999999998
        ],
        [
         48.232392,
         16.371451
        ],
        [
         48.232338,
         16.371499
        ],
        [
         48.232314,
         16.37153
        ],
        [
         48.232293,
         16.371610999999998
        ],
        [
         48.232285,
         16.371682
        ],
        [
         48.232274,
         16.371737
        ],
        [
         48.232271999999995,
         16.371793
        ],
        [
         48.232279999999996,
         16.371839
        ],
        [
         48.232261,
         16.371861
        ],
        [
         48.232238,
         16.371873
        ],
        [
         48.232196,
         16.371896
        ],
        [
         48.232141,
         16.371889000000003
        ],
        [
         48.232096999999996,
         16.371891
        ],
        [
         48.232054999999995,
         16.371895000000002
        ],
        [
         48.23202,
         16.371904999999998
        ],
        [
         48.231981,
         16.371910999999997
        ],
        [
         48.231958,
         16.371917
        ],
        [
         48.231947999999996,
         16.371916
        ],
        [
         48.231945,
         16.371917
        ],
        [
         48.231945,
         16.371917
        ],
        [
         48.231945,
         16.371917
        ],
        [
         48.231945,
         16.371917
        ],
        [
         48.231945,
         16.371917
        ],
        [
         48.231945,
         16.371917
        ],
        [
         48.231945,
         16.371917
        ],
        [
         48.231945,
         16.371917
        ],
        [
         48.231945,
         16.371917
        ],
        [
         48.231945,
         16.371917
        ],
        [
         48.231945,
         16.371917
        ],
        [
         48.231945,
         16.371917
        ],
        [
         48.231945,
         16.371917
        ],
        [
         48.231945,
         16.371917
        ],
        [
         48.231945,
         16.371917
        ],
        [
         48.231945,
         16.371917
        ],
        [
         48.231945,
         16.371917
        ],
        [
         48.231945,
         16.371917
        ],
        [
         48.231945,
         16.371917
        ],
        [
         48.231945,
         16.371917
        ],
        [
         48.231945,
         16.371917
        ],
        [
         48.231945,
         16.371917
        ],
        [
         48.231945,
         16.371917
        ],
        [
         48.231945,
         16.371917
        ]
       ],
       "name": "Trail",
       "options": [
        "color",
        "dash_array",
        "delay",
        "hardware_accelerated",
        "paused",
        "pulse_color",
        "radius",
        "reverse",
        "use",
        "weight"
       ],
       "pulse_color": "#3f6fba"
      }
     },
     "d43dff2b51574f34921135276afd3266": {
      "model_module": "@jupyter-widgets/base",
      "model_module_version": "1.2.0",
      "model_name": "LayoutModel",
      "state": {
       "height": "600px",
       "width": "100%"
      }
     },
     "d69cfa2d7dc04f64b0719d0718879e04": {
      "model_module": "jupyter-leaflet",
      "model_module_version": "^0.13.2",
      "model_name": "LeafletMarkerModel",
      "state": {
       "_model_module_version": "^0.13.2",
       "_view_module_version": "^0.13.2",
       "icon": "IPY_MODEL_b6ad9267c42a405ab8cfb36a877ecd14",
       "location": [
        48.232625,
        16.369195
       ],
       "options": [
        "alt",
        "draggable",
        "keyboard",
        "rise_offset",
        "rise_on_hover",
        "rotation_angle",
        "rotation_origin",
        "title",
        "z_index_offset"
       ]
      }
     },
     "d86335a616384b2cb00e521bde1a6ffa": {
      "model_module": "jupyter-leaflet",
      "model_module_version": "^0.13.2",
      "model_name": "LeafletMarkerModel",
      "state": {
       "_model_module_version": "^0.13.2",
       "_view_module_version": "^0.13.2",
       "icon": "IPY_MODEL_c84e580c284745eebaf7b40531c7944d",
       "location": [
        48.235323,
        16.371179
       ],
       "options": [
        "alt",
        "draggable",
        "keyboard",
        "rise_offset",
        "rise_on_hover",
        "rotation_angle",
        "rotation_origin",
        "title",
        "z_index_offset"
       ]
      }
     },
     "dea250bab6eb48e58b461c28695e3a70": {
      "model_module": "jupyter-leaflet",
      "model_module_version": "^0.13.2",
      "model_name": "LeafletIconModel",
      "state": {
       "_model_module_version": "^0.13.2",
       "_view_module_version": "^0.13.2",
       "icon_size": [
        30,
        40
       ],
       "icon_url": "icons/trashbin.png",
       "options": [
        "icon_anchor",
        "icon_size",
        "icon_url",
        "popup_anchor",
        "shadow_anchor",
        "shadow_size",
        "shadow_url"
       ],
       "shadow_url": null
      }
     },
     "dfd90de60a2b4f66a6c60499e5183e52": {
      "model_module": "jupyter-leaflet",
      "model_module_version": "^0.13.2",
      "model_name": "LeafletMarkerModel",
      "state": {
       "_model_module_version": "^0.13.2",
       "_view_module_version": "^0.13.2",
       "icon": "IPY_MODEL_f8c90c84beea48b5af018701589edbf0",
       "location": [
        48.235440999999994,
        16.371724
       ],
       "options": [
        "alt",
        "draggable",
        "keyboard",
        "rise_offset",
        "rise_on_hover",
        "rotation_angle",
        "rotation_origin",
        "title",
        "z_index_offset"
       ]
      }
     },
     "e380c36cf0c44e1da80f0e5074a981f8": {
      "model_module": "jupyter-leaflet",
      "model_module_version": "^0.13.2",
      "model_name": "LeafletTileLayerModel",
      "state": {
       "_model_module_version": "^0.13.2",
       "_view_module_version": "^0.13.2",
       "attribution": "Tiles &copy; Esri &mdash; Source: Esri, DeLorme, NAVTEQ, USGS, Intermap, iPC, NRCAN, Esri Japan, METI, Esri China (Hong Kong), Esri (Thailand), TomTom, 2012",
       "max_native_zoom": 18,
       "max_zoom": 20,
       "min_native_zoom": 0,
       "min_zoom": 1,
       "name": "Esri.WorldStreetMap",
       "options": [
        "attribution",
        "detect_retina",
        "max_native_zoom",
        "max_zoom",
        "min_native_zoom",
        "min_zoom",
        "no_wrap",
        "tile_size",
        "tms"
       ],
       "url": "http://server.arcgisonline.com/ArcGIS/rest/services/World_Street_Map/MapServer/tile/{z}/{y}/{x}"
      }
     },
     "e62c0db39cf243f2b496b016748f6c4e": {
      "model_module": "jupyter-leaflet",
      "model_module_version": "^0.13.2",
      "model_name": "LeafletZoomControlModel",
      "state": {
       "_model_module_version": "^0.13.2",
       "_view_module_version": "^0.13.2",
       "options": [
        "position",
        "zoom_in_text",
        "zoom_in_title",
        "zoom_out_text",
        "zoom_out_title"
       ]
      }
     },
     "e75b4927a345434c96ba0f81ec469adc": {
      "model_module": "jupyter-leaflet",
      "model_module_version": "^0.13.2",
      "model_name": "LeafletMarkerModel",
      "state": {
       "_model_module_version": "^0.13.2",
       "_view_module_version": "^0.13.2",
       "icon": "IPY_MODEL_05ddda36b75e44299039ad53e79df66d",
       "location": [
        48.233253000000005,
        16.374233
       ],
       "options": [
        "alt",
        "draggable",
        "keyboard",
        "rise_offset",
        "rise_on_hover",
        "rotation_angle",
        "rotation_origin",
        "title",
        "z_index_offset"
       ]
      }
     },
     "ea0e15bc4b0248e683f9aad63582ae27": {
      "model_module": "jupyter-leaflet",
      "model_module_version": "^0.13.2",
      "model_name": "LeafletMarkerModel",
      "state": {
       "_model_module_version": "^0.13.2",
       "_view_module_version": "^0.13.2",
       "icon": "IPY_MODEL_b6b6251a8eec44ffaddb6a0eca206238",
       "location": [
        48.231619,
        16.374845
       ],
       "options": [
        "alt",
        "draggable",
        "keyboard",
        "rise_offset",
        "rise_on_hover",
        "rotation_angle",
        "rotation_origin",
        "title",
        "z_index_offset"
       ]
      }
     },
     "ecea03cc21314523a389c04dd8803383": {
      "model_module": "@jupyter-widgets/controls",
      "model_module_version": "1.5.0",
      "model_name": "IntSliderModel",
      "state": {
       "description": "Zoom level:",
       "layout": "IPY_MODEL_46a1c734cad14e468ac3ef3d23efde9e",
       "max": 20,
       "min": 10,
       "style": "IPY_MODEL_46a669eb5ab548ae8216b2b4921f0f8d",
       "value": 16
      }
     },
     "ef9d2eb819e447bba57a517f59f3f818": {
      "model_module": "jupyter-leaflet",
      "model_module_version": "^0.13.2",
      "model_name": "LeafletMapStyleModel",
      "state": {
       "_model_module_version": "^0.13.2"
      }
     },
     "f2dbf411e7f64d5d8dc2f859fdf3daa3": {
      "model_module": "jupyter-leaflet",
      "model_module_version": "^0.13.2",
      "model_name": "LeafletScaleControlModel",
      "state": {
       "_model_module_version": "^0.13.2",
       "_view_module_version": "^0.13.2",
       "imperial": false,
       "max_width": 100,
       "metric": true,
       "options": [
        "imperial",
        "max_width",
        "metric",
        "position",
        "update_when_idle"
       ],
       "position": "bottomleft",
       "update_when_idle": false
      }
     },
     "f4de1416d363417997412be4c0c8fe0d": {
      "model_module": "jupyter-leaflet",
      "model_module_version": "^0.13.2",
      "model_name": "LeafletLayersControlModel",
      "state": {
       "_model_module_version": "^0.13.2",
       "_view_module_version": "^0.13.2",
       "options": [
        "position"
       ],
       "position": "topright"
      }
     },
     "f5e571093f5b4935ae886ebf9b9252a7": {
      "model_module": "@jupyter-widgets/controls",
      "model_module_version": "1.5.0",
      "model_name": "LinkModel",
      "state": {
       "source": [
        "IPY_MODEL_ecea03cc21314523a389c04dd8803383",
        "value"
       ],
       "target": [
        "IPY_MODEL_8ba045e142c44f38885830f4be324313",
        "zoom"
       ]
      }
     },
     "f633dbed813649819e235842b8240e2a": {
      "model_module": "jupyter-leaflet",
      "model_module_version": "^0.13.2",
      "model_name": "LeafletMarkerModel",
      "state": {
       "_model_module_version": "^0.13.2",
       "_view_module_version": "^0.13.2",
       "icon": "IPY_MODEL_b6ad9267c42a405ab8cfb36a877ecd14",
       "location": [
        48.235323,
        16.371179
       ],
       "options": [
        "alt",
        "draggable",
        "keyboard",
        "rise_offset",
        "rise_on_hover",
        "rotation_angle",
        "rotation_origin",
        "title",
        "z_index_offset"
       ]
      }
     },
     "f73f61bbcad14a5e905ac77516883c9a": {
      "model_module": "jupyter-leaflet",
      "model_module_version": "^0.13.2",
      "model_name": "LeafletMarkerModel",
      "state": {
       "_model_module_version": "^0.13.2",
       "_view_module_version": "^0.13.2",
       "icon": "IPY_MODEL_b6b6251a8eec44ffaddb6a0eca206238",
       "location": [
        48.233336,
        16.374308
       ],
       "options": [
        "alt",
        "draggable",
        "keyboard",
        "rise_offset",
        "rise_on_hover",
        "rotation_angle",
        "rotation_origin",
        "title",
        "z_index_offset"
       ]
      }
     },
     "f8c90c84beea48b5af018701589edbf0": {
      "model_module": "jupyter-leaflet",
      "model_module_version": "^0.13.2",
      "model_name": "LeafletIconModel",
      "state": {
       "_model_module_version": "^0.13.2",
       "_view_module_version": "^0.13.2",
       "icon_size": [
        30,
        40
       ],
       "icon_url": "files/ipyleaflet/icons/tree.png",
       "options": [
        "icon_anchor",
        "icon_size",
        "icon_url",
        "popup_anchor",
        "shadow_anchor",
        "shadow_size",
        "shadow_url"
       ],
       "shadow_url": null
      }
     }
    },
    "version_major": 2,
    "version_minor": 0
   }
  }
 },
 "nbformat": 4,
 "nbformat_minor": 4
}
