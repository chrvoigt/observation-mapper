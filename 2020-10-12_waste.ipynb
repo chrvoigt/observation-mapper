{
 "cells": [
  {
   "cell_type": "markdown",
   "metadata": {
    "toc": true
   },
   "source": [
    "<h1>Table of Contents<span class=\"tocSkip\"></span></h1>\n",
    "<div class=\"toc\"><ul class=\"toc-item\"><li><span><a href=\"#Basic-Map-Parameters\" data-toc-modified-id=\"Basic-Map-Parameters-1\"><span class=\"toc-item-num\">1&nbsp;&nbsp;</span>Basic Map Parameters</a></span></li><li><span><a href=\"#Basic-Map\" data-toc-modified-id=\"Basic-Map-2\"><span class=\"toc-item-num\">2&nbsp;&nbsp;</span>Basic Map</a></span></li><li><span><a href=\"#Create-a-Split-Map\" data-toc-modified-id=\"Create-a-Split-Map-3\"><span class=\"toc-item-num\">3&nbsp;&nbsp;</span>Create a Split Map</a></span></li><li><span><a href=\"#Reading-the-data-as-provided-by-the-gadget-(there-are-always-two-types-of-files---tracks-and-ratings-of-spots)\" data-toc-modified-id=\"Reading-the-data-as-provided-by-the-gadget-(there-are-always-two-types-of-files---tracks-and-ratings-of-spots)-4\"><span class=\"toc-item-num\">4&nbsp;&nbsp;</span>Reading the data as provided by the gadget (there are always two types of files - tracks and ratings of spots)</a></span></li><li><span><a href=\"#Frequency-of-categories-1---5\" data-toc-modified-id=\"Frequency-of-categories-1---5-5\"><span class=\"toc-item-num\">5&nbsp;&nbsp;</span>Frequency of categories 1 - 5</a></span></li><li><span><a href=\"#Adding-tree--and-rubish-bin-locations-to-the-map\" data-toc-modified-id=\"Adding-tree--and-rubish-bin-locations-to-the-map-6\"><span class=\"toc-item-num\">6&nbsp;&nbsp;</span>Adding tree- and rubish bin locations to the map</a></span></li><li><span><a href=\"#Grouping-of-markers-(not-really-useful-in-this-context)\" data-toc-modified-id=\"Grouping-of-markers-(not-really-useful-in-this-context)-7\"><span class=\"toc-item-num\">7&nbsp;&nbsp;</span>Grouping of markers (not really useful in this context)</a></span></li><li><span><a href=\"#The-resulting-HTML-file-should-be-visible-in-any-browser-(however,-icons-will-be-missing---fixible)\" data-toc-modified-id=\"The-resulting-HTML-file-should-be-visible-in-any-browser-(however,-icons-will-be-missing---fixible)-8\"><span class=\"toc-item-num\">8&nbsp;&nbsp;</span>The resulting HTML file should be visible in any browser (however, icons will be missing - fixible)</a></span></li><li><span><a href=\"#Some-cleaning-up-if-needed\" data-toc-modified-id=\"Some-cleaning-up-if-needed-9\"><span class=\"toc-item-num\">9&nbsp;&nbsp;</span>Some cleaning up if needed</a></span></li><li><span><a href=\"#Integrating-a-different-basemap-with-more-details\" data-toc-modified-id=\"Integrating-a-different-basemap-with-more-details-10\"><span class=\"toc-item-num\">10&nbsp;&nbsp;</span>Integrating a different basemap with more details</a></span></li><li><span><a href=\"#For-later:-Experimenting-with-coloring-regions-or-neighborhoods\" data-toc-modified-id=\"For-later:-Experimenting-with-coloring-regions-or-neighborhoods-11\"><span class=\"toc-item-num\">11&nbsp;&nbsp;</span>For later: Experimenting with coloring regions or neighborhoods</a></span></li></ul></div>"
   ]
  },
  {
   "cell_type": "code",
   "execution_count": 1,
   "metadata": {},
   "outputs": [],
   "source": [
    "# not all of these libraries are needed but for now let's load them to be prepared :-) \n",
    "from ipyleaflet import (Map, GeoData, WidgetControl, GeoJSON, basemaps, LocalTileLayer,\n",
    " LayersControl, Icon, Marker,basemap_to_tiles, Choropleth, AntPath,\n",
    " MarkerCluster, Heatmap, SearchControl, FullScreenControl, AwesomeIcon, \n",
    " ScaleControl, MeasureControl, SplitMapControl, WMSLayer, Polygon, Choropleth)"
   ]
  },
  {
   "cell_type": "code",
   "execution_count": 2,
   "metadata": {},
   "outputs": [],
   "source": [
    "# ipywidgets add user interactions to our notebook cells \n",
    "# read the docs https://ipywidgets.readthedocs.io/en/latest/\n",
    "from ipywidgets import Text, HTML, IntSlider, ColorPicker, jslink, Layout\n",
    "from branca.colormap import linear"
   ]
  },
  {
   "cell_type": "code",
   "execution_count": 3,
   "metadata": {},
   "outputs": [],
   "source": [
    "# something to look into when wanting to color areas of a city or a region (Choropleth Maps)\n",
    "# https://blog.datawrapper.de/choroplethmaps/\n",
    "#import geopandas as gpd\n",
    "#import json"
   ]
  },
  {
   "cell_type": "code",
   "execution_count": 4,
   "metadata": {},
   "outputs": [],
   "source": [
    "# Pandas = derived from \"Python and data analysis\"\n",
    "import pandas as pd  "
   ]
  },
  {
   "cell_type": "markdown",
   "metadata": {},
   "source": [
    "## Basic Map Parameters "
   ]
  },
  {
   "cell_type": "code",
   "execution_count": 5,
   "metadata": {},
   "outputs": [
    {
     "data": {
      "text/plain": [
       "'\\nalternative options for basemaps are \\nbasemap = basemaps.Stamen.Watercolor\\nbasemap = basemaps.Stamen.Toner\\nbasemap = basemaps.Stamen.Terrain\\netc \\n\\n'"
      ]
     },
     "execution_count": 5,
     "metadata": {},
     "output_type": "execute_result"
    }
   ],
   "source": [
    "# the centre of your map should be about the starting point of your mapping tour \n",
    "center = [48.231139, 16.374955]\n",
    "zoom =16\n",
    "\n",
    "# you can adjust the map size via ipwidgets *Layout* attribute  \n",
    "basemap = basemaps.Esri.WorldStreetMap\n",
    "layout = Layout(width='100%', height='600px')\n",
    "\n",
    "\"\"\"\n",
    "alternative options for basemaps are \n",
    "basemap = basemaps.Stamen.Watercolor\n",
    "basemap = basemaps.Stamen.Toner\n",
    "basemap = basemaps.Stamen.Terrain\n",
    "etc \n",
    "\n",
    "\"\"\""
   ]
  },
  {
   "cell_type": "markdown",
   "metadata": {},
   "source": [
    "## Basic Map "
   ]
  },
  {
   "cell_type": "code",
   "execution_count": 6,
   "metadata": {},
   "outputs": [
    {
     "data": {
      "application/vnd.jupyter.widget-view+json": {
       "model_id": "f99c092cae984e55a0bfa73d77646ff8",
       "version_major": 2,
       "version_minor": 0
      },
      "text/plain": [
       "Map(center=[48.231139, 16.374955], controls=(ZoomControl(options=['position', 'zoom_in_text', 'zoom_in_title',…"
      ]
     },
     "metadata": {},
     "output_type": "display_data"
    }
   ],
   "source": [
    "m = Map(center=center, zoom=zoom, basemap = basemap, layout=layout)\n",
    "\n",
    "# add user interaction / user information such as the scale of a map \n",
    "zoom_slider = IntSlider(description='Zoom level:', min=10, max=20, value=16)\n",
    "jslink((zoom_slider, 'value'), (m, 'zoom'))\n",
    "\n",
    "widget_control1 = WidgetControl(widget=zoom_slider, position='topright')\n",
    "m.add_control(widget_control1)\n",
    "m.add_control(FullScreenControl())\n",
    "m.add_control(ScaleControl(position='bottomleft', imperial = False))\n",
    "m.add_control(LayersControl(position='topright'))\n",
    "\n",
    "# this adds a nice feature to meassure the length of a path or a polygone area in square meters \n",
    "measure = MeasureControl(\n",
    "    position='bottomleft',\n",
    "    active_color = 'orange',\n",
    "    primary_length_unit = 'meters',\n",
    "    primary_area_unit = 'sqmeters',\n",
    "    completed_color = 'blue'\n",
    ")\n",
    "m.add_control(measure)\n",
    "display (m)"
   ]
  },
  {
   "cell_type": "markdown",
   "metadata": {},
   "source": [
    "## Create a Split Map "
   ]
  },
  {
   "cell_type": "code",
   "execution_count": 7,
   "metadata": {},
   "outputs": [
    {
     "data": {
      "application/vnd.jupyter.widget-view+json": {
       "model_id": "00634a116e34423a94ae4011aaef91b6",
       "version_major": 2,
       "version_minor": 0
      },
      "text/plain": [
       "Map(center=[48.231139, 16.374955], controls=(ZoomControl(options=['position', 'zoom_in_text', 'zoom_in_title',…"
      ]
     },
     "metadata": {},
     "output_type": "display_data"
    }
   ],
   "source": [
    "basemap = basemaps.Esri.WorldStreetMap\n",
    "split_map = Map(center=center, zoom=zoom, layout=layout)\n",
    "\n",
    "# create right and left layers\n",
    "left_layer  = basemap_to_tiles(basemap=basemap)\n",
    "right_layer = basemap_to_tiles(basemap=basemaps.Stamen.Toner) \n",
    "\n",
    "# create split control\n",
    "control = SplitMapControl(left_layer=left_layer, right_layer=right_layer)\n",
    "\n",
    "#add control to map\n",
    "split_map.add_control(control)\n",
    "\n",
    "# display map\n",
    "\n",
    "zoom_slider = IntSlider(description='Zoom level:', min=10, max=20, value=16)\n",
    "jslink((zoom_slider, 'value'), (m, 'zoom'))\n",
    "\n",
    "widget_control1 = WidgetControl(widget=zoom_slider, position='topright')\n",
    "split_map.add_control(widget_control1)\n",
    "split_map.add_control(FullScreenControl())\n",
    "split_map.add_control(ScaleControl(position='bottomleft', imperial = False))\n",
    "split_map.add_control(LayersControl(position='topright')) \n",
    "\n",
    "display(split_map)"
   ]
  },
  {
   "cell_type": "markdown",
   "metadata": {},
   "source": [
    "## Reading the data as provided by the gadget (there are always two types of files - tracks and ratings of spots)"
   ]
  },
  {
   "cell_type": "code",
   "execution_count": 8,
   "metadata": {},
   "outputs": [
    {
     "name": "stdout",
     "output_type": "stream",
     "text": [
      "number of track points:  500\n"
     ]
    },
    {
     "data": {
      "text/html": [
       "<div>\n",
       "<style scoped>\n",
       "    .dataframe tbody tr th:only-of-type {\n",
       "        vertical-align: middle;\n",
       "    }\n",
       "\n",
       "    .dataframe tbody tr th {\n",
       "        vertical-align: top;\n",
       "    }\n",
       "\n",
       "    .dataframe thead th {\n",
       "        text-align: right;\n",
       "    }\n",
       "</style>\n",
       "<table border=\"1\" class=\"dataframe\">\n",
       "  <thead>\n",
       "    <tr style=\"text-align: right;\">\n",
       "      <th></th>\n",
       "      <th>Date</th>\n",
       "      <th>Time</th>\n",
       "      <th>Raw_Time</th>\n",
       "      <th>Latitude</th>\n",
       "      <th>Longitude</th>\n",
       "      <th>Altitude</th>\n",
       "      <th>Sats</th>\n",
       "      <th>Sat_Speed</th>\n",
       "      <th>Precision</th>\n",
       "    </tr>\n",
       "  </thead>\n",
       "  <tbody>\n",
       "    <tr>\n",
       "      <th>0</th>\n",
       "      <td>121020</td>\n",
       "      <td>07:12:47</td>\n",
       "      <td>6124700</td>\n",
       "      <td>48.2311</td>\n",
       "      <td>16.375006</td>\n",
       "      <td>160.2</td>\n",
       "      <td>4</td>\n",
       "      <td>0.5926</td>\n",
       "      <td>6.51</td>\n",
       "    </tr>\n",
       "    <tr>\n",
       "      <th>1</th>\n",
       "      <td>121020</td>\n",
       "      <td>07:12:47</td>\n",
       "      <td>6124700</td>\n",
       "      <td>48.2311</td>\n",
       "      <td>16.375006</td>\n",
       "      <td>160.2</td>\n",
       "      <td>4</td>\n",
       "      <td>0.5926</td>\n",
       "      <td>6.51</td>\n",
       "    </tr>\n",
       "    <tr>\n",
       "      <th>2</th>\n",
       "      <td>121020</td>\n",
       "      <td>07:12:47</td>\n",
       "      <td>6124700</td>\n",
       "      <td>48.2311</td>\n",
       "      <td>16.375006</td>\n",
       "      <td>160.2</td>\n",
       "      <td>4</td>\n",
       "      <td>0.5926</td>\n",
       "      <td>6.51</td>\n",
       "    </tr>\n",
       "  </tbody>\n",
       "</table>\n",
       "</div>"
      ],
      "text/plain": [
       "     Date      Time  Raw_Time  Latitude  Longitude  Altitude  Sats  Sat_Speed  \\\n",
       "0  121020  07:12:47   6124700   48.2311  16.375006     160.2     4     0.5926   \n",
       "1  121020  07:12:47   6124700   48.2311  16.375006     160.2     4     0.5926   \n",
       "2  121020  07:12:47   6124700   48.2311  16.375006     160.2     4     0.5926   \n",
       "\n",
       "   Precision  \n",
       "0       6.51  \n",
       "1       6.51  \n",
       "2       6.51  "
      ]
     },
     "execution_count": 8,
     "metadata": {},
     "output_type": "execute_result"
    }
   ],
   "source": [
    "ratings=pd.read_csv('data/2020-10-12_rate_waste.csv', sep=';')\n",
    "tracks=pd.read_csv('data/2020-10-12_track_waste.csv', sep=';')\n",
    "print('number of track points: ', len (tracks))\n",
    "tracks.head(3)"
   ]
  },
  {
   "cell_type": "markdown",
   "metadata": {},
   "source": [
    "## Frequency of categories 1 - 5 "
   ]
  },
  {
   "cell_type": "code",
   "execution_count": 9,
   "metadata": {},
   "outputs": [
    {
     "data": {
      "text/plain": [
       "Category\n",
       "1    13\n",
       "2     4\n",
       "4     5\n",
       "dtype: int64"
      ]
     },
     "execution_count": 9,
     "metadata": {},
     "output_type": "execute_result"
    }
   ],
   "source": [
    "ratings.groupby(['Category']).size()"
   ]
  },
  {
   "cell_type": "code",
   "execution_count": 10,
   "metadata": {},
   "outputs": [
    {
     "name": "stdout",
     "output_type": "stream",
     "text": [
      "number of polutted trees:  17\n",
      "number of overflowing bins:  5\n"
     ]
    }
   ],
   "source": [
    "# at this point we add some meaning to the categories \n",
    "tree_waste = ratings[ (ratings['Category'] == 1) | (ratings['Category'] == 2) ] \n",
    "bin_waste = ratings[ ratings['Category'] == 4] \n",
    "print ('number of polutted trees: ', len(tree_waste))\n",
    "print ('number of overflowing bins: ', len(bin_waste))"
   ]
  },
  {
   "cell_type": "code",
   "execution_count": 11,
   "metadata": {},
   "outputs": [],
   "source": [
    "# a collection of points (GPS coordinates) needs to be provided as a list of lists, this is what this funciton does  \n",
    "def location_converter (df): \n",
    "    markers = df.loc[:,{'Latitude','Longitude'}] #ouput dataframe \n",
    "    markers = markers.reindex(columns = ['Latitude','Longitude']) #\n",
    "    markers = markers.to_records(index=False) #output array\n",
    "    markers = list (markers) #output list of tuples\n",
    "    markers = [list(i) for i in markers] # list of lists\n",
    "    return markers\n"
   ]
  },
  {
   "cell_type": "code",
   "execution_count": 12,
   "metadata": {},
   "outputs": [
    {
     "data": {
      "text/plain": [
       "[[48.231136, 16.374966], [48.231619, 16.374845]]"
      ]
     },
     "execution_count": 12,
     "metadata": {},
     "output_type": "execute_result"
    }
   ],
   "source": [
    "# calling the funnnction and checking outpu \n",
    "tree_pos = location_converter (tree_waste)\n",
    "bin_pos = location_converter (bin_waste)\n",
    "track_pos = location_converter (tracks)\n",
    "tree_pos [0:2]"
   ]
  },
  {
   "cell_type": "code",
   "execution_count": 13,
   "metadata": {},
   "outputs": [
    {
     "data": {
      "text/plain": [
       "'/Users/me/code/notebooks/ipyleaflet'"
      ]
     },
     "execution_count": 13,
     "metadata": {},
     "output_type": "execute_result"
    }
   ],
   "source": [
    "import os\n",
    "os.getcwd()"
   ]
  },
  {
   "cell_type": "markdown",
   "metadata": {},
   "source": [
    "## Adding tree- and rubish bin locations to the map "
   ]
  },
  {
   "cell_type": "code",
   "execution_count": 4,
   "metadata": {},
   "outputs": [
    {
     "name": "stdout",
     "output_type": "stream",
     "text": [
      "ipykernel.zmqshell\n"
     ]
    }
   ],
   "source": [
    "print (get_ipython().__class__.__module__)"
   ]
  },
  {
   "cell_type": "code",
   "execution_count": 17,
   "metadata": {},
   "outputs": [
    {
     "name": "stdout",
     "output_type": "stream",
     "text": [
      "Icon(icon_size=[30, 40], icon_url='files/ipyleaflet/icons/foot.png', options=['icon_anchor', 'icon_size', 'icon_url', 'popup_anchor', 'shadow_anchor', 'shadow_size', 'shadow_url'], popup_anchor=[0, 0])\n"
     ]
    },
    {
     "data": {
      "application/vnd.jupyter.widget-view+json": {
       "model_id": "8ba045e142c44f38885830f4be324313",
       "version_major": 2,
       "version_minor": 0
      },
      "text/plain": [
       "Map(bottom=5816168.0, center=[48.231139, 16.374955], controls=(ZoomControl(options=['position', 'zoom_in_text'…"
      ]
     },
     "metadata": {},
     "output_type": "display_data"
    }
   ],
   "source": [
    "#trash_icon = AwesomeIcon (name='trash', marker_color='white', icon_color='black', spin=True)\n",
    "#trash_icon = Icon(icon_url='https://leafletjs.com/examples/custom-icons/leaf-red.png', icon_size=[25, 40]) #red, green, yellow\n",
    "\n",
    "bin_markers = []\n",
    "tree_markers = []\n",
    "foot_markers = []\n",
    "\n",
    "'''\n",
    "#for jupyter notebook \n",
    "trash_icon = Icon(icon_url= 'icons/trashbin.png', icon_size=[30, 40])\n",
    "tree_icon =  Icon(icon_url= 'icons/tree.png', icon_size=[30, 40])\n",
    "'''\n",
    "\n",
    "#for jupyter labs \n",
    "trash_icon = Icon(icon_url='files/'+os.getcwd().split('/')[-1]+'/icons/trashbin.png', icon_size=[30, 40])\n",
    "tree_icon = Icon(icon_url='files/'+os.getcwd().split('/')[-1]+'/icons/tree.png', icon_size=[30, 40])\n",
    "\n",
    "#external icons \n",
    "#icon = Icon(icon_url='https://leafletjs.com/examples/custom-icons/leaf-green.png', icon_size=[38, 95], icon_anchor=[22,94])\n",
    "\n",
    "\n",
    "# Just to see what os.path returns?\n",
    "try: \n",
    "    print(\"File exist: \", os.path.isfile(foot_icon))\n",
    "except:\n",
    "    print(foot_icon)\n",
    "\n",
    "\n",
    "\n",
    "for i in range(len(bin_pos)):\n",
    "    markertrash  = Marker(location=bin_pos[i], icon = trash_icon)\n",
    "    m.add_layer(markertrash);\n",
    "    #bin_markers = bin_markers + marker\n",
    "    \n",
    "    \n",
    "for i in range(len(tree_pos)):\n",
    "    markertree  = Marker(location=tree_pos[i], icon = tree_icon)\n",
    "    m.add_layer(markertree);\n",
    "    #tree_markers = tree_markers + marker\n",
    "    \n",
    "'''\n",
    "for i in range(len(track_pos)):\n",
    "    marker  = [Marker(location=track_pos[i], icon = foot_icon)]\n",
    "    foot_markers = foot_markers + marker\n",
    "   \n",
    "\n",
    "bin_markers = tuple (bin_markers)\n",
    "tree_markers = tuple (tree_markers)\n",
    "#foot_markers = tuple (foot_markers)\n",
    "''' \n",
    " # creating the path of the mapping exercise \n",
    "\n",
    "ant_path = AntPath (\n",
    "    locations=track_pos,     \n",
    "    dash_array=[1, 10],\n",
    "    delay=2000,\n",
    "    color='#7590ba',\n",
    "    pulse_color='#3f6fba',\n",
    "    name='Trail')\n",
    "\n",
    "m.add_layer(ant_path)\n",
    "\n",
    "display (m) "
   ]
  },
  {
   "cell_type": "code",
   "execution_count": 18,
   "metadata": {},
   "outputs": [
    {
     "data": {
      "application/vnd.jupyter.widget-view+json": {
       "model_id": "8ba045e142c44f38885830f4be324313",
       "version_major": 2,
       "version_minor": 0
      },
      "text/plain": [
       "Map(bottom=5816168.0, center=[48.231139, 16.374955], controls=(ZoomControl(options=['position', 'zoom_in_text'…"
      ]
     },
     "metadata": {},
     "output_type": "display_data"
    }
   ],
   "source": [
    "# creating the path of the mapping exercise \n",
    "\n",
    "ant_path = AntPath (\n",
    "    locations=track_pos,     \n",
    "    dash_array=[1, 10],\n",
    "    delay=2000,\n",
    "    color='#7590ba',\n",
    "    pulse_color='#3f6fba',\n",
    "    name='Trail')\n",
    "\n",
    "m.add_layer(ant_path)\n",
    "\n",
    "display (m) "
   ]
  },
  {
   "cell_type": "markdown",
   "metadata": {},
   "source": [
    "## Grouping of markers (not really useful in this context) "
   ]
  },
  {
   "cell_type": "code",
   "execution_count": null,
   "metadata": {},
   "outputs": [],
   "source": [
    "\"\"\"\n",
    "bin_layer = MarkerCluster(markers = bin_markers, name='Trash bins')\n",
    "tree_layer = MarkerCluster(markers = tree_markers, name='Tree w. trash')\n",
    "\n",
    "#foot_layer = MarkerCluster(markers = foot_markers, name='Trail')\n",
    "# print(bin_layer)\n",
    "\n",
    "m.add_layer(bin_layer) \n",
    "m.add_layer(tree_layer) \n",
    "m.add_layer(ant_path)\n",
    "m\n",
    "\"\"\"\n"
   ]
  },
  {
   "cell_type": "markdown",
   "metadata": {},
   "source": [
    "## The resulting HTML file should be visible in any browser (however, icons will be missing - fixible)"
   ]
  },
  {
   "cell_type": "code",
   "execution_count": null,
   "metadata": {},
   "outputs": [],
   "source": [
    "m.save('my_map.html', title='My Map')"
   ]
  },
  {
   "cell_type": "markdown",
   "metadata": {},
   "source": [
    "## Some cleaning up if needed "
   ]
  },
  {
   "cell_type": "code",
   "execution_count": null,
   "metadata": {},
   "outputs": [],
   "source": [
    "m.clear_layers()"
   ]
  },
  {
   "cell_type": "code",
   "execution_count": null,
   "metadata": {},
   "outputs": [],
   "source": [
    "m.remove_layer(bin_layer)\n",
    "m.remove_layer(tree_layer)\n",
    "m.remove_layer (ant_path)"
   ]
  },
  {
   "cell_type": "markdown",
   "metadata": {},
   "source": [
    "## Integrating a different basemap with more details "
   ]
  },
  {
   "cell_type": "code",
   "execution_count": null,
   "metadata": {},
   "outputs": [],
   "source": [
    "from ipyleaflet import Map, WMSLayer, basemaps\n",
    "#wmts = \"http://maps.wien.gv.at/basemap/geolandbasemap/normal/google3857/{z}/{y}/{x}.png\"\n",
    "\n",
    "wms = WMSLayer(\n",
    "    url='http://maps.wien.gv.at/basemap/geolandbasemap/normal/google3857/{z}/{y}/{x}.png',\n",
    "    format='image/png',\n",
    "    transparent=True,\n",
    "    attribution='wait'\n",
    ")\n",
    "\n",
    "m.add_layer(wms)\n",
    "\n",
    "m"
   ]
  },
  {
   "cell_type": "markdown",
   "metadata": {},
   "source": [
    "## For later: Experimenting with coloring regions or neighborhoods "
   ]
  },
  {
   "cell_type": "code",
   "execution_count": null,
   "metadata": {},
   "outputs": [],
   "source": [
    "import csv \n",
    "from collections import defaultdict"
   ]
  },
  {
   "cell_type": "code",
   "execution_count": null,
   "metadata": {},
   "outputs": [],
   "source": [
    "#the syntax is: mydict[key] = \"value\"\n",
    "#mydict [\"iphone 5S\"] = 2013\n",
    "\n",
    "def parse_csv_by_field(filename, fieldnames):\n",
    "    print(fieldnames)\n",
    "    d = defaultdict(list)\n",
    "    with open(filename, newline='') as csvfile:\n",
    "        reader = csv.DictReader(csvfile, fieldnames)\n",
    "        next(reader)  # remove header\n",
    "        for row in reader:\n",
    "            d[row ['bundesland']] = int (row ['measurement'])\n",
    "    return dict(d)\n",
    "\n",
    "\n",
    "area_data = parse_csv_by_field('data/area_data.csv', ['bundesland','measurement'])\n",
    "area_data \n",
    " \n",
    "    "
   ]
  },
  {
   "cell_type": "code",
   "execution_count": null,
   "metadata": {},
   "outputs": [],
   "source": [
    "m.clear_layers()"
   ]
  },
  {
   "cell_type": "raw",
   "metadata": {},
   "source": [
    "geo_json_borders\n",
    "\n",
    "{'type': 'FeatureCollection',\n",
    " 'name': 'gemeinden_999_geo',\n",
    " 'crs': {'type': 'name',\n",
    "  'properties': {'name': 'urn:ogc:def:crs:OGC:1.3:CRS84'}},\n",
    " 'features': [{'type': 'Feature',\n",
    "   'properties': {'name': 'Pöttsching', 'iso': '10609'},\n",
    "   'geometry': {'type': 'MultiPolygon',\n",
    "    'coordinates': [[[[16.404354111718263, 47.79918128500937],\n",
    "       [16.400857594414486, 47.79178318259396],\n",
    "       [16.370098559225617, 47.75647909430695],\n",
    "       [16.36178609891293, 47.750404442983026],\n",
    "       [16.337313248332276, 47.775956948979676],"
   ]
  },
  {
   "cell_type": "code",
   "execution_count": null,
   "metadata": {},
   "outputs": [],
   "source": [
    "import geopandas as gpd\n",
    "import json \n",
    "states = gpd.read_file('geojson/laender.json')\n",
    "print(states.head())"
   ]
  },
  {
   "cell_type": "raw",
   "metadata": {},
   "source": [
    "borders1 = 'geojson/bezirke_vienna.json'\n",
    "borders2 = 'geojson/gemeinden_999_geo.json'\n",
    "borders3 = 'geojson/laender.json'\n",
    "\n",
    "with open(borders3) as f:\n",
    "    geo_json_borders = json.load(f)\n",
    "\n",
    "wms = WMSLayer(\n",
    "    url='http://maps.wien.gv.at/basemap/geolandbasemap/normal/google3857/{z}/{y}/{x}.png',\n",
    "    format='image/png',\n",
    "    transparent=True,\n",
    "    attribution='wait'\n",
    ")\n",
    "\n",
    "\n",
    "m = Map(center=center, zoom=12, layout=Layout(width='100%', height='600px'))\n",
    "\n",
    "'''\n",
    "border_layer = GeoJSON(data=geo_json_borders,\n",
    "                                 style = {'color': 'red', \n",
    "                                          'opacity': 1.0, \n",
    "                                          'weight': 2.9,\n",
    "                                          'fill': 'blue',\n",
    "                                          'fillOpacity': 0.2})\n",
    "'''\n",
    "\n",
    "layer = Choropleth(\n",
    "    geo_data=geo_json_borders,\n",
    "    choro_data=area_data,\n",
    "    key_on= 'iso',\n",
    "    colormap=linear.YlOrRd_04,\n",
    "    border_color='black',\n",
    "    style={'fillOpacity': 0.8, 'dashArray': '5, 5'})\n",
    "\n",
    "\n",
    "m.add_layer(wms)\n",
    "m.add_layer(border_layer)\n",
    "\n",
    "m"
   ]
  },
  {
   "cell_type": "code",
   "execution_count": null,
   "metadata": {},
   "outputs": [],
   "source": [
    "geo_json_borders ['features'] [0] ['properties'] ['name']"
   ]
  },
  {
   "cell_type": "code",
   "execution_count": null,
   "metadata": {},
   "outputs": [],
   "source": []
  }
 ],
 "metadata": {
  "hide_input": false,
  "kernelspec": {
   "display_name": "ipyleaflet",
   "language": "python",
   "name": "ipyleaflet"
  },
  "language_info": {
   "codemirror_mode": {
    "name": "ipython",
    "version": 3
   },
   "file_extension": ".py",
   "mimetype": "text/x-python",
   "name": "python",
   "nbconvert_exporter": "python",
   "pygments_lexer": "ipython3",
   "version": "3.8.1"
  },
  "toc": {
   "base_numbering": 1,
   "nav_menu": {},
   "number_sections": true,
   "sideBar": true,
   "skip_h1_title": false,
   "title_cell": "Table of Contents",
   "title_sidebar": "Contents",
   "toc_cell": true,
   "toc_position": {},
   "toc_section_display": true,
   "toc_window_display": true
  },
  "widgets": {
   "application/vnd.jupyter.widget-state+json": {
    "state": {
     "103cf4d8ad504bf8838c3323961ce087": {
      "model_module": "jupyter-leaflet",
      "model_module_version": "^0.13.2",
      "model_name": "LeafletTileLayerModel",
      "state": {
       "_model_module_version": "^0.13.2",
       "_view_module_version": "^0.13.2",
       "attribution": "Tiles &copy; Esri &mdash; Source: Esri, DeLorme, NAVTEQ, USGS, Intermap, iPC, NRCAN, Esri Japan, METI, Esri China (Hong Kong), Esri (Thailand), TomTom, 2012",
       "base": true,
       "max_native_zoom": 18,
       "max_zoom": 20,
       "min_native_zoom": 0,
       "min_zoom": 1,
       "name": "Esri.WorldStreetMap",
       "options": [
        "attribution",
        "detect_retina",
        "max_native_zoom",
        "max_zoom",
        "min_native_zoom",
        "min_zoom",
        "no_wrap",
        "tile_size",
        "tms"
       ],
       "url": "http://server.arcgisonline.com/ArcGIS/rest/services/World_Street_Map/MapServer/tile/{z}/{y}/{x}"
      }
     },
     "11ebc4a9be1043039e6f3d320e752cd5": {
      "model_module": "jupyter-leaflet",
      "model_module_version": "^0.13.2",
      "model_name": "LeafletAttributionControlModel",
      "state": {
       "_model_module_version": "^0.13.2",
       "_view_module_version": "^0.13.2",
       "options": [
        "position",
        "prefix"
       ],
       "position": "bottomright",
       "prefix": "ipyleaflet"
      }
     },
     "1deff3a6e77544d499ad2ccc30141d38": {
      "model_module": "jupyter-leaflet",
      "model_module_version": "^0.13.2",
      "model_name": "LeafletLayersControlModel",
      "state": {
       "_model_module_version": "^0.13.2",
       "_view_module_version": "^0.13.2",
       "options": [
        "position"
       ],
       "position": "topright"
      }
     },
     "1eb1857d53aa40cc970ab16f8bf617c5": {
      "model_module": "@jupyter-widgets/controls",
      "model_module_version": "1.5.0",
      "model_name": "IntSliderModel",
      "state": {
       "description": "Zoom level:",
       "layout": "IPY_MODEL_72bcc66314684db0a455f36640934dda",
       "max": 20,
       "min": 10,
       "style": "IPY_MODEL_86eef35840b14202a116198c386eb299",
       "value": 16
      }
     },
     "369cc9fb4e4d4c1e8e0ffcd8e6e188a0": {
      "model_module": "jupyter-leaflet",
      "model_module_version": "^0.13.2",
      "model_name": "LeafletWidgetControlModel",
      "state": {
       "_model_module": "jupyter-leaflet",
       "_model_module_version": "^0.13.2",
       "_view_count": null,
       "_view_module": "jupyter-leaflet",
       "_view_module_version": "^0.13.2",
       "options": [
        "position"
       ],
       "position": "topright",
       "widget": "IPY_MODEL_1eb1857d53aa40cc970ab16f8bf617c5"
      }
     },
     "499164a9c9d648f6a030e7993e7185ce": {
      "model_module": "jupyter-leaflet",
      "model_module_version": "^0.13.2",
      "model_name": "LeafletMeasureControlModel",
      "state": {
       "_model_module_version": "^0.13.2",
       "_view_module_version": "^0.13.2",
       "active_color": "orange",
       "completed_color": "blue",
       "options": [
        "active_color",
        "capture_z_index",
        "completed_color",
        "popup_options",
        "position",
        "primary_area_unit",
        "primary_length_unit",
        "secondary_area_unit",
        "secondary_length_unit"
       ],
       "position": "bottomleft",
       "primary_area_unit": "sqmeters",
       "primary_length_unit": "meters",
       "secondary_area_unit": null,
       "secondary_length_unit": null
      }
     },
     "4e35bfdf421347d7826996a0eaaddd21": {
      "model_module": "jupyter-leaflet",
      "model_module_version": "^0.13.2",
      "model_name": "LeafletMapStyleModel",
      "state": {
       "_model_module_version": "^0.13.2"
      }
     },
     "64899cb445a547408b1c37b43613210d": {
      "model_module": "@jupyter-widgets/base",
      "model_module_version": "1.2.0",
      "model_name": "LayoutModel",
      "state": {
       "height": "600px",
       "width": "100%"
      }
     },
     "72bcc66314684db0a455f36640934dda": {
      "model_module": "@jupyter-widgets/base",
      "model_module_version": "1.2.0",
      "model_name": "LayoutModel",
      "state": {}
     },
     "7b735876ac2141778fb589c010c32503": {
      "model_module": "jupyter-leaflet",
      "model_module_version": "^0.13.2",
      "model_name": "LeafletFullScreenControlModel",
      "state": {
       "_model_module_version": "^0.13.2",
       "_view_module_version": "^0.13.2",
       "options": [
        "position"
       ]
      }
     },
     "86eef35840b14202a116198c386eb299": {
      "model_module": "@jupyter-widgets/controls",
      "model_module_version": "1.5.0",
      "model_name": "SliderStyleModel",
      "state": {
       "description_width": ""
      }
     },
     "912e56f6985f4ff98a7a7a33b3951627": {
      "model_module": "jupyter-leaflet",
      "model_module_version": "^0.13.2",
      "model_name": "LeafletScaleControlModel",
      "state": {
       "_model_module_version": "^0.13.2",
       "_view_module_version": "^0.13.2",
       "imperial": false,
       "max_width": 100,
       "metric": true,
       "options": [
        "imperial",
        "max_width",
        "metric",
        "position",
        "update_when_idle"
       ],
       "position": "bottomleft",
       "update_when_idle": false
      }
     },
     "93e5573caabf4e11b968ac3b2fef2dbb": {
      "model_module": "jupyter-leaflet",
      "model_module_version": "^0.13.2",
      "model_name": "LeafletMapStyleModel",
      "state": {
       "_model_module_version": "^0.13.2"
      }
     },
     "9eff064fe6da44f2b2b98aadeca3ce29": {
      "model_module": "jupyter-leaflet",
      "model_module_version": "^0.13.2",
      "model_name": "LeafletMapStyleModel",
      "state": {
       "_model_module_version": "^0.13.2",
       "cursor": "move"
      }
     },
     "bf4f0a4f16304d50b999076e82176d44": {
      "model_module": "@jupyter-widgets/controls",
      "model_module_version": "1.5.0",
      "model_name": "LinkModel",
      "state": {
       "source": [
        "IPY_MODEL_1eb1857d53aa40cc970ab16f8bf617c5",
        "value"
       ],
       "target": [
        "IPY_MODEL_f99c092cae984e55a0bfa73d77646ff8",
        "zoom"
       ]
      }
     },
     "f8bc35fea6ce4b7d89b16345d19e4d1c": {
      "model_module": "jupyter-leaflet",
      "model_module_version": "^0.13.2",
      "model_name": "LeafletZoomControlModel",
      "state": {
       "_model_module_version": "^0.13.2",
       "_view_module_version": "^0.13.2",
       "options": [
        "position",
        "zoom_in_text",
        "zoom_in_title",
        "zoom_out_text",
        "zoom_out_title"
       ]
      }
     },
     "f99c092cae984e55a0bfa73d77646ff8": {
      "model_module": "jupyter-leaflet",
      "model_module_version": "^0.13.2",
      "model_name": "LeafletMapModel",
      "state": {
       "_model_module_version": "^0.13.2",
       "_view_module_version": "^0.13.2",
       "bottom": 5816168,
       "center": [
        48.231139,
        16.374955
       ],
       "controls": [
        "IPY_MODEL_f8bc35fea6ce4b7d89b16345d19e4d1c",
        "IPY_MODEL_11ebc4a9be1043039e6f3d320e752cd5",
        "IPY_MODEL_369cc9fb4e4d4c1e8e0ffcd8e6e188a0",
        "IPY_MODEL_7b735876ac2141778fb589c010c32503",
        "IPY_MODEL_912e56f6985f4ff98a7a7a33b3951627",
        "IPY_MODEL_1deff3a6e77544d499ad2ccc30141d38",
        "IPY_MODEL_499164a9c9d648f6a030e7993e7185ce"
       ],
       "default_style": "IPY_MODEL_93e5573caabf4e11b968ac3b2fef2dbb",
       "dragging_style": "IPY_MODEL_9eff064fe6da44f2b2b98aadeca3ce29",
       "east": 16.38518571853638,
       "fullscreen": false,
       "interpolation": "bilinear",
       "layers": [
        "IPY_MODEL_103cf4d8ad504bf8838c3323961ce087"
       ],
       "layout": "IPY_MODEL_64899cb445a547408b1c37b43613210d",
       "left": 9151260,
       "modisdate": "yesterday",
       "north": 48.235421620572104,
       "options": [
        "bounce_at_zoom_limits",
        "box_zoom",
        "center",
        "close_popup_on_click",
        "double_click_zoom",
        "dragging",
        "fullscreen",
        "inertia",
        "inertia_deceleration",
        "inertia_max_speed",
        "interpolation",
        "keyboard",
        "keyboard_pan_offset",
        "keyboard_zoom_offset",
        "max_zoom",
        "min_zoom",
        "scroll_wheel_zoom",
        "tap",
        "tap_tolerance",
        "touch_zoom",
        "world_copy_jump",
        "zoom",
        "zoom_animation_threshold",
        "zoom_delta",
        "zoom_snap",
        "zoom_start"
       ],
       "right": 9152213,
       "south": 48.22684549597699,
       "style": "IPY_MODEL_4e35bfdf421347d7826996a0eaaddd21",
       "top": 5815568,
       "west": 16.36473655700684,
       "window_url": "http://localhost:8888/lab#Table-of-Contents",
       "zoom": 16
      }
     }
    },
    "version_major": 2,
    "version_minor": 0
   }
  }
 },
 "nbformat": 4,
 "nbformat_minor": 4
}
