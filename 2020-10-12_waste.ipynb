{
 "cells": [
  {
   "cell_type": "code",
   "execution_count": 3,
   "metadata": {},
   "outputs": [],
   "source": [
    "# not all of these libraries are needed but for now let's load them to be prepared :-) \n",
    "from ipyleaflet import (Map, GeoData, WidgetControl, GeoJSON, basemaps,\n",
    " LayersControl, Icon, Marker,basemap_to_tiles, Choropleth, AntPath,\n",
    " MarkerCluster, Heatmap, SearchControl, FullScreenControl, AwesomeIcon, \n",
    " ScaleControl, MeasureControl, SplitMapControl, WMSLayer, Polygon, Choropleth)"
   ]
  },
  {
   "cell_type": "code",
   "execution_count": 4,
   "metadata": {},
   "outputs": [],
   "source": [
    "# ipywidgets add user interactions to our notebook cells \n",
    "# read the docs https://ipywidgets.readthedocs.io/en/latest/\n",
    "from ipywidgets import Text, HTML, IntSlider, ColorPicker, jslink, Layout\n",
    "from branca.colormap import linear"
   ]
  },
  {
   "cell_type": "code",
   "execution_count": 5,
   "metadata": {},
   "outputs": [],
   "source": [
    "# something to look into when wanting to color areas of a city or a region (Choropleth Maps)\n",
    "# https://blog.datawrapper.de/choroplethmaps/\n",
    "#import geopandas as gpd\n",
    "#import json"
   ]
  },
  {
   "cell_type": "code",
   "execution_count": 6,
   "metadata": {},
   "outputs": [],
   "source": [
    "# Pandas = derived from \"Python and data analysis\"\n",
    "import pandas as pd  "
   ]
  },
  {
   "cell_type": "markdown",
   "metadata": {},
   "source": [
    "## Basic Map Parameters "
   ]
  },
  {
   "cell_type": "code",
   "execution_count": 9,
   "metadata": {},
   "outputs": [
    {
     "data": {
      "text/plain": [
       "'\\nalternative options for basemaps are \\nbasemap = basemaps.Stamen.Watercolor\\nbasemap = basemaps.Stamen.Toner\\nbasemap = basemaps.Stamen.Terrain\\netc \\n\\n'"
      ]
     },
     "execution_count": 9,
     "metadata": {},
     "output_type": "execute_result"
    }
   ],
   "source": [
    "# the centre of your map should be about the starting point of your mapping tour \n",
    "center = [48.231139, 16.374955]\n",
    "zoom =16\n",
    "\n",
    "# you can adjust the map size via ipwidgets *Layout* attribute  \n",
    "basemap = basemaps.Esri.WorldStreetMap\n",
    "layout = Layout(width='100%', height='600px')\n",
    "\n",
    "\"\"\"\n",
    "alternative options for basemaps are \n",
    "basemap = basemaps.Stamen.Watercolor\n",
    "basemap = basemaps.Stamen.Toner\n",
    "basemap = basemaps.Stamen.Terrain\n",
    "etc \n",
    "\n",
    "\"\"\""
   ]
  },
  {
   "cell_type": "markdown",
   "metadata": {},
   "source": [
    "## Basic Map "
   ]
  },
  {
   "cell_type": "code",
   "execution_count": 12,
   "metadata": {},
   "outputs": [
    {
     "data": {
      "application/vnd.jupyter.widget-view+json": {
       "model_id": "3aecf37df0094714be62c7c8467a1ac1",
       "version_major": 2,
       "version_minor": 0
      },
      "text/plain": [
       "Map(center=[48.231139, 16.374955], controls=(ZoomControl(options=['position', 'zoom_in_text', 'zoom_in_title',…"
      ]
     },
     "metadata": {},
     "output_type": "display_data"
    }
   ],
   "source": [
    "m = Map(center=center, zoom=zoom, basemap = basemap, layout=layout)\n",
    "\n",
    "# add user interaction / user information such as the scale of a map \n",
    "zoom_slider = IntSlider(description='Zoom level:', min=10, max=20, value=16)\n",
    "jslink((zoom_slider, 'value'), (m, 'zoom'))\n",
    "\n",
    "widget_control1 = WidgetControl(widget=zoom_slider, position='topright')\n",
    "m.add_control(widget_control1)\n",
    "m.add_control(FullScreenControl())\n",
    "m.add_control(ScaleControl(position='bottomleft', imperial = False))\n",
    "m.add_control(LayersControl(position='topright'))\n",
    "\n",
    "# this adds a nice feature to meassure the length of a path or a polygone area in square meters \n",
    "measure = MeasureControl(\n",
    "    position='bottomleft',\n",
    "    active_color = 'orange',\n",
    "    primary_length_unit = 'meters',\n",
    "    primary_area_unit = 'sqmeters',\n",
    "    completed_color = 'blue'\n",
    ")\n",
    "m.add_control(measure)\n",
    "display (m)"
   ]
  },
  {
   "cell_type": "markdown",
   "metadata": {},
   "source": [
    "## Create a Split Map "
   ]
  },
  {
   "cell_type": "code",
   "execution_count": 17,
   "metadata": {},
   "outputs": [
    {
     "data": {
      "application/vnd.jupyter.widget-view+json": {
       "model_id": "6e2c1496b4ae4b9e85c270fdb9005069",
       "version_major": 2,
       "version_minor": 0
      },
      "text/plain": [
       "Map(center=[48.231139, 16.374955], controls=(ZoomControl(options=['position', 'zoom_in_text', 'zoom_in_title',…"
      ]
     },
     "metadata": {},
     "output_type": "display_data"
    }
   ],
   "source": [
    "basemap = basemaps.Esri.WorldStreetMap\n",
    "split_map = Map(center=center, zoom=zoom, layout=layout)\n",
    "\n",
    "# create right and left layers\n",
    "left_layer  = basemap_to_tiles(basemap=basemap)\n",
    "right_layer = basemap_to_tiles(basemap=basemaps.Stamen.Toner) \n",
    "\n",
    "# create split control\n",
    "control = SplitMapControl(left_layer=left_layer, right_layer=right_layer)\n",
    "\n",
    "#add control to map\n",
    "split_map.add_control(control)\n",
    "\n",
    "# display map\n",
    "\n",
    "zoom_slider = IntSlider(description='Zoom level:', min=10, max=20, value=16)\n",
    "jslink((zoom_slider, 'value'), (m, 'zoom'))\n",
    "\n",
    "widget_control1 = WidgetControl(widget=zoom_slider, position='topright')\n",
    "split_map.add_control(widget_control1)\n",
    "split_map.add_control(FullScreenControl())\n",
    "split_map.add_control(ScaleControl(position='bottomleft', imperial = False))\n",
    "split_map.add_control(LayersControl(position='topright')) \n",
    "\n",
    "display(split_map)"
   ]
  },
  {
   "cell_type": "markdown",
   "metadata": {},
   "source": [
    "## Reading the data as provided by the gadget (there are always two types of files - tracks and ratings of spots)"
   ]
  },
  {
   "cell_type": "code",
   "execution_count": 19,
   "metadata": {},
   "outputs": [
    {
     "name": "stdout",
     "output_type": "stream",
     "text": [
      "number of track points:  500\n"
     ]
    },
    {
     "data": {
      "text/html": [
       "<div>\n",
       "<style scoped>\n",
       "    .dataframe tbody tr th:only-of-type {\n",
       "        vertical-align: middle;\n",
       "    }\n",
       "\n",
       "    .dataframe tbody tr th {\n",
       "        vertical-align: top;\n",
       "    }\n",
       "\n",
       "    .dataframe thead th {\n",
       "        text-align: right;\n",
       "    }\n",
       "</style>\n",
       "<table border=\"1\" class=\"dataframe\">\n",
       "  <thead>\n",
       "    <tr style=\"text-align: right;\">\n",
       "      <th></th>\n",
       "      <th>Date</th>\n",
       "      <th>Time</th>\n",
       "      <th>Raw_Time</th>\n",
       "      <th>Latitude</th>\n",
       "      <th>Longitude</th>\n",
       "      <th>Altitude</th>\n",
       "      <th>Sats</th>\n",
       "      <th>Sat_Speed</th>\n",
       "      <th>Precision</th>\n",
       "    </tr>\n",
       "  </thead>\n",
       "  <tbody>\n",
       "    <tr>\n",
       "      <th>0</th>\n",
       "      <td>121020</td>\n",
       "      <td>07:12:47</td>\n",
       "      <td>6124700</td>\n",
       "      <td>48.2311</td>\n",
       "      <td>16.375006</td>\n",
       "      <td>160.2</td>\n",
       "      <td>4</td>\n",
       "      <td>0.5926</td>\n",
       "      <td>6.51</td>\n",
       "    </tr>\n",
       "    <tr>\n",
       "      <th>1</th>\n",
       "      <td>121020</td>\n",
       "      <td>07:12:47</td>\n",
       "      <td>6124700</td>\n",
       "      <td>48.2311</td>\n",
       "      <td>16.375006</td>\n",
       "      <td>160.2</td>\n",
       "      <td>4</td>\n",
       "      <td>0.5926</td>\n",
       "      <td>6.51</td>\n",
       "    </tr>\n",
       "    <tr>\n",
       "      <th>2</th>\n",
       "      <td>121020</td>\n",
       "      <td>07:12:47</td>\n",
       "      <td>6124700</td>\n",
       "      <td>48.2311</td>\n",
       "      <td>16.375006</td>\n",
       "      <td>160.2</td>\n",
       "      <td>4</td>\n",
       "      <td>0.5926</td>\n",
       "      <td>6.51</td>\n",
       "    </tr>\n",
       "  </tbody>\n",
       "</table>\n",
       "</div>"
      ],
      "text/plain": [
       "     Date      Time  Raw_Time  Latitude  Longitude  Altitude  Sats  Sat_Speed  \\\n",
       "0  121020  07:12:47   6124700   48.2311  16.375006     160.2     4     0.5926   \n",
       "1  121020  07:12:47   6124700   48.2311  16.375006     160.2     4     0.5926   \n",
       "2  121020  07:12:47   6124700   48.2311  16.375006     160.2     4     0.5926   \n",
       "\n",
       "   Precision  \n",
       "0       6.51  \n",
       "1       6.51  \n",
       "2       6.51  "
      ]
     },
     "execution_count": 19,
     "metadata": {},
     "output_type": "execute_result"
    }
   ],
   "source": [
    "ratings=pd.read_csv('data/2020-10-12_rate_waste.csv', sep=';')\n",
    "tracks=pd.read_csv('data/2020-10-12_track_waste.csv', sep=';')\n",
    "print('number of track points: ', len (tracks))\n",
    "tracks.head(3)"
   ]
  },
  {
   "cell_type": "markdown",
   "metadata": {},
   "source": [
    "## Frequency of categories 1 - 5 "
   ]
  },
  {
   "cell_type": "code",
   "execution_count": 20,
   "metadata": {},
   "outputs": [
    {
     "data": {
      "text/plain": [
       "Category\n",
       "1    13\n",
       "2     4\n",
       "4     5\n",
       "dtype: int64"
      ]
     },
     "execution_count": 20,
     "metadata": {},
     "output_type": "execute_result"
    }
   ],
   "source": [
    "ratings.groupby(['Category']).size()"
   ]
  },
  {
   "cell_type": "code",
   "execution_count": 21,
   "metadata": {},
   "outputs": [
    {
     "name": "stdout",
     "output_type": "stream",
     "text": [
      "number of polutted trees:  17\n",
      "number of overflowing bins:  5\n"
     ]
    }
   ],
   "source": [
    "# at this point we add some meaning to the categories \n",
    "tree_waste = ratings[ (ratings['Category'] == 1) | (ratings['Category'] == 2) ] \n",
    "bin_waste = ratings[ ratings['Category'] == 4] \n",
    "print ('number of polutted trees: ', len(tree_waste))\n",
    "print ('number of overflowing bins: ', len(bin_waste))"
   ]
  },
  {
   "cell_type": "code",
   "execution_count": 22,
   "metadata": {},
   "outputs": [],
   "source": [
    "# a collection of points (GPS coordinates) needs to be provided as a list of lists, this is what this funciton does  \n",
    "def location_converter (df): \n",
    "    markers = df.loc[:,{'Latitude','Longitude'}] #ouput dataframe \n",
    "    markers = markers.reindex(columns = ['Latitude','Longitude']) #\n",
    "    markers = markers.to_records(index=False) #output array\n",
    "    markers = list (markers) #output list of tuples\n",
    "    markers = [list(i) for i in markers] # list of lists\n",
    "    return markers\n"
   ]
  },
  {
   "cell_type": "code",
   "execution_count": 24,
   "metadata": {},
   "outputs": [
    {
     "data": {
      "text/plain": [
       "[[48.2311, 16.375006], [48.2311, 16.375006]]"
      ]
     },
     "execution_count": 24,
     "metadata": {},
     "output_type": "execute_result"
    }
   ],
   "source": [
    "# calling the funnnction and checking outpu \n",
    "tree_pos = location_converter (tree_waste)\n",
    "bin_pos = location_converter (bin_waste)\n",
    "track_pos = location_converter (tracks)\n",
    "track_pos [0:2]"
   ]
  },
  {
   "cell_type": "code",
   "execution_count": 25,
   "metadata": {},
   "outputs": [
    {
     "data": {
      "text/plain": [
       "'/Users/me/code/notebooks/ipyleaflet'"
      ]
     },
     "execution_count": 25,
     "metadata": {},
     "output_type": "execute_result"
    }
   ],
   "source": [
    "import os\n",
    "os.getcwd()"
   ]
  },
  {
   "cell_type": "markdown",
   "metadata": {},
   "source": [
    "## Adding tree- and rubish bin locations to the map "
   ]
  },
  {
   "cell_type": "code",
   "execution_count": 26,
   "metadata": {},
   "outputs": [
    {
     "name": "stdout",
     "output_type": "stream",
     "text": [
      "Icon(icon_size=[30, 40], icon_url='files/ipyleaflet/icons/tree.png', options=['icon_anchor', 'icon_size', 'icon_url', 'popup_anchor', 'shadow_anchor', 'shadow_size', 'shadow_url'], popup_anchor=[0, 0])\n"
     ]
    },
    {
     "data": {
      "text/plain": [
       "'\\nfor i in range(len(track_pos)):\\n    marker  = [Marker(location=track_pos[i], icon = foot_icon)]\\n    foot_markers = foot_markers + marker\\n   \\n\\nbin_markers = tuple (bin_markers)\\ntree_markers = tuple (tree_markers)\\n#foot_markers = tuple (foot_markers)\\n'"
      ]
     },
     "execution_count": 26,
     "metadata": {},
     "output_type": "execute_result"
    }
   ],
   "source": [
    "#trash_icon = AwesomeIcon (name='trash', marker_color='white', icon_color='black', spin=True)\n",
    "#trash_icon = Icon(icon_url='https://leafletjs.com/examples/custom-icons/leaf-red.png', icon_size=[25, 40]) #red, green, yellow\n",
    "\n",
    "bin_markers = []\n",
    "tree_markers = []\n",
    "foot_markers = []\n",
    "\n",
    "trash_icon = Icon(icon_url='files/'+os.getcwd().split('/')[-1]+'/icons/trashbin.png', icon_size=[30, 40])\n",
    "tree_icon = Icon(icon_url='files/'+os.getcwd().split('/')[-1]+'/icons/tree.png', icon_size=[30, 40])\n",
    "foot_icon = Icon(icon_url='files/'+os.getcwd().split('/')[-1]+'/icons/foot.png', icon_size=[30, 40])\n",
    "\n",
    "\n",
    "for i in range(len(bin_pos)):\n",
    "    marker  = Marker(location=bin_pos[i], icon = trash_icon)\n",
    "    m.add_layer(marker);\n",
    "    #bin_markers = bin_markers + marker\n",
    "    \n",
    "    \n",
    "for i in range(len(tree_pos)):\n",
    "    marker  = Marker(location=tree_pos[i], icon = tree_icon)\n",
    "    m.add_layer(marker);\n",
    "    #tree_markers = tree_markers + marker\n",
    "    \n",
    "'''\n",
    "for i in range(len(track_pos)):\n",
    "    marker  = [Marker(location=track_pos[i], icon = foot_icon)]\n",
    "    foot_markers = foot_markers + marker\n",
    "   \n",
    "\n",
    "bin_markers = tuple (bin_markers)\n",
    "tree_markers = tuple (tree_markers)\n",
    "#foot_markers = tuple (foot_markers)\n",
    "''' \n"
   ]
  },
  {
   "cell_type": "code",
   "execution_count": 29,
   "metadata": {},
   "outputs": [
    {
     "data": {
      "application/vnd.jupyter.widget-view+json": {
       "model_id": "3aecf37df0094714be62c7c8467a1ac1",
       "version_major": 2,
       "version_minor": 0
      },
      "text/plain": [
       "Map(bottom=5816062.0, center=[48.23264883085179, 16.3747251033783], controls=(ZoomControl(options=['position',…"
      ]
     },
     "metadata": {},
     "output_type": "display_data"
    }
   ],
   "source": [
    "# creating the path of the mapping exercise \n",
    "\n",
    "ant_path = AntPath (\n",
    "    locations=track_pos,     \n",
    "    dash_array=[1, 10],\n",
    "    delay=2000,\n",
    "    color='#7590ba',\n",
    "    pulse_color='#3f6fba',\n",
    "    name='Trail')\n",
    "\n",
    "m.add_layer(ant_path)\n",
    "m.layout = Layout(width='100%', height='400px')\n",
    "\n",
    "display (m) "
   ]
  },
  {
   "cell_type": "markdown",
   "metadata": {},
   "source": [
    "## Grouping of markers (not really useful in this context) "
   ]
  },
  {
   "cell_type": "code",
   "execution_count": 31,
   "metadata": {},
   "outputs": [
    {
     "data": {
      "text/plain": [
       "\"\\nbin_layer = MarkerCluster(markers = bin_markers, name='Trash bins')\\ntree_layer = MarkerCluster(markers = tree_markers, name='Tree w. trash')\\n\\n#foot_layer = MarkerCluster(markers = foot_markers, name='Trail')\\n# print(bin_layer)\\n\\nm.add_layer(bin_layer) \\nm.add_layer(tree_layer) \\nm.add_layer(ant_path)\\nm\\n\""
      ]
     },
     "execution_count": 31,
     "metadata": {},
     "output_type": "execute_result"
    }
   ],
   "source": [
    "\"\"\"\n",
    "bin_layer = MarkerCluster(markers = bin_markers, name='Trash bins')\n",
    "tree_layer = MarkerCluster(markers = tree_markers, name='Tree w. trash')\n",
    "\n",
    "#foot_layer = MarkerCluster(markers = foot_markers, name='Trail')\n",
    "# print(bin_layer)\n",
    "\n",
    "m.add_layer(bin_layer) \n",
    "m.add_layer(tree_layer) \n",
    "m.add_layer(ant_path)\n",
    "m\n",
    "\"\"\"\n"
   ]
  },
  {
   "cell_type": "markdown",
   "metadata": {},
   "source": [
    "## The resulting HTML file should be visible in any browser (however, icons will be missing - fixible)"
   ]
  },
  {
   "cell_type": "code",
   "execution_count": 32,
   "metadata": {},
   "outputs": [],
   "source": [
    "m.save('my_map.html', title='My Map')"
   ]
  },
  {
   "cell_type": "markdown",
   "metadata": {},
   "source": [
    "## Some cleaning up if needed "
   ]
  },
  {
   "cell_type": "code",
   "execution_count": null,
   "metadata": {},
   "outputs": [],
   "source": [
    "m.clear_layers()"
   ]
  },
  {
   "cell_type": "code",
   "execution_count": null,
   "metadata": {},
   "outputs": [],
   "source": [
    "m.remove_layer(bin_layer)\n",
    "m.remove_layer(tree_layer)\n",
    "m.remove_layer (ant_path)"
   ]
  },
  {
   "cell_type": "markdown",
   "metadata": {},
   "source": [
    "## Integrating a different basemap with more details "
   ]
  },
  {
   "cell_type": "code",
   "execution_count": 34,
   "metadata": {},
   "outputs": [
    {
     "data": {
      "application/vnd.jupyter.widget-view+json": {
       "model_id": "3aecf37df0094714be62c7c8467a1ac1",
       "version_major": 2,
       "version_minor": 0
      },
      "text/plain": [
       "Map(bottom=5815943.0, center=[48.232920399369064, 16.37470364570618], controls=(ZoomControl(options=['position…"
      ]
     },
     "metadata": {},
     "output_type": "display_data"
    }
   ],
   "source": [
    "from ipyleaflet import Map, WMSLayer, basemaps\n",
    "#wmts = \"http://maps.wien.gv.at/basemap/geolandbasemap/normal/google3857/{z}/{y}/{x}.png\"\n",
    "\n",
    "wms = WMSLayer(\n",
    "    url='http://maps.wien.gv.at/basemap/geolandbasemap/normal/google3857/{z}/{y}/{x}.png',\n",
    "    format='image/png',\n",
    "    transparent=True,\n",
    "    attribution='wait'\n",
    ")\n",
    "\n",
    "m.add_layer(wms)\n",
    "\n",
    "m"
   ]
  },
  {
   "cell_type": "markdown",
   "metadata": {},
   "source": [
    "## For later: Experimenting with coloring regions or neighborhoods "
   ]
  },
  {
   "cell_type": "code",
   "execution_count": 35,
   "metadata": {},
   "outputs": [],
   "source": [
    "import csv \n",
    "from collections import defaultdict"
   ]
  },
  {
   "cell_type": "code",
   "execution_count": 36,
   "metadata": {},
   "outputs": [
    {
     "name": "stdout",
     "output_type": "stream",
     "text": [
      "['bundesland', 'measurement']\n"
     ]
    },
    {
     "data": {
      "text/plain": [
       "{}"
      ]
     },
     "execution_count": 36,
     "metadata": {},
     "output_type": "execute_result"
    }
   ],
   "source": [
    "#the syntax is: mydict[key] = \"value\"\n",
    "#mydict [\"iphone 5S\"] = 2013\n",
    "\n",
    "def parse_csv_by_field(filename, fieldnames):\n",
    "    print(fieldnames)\n",
    "    d = defaultdict(list)\n",
    "    with open(filename, newline='') as csvfile:\n",
    "        reader = csv.DictReader(csvfile, fieldnames)\n",
    "        next(reader)  # remove header\n",
    "        for row in reader:\n",
    "            d[row ['bundesland']] = int (row ['measurement'])\n",
    "    return dict(d)\n",
    "\n",
    "\n",
    "area_data = parse_csv_by_field('data/area_data.csv', ['bundesland','measurement'])\n",
    "area_data \n",
    " \n",
    "    "
   ]
  },
  {
   "cell_type": "code",
   "execution_count": 37,
   "metadata": {},
   "outputs": [],
   "source": [
    "m.clear_layers()"
   ]
  },
  {
   "cell_type": "raw",
   "metadata": {},
   "source": [
    "geo_json_borders\n",
    "\n",
    "{'type': 'FeatureCollection',\n",
    " 'name': 'gemeinden_999_geo',\n",
    " 'crs': {'type': 'name',\n",
    "  'properties': {'name': 'urn:ogc:def:crs:OGC:1.3:CRS84'}},\n",
    " 'features': [{'type': 'Feature',\n",
    "   'properties': {'name': 'Pöttsching', 'iso': '10609'},\n",
    "   'geometry': {'type': 'MultiPolygon',\n",
    "    'coordinates': [[[[16.404354111718263, 47.79918128500937],\n",
    "       [16.400857594414486, 47.79178318259396],\n",
    "       [16.370098559225617, 47.75647909430695],\n",
    "       [16.36178609891293, 47.750404442983026],\n",
    "       [16.337313248332276, 47.775956948979676],"
   ]
  },
  {
   "cell_type": "code",
   "execution_count": 42,
   "metadata": {},
   "outputs": [
    {
     "name": "stdout",
     "output_type": "stream",
     "text": [
      "  iso              name                                           geometry\n",
      "0   4    Oberösterreich  POLYGON ((13.76147 47.52081, 13.74994 47.50213...\n",
      "1   7             Tirol  MULTIPOLYGON (((12.71233 46.73610, 12.71151 46...\n",
      "2   6        Steiermark  POLYGON ((14.07995 47.02247, 14.01723 46.98951...\n",
      "3   1        Burgenland  POLYGON ((16.06678 46.85025, 15.99729 46.83575...\n",
      "4   3  Niederösterreich  POLYGON ((14.85902 47.74099, 14.81927 47.74470...\n"
     ]
    }
   ],
   "source": [
    "import geopandas as gpd\n",
    "import json \n",
    "states = gpd.read_file('geojson/laender.json')\n",
    "print(states.head())"
   ]
  },
  {
   "cell_type": "raw",
   "metadata": {},
   "source": [
    "borders1 = 'geojson/bezirke_vienna.json'\n",
    "borders2 = 'geojson/gemeinden_999_geo.json'\n",
    "borders3 = 'geojson/laender.json'\n",
    "\n",
    "with open(borders3) as f:\n",
    "    geo_json_borders = json.load(f)\n",
    "\n",
    "wms = WMSLayer(\n",
    "    url='http://maps.wien.gv.at/basemap/geolandbasemap/normal/google3857/{z}/{y}/{x}.png',\n",
    "    format='image/png',\n",
    "    transparent=True,\n",
    "    attribution='wait'\n",
    ")\n",
    "\n",
    "\n",
    "m = Map(center=center, zoom=12, layout=Layout(width='100%', height='600px'))\n",
    "\n",
    "'''\n",
    "border_layer = GeoJSON(data=geo_json_borders,\n",
    "                                 style = {'color': 'red', \n",
    "                                          'opacity': 1.0, \n",
    "                                          'weight': 2.9,\n",
    "                                          'fill': 'blue',\n",
    "                                          'fillOpacity': 0.2})\n",
    "'''\n",
    "\n",
    "layer = Choropleth(\n",
    "    geo_data=geo_json_borders,\n",
    "    choro_data=area_data,\n",
    "    key_on= 'iso',\n",
    "    colormap=linear.YlOrRd_04,\n",
    "    border_color='black',\n",
    "    style={'fillOpacity': 0.8, 'dashArray': '5, 5'})\n",
    "\n",
    "\n",
    "m.add_layer(wms)\n",
    "m.add_layer(border_layer)\n",
    "\n",
    "m"
   ]
  },
  {
   "cell_type": "code",
   "execution_count": 44,
   "metadata": {},
   "outputs": [
    {
     "data": {
      "text/plain": [
       "'Oberösterreich'"
      ]
     },
     "execution_count": 44,
     "metadata": {},
     "output_type": "execute_result"
    }
   ],
   "source": [
    "geo_json_borders ['features'] [0] ['properties'] ['name']"
   ]
  },
  {
   "cell_type": "code",
   "execution_count": null,
   "metadata": {},
   "outputs": [],
   "source": []
  }
 ],
 "metadata": {
  "kernelspec": {
   "display_name": "ipyleaflet",
   "language": "python",
   "name": "ipyleaflet"
  },
  "language_info": {
   "codemirror_mode": {
    "name": "ipython",
    "version": 3
   },
   "file_extension": ".py",
   "mimetype": "text/x-python",
   "name": "python",
   "nbconvert_exporter": "python",
   "pygments_lexer": "ipython3",
   "version": "3.8.1"
  },
  "widgets": {
   "application/vnd.jupyter.widget-state+json": {
    "state": {
     "00c6873c8b44407bad2570d7f9814943": {
      "model_module": "jupyter-leaflet",
      "model_module_version": "^0.13.2",
      "model_name": "LeafletMarkerModel",
      "state": {
       "_model_module_version": "^0.13.2",
       "_view_module_version": "^0.13.2",
       "icon": "IPY_MODEL_909cd25f4a344af1b765a97c8a400309",
       "location": [
        48.235084,
        16.370098000000002
       ],
       "options": [
        "alt",
        "draggable",
        "keyboard",
        "rise_offset",
        "rise_on_hover",
        "rotation_angle",
        "rotation_origin",
        "title",
        "z_index_offset"
       ]
      }
     },
     "031e339e37d74d33bd848a2ef9e5152b": {
      "model_module": "@jupyter-widgets/controls",
      "model_module_version": "1.5.0",
      "model_name": "LinkModel",
      "state": {
       "source": [
        "IPY_MODEL_69994db9075740c48f01ab456bb243b0",
        "value"
       ],
       "target": [
        "IPY_MODEL_3aecf37df0094714be62c7c8467a1ac1",
        "zoom"
       ]
      }
     },
     "03975b1e15df49e89c6bdc361bd9a0c4": {
      "model_module": "jupyter-leaflet",
      "model_module_version": "^0.13.2",
      "model_name": "LeafletAttributionControlModel",
      "state": {
       "_model_module_version": "^0.13.2",
       "_view_module_version": "^0.13.2",
       "options": [
        "position",
        "prefix"
       ],
       "position": "bottomright",
       "prefix": "ipyleaflet"
      }
     },
     "04373c0d42494976ba46d8137d24e34b": {
      "model_module": "jupyter-leaflet",
      "model_module_version": "^0.13.2",
      "model_name": "LeafletTileLayerModel",
      "state": {
       "_model_module_version": "^0.13.2",
       "_view_module_version": "^0.13.2",
       "attribution": "Tiles &copy; Esri &mdash; Source: Esri, DeLorme, NAVTEQ, USGS, Intermap, iPC, NRCAN, Esri Japan, METI, Esri China (Hong Kong), Esri (Thailand), TomTom, 2012",
       "base": true,
       "max_native_zoom": 18,
       "max_zoom": 20,
       "min_native_zoom": 0,
       "min_zoom": 1,
       "name": "Esri.WorldStreetMap",
       "options": [
        "attribution",
        "detect_retina",
        "max_native_zoom",
        "max_zoom",
        "min_native_zoom",
        "min_zoom",
        "no_wrap",
        "tile_size",
        "tms"
       ],
       "url": "http://server.arcgisonline.com/ArcGIS/rest/services/World_Street_Map/MapServer/tile/{z}/{y}/{x}"
      }
     },
     "07700a87ace84d79bf3f3619c63d1fcf": {
      "model_module": "jupyter-leaflet",
      "model_module_version": "^0.13.2",
      "model_name": "LeafletMarkerModel",
      "state": {
       "_model_module_version": "^0.13.2",
       "_view_module_version": "^0.13.2",
       "icon": "IPY_MODEL_909cd25f4a344af1b765a97c8a400309",
       "location": [
        48.235440999999994,
        16.371724
       ],
       "options": [
        "alt",
        "draggable",
        "keyboard",
        "rise_offset",
        "rise_on_hover",
        "rotation_angle",
        "rotation_origin",
        "title",
        "z_index_offset"
       ]
      }
     },
     "0aa760ccbeed47ebb531ef937a675abe": {
      "model_module": "jupyter-leaflet",
      "model_module_version": "^0.13.2",
      "model_name": "LeafletTileLayerModel",
      "state": {
       "_model_module_version": "^0.13.2",
       "_view_module_version": "^0.13.2",
       "attribution": "Map tiles by <a href=\"http://stamen.com/\">Stamen Design</a>, under <a href=\"http://creativecommons.org/licenses/by/3.0\">CC BY 3.0</a>. Data by <a href=\"http://openstreetmap.org/\">OpenStreetMap</a>, under <a href=\"http://creativecommons.org/licenses/by-sa/3.0\">CC BY SA</a>.",
       "max_native_zoom": 18,
       "max_zoom": 20,
       "min_native_zoom": 0,
       "name": "Stamen.Toner",
       "options": [
        "attribution",
        "detect_retina",
        "max_native_zoom",
        "max_zoom",
        "min_native_zoom",
        "min_zoom",
        "no_wrap",
        "tile_size",
        "tms"
       ],
       "url": "https://stamen-tiles-a.a.ssl.fastly.net/toner/{z}/{x}/{y}.png"
      }
     },
     "0b0a8e744b274eb2be28186740d44917": {
      "model_module": "@jupyter-widgets/base",
      "model_module_version": "1.2.0",
      "model_name": "LayoutModel",
      "state": {
       "height": "600px",
       "width": "100%"
      }
     },
     "0bc1aa1a2b944637a7ed4cf14891454e": {
      "model_module": "jupyter-leaflet",
      "model_module_version": "^0.13.2",
      "model_name": "LeafletMapStyleModel",
      "state": {
       "_model_module_version": "^0.13.2"
      }
     },
     "10ff5484efc84b0eb96baf1f781f6936": {
      "model_module": "jupyter-leaflet",
      "model_module_version": "^0.13.2",
      "model_name": "LeafletMapStyleModel",
      "state": {
       "_model_module_version": "^0.13.2"
      }
     },
     "113dcf97b3aa4b2f913481271c2f6eb0": {
      "model_module": "@jupyter-widgets/base",
      "model_module_version": "1.2.0",
      "model_name": "LayoutModel",
      "state": {
       "height": "600px",
       "width": "100%"
      }
     },
     "138a93511b0a49eeafbc25ab819619db": {
      "model_module": "@jupyter-widgets/base",
      "model_module_version": "1.2.0",
      "model_name": "LayoutModel",
      "state": {
       "height": "400px",
       "width": "100%"
      }
     },
     "1a1bbbf2012c4f3cbbce8637ebe5ae8a": {
      "model_module": "jupyter-leaflet",
      "model_module_version": "^0.13.2",
      "model_name": "LeafletMarkerModel",
      "state": {
       "_model_module_version": "^0.13.2",
       "_view_module_version": "^0.13.2",
       "icon": "IPY_MODEL_909cd25f4a344af1b765a97c8a400309",
       "location": [
        48.232615,
        16.374924
       ],
       "options": [
        "alt",
        "draggable",
        "keyboard",
        "rise_offset",
        "rise_on_hover",
        "rotation_angle",
        "rotation_origin",
        "title",
        "z_index_offset"
       ]
      }
     },
     "1cd2516b5e254d238c18d226526f0bf0": {
      "model_module": "jupyter-leaflet",
      "model_module_version": "^0.13.2",
      "model_name": "LeafletMapStyleModel",
      "state": {
       "_model_module_version": "^0.13.2"
      }
     },
     "1ebf587001174ca4906fec6d4f34f9f8": {
      "model_module": "jupyter-leaflet",
      "model_module_version": "^0.13.2",
      "model_name": "LeafletLayersControlModel",
      "state": {
       "_model_module_version": "^0.13.2",
       "_view_module_version": "^0.13.2",
       "options": [
        "position"
       ],
       "position": "topright"
      }
     },
     "1f1bcc000e0e4215af226b9654cb0295": {
      "model_module": "jupyter-leaflet",
      "model_module_version": "^0.13.2",
      "model_name": "LeafletWMSLayerModel",
      "state": {
       "_model_module_version": "^0.13.2",
       "_view_module_version": "^0.13.2",
       "attribution": "wait",
       "crs": {
        "custom": false,
        "name": "EPSG3857"
       },
       "format": "image/png",
       "max_native_zoom": 18,
       "min_native_zoom": 0,
       "options": [
        "attribution",
        "detect_retina",
        "format",
        "layers",
        "max_native_zoom",
        "max_zoom",
        "min_native_zoom",
        "min_zoom",
        "no_wrap",
        "styles",
        "tile_size",
        "tms",
        "transparent",
        "uppercase"
       ],
       "transparent": true,
       "url": "http://maps.wien.gv.at/basemap/geolandbasemap/normal/google3857/{z}/{y}/{x}.png"
      }
     },
     "23c739228eff4c7cb29be721011346cf": {
      "model_module": "jupyter-leaflet",
      "model_module_version": "^0.13.2",
      "model_name": "LeafletMapModel",
      "state": {
       "_model_module_version": "^0.13.2",
       "_view_module_version": "^0.13.2",
       "center": [
        48.231139,
        16.374955
       ],
       "controls": [
        "IPY_MODEL_a65f9866d3a0433cae59762dbff7ddbd",
        "IPY_MODEL_9f5e59958f514fcca025127037286f8a"
       ],
       "default_style": "IPY_MODEL_1cd2516b5e254d238c18d226526f0bf0",
       "dragging_style": "IPY_MODEL_5eec16c1cfe54d739ba44a2c56b3fbf0",
       "fullscreen": false,
       "interpolation": "bilinear",
       "layers": [
        "IPY_MODEL_cb057bd4cc934e25b4c728fd9521adef"
       ],
       "layout": "IPY_MODEL_8b01a38be94147188a2fc09ccc4961c2",
       "modisdate": "yesterday",
       "options": [
        "bounce_at_zoom_limits",
        "box_zoom",
        "center",
        "close_popup_on_click",
        "double_click_zoom",
        "dragging",
        "fullscreen",
        "inertia",
        "inertia_deceleration",
        "inertia_max_speed",
        "interpolation",
        "keyboard",
        "keyboard_pan_offset",
        "keyboard_zoom_offset",
        "max_zoom",
        "min_zoom",
        "scroll_wheel_zoom",
        "tap",
        "tap_tolerance",
        "touch_zoom",
        "world_copy_jump",
        "zoom",
        "zoom_animation_threshold",
        "zoom_delta",
        "zoom_snap",
        "zoom_start"
       ],
       "style": "IPY_MODEL_91c63d7321884f34836c0810d21a076d",
       "window_url": "http://localhost:8888/lab"
      }
     },
     "264bbdbd32cc45359116beca620321fa": {
      "model_module": "jupyter-leaflet",
      "model_module_version": "^0.13.2",
      "model_name": "LeafletMapModel",
      "state": {
       "_model_module_version": "^0.13.2",
       "_view_module_version": "^0.13.2",
       "center": [
        48.231139,
        16.374955
       ],
       "controls": [
        "IPY_MODEL_b0171f5a277a4821baed56c83af1810e",
        "IPY_MODEL_b60336ec897f4916a7893d59d0c7aeda"
       ],
       "default_style": "IPY_MODEL_6e7692b98c4a444b86c6b543e3d163a6",
       "dragging_style": "IPY_MODEL_33227626bee74dc68bfb5fff5a1a00ca",
       "fullscreen": false,
       "interpolation": "bilinear",
       "layers": [
        "IPY_MODEL_2a811d8420fb4bbfb9ee694dcaa95847"
       ],
       "layout": "IPY_MODEL_113dcf97b3aa4b2f913481271c2f6eb0",
       "modisdate": "yesterday",
       "options": [
        "bounce_at_zoom_limits",
        "box_zoom",
        "center",
        "close_popup_on_click",
        "double_click_zoom",
        "dragging",
        "fullscreen",
        "inertia",
        "inertia_deceleration",
        "inertia_max_speed",
        "interpolation",
        "keyboard",
        "keyboard_pan_offset",
        "keyboard_zoom_offset",
        "max_zoom",
        "min_zoom",
        "scroll_wheel_zoom",
        "tap",
        "tap_tolerance",
        "touch_zoom",
        "world_copy_jump",
        "zoom",
        "zoom_animation_threshold",
        "zoom_delta",
        "zoom_snap",
        "zoom_start"
       ],
       "style": "IPY_MODEL_b45313782cbf407e9a0b0f7cd5a4d126",
       "window_url": "http://localhost:8888/lab",
       "zoom": 16
      }
     },
     "2a811d8420fb4bbfb9ee694dcaa95847": {
      "model_module": "jupyter-leaflet",
      "model_module_version": "^0.13.2",
      "model_name": "LeafletTileLayerModel",
      "state": {
       "_model_module_version": "^0.13.2",
       "_view_module_version": "^0.13.2",
       "attribution": "Tiles &copy; Esri &mdash; Source: Esri, DeLorme, NAVTEQ, USGS, Intermap, iPC, NRCAN, Esri Japan, METI, Esri China (Hong Kong), Esri (Thailand), TomTom, 2012",
       "base": true,
       "max_native_zoom": 18,
       "max_zoom": 20,
       "min_native_zoom": 0,
       "min_zoom": 1,
       "name": "Esri.WorldStreetMap",
       "options": [
        "attribution",
        "detect_retina",
        "max_native_zoom",
        "max_zoom",
        "min_native_zoom",
        "min_zoom",
        "no_wrap",
        "tile_size",
        "tms"
       ],
       "url": "http://server.arcgisonline.com/ArcGIS/rest/services/World_Street_Map/MapServer/tile/{z}/{y}/{x}"
      }
     },
     "2ab2948dd4424be6ada897f56df679e8": {
      "model_module": "jupyter-leaflet",
      "model_module_version": "^0.13.2",
      "model_name": "LeafletMapStyleModel",
      "state": {
       "_model_module_version": "^0.13.2"
      }
     },
     "2cc91aa001fc4a7eb8805c98442d3704": {
      "model_module": "jupyter-leaflet",
      "model_module_version": "^0.13.2",
      "model_name": "LeafletAttributionControlModel",
      "state": {
       "_model_module_version": "^0.13.2",
       "_view_module_version": "^0.13.2",
       "options": [
        "position",
        "prefix"
       ],
       "position": "bottomright",
       "prefix": "ipyleaflet"
      }
     },
     "302578963841427da0477cc58ec1bcca": {
      "model_module": "jupyter-leaflet",
      "model_module_version": "^0.13.2",
      "model_name": "LeafletTileLayerModel",
      "state": {
       "_model_module_version": "^0.13.2",
       "_view_module_version": "^0.13.2",
       "attribution": "Map tiles by <a href=\"http://stamen.com/\">Stamen Design</a>, under <a href=\"http://creativecommons.org/licenses/by/3.0\">CC BY 3.0</a>. Data by <a href=\"http://openstreetmap.org/\">OpenStreetMap</a>, under <a href=\"http://creativecommons.org/licenses/by-sa/3.0\">CC BY SA</a>.",
       "max_native_zoom": 18,
       "max_zoom": 20,
       "min_native_zoom": 0,
       "name": "Stamen.Toner",
       "options": [
        "attribution",
        "detect_retina",
        "max_native_zoom",
        "max_zoom",
        "min_native_zoom",
        "min_zoom",
        "no_wrap",
        "tile_size",
        "tms"
       ],
       "url": "https://stamen-tiles-a.a.ssl.fastly.net/toner/{z}/{x}/{y}.png"
      }
     },
     "317d589c602842e7a1420023bee7f969": {
      "model_module": "jupyter-leaflet",
      "model_module_version": "^0.13.2",
      "model_name": "LeafletMarkerModel",
      "state": {
       "_model_module_version": "^0.13.2",
       "_view_module_version": "^0.13.2",
       "icon": "IPY_MODEL_909cd25f4a344af1b765a97c8a400309",
       "location": [
        48.233889000000005,
        16.373088
       ],
       "options": [
        "alt",
        "draggable",
        "keyboard",
        "rise_offset",
        "rise_on_hover",
        "rotation_angle",
        "rotation_origin",
        "title",
        "z_index_offset"
       ]
      }
     },
     "33227626bee74dc68bfb5fff5a1a00ca": {
      "model_module": "jupyter-leaflet",
      "model_module_version": "^0.13.2",
      "model_name": "LeafletMapStyleModel",
      "state": {
       "_model_module_version": "^0.13.2",
       "cursor": "move"
      }
     },
     "33633e7d70034ce6a1f8e11a9cbf33fa": {
      "model_module": "jupyter-leaflet",
      "model_module_version": "^0.13.2",
      "model_name": "LeafletMapStyleModel",
      "state": {
       "_model_module_version": "^0.13.2",
       "cursor": "move"
      }
     },
     "34bc32f82f384e97a03b036c4ecfd3c1": {
      "model_module": "jupyter-leaflet",
      "model_module_version": "^0.13.2",
      "model_name": "LeafletMapModel",
      "state": {
       "_model_module_version": "^0.13.2",
       "_view_module_version": "^0.13.2",
       "center": [
        48.231139,
        16.374955
       ],
       "controls": [
        "IPY_MODEL_f5c6b607c62042e399cea6c3d145cb66",
        "IPY_MODEL_2cc91aa001fc4a7eb8805c98442d3704",
        "IPY_MODEL_55f4ea9e54834056a8522f5b3232aaaa",
        "IPY_MODEL_69ed10b1ab2648ac9aab74bc0cf4878e",
        "IPY_MODEL_4e57cc7565194c15ab5628bfc144ba27",
        "IPY_MODEL_5e21e764e7fe417b94bad27a7306deff",
        "IPY_MODEL_1ebf587001174ca4906fec6d4f34f9f8"
       ],
       "default_style": "IPY_MODEL_10ff5484efc84b0eb96baf1f781f6936",
       "dragging_style": "IPY_MODEL_b2c984cfb032497d854e4d3077eb4692",
       "fullscreen": false,
       "interpolation": "bilinear",
       "layers": [
        "IPY_MODEL_8886111bf06c481687799090fc7c1925"
       ],
       "layout": "IPY_MODEL_113dcf97b3aa4b2f913481271c2f6eb0",
       "modisdate": "yesterday",
       "options": [
        "bounce_at_zoom_limits",
        "box_zoom",
        "center",
        "close_popup_on_click",
        "double_click_zoom",
        "dragging",
        "fullscreen",
        "inertia",
        "inertia_deceleration",
        "inertia_max_speed",
        "interpolation",
        "keyboard",
        "keyboard_pan_offset",
        "keyboard_zoom_offset",
        "max_zoom",
        "min_zoom",
        "scroll_wheel_zoom",
        "tap",
        "tap_tolerance",
        "touch_zoom",
        "world_copy_jump",
        "zoom",
        "zoom_animation_threshold",
        "zoom_delta",
        "zoom_snap",
        "zoom_start"
       ],
       "style": "IPY_MODEL_918c15f152c945b999dc9e9d609e7cad",
       "window_url": "http://localhost:8888/lab",
       "zoom": 16
      }
     },
     "3aecf37df0094714be62c7c8467a1ac1": {
      "model_module": "jupyter-leaflet",
      "model_module_version": "^0.13.2",
      "model_name": "LeafletMapModel",
      "state": {
       "_model_module_version": "^0.13.2",
       "_view_module_version": "^0.13.2",
       "bottom": 23263172,
       "center": [
        48.232920399369064,
        16.37470364570618
       ],
       "controls": [
        "IPY_MODEL_b8d521ec5c414223813d876a80121dcc",
        "IPY_MODEL_bf6b62859bec43d1bf87ab7e1b5f8f84",
        "IPY_MODEL_a8ce1ff5ea864a17baf146ea08a97073",
        "IPY_MODEL_a11a5ef2224d427d940b0c8f0c7d2220",
        "IPY_MODEL_8617b9802634420d9d6be400920f9e60",
        "IPY_MODEL_543ee987e20141558726d8c5436c9ce9",
        "IPY_MODEL_75689230b0ae4c6aadb40fa8cc0f0adb"
       ],
       "default_style": "IPY_MODEL_94382c8a0dc34e77a3eaf44d38d4c7b9",
       "dragging_style": "IPY_MODEL_f50ffac1f5c44ca2b312b3b1d4eb0e7f",
       "east": 16.378651857376102,
       "fullscreen": false,
       "interpolation": "bilinear",
       "layout": "IPY_MODEL_138a93511b0a49eeafbc25ab819619db",
       "left": 36606163,
       "modisdate": "yesterday",
       "north": 48.23363504647492,
       "options": [
        "bounce_at_zoom_limits",
        "box_zoom",
        "center",
        "close_popup_on_click",
        "double_click_zoom",
        "dragging",
        "fullscreen",
        "inertia",
        "inertia_deceleration",
        "inertia_max_speed",
        "interpolation",
        "keyboard",
        "keyboard_pan_offset",
        "keyboard_zoom_offset",
        "max_zoom",
        "min_zoom",
        "scroll_wheel_zoom",
        "tap",
        "tap_tolerance",
        "touch_zoom",
        "world_copy_jump",
        "zoom",
        "zoom_animation_threshold",
        "zoom_delta",
        "zoom_snap",
        "zoom_start"
       ],
       "right": 36607634,
       "south": 48.23220574228207,
       "style": "IPY_MODEL_94382c8a0dc34e77a3eaf44d38d4c7b9",
       "top": 23262772,
       "west": 16.370760798454288,
       "window_url": "http://localhost:8888/lab",
       "zoom": 19
      }
     },
     "3de6627261d64850be434e647a691ef8": {
      "model_module": "jupyter-leaflet",
      "model_module_version": "^0.13.2",
      "model_name": "LeafletLayersControlModel",
      "state": {
       "_model_module_version": "^0.13.2",
       "_view_module_version": "^0.13.2",
       "options": [
        "position"
       ],
       "position": "topright"
      }
     },
     "3f9c9588a35f4672891ca86e8931bda8": {
      "model_module": "jupyter-leaflet",
      "model_module_version": "^0.13.2",
      "model_name": "LeafletIconModel",
      "state": {
       "_model_module_version": "^0.13.2",
       "_view_module_version": "^0.13.2",
       "icon_size": [
        30,
        40
       ],
       "icon_url": "files/ipyleaflet/icons/foot.png",
       "options": [
        "icon_anchor",
        "icon_size",
        "icon_url",
        "popup_anchor",
        "shadow_anchor",
        "shadow_size",
        "shadow_url"
       ],
       "shadow_url": null
      }
     },
     "40a4da4256374ea3a9db050682f3c6bc": {
      "model_module": "jupyter-leaflet",
      "model_module_version": "^0.13.2",
      "model_name": "LeafletMapStyleModel",
      "state": {
       "_model_module_version": "^0.13.2"
      }
     },
     "446ea1aa0c4447f3a1c797a4db2de402": {
      "model_module": "@jupyter-widgets/controls",
      "model_module_version": "1.5.0",
      "model_name": "SliderStyleModel",
      "state": {
       "description_width": ""
      }
     },
     "466a24eb59334a77afc9f33e9ce5218e": {
      "model_module": "@jupyter-widgets/controls",
      "model_module_version": "1.5.0",
      "model_name": "SliderStyleModel",
      "state": {
       "description_width": ""
      }
     },
     "4788e2bf228d400e86130cd326e33088": {
      "model_module": "jupyter-leaflet",
      "model_module_version": "^0.13.2",
      "model_name": "LeafletScaleControlModel",
      "state": {
       "_model_module_version": "^0.13.2",
       "_view_module_version": "^0.13.2",
       "imperial": false,
       "max_width": 100,
       "metric": true,
       "options": [
        "imperial",
        "max_width",
        "metric",
        "position",
        "update_when_idle"
       ],
       "position": "bottomleft",
       "update_when_idle": false
      }
     },
     "49f79fb291ed4c069e92d05a3ef75066": {
      "model_module": "@jupyter-widgets/controls",
      "model_module_version": "1.5.0",
      "model_name": "SliderStyleModel",
      "state": {
       "description_width": ""
      }
     },
     "4c79f97f84f84deea2c3dd1d574b9864": {
      "model_module": "jupyter-leaflet",
      "model_module_version": "^0.13.2",
      "model_name": "LeafletAntPathModel",
      "state": {
       "_model_module_version": "^0.13.2",
       "_view_module_version": "^0.13.2",
       "color": "#7590ba",
       "dash_array": [
        1,
        10
       ],
       "delay": 2000,
       "locations": [
        [
         48.2311,
         16.375006
        ],
        [
         48.2311,
         16.375006
        ],
        [
         48.2311,
         16.375006
        ],
        [
         48.2311,
         16.375006
        ],
        [
         48.2311,
         16.375006
        ],
        [
         48.2311,
         16.375006
        ],
        [
         48.2311,
         16.375006
        ],
        [
         48.2311,
         16.375006
        ],
        [
         48.2311,
         16.375006
        ],
        [
         48.2311,
         16.375006
        ],
        [
         48.2311,
         16.375006
        ],
        [
         48.2311,
         16.375006
        ],
        [
         48.231136,
         16.374966
        ],
        [
         48.231136,
         16.374966
        ],
        [
         48.231136,
         16.374966
        ],
        [
         48.231139,
         16.374955
        ],
        [
         48.231139,
         16.374955
        ],
        [
         48.231139,
         16.374955
        ],
        [
         48.231139,
         16.374955
        ],
        [
         48.231139,
         16.374955
        ],
        [
         48.231139,
         16.374955
        ],
        [
         48.231139,
         16.374955
        ],
        [
         48.231139,
         16.374955
        ],
        [
         48.231139,
         16.374955
        ],
        [
         48.231139,
         16.374955
        ],
        [
         48.231139,
         16.374955
        ],
        [
         48.231139,
         16.374955
        ],
        [
         48.231139,
         16.374955
        ],
        [
         48.231139,
         16.374955
        ],
        [
         48.231139,
         16.374955
        ],
        [
         48.231139,
         16.374955
        ],
        [
         48.231139,
         16.374955
        ],
        [
         48.231139,
         16.374955
        ],
        [
         48.231619,
         16.374845
        ],
        [
         48.231619,
         16.374845
        ],
        [
         48.231619,
         16.374845
        ],
        [
         48.231619,
         16.374845
        ],
        [
         48.231619,
         16.374845
        ],
        [
         48.231619,
         16.374845
        ],
        [
         48.231619,
         16.374845
        ],
        [
         48.231619,
         16.374845
        ],
        [
         48.231619,
         16.374845
        ],
        [
         48.231835,
         16.374748
        ],
        [
         48.231854,
         16.374751
        ],
        [
         48.231878,
         16.374744
        ],
        [
         48.2319,
         16.374732
        ],
        [
         48.23193,
         16.374722
        ],
        [
         48.231968,
         16.374724
        ],
        [
         48.231994,
         16.374727
        ],
        [
         48.232023999999996,
         16.374717
        ],
        [
         48.232075,
         16.374732
        ],
        [
         48.23212,
         16.37474
        ],
        [
         48.232163,
         16.374747
        ],
        [
         48.2322,
         16.374753
        ],
        [
         48.232238,
         16.374759
        ],
        [
         48.232248,
         16.374748999999998
        ],
        [
         48.232281,
         16.374744
        ],
        [
         48.23232,
         16.374758
        ],
        [
         48.232355,
         16.374763
        ],
        [
         48.232374,
         16.374735
        ],
        [
         48.232385,
         16.374694
        ],
        [
         48.232405,
         16.374673
        ],
        [
         48.232442,
         16.374664000000003
        ],
        [
         48.232442999999996,
         16.374668
        ],
        [
         48.232446,
         16.374667000000002
        ],
        [
         48.232479999999995,
         16.374675
        ],
        [
         48.232496000000005,
         16.374685999999997
        ],
        [
         48.232504999999996,
         16.374693
        ],
        [
         48.232531,
         16.374693
        ],
        [
         48.23256,
         16.374701
        ],
        [
         48.232571,
         16.374706
        ],
        [
         48.232569,
         16.37471
        ],
        [
         48.232589000000004,
         16.374716
        ],
        [
         48.232608,
         16.374751999999997
        ],
        [
         48.232628000000005,
         16.374767000000002
        ],
        [
         48.232618,
         16.374781
        ],
        [
         48.232616,
         16.374812
        ],
        [
         48.232616,
         16.374856
        ],
        [
         48.232642,
         16.374888000000002
        ],
        [
         48.232642,
         16.374888000000002
        ],
        [
         48.232615,
         16.374924
        ],
        [
         48.232615,
         16.374924
        ],
        [
         48.232615,
         16.374924
        ],
        [
         48.232615,
         16.374924
        ],
        [
         48.232615,
         16.374924
        ],
        [
         48.232615,
         16.374924
        ],
        [
         48.232818,
         16.374986
        ],
        [
         48.232818,
         16.374986
        ],
        [
         48.232818,
         16.374986
        ],
        [
         48.232818,
         16.374986
        ],
        [
         48.232818,
         16.374986
        ],
        [
         48.232818,
         16.374986
        ],
        [
         48.232818,
         16.374986
        ],
        [
         48.232818,
         16.374986
        ],
        [
         48.232818,
         16.374986
        ],
        [
         48.232818,
         16.374986
        ],
        [
         48.232818,
         16.374986
        ],
        [
         48.232818,
         16.374986
        ],
        [
         48.232818,
         16.374986
        ],
        [
         48.232818,
         16.374986
        ],
        [
         48.233447,
         16.374697
        ],
        [
         48.233447,
         16.374697
        ],
        [
         48.233447,
         16.374697
        ],
        [
         48.233447,
         16.374697
        ],
        [
         48.233447,
         16.374697
        ],
        [
         48.233447,
         16.374697
        ],
        [
         48.233447,
         16.374697
        ],
        [
         48.233447,
         16.374697
        ],
        [
         48.233447,
         16.374697
        ],
        [
         48.233447,
         16.374697
        ],
        [
         48.233447,
         16.374697
        ],
        [
         48.233447,
         16.374697
        ],
        [
         48.233447,
         16.374697
        ],
        [
         48.233518,
         16.374664000000003
        ],
        [
         48.233518,
         16.374664000000003
        ],
        [
         48.233518,
         16.374664000000003
        ],
        [
         48.233518,
         16.374664000000003
        ],
        [
         48.233518,
         16.374664000000003
        ],
        [
         48.233518,
         16.374664000000003
        ],
        [
         48.233518,
         16.374664000000003
        ],
        [
         48.233518,
         16.374664000000003
        ],
        [
         48.233518,
         16.374664000000003
        ],
        [
         48.233518,
         16.374664000000003
        ],
        [
         48.233518,
         16.374664000000003
        ],
        [
         48.233518,
         16.374664000000003
        ],
        [
         48.233518,
         16.374664000000003
        ],
        [
         48.233519,
         16.374678
        ],
        [
         48.233513,
         16.374674
        ],
        [
         48.233515999999995,
         16.374669
        ],
        [
         48.233515999999995,
         16.374667000000002
        ],
        [
         48.233525,
         16.374665
        ],
        [
         48.233523999999996,
         16.374667000000002
        ],
        [
         48.233531,
         16.374668
        ],
        [
         48.233531,
         16.374667000000002
        ],
        [
         48.233536,
         16.374654
        ],
        [
         48.233534000000006,
         16.374653
        ],
        [
         48.233525,
         16.374653
        ],
        [
         48.233507,
         16.374648
        ],
        [
         48.233506,
         16.374653
        ],
        [
         48.233503999999996,
         16.374663
        ],
        [
         48.233499,
         16.374665
        ],
        [
         48.233495,
         16.374674
        ],
        [
         48.233509999999995,
         16.374657
        ],
        [
         48.23348,
         16.374661
        ],
        [
         48.233455,
         16.374669
        ],
        [
         48.233434,
         16.374659
        ],
        [
         48.233427,
         16.374613
        ],
        [
         48.233429,
         16.374563000000002
        ],
        [
         48.233436,
         16.374509
        ],
        [
         48.233449,
         16.37446
        ],
        [
         48.233465,
         16.374415
        ],
        [
         48.233486,
         16.374365
        ],
        [
         48.23349,
         16.37432
        ],
        [
         48.233487,
         16.374267
        ],
        [
         48.233476,
         16.374228
        ],
        [
         48.233458,
         16.374214000000002
        ],
        [
         48.233441,
         16.374219
        ],
        [
         48.233415,
         16.374242000000002
        ],
        [
         48.233401,
         16.374246
        ],
        [
         48.233378,
         16.374273000000002
        ],
        [
         48.233366,
         16.374287
        ],
        [
         48.233364,
         16.374288
        ],
        [
         48.233342,
         16.374302
        ],
        [
         48.233337,
         16.374303
        ],
        [
         48.233329,
         16.374318
        ],
        [
         48.233301000000004,
         16.374323
        ],
        [
         48.233287,
         16.374271
        ],
        [
         48.233268,
         16.374236
        ],
        [
         48.233253000000005,
         16.374233
        ],
        [
         48.233243,
         16.374223
        ],
        [
         48.233249,
         16.374216
        ],
        [
         48.233249,
         16.374216
        ],
        [
         48.233249,
         16.374216
        ],
        [
         48.233249,
         16.374216
        ],
        [
         48.233249,
         16.374216
        ],
        [
         48.233249,
         16.374216
        ],
        [
         48.23324,
         16.374012
        ],
        [
         48.23324,
         16.374012
        ],
        [
         48.23324,
         16.374012
        ],
        [
         48.23324,
         16.374012
        ],
        [
         48.23324,
         16.374012
        ],
        [
         48.23324,
         16.374012
        ],
        [
         48.233115999999995,
         16.373853
        ],
        [
         48.233121999999995,
         16.373819
        ],
        [
         48.233112,
         16.373767
        ],
        [
         48.233102,
         16.373713000000002
        ],
        [
         48.233093,
         16.37365
        ],
        [
         48.233090000000004,
         16.373587
        ],
        [
         48.233074,
         16.37353
        ],
        [
         48.233149,
         16.373388000000002
        ],
        [
         48.23317,
         16.373345
        ],
        [
         48.233199,
         16.373309
        ],
        [
         48.233230999999996,
         16.373279
        ],
        [
         48.233269,
         16.373273
        ],
        [
         48.233306,
         16.373251999999997
        ],
        [
         48.233340000000005,
         16.37323
        ],
        [
         48.233378,
         16.373209
        ],
        [
         48.233415,
         16.373186999999998
        ],
        [
         48.233449,
         16.373171
        ],
        [
         48.23348,
         16.373157
        ],
        [
         48.233512,
         16.373143
        ],
        [
         48.23355,
         16.37313
        ],
        [
         48.233585999999995,
         16.373123
        ],
        [
         48.233615,
         16.37311
        ],
        [
         48.233649,
         16.373085999999997
        ],
        [
         48.233693,
         16.373062
        ],
        [
         48.233711,
         16.373057
        ],
        [
         48.233724,
         16.373077
        ],
        [
         48.233737,
         16.373089999999998
        ],
        [
         48.233737,
         16.373089999999998
        ],
        [
         48.233737,
         16.373089999999998
        ],
        [
         48.233737,
         16.373089999999998
        ],
        [
         48.233737,
         16.373089999999998
        ],
        [
         48.233894,
         16.373085
        ],
        [
         48.233889000000005,
         16.373088
        ],
        [
         48.233889000000005,
         16.373088
        ],
        [
         48.233889000000005,
         16.373088
        ],
        [
         48.233889000000005,
         16.373088
        ],
        [
         48.233889000000005,
         16.373088
        ],
        [
         48.233889000000005,
         16.373088
        ],
        [
         48.233889000000005,
         16.373088
        ],
        [
         48.233889000000005,
         16.373088
        ],
        [
         48.233889000000005,
         16.373088
        ],
        [
         48.233889000000005,
         16.373088
        ],
        [
         48.233889000000005,
         16.373088
        ],
        [
         48.233889000000005,
         16.373088
        ],
        [
         48.233889000000005,
         16.373088
        ],
        [
         48.233889000000005,
         16.373088
        ],
        [
         48.233889000000005,
         16.373088
        ],
        [
         48.233889000000005,
         16.373088
        ],
        [
         48.233889000000005,
         16.373088
        ],
        [
         48.233889000000005,
         16.373088
        ],
        [
         48.233889000000005,
         16.373088
        ],
        [
         48.233889000000005,
         16.373088
        ],
        [
         48.233889000000005,
         16.373088
        ],
        [
         48.234426,
         16.372957999999997
        ],
        [
         48.234423,
         16.372961
        ],
        [
         48.234431,
         16.372945
        ],
        [
         48.234464,
         16.372932000000002
        ],
        [
         48.234505,
         16.372923999999998
        ],
        [
         48.234524,
         16.372914
        ],
        [
         48.234569,
         16.372888
        ],
        [
         48.234586,
         16.372865
        ],
        [
         48.234595,
         16.372864
        ],
        [
         48.234621999999995,
         16.372866000000002
        ],
        [
         48.234652000000004,
         16.372866000000002
        ],
        [
         48.234727,
         16.372867000000003
        ],
        [
         48.234771,
         16.372869
        ],
        [
         48.234802,
         16.372869
        ],
        [
         48.234840000000005,
         16.37286
        ],
        [
         48.23488,
         16.37284
        ],
        [
         48.23493,
         16.37284
        ],
        [
         48.234981,
         16.372825
        ],
        [
         48.235029,
         16.372821
        ],
        [
         48.235093,
         16.372770000000003
        ],
        [
         48.235178000000005,
         16.372694
        ],
        [
         48.235233,
         16.372668
        ],
        [
         48.235269,
         16.372643
        ],
        [
         48.235299,
         16.372607000000002
        ],
        [
         48.235285,
         16.372603
        ],
        [
         48.235284,
         16.372603
        ],
        [
         48.235301,
         16.372575
        ],
        [
         48.235305,
         16.372526999999998
        ],
        [
         48.235309,
         16.372479000000002
        ],
        [
         48.235321,
         16.372425
        ],
        [
         48.235336,
         16.372374
        ],
        [
         48.235333000000004,
         16.372335999999997
        ],
        [
         48.235335,
         16.372291
        ],
        [
         48.235347999999995,
         16.372241
        ],
        [
         48.235354,
         16.372188
        ],
        [
         48.235358000000005,
         16.372142999999998
        ],
        [
         48.235363,
         16.372097
        ],
        [
         48.23537,
         16.372054000000002
        ],
        [
         48.235382,
         16.372004999999998
        ],
        [
         48.235378999999995,
         16.371951
        ],
        [
         48.235381,
         16.371894
        ],
        [
         48.235397,
         16.371838
        ],
        [
         48.235415,
         16.371783999999998
        ],
        [
         48.235442,
         16.371745999999998
        ],
        [
         48.235439,
         16.371726000000002
        ],
        [
         48.235440000000004,
         16.371716
        ],
        [
         48.235465000000005,
         16.371675
        ],
        [
         48.235473,
         16.371616
        ],
        [
         48.235479,
         16.371567000000002
        ],
        [
         48.235481,
         16.37153
        ],
        [
         48.235463,
         16.371472
        ],
        [
         48.235403999999996,
         16.37141
        ],
        [
         48.235362,
         16.37135
        ],
        [
         48.235319,
         16.371278
        ],
        [
         48.235304,
         16.371235000000002
        ],
        [
         48.235303,
         16.371197
        ],
        [
         48.235306,
         16.371183
        ],
        [
         48.235315,
         16.371182
        ],
        [
         48.235327000000005,
         16.371177
        ],
        [
         48.235329,
         16.371167
        ],
        [
         48.235307,
         16.371143
        ],
        [
         48.235302000000004,
         16.371126
        ],
        [
         48.235307,
         16.371086
        ],
        [
         48.235289,
         16.371029999999998
        ],
        [
         48.235275,
         16.370986
        ],
        [
         48.235244,
         16.370934
        ],
        [
         48.235242,
         16.370882
        ],
        [
         48.235239,
         16.370816
        ],
        [
         48.235234000000005,
         16.370754
        ],
        [
         48.235221,
         16.370685
        ],
        [
         48.235211,
         16.370619
        ],
        [
         48.235201,
         16.370558
        ],
        [
         48.235170000000004,
         16.370499
        ],
        [
         48.235168,
         16.370464000000002
        ],
        [
         48.235147,
         16.370407999999998
        ],
        [
         48.235109,
         16.370382
        ],
        [
         48.235076,
         16.370382
        ],
        [
         48.235068,
         16.370369
        ],
        [
         48.235098,
         16.370345999999998
        ],
        [
         48.235106,
         16.370305
        ],
        [
         48.235108000000004,
         16.370297
        ],
        [
         48.23511,
         16.37029
        ],
        [
         48.235134,
         16.370244
        ],
        [
         48.23515,
         16.370182999999997
        ],
        [
         48.235137,
         16.37013
        ],
        [
         48.235106,
         16.37011
        ],
        [
         48.235094000000004,
         16.370101000000002
        ],
        [
         48.235091,
         16.370089
        ],
        [
         48.235085999999995,
         16.370078
        ],
        [
         48.235087,
         16.370093
        ],
        [
         48.235084,
         16.370098000000002
        ],
        [
         48.235084,
         16.370098000000002
        ],
        [
         48.235084,
         16.370098000000002
        ],
        [
         48.235084,
         16.370098000000002
        ],
        [
         48.235084,
         16.370098000000002
        ],
        [
         48.235084,
         16.370098000000002
        ],
        [
         48.235084,
         16.370098000000002
        ],
        [
         48.235084,
         16.370098000000002
        ],
        [
         48.235084,
         16.370098000000002
        ],
        [
         48.235084,
         16.370098000000002
        ],
        [
         48.235084,
         16.370098000000002
        ],
        [
         48.235084,
         16.370098000000002
        ],
        [
         48.235084,
         16.370098000000002
        ],
        [
         48.234423,
         16.370252999999998
        ],
        [
         48.23438,
         16.370264000000002
        ],
        [
         48.234333,
         16.370272
        ],
        [
         48.234286,
         16.370271
        ],
        [
         48.234245,
         16.370252999999998
        ],
        [
         48.234206,
         16.370257000000002
        ],
        [
         48.234173,
         16.370252
        ],
        [
         48.234147,
         16.370256
        ],
        [
         48.234124,
         16.370254
        ],
        [
         48.234092,
         16.370260000000002
        ],
        [
         48.234052,
         16.370267000000002
        ],
        [
         48.234016,
         16.370281
        ],
        [
         48.233978,
         16.370287
        ],
        [
         48.233958,
         16.370279
        ],
        [
         48.233964,
         16.370242
        ],
        [
         48.233952,
         16.370245
        ],
        [
         48.233959000000006,
         16.370239
        ],
        [
         48.233965999999995,
         16.370236
        ],
        [
         48.233975,
         16.370231
        ],
        [
         48.233985,
         16.370216
        ],
        [
         48.233982,
         16.370202
        ],
        [
         48.23395,
         16.370194
        ],
        [
         48.233922,
         16.370184
        ],
        [
         48.233896,
         16.37017
        ],
        [
         48.233876,
         16.370154
        ],
        [
         48.233832,
         16.370151999999997
        ],
        [
         48.233785,
         16.370141
        ],
        [
         48.233740000000004,
         16.370127
        ],
        [
         48.233689,
         16.37013
        ],
        [
         48.23364,
         16.370133
        ],
        [
         48.233593,
         16.37014
        ],
        [
         48.233544,
         16.370148
        ],
        [
         48.233509999999995,
         16.370155
        ],
        [
         48.233473,
         16.370163
        ],
        [
         48.233438,
         16.370160000000002
        ],
        [
         48.233401,
         16.370167000000002
        ],
        [
         48.233359,
         16.370173
        ],
        [
         48.233314,
         16.370162
        ],
        [
         48.233274,
         16.370157
        ],
        [
         48.233246,
         16.370119
        ],
        [
         48.233230999999996,
         16.370054999999997
        ],
        [
         48.233224,
         16.369999
        ],
        [
         48.233222999999995,
         16.369927
        ],
        [
         48.233218,
         16.369868
        ],
        [
         48.233208000000005,
         16.369811
        ],
        [
         48.233227,
         16.369754999999998
        ],
        [
         48.233251,
         16.36972
        ],
        [
         48.233224,
         16.369685
        ],
        [
         48.233219,
         16.369604000000002
        ],
        [
         48.23322,
         16.369532
        ],
        [
         48.23324,
         16.369462
        ],
        [
         48.233319,
         16.369396
        ],
        [
         48.233332,
         16.369321
        ],
        [
         48.233313,
         16.369253
        ],
        [
         48.233292999999996,
         16.369175
        ],
        [
         48.233233,
         16.369113
        ],
        [
         48.233193,
         16.369064
        ],
        [
         48.233176,
         16.369013
        ],
        [
         48.233096999999994,
         16.368982
        ],
        [
         48.233044,
         16.368983
        ],
        [
         48.232994,
         16.369022
        ],
        [
         48.232946000000005,
         16.369019
        ],
        [
         48.232884999999996,
         16.369003
        ],
        [
         48.232856,
         16.369024
        ],
        [
         48.232805,
         16.369006
        ],
        [
         48.232764,
         16.368999
        ],
        [
         48.232732,
         16.369004999999998
        ],
        [
         48.232685,
         16.369013
        ],
        [
         48.232651000000004,
         16.369026
        ],
        [
         48.23264,
         16.369051000000002
        ],
        [
         48.232634000000004,
         16.369086
        ],
        [
         48.232627,
         16.36915
        ],
        [
         48.232628000000005,
         16.369191
        ],
        [
         48.232625,
         16.369195
        ],
        [
         48.232625,
         16.369204
        ],
        [
         48.23264,
         16.369257
        ],
        [
         48.232662,
         16.369314000000003
        ],
        [
         48.23268,
         16.369367
        ],
        [
         48.232704,
         16.369426
        ],
        [
         48.232706,
         16.369478
        ],
        [
         48.232725,
         16.369531
        ],
        [
         48.232748,
         16.369587
        ],
        [
         48.232773,
         16.369644
        ],
        [
         48.232774,
         16.369704000000002
        ],
        [
         48.2328,
         16.369768
        ],
        [
         48.232817,
         16.369835000000002
        ],
        [
         48.232842,
         16.369905
        ],
        [
         48.232856,
         16.369975
        ],
        [
         48.232856,
         16.370046
        ],
        [
         48.232853999999996,
         16.370113
        ],
        [
         48.232846,
         16.370174
        ],
        [
         48.232858,
         16.370241
        ],
        [
         48.232865000000004,
         16.370305
        ],
        [
         48.232859999999995,
         16.370361
        ],
        [
         48.232827,
         16.370393
        ],
        [
         48.2328,
         16.370426000000002
        ],
        [
         48.232764,
         16.370445
        ],
        [
         48.232732,
         16.370471
        ],
        [
         48.232698,
         16.370463
        ],
        [
         48.232698,
         16.370469
        ],
        [
         48.23271,
         16.370521
        ],
        [
         48.232702,
         16.370579
        ],
        [
         48.232703,
         16.370626
        ],
        [
         48.232706,
         16.37066
        ],
        [
         48.232707,
         16.370670999999998
        ],
        [
         48.232695,
         16.370717000000003
        ],
        [
         48.232669,
         16.370788
        ],
        [
         48.232663,
         16.370832999999998
        ],
        [
         48.232653000000006,
         16.370892
        ],
        [
         48.232641,
         16.370973
        ],
        [
         48.232628000000005,
         16.37104
        ],
        [
         48.23261,
         16.371118
        ],
        [
         48.232605,
         16.371187
        ],
        [
         48.23259,
         16.371259
        ],
        [
         48.23256,
         16.371316
        ],
        [
         48.232535999999996,
         16.371361
        ],
        [
         48.232504,
         16.371382999999998
        ],
        [
         48.232479999999995,
         16.37138
        ],
        [
         48.232476,
         16.371363
        ],
        [
         48.232446,
         16.371385999999998
        ],
        [
         48.232392,
         16.371451
        ],
        [
         48.232338,
         16.371499
        ],
        [
         48.232314,
         16.37153
        ],
        [
         48.232293,
         16.371610999999998
        ],
        [
         48.232285,
         16.371682
        ],
        [
         48.232274,
         16.371737
        ],
        [
         48.232271999999995,
         16.371793
        ],
        [
         48.232279999999996,
         16.371839
        ],
        [
         48.232261,
         16.371861
        ],
        [
         48.232238,
         16.371873
        ],
        [
         48.232196,
         16.371896
        ],
        [
         48.232141,
         16.371889000000003
        ],
        [
         48.232096999999996,
         16.371891
        ],
        [
         48.232054999999995,
         16.371895000000002
        ],
        [
         48.23202,
         16.371904999999998
        ],
        [
         48.231981,
         16.371910999999997
        ],
        [
         48.231958,
         16.371917
        ],
        [
         48.231947999999996,
         16.371916
        ],
        [
         48.231945,
         16.371917
        ],
        [
         48.231945,
         16.371917
        ],
        [
         48.231945,
         16.371917
        ],
        [
         48.231945,
         16.371917
        ],
        [
         48.231945,
         16.371917
        ],
        [
         48.231945,
         16.371917
        ],
        [
         48.231945,
         16.371917
        ],
        [
         48.231945,
         16.371917
        ],
        [
         48.231945,
         16.371917
        ],
        [
         48.231945,
         16.371917
        ],
        [
         48.231945,
         16.371917
        ],
        [
         48.231945,
         16.371917
        ],
        [
         48.231945,
         16.371917
        ],
        [
         48.231945,
         16.371917
        ],
        [
         48.231945,
         16.371917
        ],
        [
         48.231945,
         16.371917
        ],
        [
         48.231945,
         16.371917
        ],
        [
         48.231945,
         16.371917
        ],
        [
         48.231945,
         16.371917
        ],
        [
         48.231945,
         16.371917
        ],
        [
         48.231945,
         16.371917
        ],
        [
         48.231945,
         16.371917
        ],
        [
         48.231945,
         16.371917
        ],
        [
         48.231945,
         16.371917
        ]
       ],
       "name": "Trail",
       "options": [
        "color",
        "dash_array",
        "delay",
        "hardware_accelerated",
        "paused",
        "pulse_color",
        "radius",
        "reverse",
        "use",
        "weight"
       ],
       "pulse_color": "#3f6fba"
      }
     },
     "4e57cc7565194c15ab5628bfc144ba27": {
      "model_module": "jupyter-leaflet",
      "model_module_version": "^0.13.2",
      "model_name": "LeafletFullScreenControlModel",
      "state": {
       "_model_module_version": "^0.13.2",
       "_view_module_version": "^0.13.2",
       "options": [
        "position"
       ]
      }
     },
     "4e5a0f6d6e804923b2d2f27b73561551": {
      "model_module": "@jupyter-widgets/base",
      "model_module_version": "1.2.0",
      "model_name": "LayoutModel",
      "state": {
       "height": "600px",
       "width": "100%"
      }
     },
     "52983e3cc5cf4530b32d7ab146b566bb": {
      "model_module": "@jupyter-widgets/base",
      "model_module_version": "1.2.0",
      "model_name": "LayoutModel",
      "state": {}
     },
     "531111e532a94e148d67e6b696e1613e": {
      "model_module": "jupyter-leaflet",
      "model_module_version": "^0.13.2",
      "model_name": "LeafletMarkerClusterModel",
      "state": {
       "_model_module_version": "^0.13.2",
       "_view_module_version": "^0.13.2",
       "name": "Tree w. trash"
      }
     },
     "543ee987e20141558726d8c5436c9ce9": {
      "model_module": "jupyter-leaflet",
      "model_module_version": "^0.13.2",
      "model_name": "LeafletLayersControlModel",
      "state": {
       "_model_module_version": "^0.13.2",
       "_view_module_version": "^0.13.2",
       "options": [
        "position"
       ],
       "position": "topright"
      }
     },
     "5521d47916f748c484bf8a03445cb2a8": {
      "model_module": "jupyter-leaflet",
      "model_module_version": "^0.13.2",
      "model_name": "LeafletMarkerModel",
      "state": {
       "_model_module_version": "^0.13.2",
       "_view_module_version": "^0.13.2",
       "icon": "IPY_MODEL_909cd25f4a344af1b765a97c8a400309",
       "location": [
        48.231619,
        16.374845
       ],
       "options": [
        "alt",
        "draggable",
        "keyboard",
        "rise_offset",
        "rise_on_hover",
        "rotation_angle",
        "rotation_origin",
        "title",
        "z_index_offset"
       ]
      }
     },
     "554b61c1e2b9497ebf95ee5522a515f9": {
      "model_module": "jupyter-leaflet",
      "model_module_version": "^0.13.2",
      "model_name": "LeafletSplitMapControlModel",
      "state": {
       "_model_module_version": "^0.13.2",
       "_model_name": "LeafletSplitMapControlModel",
       "_view_module_version": "^0.13.2",
       "_view_name": "LeafletSplitMapControlView",
       "left_layer": "IPY_MODEL_bc907ce6ada645e282885c0b68fe2a16",
       "options": [
        "position"
       ],
       "right_layer": "IPY_MODEL_0aa760ccbeed47ebb531ef937a675abe"
      }
     },
     "55f4ea9e54834056a8522f5b3232aaaa": {
      "model_module": "jupyter-leaflet",
      "model_module_version": "^0.13.2",
      "model_name": "LeafletSplitMapControlModel",
      "state": {
       "_model_module_version": "^0.13.2",
       "_model_name": "LeafletSplitMapControlModel",
       "_view_module_version": "^0.13.2",
       "_view_name": "LeafletSplitMapControlView",
       "left_layer": "IPY_MODEL_a16a49c3b3c3489d8e14d81ad71df00f",
       "options": [
        "position"
       ],
       "right_layer": "IPY_MODEL_62c385b751e4449fbaccdd6549bf6a2b"
      }
     },
     "56a3ef3194d240919af8d7041f102f64": {
      "model_module": "jupyter-leaflet",
      "model_module_version": "^0.13.2",
      "model_name": "LeafletMapStyleModel",
      "state": {
       "_model_module_version": "^0.13.2"
      }
     },
     "5acd0c98a6624d2aa0aa267154ccb6da": {
      "model_module": "jupyter-leaflet",
      "model_module_version": "^0.13.2",
      "model_name": "LeafletMarkerModel",
      "state": {
       "_model_module_version": "^0.13.2",
       "_view_module_version": "^0.13.2",
       "icon": "IPY_MODEL_c123631554284327b454859dda8a9ccb",
       "location": [
        48.232625,
        16.369195
       ],
       "options": [
        "alt",
        "draggable",
        "keyboard",
        "rise_offset",
        "rise_on_hover",
        "rotation_angle",
        "rotation_origin",
        "title",
        "z_index_offset"
       ]
      }
     },
     "5cb8a46ab0c4419485e711769af6d36c": {
      "model_module": "jupyter-leaflet",
      "model_module_version": "^0.13.2",
      "model_name": "LeafletMapStyleModel",
      "state": {
       "_model_module_version": "^0.13.2",
       "cursor": "move"
      }
     },
     "5e21e764e7fe417b94bad27a7306deff": {
      "model_module": "jupyter-leaflet",
      "model_module_version": "^0.13.2",
      "model_name": "LeafletScaleControlModel",
      "state": {
       "_model_module_version": "^0.13.2",
       "_view_module_version": "^0.13.2",
       "imperial": false,
       "max_width": 100,
       "metric": true,
       "options": [
        "imperial",
        "max_width",
        "metric",
        "position",
        "update_when_idle"
       ],
       "position": "bottomleft",
       "update_when_idle": false
      }
     },
     "5eec16c1cfe54d739ba44a2c56b3fbf0": {
      "model_module": "jupyter-leaflet",
      "model_module_version": "^0.13.2",
      "model_name": "LeafletMapStyleModel",
      "state": {
       "_model_module_version": "^0.13.2",
       "cursor": "move"
      }
     },
     "604fa02e91294347abc96fb4ab526cb8": {
      "model_module": "jupyter-leaflet",
      "model_module_version": "^0.13.2",
      "model_name": "LeafletWidgetControlModel",
      "state": {
       "_model_module": "jupyter-leaflet",
       "_model_module_version": "^0.13.2",
       "_view_count": null,
       "_view_module": "jupyter-leaflet",
       "_view_module_version": "^0.13.2",
       "options": [
        "position"
       ],
       "position": "topright",
       "widget": "IPY_MODEL_d6dac8f629184ee8b0924806bdbdb0ef"
      }
     },
     "62c385b751e4449fbaccdd6549bf6a2b": {
      "model_module": "jupyter-leaflet",
      "model_module_version": "^0.13.2",
      "model_name": "LeafletTileLayerModel",
      "state": {
       "_model_module_version": "^0.13.2",
       "_view_module_version": "^0.13.2",
       "attribution": "Map tiles by <a href=\"http://stamen.com/\">Stamen Design</a>, under <a href=\"http://creativecommons.org/licenses/by/3.0\">CC BY 3.0</a>. Data by <a href=\"http://openstreetmap.org/\">OpenStreetMap</a>, under <a href=\"http://creativecommons.org/licenses/by-sa/3.0\">CC BY SA</a>.",
       "max_native_zoom": 18,
       "max_zoom": 20,
       "min_native_zoom": 0,
       "name": "Stamen.Toner",
       "options": [
        "attribution",
        "detect_retina",
        "max_native_zoom",
        "max_zoom",
        "min_native_zoom",
        "min_zoom",
        "no_wrap",
        "tile_size",
        "tms"
       ],
       "url": "https://stamen-tiles-a.a.ssl.fastly.net/toner/{z}/{x}/{y}.png"
      }
     },
     "6715e7474291499a8a695bfb0dea561e": {
      "model_module": "@jupyter-widgets/controls",
      "model_module_version": "1.5.0",
      "model_name": "SliderStyleModel",
      "state": {
       "description_width": ""
      }
     },
     "675aaa8f5c174be2aee4f43b1ce14355": {
      "model_module": "@jupyter-widgets/controls",
      "model_module_version": "1.5.0",
      "model_name": "IntSliderModel",
      "state": {
       "description": "Zoom level:",
       "layout": "IPY_MODEL_68591945d3b54f659ee71726916983be",
       "max": 20,
       "min": 10,
       "style": "IPY_MODEL_6715e7474291499a8a695bfb0dea561e",
       "value": 19
      }
     },
     "67f53e93fd9841079bf5c73466a09a44": {
      "model_module": "@jupyter-widgets/base",
      "model_module_version": "1.2.0",
      "model_name": "LayoutModel",
      "state": {}
     },
     "682dd20dcd634875aba94af17c3890c0": {
      "model_module": "jupyter-leaflet",
      "model_module_version": "^0.13.2",
      "model_name": "LeafletLayersControlModel",
      "state": {
       "_model_module_version": "^0.13.2",
       "_view_module_version": "^0.13.2",
       "options": [
        "position"
       ],
       "position": "topright"
      }
     },
     "68591945d3b54f659ee71726916983be": {
      "model_module": "@jupyter-widgets/base",
      "model_module_version": "1.2.0",
      "model_name": "LayoutModel",
      "state": {}
     },
     "69994db9075740c48f01ab456bb243b0": {
      "model_module": "@jupyter-widgets/controls",
      "model_module_version": "1.5.0",
      "model_name": "IntSliderModel",
      "state": {
       "description": "Zoom level:",
       "layout": "IPY_MODEL_52983e3cc5cf4530b32d7ab146b566bb",
       "max": 20,
       "min": 10,
       "style": "IPY_MODEL_82a9b58273634cb597a8c2734f7739b4",
       "value": 19
      }
     },
     "69ed10b1ab2648ac9aab74bc0cf4878e": {
      "model_module": "jupyter-leaflet",
      "model_module_version": "^0.13.2",
      "model_name": "LeafletWidgetControlModel",
      "state": {
       "_model_module": "jupyter-leaflet",
       "_model_module_version": "^0.13.2",
       "_view_count": null,
       "_view_module": "jupyter-leaflet",
       "_view_module_version": "^0.13.2",
       "options": [
        "position"
       ],
       "position": "topright",
       "widget": "IPY_MODEL_fff2c59995f24ad088c2dfb8f4db3f66"
      }
     },
     "6b6c027de409479caf3f89e157ce1244": {
      "model_module": "jupyter-leaflet",
      "model_module_version": "^0.13.2",
      "model_name": "LeafletTileLayerModel",
      "state": {
       "_model_module_version": "^0.13.2",
       "_view_module_version": "^0.13.2",
       "base": true,
       "max_native_zoom": 18,
       "max_zoom": 19,
       "min_native_zoom": 0,
       "min_zoom": 1,
       "options": [
        "attribution",
        "detect_retina",
        "max_native_zoom",
        "max_zoom",
        "min_native_zoom",
        "min_zoom",
        "no_wrap",
        "tile_size",
        "tms"
       ]
      }
     },
     "6e0ce33379ac4e4f97fe55ffbf5aea80": {
      "model_module": "jupyter-leaflet",
      "model_module_version": "^0.13.2",
      "model_name": "LeafletZoomControlModel",
      "state": {
       "_model_module_version": "^0.13.2",
       "_view_module_version": "^0.13.2",
       "options": [
        "position",
        "zoom_in_text",
        "zoom_in_title",
        "zoom_out_text",
        "zoom_out_title"
       ]
      }
     },
     "6e2c1496b4ae4b9e85c270fdb9005069": {
      "model_module": "jupyter-leaflet",
      "model_module_version": "^0.13.2",
      "model_name": "LeafletMapModel",
      "state": {
       "_model_module_version": "^0.13.2",
       "_view_module_version": "^0.13.2",
       "bottom": 5816168,
       "center": [
        48.231139,
        16.374955
       ],
       "controls": [
        "IPY_MODEL_c879c1dd03764a029e5e86081f123b32",
        "IPY_MODEL_8db031f948ad4a889f5b25a4f4ce40f1",
        "IPY_MODEL_709130e1497a49e1bdf7c7ddb73b6130",
        "IPY_MODEL_bf36bb6235d44da0a1961a54edbd4273",
        "IPY_MODEL_c793d524c3dc4cdf8c3d46ff77c2dc52",
        "IPY_MODEL_4788e2bf228d400e86130cd326e33088",
        "IPY_MODEL_682dd20dcd634875aba94af17c3890c0"
       ],
       "default_style": "IPY_MODEL_aaf9235146f54ee38dd53d36e9d2bd59",
       "dragging_style": "IPY_MODEL_33633e7d70034ce6a1f8e11a9cbf33fa",
       "east": 16.390743255615238,
       "fullscreen": false,
       "interpolation": "bilinear",
       "layers": [
        "IPY_MODEL_be8dae18d71d48b68b1b0a3999d31a1f"
       ],
       "layout": "IPY_MODEL_113dcf97b3aa4b2f913481271c2f6eb0",
       "left": 9151001,
       "modisdate": "yesterday",
       "north": 48.235421620572104,
       "options": [
        "bounce_at_zoom_limits",
        "box_zoom",
        "center",
        "close_popup_on_click",
        "double_click_zoom",
        "dragging",
        "fullscreen",
        "inertia",
        "inertia_deceleration",
        "inertia_max_speed",
        "interpolation",
        "keyboard",
        "keyboard_pan_offset",
        "keyboard_zoom_offset",
        "max_zoom",
        "min_zoom",
        "scroll_wheel_zoom",
        "tap",
        "tap_tolerance",
        "touch_zoom",
        "world_copy_jump",
        "zoom",
        "zoom_animation_threshold",
        "zoom_delta",
        "zoom_snap",
        "zoom_start"
       ],
       "right": 9152472,
       "south": 48.22684549597699,
       "style": "IPY_MODEL_0bc1aa1a2b944637a7ed4cf14891454e",
       "top": 5815568,
       "west": 16.359179019927982,
       "window_url": "http://localhost:8888/lab",
       "zoom": 16
      }
     },
     "6e7692b98c4a444b86c6b543e3d163a6": {
      "model_module": "jupyter-leaflet",
      "model_module_version": "^0.13.2",
      "model_name": "LeafletMapStyleModel",
      "state": {
       "_model_module_version": "^0.13.2"
      }
     },
     "709130e1497a49e1bdf7c7ddb73b6130": {
      "model_module": "jupyter-leaflet",
      "model_module_version": "^0.13.2",
      "model_name": "LeafletSplitMapControlModel",
      "state": {
       "_model_module_version": "^0.13.2",
       "_model_name": "LeafletSplitMapControlModel",
       "_view_module_version": "^0.13.2",
       "_view_name": "LeafletSplitMapControlView",
       "left_layer": "IPY_MODEL_78d350037f0045a586a27544f4678b57",
       "options": [
        "position"
       ],
       "right_layer": "IPY_MODEL_302578963841427da0477cc58ec1bcca"
      }
     },
     "711f222c56754462a27de92685ae4d83": {
      "model_module": "jupyter-leaflet",
      "model_module_version": "^0.13.2",
      "model_name": "LeafletMarkerModel",
      "state": {
       "_model_module_version": "^0.13.2",
       "_view_module_version": "^0.13.2",
       "icon": "IPY_MODEL_909cd25f4a344af1b765a97c8a400309",
       "location": [
        48.23324,
        16.374012
       ],
       "options": [
        "alt",
        "draggable",
        "keyboard",
        "rise_offset",
        "rise_on_hover",
        "rotation_angle",
        "rotation_origin",
        "title",
        "z_index_offset"
       ]
      }
     },
     "75689230b0ae4c6aadb40fa8cc0f0adb": {
      "model_module": "jupyter-leaflet",
      "model_module_version": "^0.13.2",
      "model_name": "LeafletMeasureControlModel",
      "state": {
       "_model_module_version": "^0.13.2",
       "_view_module_version": "^0.13.2",
       "active_color": "orange",
       "completed_color": "blue",
       "options": [
        "active_color",
        "capture_z_index",
        "completed_color",
        "popup_options",
        "position",
        "primary_area_unit",
        "primary_length_unit",
        "secondary_area_unit",
        "secondary_length_unit"
       ],
       "position": "bottomleft",
       "primary_area_unit": "sqmeters",
       "primary_length_unit": "meters",
       "secondary_area_unit": null,
       "secondary_length_unit": null
      }
     },
     "75910aa0994c42008dab03aeeb772c8b": {
      "model_module": "@jupyter-widgets/controls",
      "model_module_version": "1.5.0",
      "model_name": "LinkModel",
      "state": {
       "source": [
        "IPY_MODEL_d6dac8f629184ee8b0924806bdbdb0ef",
        "value"
       ],
       "target": [
        "IPY_MODEL_3aecf37df0094714be62c7c8467a1ac1",
        "zoom"
       ]
      }
     },
     "76773f4f50f44877a2cb7b0f9b394ae0": {
      "model_module": "jupyter-leaflet",
      "model_module_version": "^0.13.2",
      "model_name": "LeafletMarkerModel",
      "state": {
       "_model_module_version": "^0.13.2",
       "_view_module_version": "^0.13.2",
       "icon": "IPY_MODEL_c123631554284327b454859dda8a9ccb",
       "location": [
        48.233536,
        16.374654
       ],
       "options": [
        "alt",
        "draggable",
        "keyboard",
        "rise_offset",
        "rise_on_hover",
        "rotation_angle",
        "rotation_origin",
        "title",
        "z_index_offset"
       ]
      }
     },
     "78d350037f0045a586a27544f4678b57": {
      "model_module": "jupyter-leaflet",
      "model_module_version": "^0.13.2",
      "model_name": "LeafletTileLayerModel",
      "state": {
       "_model_module_version": "^0.13.2",
       "_view_module_version": "^0.13.2",
       "attribution": "Tiles &copy; Esri &mdash; Source: Esri, DeLorme, NAVTEQ, USGS, Intermap, iPC, NRCAN, Esri Japan, METI, Esri China (Hong Kong), Esri (Thailand), TomTom, 2012",
       "max_native_zoom": 18,
       "max_zoom": 20,
       "min_native_zoom": 0,
       "min_zoom": 1,
       "name": "Esri.WorldStreetMap",
       "options": [
        "attribution",
        "detect_retina",
        "max_native_zoom",
        "max_zoom",
        "min_native_zoom",
        "min_zoom",
        "no_wrap",
        "tile_size",
        "tms"
       ],
       "url": "http://server.arcgisonline.com/ArcGIS/rest/services/World_Street_Map/MapServer/tile/{z}/{y}/{x}"
      }
     },
     "791f1dff35a74e08ad57aad717153227": {
      "model_module": "@jupyter-widgets/controls",
      "model_module_version": "1.5.0",
      "model_name": "LinkModel",
      "state": {
       "source": [
        "IPY_MODEL_fff2c59995f24ad088c2dfb8f4db3f66",
        "value"
       ],
       "target": [
        "IPY_MODEL_3aecf37df0094714be62c7c8467a1ac1",
        "zoom"
       ]
      }
     },
     "7fd2ac9fadbb4966909dadf4bcbf56a6": {
      "model_module": "jupyter-leaflet",
      "model_module_version": "^0.13.2",
      "model_name": "LeafletAntPathModel",
      "state": {
       "_model_module_version": "^0.13.2",
       "_view_module_version": "^0.13.2",
       "color": "#7590ba",
       "dash_array": [
        1,
        10
       ],
       "delay": 2000,
       "locations": [
        [
         48.2311,
         16.375006
        ],
        [
         48.2311,
         16.375006
        ],
        [
         48.2311,
         16.375006
        ],
        [
         48.2311,
         16.375006
        ],
        [
         48.2311,
         16.375006
        ],
        [
         48.2311,
         16.375006
        ],
        [
         48.2311,
         16.375006
        ],
        [
         48.2311,
         16.375006
        ],
        [
         48.2311,
         16.375006
        ],
        [
         48.2311,
         16.375006
        ],
        [
         48.2311,
         16.375006
        ],
        [
         48.2311,
         16.375006
        ],
        [
         48.231136,
         16.374966
        ],
        [
         48.231136,
         16.374966
        ],
        [
         48.231136,
         16.374966
        ],
        [
         48.231139,
         16.374955
        ],
        [
         48.231139,
         16.374955
        ],
        [
         48.231139,
         16.374955
        ],
        [
         48.231139,
         16.374955
        ],
        [
         48.231139,
         16.374955
        ],
        [
         48.231139,
         16.374955
        ],
        [
         48.231139,
         16.374955
        ],
        [
         48.231139,
         16.374955
        ],
        [
         48.231139,
         16.374955
        ],
        [
         48.231139,
         16.374955
        ],
        [
         48.231139,
         16.374955
        ],
        [
         48.231139,
         16.374955
        ],
        [
         48.231139,
         16.374955
        ],
        [
         48.231139,
         16.374955
        ],
        [
         48.231139,
         16.374955
        ],
        [
         48.231139,
         16.374955
        ],
        [
         48.231139,
         16.374955
        ],
        [
         48.231139,
         16.374955
        ],
        [
         48.231619,
         16.374845
        ],
        [
         48.231619,
         16.374845
        ],
        [
         48.231619,
         16.374845
        ],
        [
         48.231619,
         16.374845
        ],
        [
         48.231619,
         16.374845
        ],
        [
         48.231619,
         16.374845
        ],
        [
         48.231619,
         16.374845
        ],
        [
         48.231619,
         16.374845
        ],
        [
         48.231619,
         16.374845
        ],
        [
         48.231835,
         16.374748
        ],
        [
         48.231854,
         16.374751
        ],
        [
         48.231878,
         16.374744
        ],
        [
         48.2319,
         16.374732
        ],
        [
         48.23193,
         16.374722
        ],
        [
         48.231968,
         16.374724
        ],
        [
         48.231994,
         16.374727
        ],
        [
         48.232023999999996,
         16.374717
        ],
        [
         48.232075,
         16.374732
        ],
        [
         48.23212,
         16.37474
        ],
        [
         48.232163,
         16.374747
        ],
        [
         48.2322,
         16.374753
        ],
        [
         48.232238,
         16.374759
        ],
        [
         48.232248,
         16.374748999999998
        ],
        [
         48.232281,
         16.374744
        ],
        [
         48.23232,
         16.374758
        ],
        [
         48.232355,
         16.374763
        ],
        [
         48.232374,
         16.374735
        ],
        [
         48.232385,
         16.374694
        ],
        [
         48.232405,
         16.374673
        ],
        [
         48.232442,
         16.374664000000003
        ],
        [
         48.232442999999996,
         16.374668
        ],
        [
         48.232446,
         16.374667000000002
        ],
        [
         48.232479999999995,
         16.374675
        ],
        [
         48.232496000000005,
         16.374685999999997
        ],
        [
         48.232504999999996,
         16.374693
        ],
        [
         48.232531,
         16.374693
        ],
        [
         48.23256,
         16.374701
        ],
        [
         48.232571,
         16.374706
        ],
        [
         48.232569,
         16.37471
        ],
        [
         48.232589000000004,
         16.374716
        ],
        [
         48.232608,
         16.374751999999997
        ],
        [
         48.232628000000005,
         16.374767000000002
        ],
        [
         48.232618,
         16.374781
        ],
        [
         48.232616,
         16.374812
        ],
        [
         48.232616,
         16.374856
        ],
        [
         48.232642,
         16.374888000000002
        ],
        [
         48.232642,
         16.374888000000002
        ],
        [
         48.232615,
         16.374924
        ],
        [
         48.232615,
         16.374924
        ],
        [
         48.232615,
         16.374924
        ],
        [
         48.232615,
         16.374924
        ],
        [
         48.232615,
         16.374924
        ],
        [
         48.232615,
         16.374924
        ],
        [
         48.232818,
         16.374986
        ],
        [
         48.232818,
         16.374986
        ],
        [
         48.232818,
         16.374986
        ],
        [
         48.232818,
         16.374986
        ],
        [
         48.232818,
         16.374986
        ],
        [
         48.232818,
         16.374986
        ],
        [
         48.232818,
         16.374986
        ],
        [
         48.232818,
         16.374986
        ],
        [
         48.232818,
         16.374986
        ],
        [
         48.232818,
         16.374986
        ],
        [
         48.232818,
         16.374986
        ],
        [
         48.232818,
         16.374986
        ],
        [
         48.232818,
         16.374986
        ],
        [
         48.232818,
         16.374986
        ],
        [
         48.233447,
         16.374697
        ],
        [
         48.233447,
         16.374697
        ],
        [
         48.233447,
         16.374697
        ],
        [
         48.233447,
         16.374697
        ],
        [
         48.233447,
         16.374697
        ],
        [
         48.233447,
         16.374697
        ],
        [
         48.233447,
         16.374697
        ],
        [
         48.233447,
         16.374697
        ],
        [
         48.233447,
         16.374697
        ],
        [
         48.233447,
         16.374697
        ],
        [
         48.233447,
         16.374697
        ],
        [
         48.233447,
         16.374697
        ],
        [
         48.233447,
         16.374697
        ],
        [
         48.233518,
         16.374664000000003
        ],
        [
         48.233518,
         16.374664000000003
        ],
        [
         48.233518,
         16.374664000000003
        ],
        [
         48.233518,
         16.374664000000003
        ],
        [
         48.233518,
         16.374664000000003
        ],
        [
         48.233518,
         16.374664000000003
        ],
        [
         48.233518,
         16.374664000000003
        ],
        [
         48.233518,
         16.374664000000003
        ],
        [
         48.233518,
         16.374664000000003
        ],
        [
         48.233518,
         16.374664000000003
        ],
        [
         48.233518,
         16.374664000000003
        ],
        [
         48.233518,
         16.374664000000003
        ],
        [
         48.233518,
         16.374664000000003
        ],
        [
         48.233519,
         16.374678
        ],
        [
         48.233513,
         16.374674
        ],
        [
         48.233515999999995,
         16.374669
        ],
        [
         48.233515999999995,
         16.374667000000002
        ],
        [
         48.233525,
         16.374665
        ],
        [
         48.233523999999996,
         16.374667000000002
        ],
        [
         48.233531,
         16.374668
        ],
        [
         48.233531,
         16.374667000000002
        ],
        [
         48.233536,
         16.374654
        ],
        [
         48.233534000000006,
         16.374653
        ],
        [
         48.233525,
         16.374653
        ],
        [
         48.233507,
         16.374648
        ],
        [
         48.233506,
         16.374653
        ],
        [
         48.233503999999996,
         16.374663
        ],
        [
         48.233499,
         16.374665
        ],
        [
         48.233495,
         16.374674
        ],
        [
         48.233509999999995,
         16.374657
        ],
        [
         48.23348,
         16.374661
        ],
        [
         48.233455,
         16.374669
        ],
        [
         48.233434,
         16.374659
        ],
        [
         48.233427,
         16.374613
        ],
        [
         48.233429,
         16.374563000000002
        ],
        [
         48.233436,
         16.374509
        ],
        [
         48.233449,
         16.37446
        ],
        [
         48.233465,
         16.374415
        ],
        [
         48.233486,
         16.374365
        ],
        [
         48.23349,
         16.37432
        ],
        [
         48.233487,
         16.374267
        ],
        [
         48.233476,
         16.374228
        ],
        [
         48.233458,
         16.374214000000002
        ],
        [
         48.233441,
         16.374219
        ],
        [
         48.233415,
         16.374242000000002
        ],
        [
         48.233401,
         16.374246
        ],
        [
         48.233378,
         16.374273000000002
        ],
        [
         48.233366,
         16.374287
        ],
        [
         48.233364,
         16.374288
        ],
        [
         48.233342,
         16.374302
        ],
        [
         48.233337,
         16.374303
        ],
        [
         48.233329,
         16.374318
        ],
        [
         48.233301000000004,
         16.374323
        ],
        [
         48.233287,
         16.374271
        ],
        [
         48.233268,
         16.374236
        ],
        [
         48.233253000000005,
         16.374233
        ],
        [
         48.233243,
         16.374223
        ],
        [
         48.233249,
         16.374216
        ],
        [
         48.233249,
         16.374216
        ],
        [
         48.233249,
         16.374216
        ],
        [
         48.233249,
         16.374216
        ],
        [
         48.233249,
         16.374216
        ],
        [
         48.233249,
         16.374216
        ],
        [
         48.23324,
         16.374012
        ],
        [
         48.23324,
         16.374012
        ],
        [
         48.23324,
         16.374012
        ],
        [
         48.23324,
         16.374012
        ],
        [
         48.23324,
         16.374012
        ],
        [
         48.23324,
         16.374012
        ],
        [
         48.233115999999995,
         16.373853
        ],
        [
         48.233121999999995,
         16.373819
        ],
        [
         48.233112,
         16.373767
        ],
        [
         48.233102,
         16.373713000000002
        ],
        [
         48.233093,
         16.37365
        ],
        [
         48.233090000000004,
         16.373587
        ],
        [
         48.233074,
         16.37353
        ],
        [
         48.233149,
         16.373388000000002
        ],
        [
         48.23317,
         16.373345
        ],
        [
         48.233199,
         16.373309
        ],
        [
         48.233230999999996,
         16.373279
        ],
        [
         48.233269,
         16.373273
        ],
        [
         48.233306,
         16.373251999999997
        ],
        [
         48.233340000000005,
         16.37323
        ],
        [
         48.233378,
         16.373209
        ],
        [
         48.233415,
         16.373186999999998
        ],
        [
         48.233449,
         16.373171
        ],
        [
         48.23348,
         16.373157
        ],
        [
         48.233512,
         16.373143
        ],
        [
         48.23355,
         16.37313
        ],
        [
         48.233585999999995,
         16.373123
        ],
        [
         48.233615,
         16.37311
        ],
        [
         48.233649,
         16.373085999999997
        ],
        [
         48.233693,
         16.373062
        ],
        [
         48.233711,
         16.373057
        ],
        [
         48.233724,
         16.373077
        ],
        [
         48.233737,
         16.373089999999998
        ],
        [
         48.233737,
         16.373089999999998
        ],
        [
         48.233737,
         16.373089999999998
        ],
        [
         48.233737,
         16.373089999999998
        ],
        [
         48.233737,
         16.373089999999998
        ],
        [
         48.233894,
         16.373085
        ],
        [
         48.233889000000005,
         16.373088
        ],
        [
         48.233889000000005,
         16.373088
        ],
        [
         48.233889000000005,
         16.373088
        ],
        [
         48.233889000000005,
         16.373088
        ],
        [
         48.233889000000005,
         16.373088
        ],
        [
         48.233889000000005,
         16.373088
        ],
        [
         48.233889000000005,
         16.373088
        ],
        [
         48.233889000000005,
         16.373088
        ],
        [
         48.233889000000005,
         16.373088
        ],
        [
         48.233889000000005,
         16.373088
        ],
        [
         48.233889000000005,
         16.373088
        ],
        [
         48.233889000000005,
         16.373088
        ],
        [
         48.233889000000005,
         16.373088
        ],
        [
         48.233889000000005,
         16.373088
        ],
        [
         48.233889000000005,
         16.373088
        ],
        [
         48.233889000000005,
         16.373088
        ],
        [
         48.233889000000005,
         16.373088
        ],
        [
         48.233889000000005,
         16.373088
        ],
        [
         48.233889000000005,
         16.373088
        ],
        [
         48.233889000000005,
         16.373088
        ],
        [
         48.233889000000005,
         16.373088
        ],
        [
         48.234426,
         16.372957999999997
        ],
        [
         48.234423,
         16.372961
        ],
        [
         48.234431,
         16.372945
        ],
        [
         48.234464,
         16.372932000000002
        ],
        [
         48.234505,
         16.372923999999998
        ],
        [
         48.234524,
         16.372914
        ],
        [
         48.234569,
         16.372888
        ],
        [
         48.234586,
         16.372865
        ],
        [
         48.234595,
         16.372864
        ],
        [
         48.234621999999995,
         16.372866000000002
        ],
        [
         48.234652000000004,
         16.372866000000002
        ],
        [
         48.234727,
         16.372867000000003
        ],
        [
         48.234771,
         16.372869
        ],
        [
         48.234802,
         16.372869
        ],
        [
         48.234840000000005,
         16.37286
        ],
        [
         48.23488,
         16.37284
        ],
        [
         48.23493,
         16.37284
        ],
        [
         48.234981,
         16.372825
        ],
        [
         48.235029,
         16.372821
        ],
        [
         48.235093,
         16.372770000000003
        ],
        [
         48.235178000000005,
         16.372694
        ],
        [
         48.235233,
         16.372668
        ],
        [
         48.235269,
         16.372643
        ],
        [
         48.235299,
         16.372607000000002
        ],
        [
         48.235285,
         16.372603
        ],
        [
         48.235284,
         16.372603
        ],
        [
         48.235301,
         16.372575
        ],
        [
         48.235305,
         16.372526999999998
        ],
        [
         48.235309,
         16.372479000000002
        ],
        [
         48.235321,
         16.372425
        ],
        [
         48.235336,
         16.372374
        ],
        [
         48.235333000000004,
         16.372335999999997
        ],
        [
         48.235335,
         16.372291
        ],
        [
         48.235347999999995,
         16.372241
        ],
        [
         48.235354,
         16.372188
        ],
        [
         48.235358000000005,
         16.372142999999998
        ],
        [
         48.235363,
         16.372097
        ],
        [
         48.23537,
         16.372054000000002
        ],
        [
         48.235382,
         16.372004999999998
        ],
        [
         48.235378999999995,
         16.371951
        ],
        [
         48.235381,
         16.371894
        ],
        [
         48.235397,
         16.371838
        ],
        [
         48.235415,
         16.371783999999998
        ],
        [
         48.235442,
         16.371745999999998
        ],
        [
         48.235439,
         16.371726000000002
        ],
        [
         48.235440000000004,
         16.371716
        ],
        [
         48.235465000000005,
         16.371675
        ],
        [
         48.235473,
         16.371616
        ],
        [
         48.235479,
         16.371567000000002
        ],
        [
         48.235481,
         16.37153
        ],
        [
         48.235463,
         16.371472
        ],
        [
         48.235403999999996,
         16.37141
        ],
        [
         48.235362,
         16.37135
        ],
        [
         48.235319,
         16.371278
        ],
        [
         48.235304,
         16.371235000000002
        ],
        [
         48.235303,
         16.371197
        ],
        [
         48.235306,
         16.371183
        ],
        [
         48.235315,
         16.371182
        ],
        [
         48.235327000000005,
         16.371177
        ],
        [
         48.235329,
         16.371167
        ],
        [
         48.235307,
         16.371143
        ],
        [
         48.235302000000004,
         16.371126
        ],
        [
         48.235307,
         16.371086
        ],
        [
         48.235289,
         16.371029999999998
        ],
        [
         48.235275,
         16.370986
        ],
        [
         48.235244,
         16.370934
        ],
        [
         48.235242,
         16.370882
        ],
        [
         48.235239,
         16.370816
        ],
        [
         48.235234000000005,
         16.370754
        ],
        [
         48.235221,
         16.370685
        ],
        [
         48.235211,
         16.370619
        ],
        [
         48.235201,
         16.370558
        ],
        [
         48.235170000000004,
         16.370499
        ],
        [
         48.235168,
         16.370464000000002
        ],
        [
         48.235147,
         16.370407999999998
        ],
        [
         48.235109,
         16.370382
        ],
        [
         48.235076,
         16.370382
        ],
        [
         48.235068,
         16.370369
        ],
        [
         48.235098,
         16.370345999999998
        ],
        [
         48.235106,
         16.370305
        ],
        [
         48.235108000000004,
         16.370297
        ],
        [
         48.23511,
         16.37029
        ],
        [
         48.235134,
         16.370244
        ],
        [
         48.23515,
         16.370182999999997
        ],
        [
         48.235137,
         16.37013
        ],
        [
         48.235106,
         16.37011
        ],
        [
         48.235094000000004,
         16.370101000000002
        ],
        [
         48.235091,
         16.370089
        ],
        [
         48.235085999999995,
         16.370078
        ],
        [
         48.235087,
         16.370093
        ],
        [
         48.235084,
         16.370098000000002
        ],
        [
         48.235084,
         16.370098000000002
        ],
        [
         48.235084,
         16.370098000000002
        ],
        [
         48.235084,
         16.370098000000002
        ],
        [
         48.235084,
         16.370098000000002
        ],
        [
         48.235084,
         16.370098000000002
        ],
        [
         48.235084,
         16.370098000000002
        ],
        [
         48.235084,
         16.370098000000002
        ],
        [
         48.235084,
         16.370098000000002
        ],
        [
         48.235084,
         16.370098000000002
        ],
        [
         48.235084,
         16.370098000000002
        ],
        [
         48.235084,
         16.370098000000002
        ],
        [
         48.235084,
         16.370098000000002
        ],
        [
         48.234423,
         16.370252999999998
        ],
        [
         48.23438,
         16.370264000000002
        ],
        [
         48.234333,
         16.370272
        ],
        [
         48.234286,
         16.370271
        ],
        [
         48.234245,
         16.370252999999998
        ],
        [
         48.234206,
         16.370257000000002
        ],
        [
         48.234173,
         16.370252
        ],
        [
         48.234147,
         16.370256
        ],
        [
         48.234124,
         16.370254
        ],
        [
         48.234092,
         16.370260000000002
        ],
        [
         48.234052,
         16.370267000000002
        ],
        [
         48.234016,
         16.370281
        ],
        [
         48.233978,
         16.370287
        ],
        [
         48.233958,
         16.370279
        ],
        [
         48.233964,
         16.370242
        ],
        [
         48.233952,
         16.370245
        ],
        [
         48.233959000000006,
         16.370239
        ],
        [
         48.233965999999995,
         16.370236
        ],
        [
         48.233975,
         16.370231
        ],
        [
         48.233985,
         16.370216
        ],
        [
         48.233982,
         16.370202
        ],
        [
         48.23395,
         16.370194
        ],
        [
         48.233922,
         16.370184
        ],
        [
         48.233896,
         16.37017
        ],
        [
         48.233876,
         16.370154
        ],
        [
         48.233832,
         16.370151999999997
        ],
        [
         48.233785,
         16.370141
        ],
        [
         48.233740000000004,
         16.370127
        ],
        [
         48.233689,
         16.37013
        ],
        [
         48.23364,
         16.370133
        ],
        [
         48.233593,
         16.37014
        ],
        [
         48.233544,
         16.370148
        ],
        [
         48.233509999999995,
         16.370155
        ],
        [
         48.233473,
         16.370163
        ],
        [
         48.233438,
         16.370160000000002
        ],
        [
         48.233401,
         16.370167000000002
        ],
        [
         48.233359,
         16.370173
        ],
        [
         48.233314,
         16.370162
        ],
        [
         48.233274,
         16.370157
        ],
        [
         48.233246,
         16.370119
        ],
        [
         48.233230999999996,
         16.370054999999997
        ],
        [
         48.233224,
         16.369999
        ],
        [
         48.233222999999995,
         16.369927
        ],
        [
         48.233218,
         16.369868
        ],
        [
         48.233208000000005,
         16.369811
        ],
        [
         48.233227,
         16.369754999999998
        ],
        [
         48.233251,
         16.36972
        ],
        [
         48.233224,
         16.369685
        ],
        [
         48.233219,
         16.369604000000002
        ],
        [
         48.23322,
         16.369532
        ],
        [
         48.23324,
         16.369462
        ],
        [
         48.233319,
         16.369396
        ],
        [
         48.233332,
         16.369321
        ],
        [
         48.233313,
         16.369253
        ],
        [
         48.233292999999996,
         16.369175
        ],
        [
         48.233233,
         16.369113
        ],
        [
         48.233193,
         16.369064
        ],
        [
         48.233176,
         16.369013
        ],
        [
         48.233096999999994,
         16.368982
        ],
        [
         48.233044,
         16.368983
        ],
        [
         48.232994,
         16.369022
        ],
        [
         48.232946000000005,
         16.369019
        ],
        [
         48.232884999999996,
         16.369003
        ],
        [
         48.232856,
         16.369024
        ],
        [
         48.232805,
         16.369006
        ],
        [
         48.232764,
         16.368999
        ],
        [
         48.232732,
         16.369004999999998
        ],
        [
         48.232685,
         16.369013
        ],
        [
         48.232651000000004,
         16.369026
        ],
        [
         48.23264,
         16.369051000000002
        ],
        [
         48.232634000000004,
         16.369086
        ],
        [
         48.232627,
         16.36915
        ],
        [
         48.232628000000005,
         16.369191
        ],
        [
         48.232625,
         16.369195
        ],
        [
         48.232625,
         16.369204
        ],
        [
         48.23264,
         16.369257
        ],
        [
         48.232662,
         16.369314000000003
        ],
        [
         48.23268,
         16.369367
        ],
        [
         48.232704,
         16.369426
        ],
        [
         48.232706,
         16.369478
        ],
        [
         48.232725,
         16.369531
        ],
        [
         48.232748,
         16.369587
        ],
        [
         48.232773,
         16.369644
        ],
        [
         48.232774,
         16.369704000000002
        ],
        [
         48.2328,
         16.369768
        ],
        [
         48.232817,
         16.369835000000002
        ],
        [
         48.232842,
         16.369905
        ],
        [
         48.232856,
         16.369975
        ],
        [
         48.232856,
         16.370046
        ],
        [
         48.232853999999996,
         16.370113
        ],
        [
         48.232846,
         16.370174
        ],
        [
         48.232858,
         16.370241
        ],
        [
         48.232865000000004,
         16.370305
        ],
        [
         48.232859999999995,
         16.370361
        ],
        [
         48.232827,
         16.370393
        ],
        [
         48.2328,
         16.370426000000002
        ],
        [
         48.232764,
         16.370445
        ],
        [
         48.232732,
         16.370471
        ],
        [
         48.232698,
         16.370463
        ],
        [
         48.232698,
         16.370469
        ],
        [
         48.23271,
         16.370521
        ],
        [
         48.232702,
         16.370579
        ],
        [
         48.232703,
         16.370626
        ],
        [
         48.232706,
         16.37066
        ],
        [
         48.232707,
         16.370670999999998
        ],
        [
         48.232695,
         16.370717000000003
        ],
        [
         48.232669,
         16.370788
        ],
        [
         48.232663,
         16.370832999999998
        ],
        [
         48.232653000000006,
         16.370892
        ],
        [
         48.232641,
         16.370973
        ],
        [
         48.232628000000005,
         16.37104
        ],
        [
         48.23261,
         16.371118
        ],
        [
         48.232605,
         16.371187
        ],
        [
         48.23259,
         16.371259
        ],
        [
         48.23256,
         16.371316
        ],
        [
         48.232535999999996,
         16.371361
        ],
        [
         48.232504,
         16.371382999999998
        ],
        [
         48.232479999999995,
         16.37138
        ],
        [
         48.232476,
         16.371363
        ],
        [
         48.232446,
         16.371385999999998
        ],
        [
         48.232392,
         16.371451
        ],
        [
         48.232338,
         16.371499
        ],
        [
         48.232314,
         16.37153
        ],
        [
         48.232293,
         16.371610999999998
        ],
        [
         48.232285,
         16.371682
        ],
        [
         48.232274,
         16.371737
        ],
        [
         48.232271999999995,
         16.371793
        ],
        [
         48.232279999999996,
         16.371839
        ],
        [
         48.232261,
         16.371861
        ],
        [
         48.232238,
         16.371873
        ],
        [
         48.232196,
         16.371896
        ],
        [
         48.232141,
         16.371889000000003
        ],
        [
         48.232096999999996,
         16.371891
        ],
        [
         48.232054999999995,
         16.371895000000002
        ],
        [
         48.23202,
         16.371904999999998
        ],
        [
         48.231981,
         16.371910999999997
        ],
        [
         48.231958,
         16.371917
        ],
        [
         48.231947999999996,
         16.371916
        ],
        [
         48.231945,
         16.371917
        ],
        [
         48.231945,
         16.371917
        ],
        [
         48.231945,
         16.371917
        ],
        [
         48.231945,
         16.371917
        ],
        [
         48.231945,
         16.371917
        ],
        [
         48.231945,
         16.371917
        ],
        [
         48.231945,
         16.371917
        ],
        [
         48.231945,
         16.371917
        ],
        [
         48.231945,
         16.371917
        ],
        [
         48.231945,
         16.371917
        ],
        [
         48.231945,
         16.371917
        ],
        [
         48.231945,
         16.371917
        ],
        [
         48.231945,
         16.371917
        ],
        [
         48.231945,
         16.371917
        ],
        [
         48.231945,
         16.371917
        ],
        [
         48.231945,
         16.371917
        ],
        [
         48.231945,
         16.371917
        ],
        [
         48.231945,
         16.371917
        ],
        [
         48.231945,
         16.371917
        ],
        [
         48.231945,
         16.371917
        ],
        [
         48.231945,
         16.371917
        ],
        [
         48.231945,
         16.371917
        ],
        [
         48.231945,
         16.371917
        ],
        [
         48.231945,
         16.371917
        ]
       ],
       "name": "Trail",
       "options": [
        "color",
        "dash_array",
        "delay",
        "hardware_accelerated",
        "paused",
        "pulse_color",
        "radius",
        "reverse",
        "use",
        "weight"
       ],
       "pulse_color": "#3f6fba"
      }
     },
     "80c86ab2cddb492fac03d1d7b968d6eb": {
      "model_module": "jupyter-leaflet",
      "model_module_version": "^0.13.2",
      "model_name": "LeafletMarkerModel",
      "state": {
       "_model_module_version": "^0.13.2",
       "_view_module_version": "^0.13.2",
       "icon": "IPY_MODEL_c123631554284327b454859dda8a9ccb",
       "location": [
        48.235323,
        16.371179
       ],
       "options": [
        "alt",
        "draggable",
        "keyboard",
        "rise_offset",
        "rise_on_hover",
        "rotation_angle",
        "rotation_origin",
        "title",
        "z_index_offset"
       ]
      }
     },
     "81b4ddafca1d462c88df501152a113d1": {
      "model_module": "@jupyter-widgets/base",
      "model_module_version": "1.2.0",
      "model_name": "LayoutModel",
      "state": {}
     },
     "82a9b58273634cb597a8c2734f7739b4": {
      "model_module": "@jupyter-widgets/controls",
      "model_module_version": "1.5.0",
      "model_name": "SliderStyleModel",
      "state": {
       "description_width": ""
      }
     },
     "83d50fdecbae49bdbe88780c0e7cc85f": {
      "model_module": "jupyter-leaflet",
      "model_module_version": "^0.13.2",
      "model_name": "LeafletWMSLayerModel",
      "state": {
       "_model_module_version": "^0.13.2",
       "_view_module_version": "^0.13.2",
       "attribution": "wait",
       "crs": {
        "custom": false,
        "name": "EPSG3857"
       },
       "format": "image/png",
       "max_native_zoom": 18,
       "min_native_zoom": 0,
       "options": [
        "attribution",
        "detect_retina",
        "format",
        "layers",
        "max_native_zoom",
        "max_zoom",
        "min_native_zoom",
        "min_zoom",
        "no_wrap",
        "styles",
        "tile_size",
        "tms",
        "transparent",
        "uppercase"
       ],
       "transparent": true,
       "url": "http://maps.wien.gv.at/basemap/geolandbasemap/normal/google3857/{z}/{y}/{x}.png"
      }
     },
     "8617b9802634420d9d6be400920f9e60": {
      "model_module": "jupyter-leaflet",
      "model_module_version": "^0.13.2",
      "model_name": "LeafletScaleControlModel",
      "state": {
       "_model_module_version": "^0.13.2",
       "_view_module_version": "^0.13.2",
       "imperial": false,
       "max_width": 100,
       "metric": true,
       "options": [
        "imperial",
        "max_width",
        "metric",
        "position",
        "update_when_idle"
       ],
       "position": "bottomleft",
       "update_when_idle": false
      }
     },
     "87253ac375144dbab3c80caee28084d5": {
      "model_module": "@jupyter-widgets/controls",
      "model_module_version": "1.5.0",
      "model_name": "IntSliderModel",
      "state": {
       "description": "Zoom level:",
       "layout": "IPY_MODEL_99e190e09e8c4e70b23fd0da697201b2",
       "max": 20,
       "min": 10,
       "style": "IPY_MODEL_49f79fb291ed4c069e92d05a3ef75066",
       "value": 16
      }
     },
     "8886111bf06c481687799090fc7c1925": {
      "model_module": "jupyter-leaflet",
      "model_module_version": "^0.13.2",
      "model_name": "LeafletTileLayerModel",
      "state": {
       "_model_module_version": "^0.13.2",
       "_view_module_version": "^0.13.2",
       "base": true,
       "max_native_zoom": 18,
       "max_zoom": 19,
       "min_native_zoom": 0,
       "min_zoom": 1,
       "options": [
        "attribution",
        "detect_retina",
        "max_native_zoom",
        "max_zoom",
        "min_native_zoom",
        "min_zoom",
        "no_wrap",
        "tile_size",
        "tms"
       ]
      }
     },
     "897aa8d505b24ec3a22b0fb88c8a5ae7": {
      "model_module": "jupyter-leaflet",
      "model_module_version": "^0.13.2",
      "model_name": "LeafletMarkerModel",
      "state": {
       "_model_module_version": "^0.13.2",
       "_view_module_version": "^0.13.2",
       "icon": "IPY_MODEL_909cd25f4a344af1b765a97c8a400309",
       "location": [
        48.231947999999996,
        16.371916
       ],
       "options": [
        "alt",
        "draggable",
        "keyboard",
        "rise_offset",
        "rise_on_hover",
        "rotation_angle",
        "rotation_origin",
        "title",
        "z_index_offset"
       ]
      }
     },
     "8a5486381fbb4bf9a7c44320afc0a85b": {
      "model_module": "jupyter-leaflet",
      "model_module_version": "^0.13.2",
      "model_name": "LeafletMarkerModel",
      "state": {
       "_model_module_version": "^0.13.2",
       "_view_module_version": "^0.13.2",
       "icon": "IPY_MODEL_909cd25f4a344af1b765a97c8a400309",
       "location": [
        48.233336,
        16.374308
       ],
       "options": [
        "alt",
        "draggable",
        "keyboard",
        "rise_offset",
        "rise_on_hover",
        "rotation_angle",
        "rotation_origin",
        "title",
        "z_index_offset"
       ]
      }
     },
     "8b01a38be94147188a2fc09ccc4961c2": {
      "model_module": "@jupyter-widgets/base",
      "model_module_version": "1.2.0",
      "model_name": "LayoutModel",
      "state": {
       "height": "600px",
       "width": "100%"
      }
     },
     "8db031f948ad4a889f5b25a4f4ce40f1": {
      "model_module": "jupyter-leaflet",
      "model_module_version": "^0.13.2",
      "model_name": "LeafletAttributionControlModel",
      "state": {
       "_model_module_version": "^0.13.2",
       "_view_module_version": "^0.13.2",
       "options": [
        "position",
        "prefix"
       ],
       "position": "bottomright",
       "prefix": "ipyleaflet"
      }
     },
     "909cd25f4a344af1b765a97c8a400309": {
      "model_module": "jupyter-leaflet",
      "model_module_version": "^0.13.2",
      "model_name": "LeafletIconModel",
      "state": {
       "_model_module_version": "^0.13.2",
       "_view_module_version": "^0.13.2",
       "icon_size": [
        30,
        40
       ],
       "icon_url": "files/ipyleaflet/icons/tree.png",
       "options": [
        "icon_anchor",
        "icon_size",
        "icon_url",
        "popup_anchor",
        "shadow_anchor",
        "shadow_size",
        "shadow_url"
       ],
       "shadow_url": null
      }
     },
     "918c15f152c945b999dc9e9d609e7cad": {
      "model_module": "jupyter-leaflet",
      "model_module_version": "^0.13.2",
      "model_name": "LeafletMapStyleModel",
      "state": {
       "_model_module_version": "^0.13.2"
      }
     },
     "91c63d7321884f34836c0810d21a076d": {
      "model_module": "jupyter-leaflet",
      "model_module_version": "^0.13.2",
      "model_name": "LeafletMapStyleModel",
      "state": {
       "_model_module_version": "^0.13.2"
      }
     },
     "91e5ea27a3254ce3a49a9943c1a81f86": {
      "model_module": "jupyter-leaflet",
      "model_module_version": "^0.13.2",
      "model_name": "LeafletMarkerModel",
      "state": {
       "_model_module_version": "^0.13.2",
       "_view_module_version": "^0.13.2",
       "icon": "IPY_MODEL_c123631554284327b454859dda8a9ccb",
       "location": [
        48.231945,
        16.371917
       ],
       "options": [
        "alt",
        "draggable",
        "keyboard",
        "rise_offset",
        "rise_on_hover",
        "rotation_angle",
        "rotation_origin",
        "title",
        "z_index_offset"
       ]
      }
     },
     "94382c8a0dc34e77a3eaf44d38d4c7b9": {
      "model_module": "jupyter-leaflet",
      "model_module_version": "^0.13.2",
      "model_name": "LeafletMapStyleModel",
      "state": {
       "_model_module_version": "^0.13.2"
      }
     },
     "9533fc775ad44d269ba3258a0ad4e065": {
      "model_module": "jupyter-leaflet",
      "model_module_version": "^0.13.2",
      "model_name": "LeafletMarkerModel",
      "state": {
       "_model_module_version": "^0.13.2",
       "_view_module_version": "^0.13.2",
       "icon": "IPY_MODEL_909cd25f4a344af1b765a97c8a400309",
       "location": [
        48.233724,
        16.373077
       ],
       "options": [
        "alt",
        "draggable",
        "keyboard",
        "rise_offset",
        "rise_on_hover",
        "rotation_angle",
        "rotation_origin",
        "title",
        "z_index_offset"
       ]
      }
     },
     "99e190e09e8c4e70b23fd0da697201b2": {
      "model_module": "@jupyter-widgets/base",
      "model_module_version": "1.2.0",
      "model_name": "LayoutModel",
      "state": {}
     },
     "9b3570a749034662a5d19a0291b52a82": {
      "model_module": "jupyter-leaflet",
      "model_module_version": "^0.13.2",
      "model_name": "LeafletMarkerModel",
      "state": {
       "_model_module_version": "^0.13.2",
       "_view_module_version": "^0.13.2",
       "icon": "IPY_MODEL_909cd25f4a344af1b765a97c8a400309",
       "location": [
        48.232442,
        16.374664000000003
       ],
       "options": [
        "alt",
        "draggable",
        "keyboard",
        "rise_offset",
        "rise_on_hover",
        "rotation_angle",
        "rotation_origin",
        "title",
        "z_index_offset"
       ]
      }
     },
     "9f5e59958f514fcca025127037286f8a": {
      "model_module": "jupyter-leaflet",
      "model_module_version": "^0.13.2",
      "model_name": "LeafletAttributionControlModel",
      "state": {
       "_model_module_version": "^0.13.2",
       "_view_module_version": "^0.13.2",
       "options": [
        "position",
        "prefix"
       ],
       "position": "bottomright",
       "prefix": "ipyleaflet"
      }
     },
     "a11a5ef2224d427d940b0c8f0c7d2220": {
      "model_module": "jupyter-leaflet",
      "model_module_version": "^0.13.2",
      "model_name": "LeafletFullScreenControlModel",
      "state": {
       "_model_module_version": "^0.13.2",
       "_view_module_version": "^0.13.2",
       "options": [
        "position"
       ]
      }
     },
     "a16a49c3b3c3489d8e14d81ad71df00f": {
      "model_module": "jupyter-leaflet",
      "model_module_version": "^0.13.2",
      "model_name": "LeafletTileLayerModel",
      "state": {
       "_model_module_version": "^0.13.2",
       "_view_module_version": "^0.13.2",
       "attribution": "Tiles &copy; Esri &mdash; Source: Esri, DeLorme, NAVTEQ, USGS, Intermap, iPC, NRCAN, Esri Japan, METI, Esri China (Hong Kong), Esri (Thailand), TomTom, 2012",
       "max_native_zoom": 18,
       "max_zoom": 20,
       "min_native_zoom": 0,
       "min_zoom": 1,
       "name": "Esri.WorldStreetMap",
       "options": [
        "attribution",
        "detect_retina",
        "max_native_zoom",
        "max_zoom",
        "min_native_zoom",
        "min_zoom",
        "no_wrap",
        "tile_size",
        "tms"
       ],
       "url": "http://server.arcgisonline.com/ArcGIS/rest/services/World_Street_Map/MapServer/tile/{z}/{y}/{x}"
      }
     },
     "a65f9866d3a0433cae59762dbff7ddbd": {
      "model_module": "jupyter-leaflet",
      "model_module_version": "^0.13.2",
      "model_name": "LeafletZoomControlModel",
      "state": {
       "_model_module_version": "^0.13.2",
       "_view_module_version": "^0.13.2",
       "options": [
        "position",
        "zoom_in_text",
        "zoom_in_title",
        "zoom_out_text",
        "zoom_out_title"
       ]
      }
     },
     "a8ce1ff5ea864a17baf146ea08a97073": {
      "model_module": "jupyter-leaflet",
      "model_module_version": "^0.13.2",
      "model_name": "LeafletWidgetControlModel",
      "state": {
       "_model_module": "jupyter-leaflet",
       "_model_module_version": "^0.13.2",
       "_view_count": null,
       "_view_module": "jupyter-leaflet",
       "_view_module_version": "^0.13.2",
       "options": [
        "position"
       ],
       "position": "topright",
       "widget": "IPY_MODEL_69994db9075740c48f01ab456bb243b0"
      }
     },
     "aaf9235146f54ee38dd53d36e9d2bd59": {
      "model_module": "jupyter-leaflet",
      "model_module_version": "^0.13.2",
      "model_name": "LeafletMapStyleModel",
      "state": {
       "_model_module_version": "^0.13.2"
      }
     },
     "ac7219eaaec64ca193bf10e2156bf6cd": {
      "model_module": "jupyter-leaflet",
      "model_module_version": "^0.13.2",
      "model_name": "LeafletMarkerModel",
      "state": {
       "_model_module_version": "^0.13.2",
       "_view_module_version": "^0.13.2",
       "icon": "IPY_MODEL_909cd25f4a344af1b765a97c8a400309",
       "location": [
        48.235334,
        16.372338
       ],
       "options": [
        "alt",
        "draggable",
        "keyboard",
        "rise_offset",
        "rise_on_hover",
        "rotation_angle",
        "rotation_origin",
        "title",
        "z_index_offset"
       ]
      }
     },
     "ade14f5c1abd41e1b566a32086f59419": {
      "model_module": "jupyter-leaflet",
      "model_module_version": "^0.13.2",
      "model_name": "LeafletMarkerModel",
      "state": {
       "_model_module_version": "^0.13.2",
       "_view_module_version": "^0.13.2",
       "icon": "IPY_MODEL_909cd25f4a344af1b765a97c8a400309",
       "location": [
        48.233253000000005,
        16.374233
       ],
       "options": [
        "alt",
        "draggable",
        "keyboard",
        "rise_offset",
        "rise_on_hover",
        "rotation_angle",
        "rotation_origin",
        "title",
        "z_index_offset"
       ]
      }
     },
     "b0171f5a277a4821baed56c83af1810e": {
      "model_module": "jupyter-leaflet",
      "model_module_version": "^0.13.2",
      "model_name": "LeafletZoomControlModel",
      "state": {
       "_model_module_version": "^0.13.2",
       "_view_module_version": "^0.13.2",
       "options": [
        "position",
        "zoom_in_text",
        "zoom_in_title",
        "zoom_out_text",
        "zoom_out_title"
       ]
      }
     },
     "b2c984cfb032497d854e4d3077eb4692": {
      "model_module": "jupyter-leaflet",
      "model_module_version": "^0.13.2",
      "model_name": "LeafletMapStyleModel",
      "state": {
       "_model_module_version": "^0.13.2",
       "cursor": "move"
      }
     },
     "b45313782cbf407e9a0b0f7cd5a4d126": {
      "model_module": "jupyter-leaflet",
      "model_module_version": "^0.13.2",
      "model_name": "LeafletMapStyleModel",
      "state": {
       "_model_module_version": "^0.13.2"
      }
     },
     "b60336ec897f4916a7893d59d0c7aeda": {
      "model_module": "jupyter-leaflet",
      "model_module_version": "^0.13.2",
      "model_name": "LeafletAttributionControlModel",
      "state": {
       "_model_module_version": "^0.13.2",
       "_view_module_version": "^0.13.2",
       "options": [
        "position",
        "prefix"
       ],
       "position": "bottomright",
       "prefix": "ipyleaflet"
      }
     },
     "b748979854494734b09881937ce6c76b": {
      "model_module": "jupyter-leaflet",
      "model_module_version": "^0.13.2",
      "model_name": "LeafletMarkerModel",
      "state": {
       "_model_module_version": "^0.13.2",
       "_view_module_version": "^0.13.2",
       "icon": "IPY_MODEL_909cd25f4a344af1b765a97c8a400309",
       "location": [
        48.233513,
        16.374668
       ],
       "options": [
        "alt",
        "draggable",
        "keyboard",
        "rise_offset",
        "rise_on_hover",
        "rotation_angle",
        "rotation_origin",
        "title",
        "z_index_offset"
       ]
      }
     },
     "b8d521ec5c414223813d876a80121dcc": {
      "model_module": "jupyter-leaflet",
      "model_module_version": "^0.13.2",
      "model_name": "LeafletZoomControlModel",
      "state": {
       "_model_module_version": "^0.13.2",
       "_view_module_version": "^0.13.2",
       "options": [
        "position",
        "zoom_in_text",
        "zoom_in_title",
        "zoom_out_text",
        "zoom_out_title"
       ]
      }
     },
     "bbd510243d74444f862a18a350878658": {
      "model_module": "jupyter-leaflet",
      "model_module_version": "^0.13.2",
      "model_name": "LeafletFullScreenControlModel",
      "state": {
       "_model_module_version": "^0.13.2",
       "_view_module_version": "^0.13.2",
       "options": [
        "position"
       ]
      }
     },
     "bc907ce6ada645e282885c0b68fe2a16": {
      "model_module": "jupyter-leaflet",
      "model_module_version": "^0.13.2",
      "model_name": "LeafletTileLayerModel",
      "state": {
       "_model_module_version": "^0.13.2",
       "_view_module_version": "^0.13.2",
       "attribution": "Tiles &copy; Esri &mdash; Source: Esri, DeLorme, NAVTEQ, USGS, Intermap, iPC, NRCAN, Esri Japan, METI, Esri China (Hong Kong), Esri (Thailand), TomTom, 2012",
       "max_native_zoom": 18,
       "max_zoom": 20,
       "min_native_zoom": 0,
       "min_zoom": 1,
       "name": "Esri.WorldStreetMap",
       "options": [
        "attribution",
        "detect_retina",
        "max_native_zoom",
        "max_zoom",
        "min_native_zoom",
        "min_zoom",
        "no_wrap",
        "tile_size",
        "tms"
       ],
       "url": "http://server.arcgisonline.com/ArcGIS/rest/services/World_Street_Map/MapServer/tile/{z}/{y}/{x}"
      }
     },
     "be8dae18d71d48b68b1b0a3999d31a1f": {
      "model_module": "jupyter-leaflet",
      "model_module_version": "^0.13.2",
      "model_name": "LeafletTileLayerModel",
      "state": {
       "_model_module_version": "^0.13.2",
       "_view_module_version": "^0.13.2",
       "base": true,
       "max_native_zoom": 18,
       "max_zoom": 19,
       "min_native_zoom": 0,
       "min_zoom": 1,
       "options": [
        "attribution",
        "detect_retina",
        "max_native_zoom",
        "max_zoom",
        "min_native_zoom",
        "min_zoom",
        "no_wrap",
        "tile_size",
        "tms"
       ]
      }
     },
     "bf36bb6235d44da0a1961a54edbd4273": {
      "model_module": "jupyter-leaflet",
      "model_module_version": "^0.13.2",
      "model_name": "LeafletWidgetControlModel",
      "state": {
       "_model_module": "jupyter-leaflet",
       "_model_module_version": "^0.13.2",
       "_view_count": null,
       "_view_module": "jupyter-leaflet",
       "_view_module_version": "^0.13.2",
       "options": [
        "position"
       ],
       "position": "topright",
       "widget": "IPY_MODEL_675aaa8f5c174be2aee4f43b1ce14355"
      }
     },
     "bf6b62859bec43d1bf87ab7e1b5f8f84": {
      "model_module": "jupyter-leaflet",
      "model_module_version": "^0.13.2",
      "model_name": "LeafletAttributionControlModel",
      "state": {
       "_model_module_version": "^0.13.2",
       "_view_module_version": "^0.13.2",
       "options": [
        "position",
        "prefix"
       ],
       "position": "bottomright",
       "prefix": "ipyleaflet"
      }
     },
     "c123631554284327b454859dda8a9ccb": {
      "model_module": "jupyter-leaflet",
      "model_module_version": "^0.13.2",
      "model_name": "LeafletIconModel",
      "state": {
       "_model_module_version": "^0.13.2",
       "_view_module_version": "^0.13.2",
       "icon_size": [
        30,
        40
       ],
       "icon_url": "files/ipyleaflet/icons/trashbin.png",
       "options": [
        "icon_anchor",
        "icon_size",
        "icon_url",
        "popup_anchor",
        "shadow_anchor",
        "shadow_size",
        "shadow_url"
       ],
       "shadow_url": null
      }
     },
     "c47500f110c1482985bf72b7d19eb503": {
      "model_module": "@jupyter-widgets/controls",
      "model_module_version": "1.5.0",
      "model_name": "LinkModel",
      "state": {
       "source": [
        "IPY_MODEL_675aaa8f5c174be2aee4f43b1ce14355",
        "value"
       ],
       "target": [
        "IPY_MODEL_3aecf37df0094714be62c7c8467a1ac1",
        "zoom"
       ]
      }
     },
     "c793d524c3dc4cdf8c3d46ff77c2dc52": {
      "model_module": "jupyter-leaflet",
      "model_module_version": "^0.13.2",
      "model_name": "LeafletFullScreenControlModel",
      "state": {
       "_model_module_version": "^0.13.2",
       "_view_module_version": "^0.13.2",
       "options": [
        "position"
       ]
      }
     },
     "c879c1dd03764a029e5e86081f123b32": {
      "model_module": "jupyter-leaflet",
      "model_module_version": "^0.13.2",
      "model_name": "LeafletZoomControlModel",
      "state": {
       "_model_module_version": "^0.13.2",
       "_view_module_version": "^0.13.2",
       "options": [
        "position",
        "zoom_in_text",
        "zoom_in_title",
        "zoom_out_text",
        "zoom_out_title"
       ]
      }
     },
     "cb057bd4cc934e25b4c728fd9521adef": {
      "model_module": "jupyter-leaflet",
      "model_module_version": "^0.13.2",
      "model_name": "LeafletTileLayerModel",
      "state": {
       "_model_module_version": "^0.13.2",
       "_view_module_version": "^0.13.2",
       "base": true,
       "max_native_zoom": 18,
       "max_zoom": 19,
       "min_native_zoom": 0,
       "min_zoom": 1,
       "options": [
        "attribution",
        "detect_retina",
        "max_native_zoom",
        "max_zoom",
        "min_native_zoom",
        "min_zoom",
        "no_wrap",
        "tile_size",
        "tms"
       ]
      }
     },
     "d5100c5939384c44874e5f9cf6bf3292": {
      "model_module": "jupyter-leaflet",
      "model_module_version": "^0.13.2",
      "model_name": "LeafletMarkerModel",
      "state": {
       "_model_module_version": "^0.13.2",
       "_view_module_version": "^0.13.2",
       "icon": "IPY_MODEL_c123631554284327b454859dda8a9ccb",
       "location": [
        48.231184999999996,
        16.372423
       ],
       "options": [
        "alt",
        "draggable",
        "keyboard",
        "rise_offset",
        "rise_on_hover",
        "rotation_angle",
        "rotation_origin",
        "title",
        "z_index_offset"
       ]
      }
     },
     "d6dac8f629184ee8b0924806bdbdb0ef": {
      "model_module": "@jupyter-widgets/controls",
      "model_module_version": "1.5.0",
      "model_name": "IntSliderModel",
      "state": {
       "description": "Zoom level:",
       "layout": "IPY_MODEL_81b4ddafca1d462c88df501152a113d1",
       "max": 20,
       "min": 10,
       "style": "IPY_MODEL_466a24eb59334a77afc9f33e9ce5218e",
       "value": 19
      }
     },
     "d7182910202646c199b1de86cb40fb4c": {
      "model_module": "jupyter-leaflet",
      "model_module_version": "^0.13.2",
      "model_name": "LeafletScaleControlModel",
      "state": {
       "_model_module_version": "^0.13.2",
       "_view_module_version": "^0.13.2",
       "imperial": false,
       "max_width": 100,
       "metric": true,
       "options": [
        "imperial",
        "max_width",
        "metric",
        "position",
        "update_when_idle"
       ],
       "position": "bottomleft",
       "update_when_idle": false
      }
     },
     "d7e5ddd2f0d9464ca87bea512c61a790": {
      "model_module": "jupyter-leaflet",
      "model_module_version": "^0.13.2",
      "model_name": "LeafletMarkerClusterModel",
      "state": {
       "_model_module_version": "^0.13.2",
       "_view_module_version": "^0.13.2",
       "name": "Trash bins"
      }
     },
     "ddc9ee6062fe4154abd4427b3c39e62a": {
      "model_module": "jupyter-leaflet",
      "model_module_version": "^0.13.2",
      "model_name": "LeafletAntPathModel",
      "state": {
       "_model_module_version": "^0.13.2",
       "_view_module_version": "^0.13.2",
       "color": "#7590ba",
       "dash_array": [
        1,
        10
       ],
       "delay": 2000,
       "locations": [
        [
         48.2311,
         16.375006
        ],
        [
         48.2311,
         16.375006
        ],
        [
         48.2311,
         16.375006
        ],
        [
         48.2311,
         16.375006
        ],
        [
         48.2311,
         16.375006
        ],
        [
         48.2311,
         16.375006
        ],
        [
         48.2311,
         16.375006
        ],
        [
         48.2311,
         16.375006
        ],
        [
         48.2311,
         16.375006
        ],
        [
         48.2311,
         16.375006
        ],
        [
         48.2311,
         16.375006
        ],
        [
         48.2311,
         16.375006
        ],
        [
         48.231136,
         16.374966
        ],
        [
         48.231136,
         16.374966
        ],
        [
         48.231136,
         16.374966
        ],
        [
         48.231139,
         16.374955
        ],
        [
         48.231139,
         16.374955
        ],
        [
         48.231139,
         16.374955
        ],
        [
         48.231139,
         16.374955
        ],
        [
         48.231139,
         16.374955
        ],
        [
         48.231139,
         16.374955
        ],
        [
         48.231139,
         16.374955
        ],
        [
         48.231139,
         16.374955
        ],
        [
         48.231139,
         16.374955
        ],
        [
         48.231139,
         16.374955
        ],
        [
         48.231139,
         16.374955
        ],
        [
         48.231139,
         16.374955
        ],
        [
         48.231139,
         16.374955
        ],
        [
         48.231139,
         16.374955
        ],
        [
         48.231139,
         16.374955
        ],
        [
         48.231139,
         16.374955
        ],
        [
         48.231139,
         16.374955
        ],
        [
         48.231139,
         16.374955
        ],
        [
         48.231619,
         16.374845
        ],
        [
         48.231619,
         16.374845
        ],
        [
         48.231619,
         16.374845
        ],
        [
         48.231619,
         16.374845
        ],
        [
         48.231619,
         16.374845
        ],
        [
         48.231619,
         16.374845
        ],
        [
         48.231619,
         16.374845
        ],
        [
         48.231619,
         16.374845
        ],
        [
         48.231619,
         16.374845
        ],
        [
         48.231835,
         16.374748
        ],
        [
         48.231854,
         16.374751
        ],
        [
         48.231878,
         16.374744
        ],
        [
         48.2319,
         16.374732
        ],
        [
         48.23193,
         16.374722
        ],
        [
         48.231968,
         16.374724
        ],
        [
         48.231994,
         16.374727
        ],
        [
         48.232023999999996,
         16.374717
        ],
        [
         48.232075,
         16.374732
        ],
        [
         48.23212,
         16.37474
        ],
        [
         48.232163,
         16.374747
        ],
        [
         48.2322,
         16.374753
        ],
        [
         48.232238,
         16.374759
        ],
        [
         48.232248,
         16.374748999999998
        ],
        [
         48.232281,
         16.374744
        ],
        [
         48.23232,
         16.374758
        ],
        [
         48.232355,
         16.374763
        ],
        [
         48.232374,
         16.374735
        ],
        [
         48.232385,
         16.374694
        ],
        [
         48.232405,
         16.374673
        ],
        [
         48.232442,
         16.374664000000003
        ],
        [
         48.232442999999996,
         16.374668
        ],
        [
         48.232446,
         16.374667000000002
        ],
        [
         48.232479999999995,
         16.374675
        ],
        [
         48.232496000000005,
         16.374685999999997
        ],
        [
         48.232504999999996,
         16.374693
        ],
        [
         48.232531,
         16.374693
        ],
        [
         48.23256,
         16.374701
        ],
        [
         48.232571,
         16.374706
        ],
        [
         48.232569,
         16.37471
        ],
        [
         48.232589000000004,
         16.374716
        ],
        [
         48.232608,
         16.374751999999997
        ],
        [
         48.232628000000005,
         16.374767000000002
        ],
        [
         48.232618,
         16.374781
        ],
        [
         48.232616,
         16.374812
        ],
        [
         48.232616,
         16.374856
        ],
        [
         48.232642,
         16.374888000000002
        ],
        [
         48.232642,
         16.374888000000002
        ],
        [
         48.232615,
         16.374924
        ],
        [
         48.232615,
         16.374924
        ],
        [
         48.232615,
         16.374924
        ],
        [
         48.232615,
         16.374924
        ],
        [
         48.232615,
         16.374924
        ],
        [
         48.232615,
         16.374924
        ],
        [
         48.232818,
         16.374986
        ],
        [
         48.232818,
         16.374986
        ],
        [
         48.232818,
         16.374986
        ],
        [
         48.232818,
         16.374986
        ],
        [
         48.232818,
         16.374986
        ],
        [
         48.232818,
         16.374986
        ],
        [
         48.232818,
         16.374986
        ],
        [
         48.232818,
         16.374986
        ],
        [
         48.232818,
         16.374986
        ],
        [
         48.232818,
         16.374986
        ],
        [
         48.232818,
         16.374986
        ],
        [
         48.232818,
         16.374986
        ],
        [
         48.232818,
         16.374986
        ],
        [
         48.232818,
         16.374986
        ],
        [
         48.233447,
         16.374697
        ],
        [
         48.233447,
         16.374697
        ],
        [
         48.233447,
         16.374697
        ],
        [
         48.233447,
         16.374697
        ],
        [
         48.233447,
         16.374697
        ],
        [
         48.233447,
         16.374697
        ],
        [
         48.233447,
         16.374697
        ],
        [
         48.233447,
         16.374697
        ],
        [
         48.233447,
         16.374697
        ],
        [
         48.233447,
         16.374697
        ],
        [
         48.233447,
         16.374697
        ],
        [
         48.233447,
         16.374697
        ],
        [
         48.233447,
         16.374697
        ],
        [
         48.233518,
         16.374664000000003
        ],
        [
         48.233518,
         16.374664000000003
        ],
        [
         48.233518,
         16.374664000000003
        ],
        [
         48.233518,
         16.374664000000003
        ],
        [
         48.233518,
         16.374664000000003
        ],
        [
         48.233518,
         16.374664000000003
        ],
        [
         48.233518,
         16.374664000000003
        ],
        [
         48.233518,
         16.374664000000003
        ],
        [
         48.233518,
         16.374664000000003
        ],
        [
         48.233518,
         16.374664000000003
        ],
        [
         48.233518,
         16.374664000000003
        ],
        [
         48.233518,
         16.374664000000003
        ],
        [
         48.233518,
         16.374664000000003
        ],
        [
         48.233519,
         16.374678
        ],
        [
         48.233513,
         16.374674
        ],
        [
         48.233515999999995,
         16.374669
        ],
        [
         48.233515999999995,
         16.374667000000002
        ],
        [
         48.233525,
         16.374665
        ],
        [
         48.233523999999996,
         16.374667000000002
        ],
        [
         48.233531,
         16.374668
        ],
        [
         48.233531,
         16.374667000000002
        ],
        [
         48.233536,
         16.374654
        ],
        [
         48.233534000000006,
         16.374653
        ],
        [
         48.233525,
         16.374653
        ],
        [
         48.233507,
         16.374648
        ],
        [
         48.233506,
         16.374653
        ],
        [
         48.233503999999996,
         16.374663
        ],
        [
         48.233499,
         16.374665
        ],
        [
         48.233495,
         16.374674
        ],
        [
         48.233509999999995,
         16.374657
        ],
        [
         48.23348,
         16.374661
        ],
        [
         48.233455,
         16.374669
        ],
        [
         48.233434,
         16.374659
        ],
        [
         48.233427,
         16.374613
        ],
        [
         48.233429,
         16.374563000000002
        ],
        [
         48.233436,
         16.374509
        ],
        [
         48.233449,
         16.37446
        ],
        [
         48.233465,
         16.374415
        ],
        [
         48.233486,
         16.374365
        ],
        [
         48.23349,
         16.37432
        ],
        [
         48.233487,
         16.374267
        ],
        [
         48.233476,
         16.374228
        ],
        [
         48.233458,
         16.374214000000002
        ],
        [
         48.233441,
         16.374219
        ],
        [
         48.233415,
         16.374242000000002
        ],
        [
         48.233401,
         16.374246
        ],
        [
         48.233378,
         16.374273000000002
        ],
        [
         48.233366,
         16.374287
        ],
        [
         48.233364,
         16.374288
        ],
        [
         48.233342,
         16.374302
        ],
        [
         48.233337,
         16.374303
        ],
        [
         48.233329,
         16.374318
        ],
        [
         48.233301000000004,
         16.374323
        ],
        [
         48.233287,
         16.374271
        ],
        [
         48.233268,
         16.374236
        ],
        [
         48.233253000000005,
         16.374233
        ],
        [
         48.233243,
         16.374223
        ],
        [
         48.233249,
         16.374216
        ],
        [
         48.233249,
         16.374216
        ],
        [
         48.233249,
         16.374216
        ],
        [
         48.233249,
         16.374216
        ],
        [
         48.233249,
         16.374216
        ],
        [
         48.233249,
         16.374216
        ],
        [
         48.23324,
         16.374012
        ],
        [
         48.23324,
         16.374012
        ],
        [
         48.23324,
         16.374012
        ],
        [
         48.23324,
         16.374012
        ],
        [
         48.23324,
         16.374012
        ],
        [
         48.23324,
         16.374012
        ],
        [
         48.233115999999995,
         16.373853
        ],
        [
         48.233121999999995,
         16.373819
        ],
        [
         48.233112,
         16.373767
        ],
        [
         48.233102,
         16.373713000000002
        ],
        [
         48.233093,
         16.37365
        ],
        [
         48.233090000000004,
         16.373587
        ],
        [
         48.233074,
         16.37353
        ],
        [
         48.233149,
         16.373388000000002
        ],
        [
         48.23317,
         16.373345
        ],
        [
         48.233199,
         16.373309
        ],
        [
         48.233230999999996,
         16.373279
        ],
        [
         48.233269,
         16.373273
        ],
        [
         48.233306,
         16.373251999999997
        ],
        [
         48.233340000000005,
         16.37323
        ],
        [
         48.233378,
         16.373209
        ],
        [
         48.233415,
         16.373186999999998
        ],
        [
         48.233449,
         16.373171
        ],
        [
         48.23348,
         16.373157
        ],
        [
         48.233512,
         16.373143
        ],
        [
         48.23355,
         16.37313
        ],
        [
         48.233585999999995,
         16.373123
        ],
        [
         48.233615,
         16.37311
        ],
        [
         48.233649,
         16.373085999999997
        ],
        [
         48.233693,
         16.373062
        ],
        [
         48.233711,
         16.373057
        ],
        [
         48.233724,
         16.373077
        ],
        [
         48.233737,
         16.373089999999998
        ],
        [
         48.233737,
         16.373089999999998
        ],
        [
         48.233737,
         16.373089999999998
        ],
        [
         48.233737,
         16.373089999999998
        ],
        [
         48.233737,
         16.373089999999998
        ],
        [
         48.233894,
         16.373085
        ],
        [
         48.233889000000005,
         16.373088
        ],
        [
         48.233889000000005,
         16.373088
        ],
        [
         48.233889000000005,
         16.373088
        ],
        [
         48.233889000000005,
         16.373088
        ],
        [
         48.233889000000005,
         16.373088
        ],
        [
         48.233889000000005,
         16.373088
        ],
        [
         48.233889000000005,
         16.373088
        ],
        [
         48.233889000000005,
         16.373088
        ],
        [
         48.233889000000005,
         16.373088
        ],
        [
         48.233889000000005,
         16.373088
        ],
        [
         48.233889000000005,
         16.373088
        ],
        [
         48.233889000000005,
         16.373088
        ],
        [
         48.233889000000005,
         16.373088
        ],
        [
         48.233889000000005,
         16.373088
        ],
        [
         48.233889000000005,
         16.373088
        ],
        [
         48.233889000000005,
         16.373088
        ],
        [
         48.233889000000005,
         16.373088
        ],
        [
         48.233889000000005,
         16.373088
        ],
        [
         48.233889000000005,
         16.373088
        ],
        [
         48.233889000000005,
         16.373088
        ],
        [
         48.233889000000005,
         16.373088
        ],
        [
         48.234426,
         16.372957999999997
        ],
        [
         48.234423,
         16.372961
        ],
        [
         48.234431,
         16.372945
        ],
        [
         48.234464,
         16.372932000000002
        ],
        [
         48.234505,
         16.372923999999998
        ],
        [
         48.234524,
         16.372914
        ],
        [
         48.234569,
         16.372888
        ],
        [
         48.234586,
         16.372865
        ],
        [
         48.234595,
         16.372864
        ],
        [
         48.234621999999995,
         16.372866000000002
        ],
        [
         48.234652000000004,
         16.372866000000002
        ],
        [
         48.234727,
         16.372867000000003
        ],
        [
         48.234771,
         16.372869
        ],
        [
         48.234802,
         16.372869
        ],
        [
         48.234840000000005,
         16.37286
        ],
        [
         48.23488,
         16.37284
        ],
        [
         48.23493,
         16.37284
        ],
        [
         48.234981,
         16.372825
        ],
        [
         48.235029,
         16.372821
        ],
        [
         48.235093,
         16.372770000000003
        ],
        [
         48.235178000000005,
         16.372694
        ],
        [
         48.235233,
         16.372668
        ],
        [
         48.235269,
         16.372643
        ],
        [
         48.235299,
         16.372607000000002
        ],
        [
         48.235285,
         16.372603
        ],
        [
         48.235284,
         16.372603
        ],
        [
         48.235301,
         16.372575
        ],
        [
         48.235305,
         16.372526999999998
        ],
        [
         48.235309,
         16.372479000000002
        ],
        [
         48.235321,
         16.372425
        ],
        [
         48.235336,
         16.372374
        ],
        [
         48.235333000000004,
         16.372335999999997
        ],
        [
         48.235335,
         16.372291
        ],
        [
         48.235347999999995,
         16.372241
        ],
        [
         48.235354,
         16.372188
        ],
        [
         48.235358000000005,
         16.372142999999998
        ],
        [
         48.235363,
         16.372097
        ],
        [
         48.23537,
         16.372054000000002
        ],
        [
         48.235382,
         16.372004999999998
        ],
        [
         48.235378999999995,
         16.371951
        ],
        [
         48.235381,
         16.371894
        ],
        [
         48.235397,
         16.371838
        ],
        [
         48.235415,
         16.371783999999998
        ],
        [
         48.235442,
         16.371745999999998
        ],
        [
         48.235439,
         16.371726000000002
        ],
        [
         48.235440000000004,
         16.371716
        ],
        [
         48.235465000000005,
         16.371675
        ],
        [
         48.235473,
         16.371616
        ],
        [
         48.235479,
         16.371567000000002
        ],
        [
         48.235481,
         16.37153
        ],
        [
         48.235463,
         16.371472
        ],
        [
         48.235403999999996,
         16.37141
        ],
        [
         48.235362,
         16.37135
        ],
        [
         48.235319,
         16.371278
        ],
        [
         48.235304,
         16.371235000000002
        ],
        [
         48.235303,
         16.371197
        ],
        [
         48.235306,
         16.371183
        ],
        [
         48.235315,
         16.371182
        ],
        [
         48.235327000000005,
         16.371177
        ],
        [
         48.235329,
         16.371167
        ],
        [
         48.235307,
         16.371143
        ],
        [
         48.235302000000004,
         16.371126
        ],
        [
         48.235307,
         16.371086
        ],
        [
         48.235289,
         16.371029999999998
        ],
        [
         48.235275,
         16.370986
        ],
        [
         48.235244,
         16.370934
        ],
        [
         48.235242,
         16.370882
        ],
        [
         48.235239,
         16.370816
        ],
        [
         48.235234000000005,
         16.370754
        ],
        [
         48.235221,
         16.370685
        ],
        [
         48.235211,
         16.370619
        ],
        [
         48.235201,
         16.370558
        ],
        [
         48.235170000000004,
         16.370499
        ],
        [
         48.235168,
         16.370464000000002
        ],
        [
         48.235147,
         16.370407999999998
        ],
        [
         48.235109,
         16.370382
        ],
        [
         48.235076,
         16.370382
        ],
        [
         48.235068,
         16.370369
        ],
        [
         48.235098,
         16.370345999999998
        ],
        [
         48.235106,
         16.370305
        ],
        [
         48.235108000000004,
         16.370297
        ],
        [
         48.23511,
         16.37029
        ],
        [
         48.235134,
         16.370244
        ],
        [
         48.23515,
         16.370182999999997
        ],
        [
         48.235137,
         16.37013
        ],
        [
         48.235106,
         16.37011
        ],
        [
         48.235094000000004,
         16.370101000000002
        ],
        [
         48.235091,
         16.370089
        ],
        [
         48.235085999999995,
         16.370078
        ],
        [
         48.235087,
         16.370093
        ],
        [
         48.235084,
         16.370098000000002
        ],
        [
         48.235084,
         16.370098000000002
        ],
        [
         48.235084,
         16.370098000000002
        ],
        [
         48.235084,
         16.370098000000002
        ],
        [
         48.235084,
         16.370098000000002
        ],
        [
         48.235084,
         16.370098000000002
        ],
        [
         48.235084,
         16.370098000000002
        ],
        [
         48.235084,
         16.370098000000002
        ],
        [
         48.235084,
         16.370098000000002
        ],
        [
         48.235084,
         16.370098000000002
        ],
        [
         48.235084,
         16.370098000000002
        ],
        [
         48.235084,
         16.370098000000002
        ],
        [
         48.235084,
         16.370098000000002
        ],
        [
         48.234423,
         16.370252999999998
        ],
        [
         48.23438,
         16.370264000000002
        ],
        [
         48.234333,
         16.370272
        ],
        [
         48.234286,
         16.370271
        ],
        [
         48.234245,
         16.370252999999998
        ],
        [
         48.234206,
         16.370257000000002
        ],
        [
         48.234173,
         16.370252
        ],
        [
         48.234147,
         16.370256
        ],
        [
         48.234124,
         16.370254
        ],
        [
         48.234092,
         16.370260000000002
        ],
        [
         48.234052,
         16.370267000000002
        ],
        [
         48.234016,
         16.370281
        ],
        [
         48.233978,
         16.370287
        ],
        [
         48.233958,
         16.370279
        ],
        [
         48.233964,
         16.370242
        ],
        [
         48.233952,
         16.370245
        ],
        [
         48.233959000000006,
         16.370239
        ],
        [
         48.233965999999995,
         16.370236
        ],
        [
         48.233975,
         16.370231
        ],
        [
         48.233985,
         16.370216
        ],
        [
         48.233982,
         16.370202
        ],
        [
         48.23395,
         16.370194
        ],
        [
         48.233922,
         16.370184
        ],
        [
         48.233896,
         16.37017
        ],
        [
         48.233876,
         16.370154
        ],
        [
         48.233832,
         16.370151999999997
        ],
        [
         48.233785,
         16.370141
        ],
        [
         48.233740000000004,
         16.370127
        ],
        [
         48.233689,
         16.37013
        ],
        [
         48.23364,
         16.370133
        ],
        [
         48.233593,
         16.37014
        ],
        [
         48.233544,
         16.370148
        ],
        [
         48.233509999999995,
         16.370155
        ],
        [
         48.233473,
         16.370163
        ],
        [
         48.233438,
         16.370160000000002
        ],
        [
         48.233401,
         16.370167000000002
        ],
        [
         48.233359,
         16.370173
        ],
        [
         48.233314,
         16.370162
        ],
        [
         48.233274,
         16.370157
        ],
        [
         48.233246,
         16.370119
        ],
        [
         48.233230999999996,
         16.370054999999997
        ],
        [
         48.233224,
         16.369999
        ],
        [
         48.233222999999995,
         16.369927
        ],
        [
         48.233218,
         16.369868
        ],
        [
         48.233208000000005,
         16.369811
        ],
        [
         48.233227,
         16.369754999999998
        ],
        [
         48.233251,
         16.36972
        ],
        [
         48.233224,
         16.369685
        ],
        [
         48.233219,
         16.369604000000002
        ],
        [
         48.23322,
         16.369532
        ],
        [
         48.23324,
         16.369462
        ],
        [
         48.233319,
         16.369396
        ],
        [
         48.233332,
         16.369321
        ],
        [
         48.233313,
         16.369253
        ],
        [
         48.233292999999996,
         16.369175
        ],
        [
         48.233233,
         16.369113
        ],
        [
         48.233193,
         16.369064
        ],
        [
         48.233176,
         16.369013
        ],
        [
         48.233096999999994,
         16.368982
        ],
        [
         48.233044,
         16.368983
        ],
        [
         48.232994,
         16.369022
        ],
        [
         48.232946000000005,
         16.369019
        ],
        [
         48.232884999999996,
         16.369003
        ],
        [
         48.232856,
         16.369024
        ],
        [
         48.232805,
         16.369006
        ],
        [
         48.232764,
         16.368999
        ],
        [
         48.232732,
         16.369004999999998
        ],
        [
         48.232685,
         16.369013
        ],
        [
         48.232651000000004,
         16.369026
        ],
        [
         48.23264,
         16.369051000000002
        ],
        [
         48.232634000000004,
         16.369086
        ],
        [
         48.232627,
         16.36915
        ],
        [
         48.232628000000005,
         16.369191
        ],
        [
         48.232625,
         16.369195
        ],
        [
         48.232625,
         16.369204
        ],
        [
         48.23264,
         16.369257
        ],
        [
         48.232662,
         16.369314000000003
        ],
        [
         48.23268,
         16.369367
        ],
        [
         48.232704,
         16.369426
        ],
        [
         48.232706,
         16.369478
        ],
        [
         48.232725,
         16.369531
        ],
        [
         48.232748,
         16.369587
        ],
        [
         48.232773,
         16.369644
        ],
        [
         48.232774,
         16.369704000000002
        ],
        [
         48.2328,
         16.369768
        ],
        [
         48.232817,
         16.369835000000002
        ],
        [
         48.232842,
         16.369905
        ],
        [
         48.232856,
         16.369975
        ],
        [
         48.232856,
         16.370046
        ],
        [
         48.232853999999996,
         16.370113
        ],
        [
         48.232846,
         16.370174
        ],
        [
         48.232858,
         16.370241
        ],
        [
         48.232865000000004,
         16.370305
        ],
        [
         48.232859999999995,
         16.370361
        ],
        [
         48.232827,
         16.370393
        ],
        [
         48.2328,
         16.370426000000002
        ],
        [
         48.232764,
         16.370445
        ],
        [
         48.232732,
         16.370471
        ],
        [
         48.232698,
         16.370463
        ],
        [
         48.232698,
         16.370469
        ],
        [
         48.23271,
         16.370521
        ],
        [
         48.232702,
         16.370579
        ],
        [
         48.232703,
         16.370626
        ],
        [
         48.232706,
         16.37066
        ],
        [
         48.232707,
         16.370670999999998
        ],
        [
         48.232695,
         16.370717000000003
        ],
        [
         48.232669,
         16.370788
        ],
        [
         48.232663,
         16.370832999999998
        ],
        [
         48.232653000000006,
         16.370892
        ],
        [
         48.232641,
         16.370973
        ],
        [
         48.232628000000005,
         16.37104
        ],
        [
         48.23261,
         16.371118
        ],
        [
         48.232605,
         16.371187
        ],
        [
         48.23259,
         16.371259
        ],
        [
         48.23256,
         16.371316
        ],
        [
         48.232535999999996,
         16.371361
        ],
        [
         48.232504,
         16.371382999999998
        ],
        [
         48.232479999999995,
         16.37138
        ],
        [
         48.232476,
         16.371363
        ],
        [
         48.232446,
         16.371385999999998
        ],
        [
         48.232392,
         16.371451
        ],
        [
         48.232338,
         16.371499
        ],
        [
         48.232314,
         16.37153
        ],
        [
         48.232293,
         16.371610999999998
        ],
        [
         48.232285,
         16.371682
        ],
        [
         48.232274,
         16.371737
        ],
        [
         48.232271999999995,
         16.371793
        ],
        [
         48.232279999999996,
         16.371839
        ],
        [
         48.232261,
         16.371861
        ],
        [
         48.232238,
         16.371873
        ],
        [
         48.232196,
         16.371896
        ],
        [
         48.232141,
         16.371889000000003
        ],
        [
         48.232096999999996,
         16.371891
        ],
        [
         48.232054999999995,
         16.371895000000002
        ],
        [
         48.23202,
         16.371904999999998
        ],
        [
         48.231981,
         16.371910999999997
        ],
        [
         48.231958,
         16.371917
        ],
        [
         48.231947999999996,
         16.371916
        ],
        [
         48.231945,
         16.371917
        ],
        [
         48.231945,
         16.371917
        ],
        [
         48.231945,
         16.371917
        ],
        [
         48.231945,
         16.371917
        ],
        [
         48.231945,
         16.371917
        ],
        [
         48.231945,
         16.371917
        ],
        [
         48.231945,
         16.371917
        ],
        [
         48.231945,
         16.371917
        ],
        [
         48.231945,
         16.371917
        ],
        [
         48.231945,
         16.371917
        ],
        [
         48.231945,
         16.371917
        ],
        [
         48.231945,
         16.371917
        ],
        [
         48.231945,
         16.371917
        ],
        [
         48.231945,
         16.371917
        ],
        [
         48.231945,
         16.371917
        ],
        [
         48.231945,
         16.371917
        ],
        [
         48.231945,
         16.371917
        ],
        [
         48.231945,
         16.371917
        ],
        [
         48.231945,
         16.371917
        ],
        [
         48.231945,
         16.371917
        ],
        [
         48.231945,
         16.371917
        ],
        [
         48.231945,
         16.371917
        ],
        [
         48.231945,
         16.371917
        ],
        [
         48.231945,
         16.371917
        ]
       ],
       "name": "Trail",
       "options": [
        "color",
        "dash_array",
        "delay",
        "hardware_accelerated",
        "paused",
        "pulse_color",
        "radius",
        "reverse",
        "use",
        "weight"
       ],
       "pulse_color": "#3f6fba"
      }
     },
     "df33e408367e44bbba593b1330d4bd6e": {
      "model_module": "jupyter-leaflet",
      "model_module_version": "^0.13.2",
      "model_name": "LeafletMarkerModel",
      "state": {
       "_model_module_version": "^0.13.2",
       "_view_module_version": "^0.13.2",
       "icon": "IPY_MODEL_909cd25f4a344af1b765a97c8a400309",
       "location": [
        48.233894,
        16.373085
       ],
       "options": [
        "alt",
        "draggable",
        "keyboard",
        "rise_offset",
        "rise_on_hover",
        "rotation_angle",
        "rotation_origin",
        "title",
        "z_index_offset"
       ]
      }
     },
     "df71c96d39c84876b2b67aa477e77687": {
      "model_module": "jupyter-leaflet",
      "model_module_version": "^0.13.2",
      "model_name": "LeafletMarkerModel",
      "state": {
       "_model_module_version": "^0.13.2",
       "_view_module_version": "^0.13.2",
       "icon": "IPY_MODEL_909cd25f4a344af1b765a97c8a400309",
       "location": [
        48.235285,
        16.372603
       ],
       "options": [
        "alt",
        "draggable",
        "keyboard",
        "rise_offset",
        "rise_on_hover",
        "rotation_angle",
        "rotation_origin",
        "title",
        "z_index_offset"
       ]
      }
     },
     "f2c2d13c7c264673a2df81a62962a6a1": {
      "model_module": "jupyter-leaflet",
      "model_module_version": "^0.13.2",
      "model_name": "LeafletMarkerModel",
      "state": {
       "_model_module_version": "^0.13.2",
       "_view_module_version": "^0.13.2",
       "icon": "IPY_MODEL_909cd25f4a344af1b765a97c8a400309",
       "location": [
        48.23324,
        16.374012
       ],
       "options": [
        "alt",
        "draggable",
        "keyboard",
        "rise_offset",
        "rise_on_hover",
        "rotation_angle",
        "rotation_origin",
        "title",
        "z_index_offset"
       ]
      }
     },
     "f3f170c9350f43cabbf5d9e1eb70413e": {
      "model_module": "jupyter-leaflet",
      "model_module_version": "^0.13.2",
      "model_name": "LeafletMapModel",
      "state": {
       "_model_module_version": "^0.13.2",
       "_view_module_version": "^0.13.2",
       "bottom": 5816168,
       "center": [
        48.231139,
        16.374955
       ],
       "controls": [
        "IPY_MODEL_6e0ce33379ac4e4f97fe55ffbf5aea80",
        "IPY_MODEL_03975b1e15df49e89c6bdc361bd9a0c4",
        "IPY_MODEL_554b61c1e2b9497ebf95ee5522a515f9",
        "IPY_MODEL_604fa02e91294347abc96fb4ab526cb8",
        "IPY_MODEL_bbd510243d74444f862a18a350878658",
        "IPY_MODEL_d7182910202646c199b1de86cb40fb4c",
        "IPY_MODEL_3de6627261d64850be434e647a691ef8"
       ],
       "default_style": "IPY_MODEL_40a4da4256374ea3a9db050682f3c6bc",
       "dragging_style": "IPY_MODEL_5cb8a46ab0c4419485e711769af6d36c",
       "east": 16.390743255615238,
       "fullscreen": false,
       "interpolation": "bilinear",
       "layers": [
        "IPY_MODEL_6b6c027de409479caf3f89e157ce1244"
       ],
       "layout": "IPY_MODEL_113dcf97b3aa4b2f913481271c2f6eb0",
       "left": 9151001,
       "modisdate": "yesterday",
       "north": 48.235421620572104,
       "options": [
        "bounce_at_zoom_limits",
        "box_zoom",
        "center",
        "close_popup_on_click",
        "double_click_zoom",
        "dragging",
        "fullscreen",
        "inertia",
        "inertia_deceleration",
        "inertia_max_speed",
        "interpolation",
        "keyboard",
        "keyboard_pan_offset",
        "keyboard_zoom_offset",
        "max_zoom",
        "min_zoom",
        "scroll_wheel_zoom",
        "tap",
        "tap_tolerance",
        "touch_zoom",
        "world_copy_jump",
        "zoom",
        "zoom_animation_threshold",
        "zoom_delta",
        "zoom_snap",
        "zoom_start"
       ],
       "right": 9152472,
       "south": 48.22684549597699,
       "style": "IPY_MODEL_56a3ef3194d240919af8d7041f102f64",
       "top": 5815568,
       "west": 16.359179019927982,
       "window_url": "http://localhost:8888/lab",
       "zoom": 16
      }
     },
     "f50ffac1f5c44ca2b312b3b1d4eb0e7f": {
      "model_module": "jupyter-leaflet",
      "model_module_version": "^0.13.2",
      "model_name": "LeafletMapStyleModel",
      "state": {
       "_model_module_version": "^0.13.2",
       "cursor": "move"
      }
     },
     "f5c6b607c62042e399cea6c3d145cb66": {
      "model_module": "jupyter-leaflet",
      "model_module_version": "^0.13.2",
      "model_name": "LeafletZoomControlModel",
      "state": {
       "_model_module_version": "^0.13.2",
       "_view_module_version": "^0.13.2",
       "options": [
        "position",
        "zoom_in_text",
        "zoom_in_title",
        "zoom_out_text",
        "zoom_out_title"
       ]
      }
     },
     "fa2b843a9227497796d7848a9d622f57": {
      "model_module": "jupyter-leaflet",
      "model_module_version": "^0.13.2",
      "model_name": "LeafletMarkerModel",
      "state": {
       "_model_module_version": "^0.13.2",
       "_view_module_version": "^0.13.2",
       "icon": "IPY_MODEL_909cd25f4a344af1b765a97c8a400309",
       "location": [
        48.231136,
        16.374966
       ],
       "options": [
        "alt",
        "draggable",
        "keyboard",
        "rise_offset",
        "rise_on_hover",
        "rotation_angle",
        "rotation_origin",
        "title",
        "z_index_offset"
       ]
      }
     },
     "fff2c59995f24ad088c2dfb8f4db3f66": {
      "model_module": "@jupyter-widgets/controls",
      "model_module_version": "1.5.0",
      "model_name": "IntSliderModel",
      "state": {
       "description": "Zoom level:",
       "layout": "IPY_MODEL_67f53e93fd9841079bf5c73466a09a44",
       "max": 20,
       "min": 10,
       "style": "IPY_MODEL_446ea1aa0c4447f3a1c797a4db2de402",
       "value": 19
      }
     }
    },
    "version_major": 2,
    "version_minor": 0
   }
  }
 },
 "nbformat": 4,
 "nbformat_minor": 4
}
