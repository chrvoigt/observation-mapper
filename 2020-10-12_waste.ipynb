{
 "cells": [
  {
   "cell_type": "markdown",
   "metadata": {
    "toc": true
   },
   "source": [
    "<h1>Table of Contents<span class=\"tocSkip\"></span></h1>\n",
    "<div class=\"toc\"><ul class=\"toc-item\"><li><span><a href=\"#Basic-Map-Parameters\" data-toc-modified-id=\"Basic-Map-Parameters-1\"><span class=\"toc-item-num\">1&nbsp;&nbsp;</span>Basic Map Parameters</a></span></li><li><span><a href=\"#Basic-Map\" data-toc-modified-id=\"Basic-Map-2\"><span class=\"toc-item-num\">2&nbsp;&nbsp;</span>Basic Map</a></span></li><li><span><a href=\"#Create-a-Split-Map\" data-toc-modified-id=\"Create-a-Split-Map-3\"><span class=\"toc-item-num\">3&nbsp;&nbsp;</span>Create a Split Map</a></span></li><li><span><a href=\"#Reading-the-data-as-provided-by-the-gadget-(there-are-always-two-types-of-files---tracks-and-ratings-of-spots)\" data-toc-modified-id=\"Reading-the-data-as-provided-by-the-gadget-(there-are-always-two-types-of-files---tracks-and-ratings-of-spots)-4\"><span class=\"toc-item-num\">4&nbsp;&nbsp;</span>Reading the data as provided by the gadget (there are always two types of files - tracks and ratings of spots)</a></span></li><li><span><a href=\"#Frequency-of-categories-1---5\" data-toc-modified-id=\"Frequency-of-categories-1---5-5\"><span class=\"toc-item-num\">5&nbsp;&nbsp;</span>Frequency of categories 1 - 5</a></span></li><li><span><a href=\"#Adding-tree--and-rubish-bin-locations-to-the-map\" data-toc-modified-id=\"Adding-tree--and-rubish-bin-locations-to-the-map-6\"><span class=\"toc-item-num\">6&nbsp;&nbsp;</span>Adding tree- and rubish bin locations to the map</a></span></li><li><span><a href=\"#Grouping-of-markers-(not-really-useful-in-this-context)\" data-toc-modified-id=\"Grouping-of-markers-(not-really-useful-in-this-context)-7\"><span class=\"toc-item-num\">7&nbsp;&nbsp;</span>Grouping of markers (not really useful in this context)</a></span></li><li><span><a href=\"#The-resulting-HTML-file-should-be-visible-in-any-browser-(however,-icons-will-be-missing---fixible)\" data-toc-modified-id=\"The-resulting-HTML-file-should-be-visible-in-any-browser-(however,-icons-will-be-missing---fixible)-8\"><span class=\"toc-item-num\">8&nbsp;&nbsp;</span>The resulting HTML file should be visible in any browser (however, icons will be missing - fixible)</a></span></li><li><span><a href=\"#Some-cleaning-up-if-needed\" data-toc-modified-id=\"Some-cleaning-up-if-needed-9\"><span class=\"toc-item-num\">9&nbsp;&nbsp;</span>Some cleaning up if needed</a></span></li><li><span><a href=\"#Integrating-a-different-basemap-with-more-details\" data-toc-modified-id=\"Integrating-a-different-basemap-with-more-details-10\"><span class=\"toc-item-num\">10&nbsp;&nbsp;</span>Integrating a different basemap with more details</a></span></li><li><span><a href=\"#For-later:-Experimenting-with-coloring-regions-or-neighborhoods\" data-toc-modified-id=\"For-later:-Experimenting-with-coloring-regions-or-neighborhoods-11\"><span class=\"toc-item-num\">11&nbsp;&nbsp;</span>For later: Experimenting with coloring regions or neighborhoods</a></span></li></ul></div>"
   ]
  },
  {
   "cell_type": "code",
   "execution_count": 86,
   "metadata": {},
   "outputs": [],
   "source": [
    "# not all of these libraries are needed but for now let's load them to be prepared :-) \n",
    "from ipyleaflet import (Map, GeoData, WidgetControl, GeoJSON, basemaps, LocalTileLayer,\n",
    " LayersControl, Icon, Marker,basemap_to_tiles, Choropleth, AntPath,\n",
    " MarkerCluster, Heatmap, SearchControl, FullScreenControl, AwesomeIcon, \n",
    " ScaleControl, MeasureControl, SplitMapControl, WMSLayer, Polygon, Choropleth)"
   ]
  },
  {
   "cell_type": "code",
   "execution_count": 87,
   "metadata": {},
   "outputs": [],
   "source": [
    "# ipywidgets add user interactions to our notebook cells \n",
    "# read the docs https://ipywidgets.readthedocs.io/en/latest/\n",
    "from ipywidgets import Text, HTML, IntSlider, ColorPicker, jslink, Layout\n",
    "from branca.colormap import linear"
   ]
  },
  {
   "cell_type": "code",
   "execution_count": 88,
   "metadata": {},
   "outputs": [],
   "source": [
    "# something to look into when wanting to color areas of a city or a region (Choropleth Maps)\n",
    "# https://blog.datawrapper.de/choroplethmaps/\n",
    "#import geopandas as gpd\n",
    "#import json"
   ]
  },
  {
   "cell_type": "code",
   "execution_count": 89,
   "metadata": {},
   "outputs": [],
   "source": [
    "# Pandas = derived from \"Python and data analysis\"\n",
    "import pandas as pd  "
   ]
  },
  {
   "cell_type": "markdown",
   "metadata": {},
   "source": [
    "## Basic Map Parameters "
   ]
  },
  {
   "cell_type": "code",
   "execution_count": 90,
   "metadata": {},
   "outputs": [
    {
     "data": {
      "text/plain": [
       "'\\nalternative options for basemaps are \\nbasemap = basemaps.Stamen.Watercolor\\nbasemap = basemaps.Stamen.Toner\\nbasemap = basemaps.Stamen.Terrain\\netc \\n\\n'"
      ]
     },
     "execution_count": 90,
     "metadata": {},
     "output_type": "execute_result"
    }
   ],
   "source": [
    "# the centre of your map should be about the starting point of your mapping tour \n",
    "center = [48.231139, 16.374955]\n",
    "zoom =16\n",
    "\n",
    "# you can adjust the map size via ipwidgets *Layout* attribute  \n",
    "basemap = basemaps.Esri.WorldStreetMap\n",
    "layout = Layout(width='100%', height='600px')\n",
    "\n",
    "\"\"\"\n",
    "alternative options for basemaps are \n",
    "basemap = basemaps.Stamen.Watercolor\n",
    "basemap = basemaps.Stamen.Toner\n",
    "basemap = basemaps.Stamen.Terrain\n",
    "etc \n",
    "\n",
    "\"\"\""
   ]
  },
  {
   "cell_type": "markdown",
   "metadata": {},
   "source": [
    "## Basic Map "
   ]
  },
  {
   "cell_type": "code",
   "execution_count": 91,
   "metadata": {},
   "outputs": [
    {
     "data": {
      "application/vnd.jupyter.widget-view+json": {
       "model_id": "1c1c2a617e664af2adcf8cb1f889be07",
       "version_major": 2,
       "version_minor": 0
      },
      "text/plain": [
       "Map(center=[48.231139, 16.374955], controls=(ZoomControl(options=['position', 'zoom_in_text', 'zoom_in_title',…"
      ]
     },
     "metadata": {},
     "output_type": "display_data"
    }
   ],
   "source": [
    "m = Map(center=center, zoom=zoom, basemap = basemap, layout=layout)\n",
    "\n",
    "# add user interaction / user information such as the scale of a map \n",
    "zoom_slider = IntSlider(description='Zoom level:', min=10, max=20, value=16)\n",
    "jslink((zoom_slider, 'value'), (m, 'zoom'))\n",
    "\n",
    "widget_control1 = WidgetControl(widget=zoom_slider, position='topright')\n",
    "m.add_control(widget_control1)\n",
    "m.add_control(FullScreenControl())\n",
    "m.add_control(ScaleControl(position='bottomleft', imperial = False))\n",
    "m.add_control(LayersControl(position='topright'))\n",
    "\n",
    "# this adds a nice feature to meassure the length of a path or a polygone area in square meters \n",
    "measure = MeasureControl(\n",
    "    position='bottomleft',\n",
    "    active_color = 'orange',\n",
    "    primary_length_unit = 'meters',\n",
    "    primary_area_unit = 'sqmeters',\n",
    "    completed_color = 'blue'\n",
    ")\n",
    "m.add_control(measure)\n",
    "display (m)"
   ]
  },
  {
   "cell_type": "markdown",
   "metadata": {},
   "source": [
    "## Create a Split Map "
   ]
  },
  {
   "cell_type": "code",
   "execution_count": 92,
   "metadata": {},
   "outputs": [
    {
     "data": {
      "application/vnd.jupyter.widget-view+json": {
       "model_id": "7a3033e3dcdf454b82280939e91af517",
       "version_major": 2,
       "version_minor": 0
      },
      "text/plain": [
       "Map(center=[48.231139, 16.374955], controls=(ZoomControl(options=['position', 'zoom_in_text', 'zoom_in_title',…"
      ]
     },
     "metadata": {},
     "output_type": "display_data"
    }
   ],
   "source": [
    "basemap = basemaps.Esri.WorldStreetMap\n",
    "split_map = Map(center=center, zoom=zoom, layout=layout)\n",
    "\n",
    "# create right and left layers\n",
    "left_layer  = basemap_to_tiles(basemap=basemap)\n",
    "right_layer = basemap_to_tiles(basemap=basemaps.Stamen.Toner) \n",
    "\n",
    "# create split control\n",
    "control = SplitMapControl(left_layer=left_layer, right_layer=right_layer)\n",
    "\n",
    "#add control to map\n",
    "split_map.add_control(control)\n",
    "\n",
    "# display map\n",
    "\n",
    "zoom_slider = IntSlider(description='Zoom level:', min=10, max=20, value=16)\n",
    "jslink((zoom_slider, 'value'), (m, 'zoom'))\n",
    "\n",
    "widget_control1 = WidgetControl(widget=zoom_slider, position='topright')\n",
    "split_map.add_control(widget_control1)\n",
    "split_map.add_control(FullScreenControl())\n",
    "split_map.add_control(ScaleControl(position='bottomleft', imperial = False))\n",
    "split_map.add_control(LayersControl(position='topright')) \n",
    "\n",
    "display(split_map)"
   ]
  },
  {
   "cell_type": "markdown",
   "metadata": {},
   "source": [
    "## Reading the data as provided by the gadget (there are always two types of files - tracks and ratings of spots)"
   ]
  },
  {
   "cell_type": "code",
   "execution_count": 93,
   "metadata": {},
   "outputs": [
    {
     "name": "stdout",
     "output_type": "stream",
     "text": [
      "number of track points:  500\n"
     ]
    },
    {
     "data": {
      "text/html": [
       "<div>\n",
       "<style scoped>\n",
       "    .dataframe tbody tr th:only-of-type {\n",
       "        vertical-align: middle;\n",
       "    }\n",
       "\n",
       "    .dataframe tbody tr th {\n",
       "        vertical-align: top;\n",
       "    }\n",
       "\n",
       "    .dataframe thead th {\n",
       "        text-align: right;\n",
       "    }\n",
       "</style>\n",
       "<table border=\"1\" class=\"dataframe\">\n",
       "  <thead>\n",
       "    <tr style=\"text-align: right;\">\n",
       "      <th></th>\n",
       "      <th>Date</th>\n",
       "      <th>Time</th>\n",
       "      <th>Raw_Time</th>\n",
       "      <th>Latitude</th>\n",
       "      <th>Longitude</th>\n",
       "      <th>Altitude</th>\n",
       "      <th>Sats</th>\n",
       "      <th>Sat_Speed</th>\n",
       "      <th>Precision</th>\n",
       "    </tr>\n",
       "  </thead>\n",
       "  <tbody>\n",
       "    <tr>\n",
       "      <th>492</th>\n",
       "      <td>121020</td>\n",
       "      <td>07:36:53</td>\n",
       "      <td>6365300</td>\n",
       "      <td>48.231945</td>\n",
       "      <td>16.371917</td>\n",
       "      <td>185.7</td>\n",
       "      <td>8</td>\n",
       "      <td>0.5</td>\n",
       "      <td>1.2</td>\n",
       "    </tr>\n",
       "    <tr>\n",
       "      <th>493</th>\n",
       "      <td>121020</td>\n",
       "      <td>07:36:53</td>\n",
       "      <td>6365300</td>\n",
       "      <td>48.231945</td>\n",
       "      <td>16.371917</td>\n",
       "      <td>185.7</td>\n",
       "      <td>8</td>\n",
       "      <td>0.5</td>\n",
       "      <td>1.2</td>\n",
       "    </tr>\n",
       "    <tr>\n",
       "      <th>494</th>\n",
       "      <td>121020</td>\n",
       "      <td>07:36:53</td>\n",
       "      <td>6365300</td>\n",
       "      <td>48.231945</td>\n",
       "      <td>16.371917</td>\n",
       "      <td>185.7</td>\n",
       "      <td>8</td>\n",
       "      <td>0.5</td>\n",
       "      <td>1.2</td>\n",
       "    </tr>\n",
       "    <tr>\n",
       "      <th>495</th>\n",
       "      <td>121020</td>\n",
       "      <td>07:36:53</td>\n",
       "      <td>6365300</td>\n",
       "      <td>48.231945</td>\n",
       "      <td>16.371917</td>\n",
       "      <td>185.7</td>\n",
       "      <td>8</td>\n",
       "      <td>0.5</td>\n",
       "      <td>1.2</td>\n",
       "    </tr>\n",
       "    <tr>\n",
       "      <th>496</th>\n",
       "      <td>121020</td>\n",
       "      <td>07:36:53</td>\n",
       "      <td>6365300</td>\n",
       "      <td>48.231945</td>\n",
       "      <td>16.371917</td>\n",
       "      <td>185.7</td>\n",
       "      <td>8</td>\n",
       "      <td>0.5</td>\n",
       "      <td>1.2</td>\n",
       "    </tr>\n",
       "    <tr>\n",
       "      <th>497</th>\n",
       "      <td>121020</td>\n",
       "      <td>07:36:53</td>\n",
       "      <td>6365300</td>\n",
       "      <td>48.231945</td>\n",
       "      <td>16.371917</td>\n",
       "      <td>185.7</td>\n",
       "      <td>8</td>\n",
       "      <td>0.5</td>\n",
       "      <td>1.2</td>\n",
       "    </tr>\n",
       "    <tr>\n",
       "      <th>498</th>\n",
       "      <td>121020</td>\n",
       "      <td>07:36:53</td>\n",
       "      <td>6365300</td>\n",
       "      <td>48.231945</td>\n",
       "      <td>16.371917</td>\n",
       "      <td>185.7</td>\n",
       "      <td>8</td>\n",
       "      <td>0.5</td>\n",
       "      <td>1.2</td>\n",
       "    </tr>\n",
       "    <tr>\n",
       "      <th>499</th>\n",
       "      <td>121020</td>\n",
       "      <td>07:36:53</td>\n",
       "      <td>6365300</td>\n",
       "      <td>48.231945</td>\n",
       "      <td>16.371917</td>\n",
       "      <td>185.7</td>\n",
       "      <td>8</td>\n",
       "      <td>0.5</td>\n",
       "      <td>1.2</td>\n",
       "    </tr>\n",
       "  </tbody>\n",
       "</table>\n",
       "</div>"
      ],
      "text/plain": [
       "       Date      Time  Raw_Time   Latitude  Longitude  Altitude  Sats  \\\n",
       "492  121020  07:36:53   6365300  48.231945  16.371917     185.7     8   \n",
       "493  121020  07:36:53   6365300  48.231945  16.371917     185.7     8   \n",
       "494  121020  07:36:53   6365300  48.231945  16.371917     185.7     8   \n",
       "495  121020  07:36:53   6365300  48.231945  16.371917     185.7     8   \n",
       "496  121020  07:36:53   6365300  48.231945  16.371917     185.7     8   \n",
       "497  121020  07:36:53   6365300  48.231945  16.371917     185.7     8   \n",
       "498  121020  07:36:53   6365300  48.231945  16.371917     185.7     8   \n",
       "499  121020  07:36:53   6365300  48.231945  16.371917     185.7     8   \n",
       "\n",
       "     Sat_Speed  Precision  \n",
       "492        0.5        1.2  \n",
       "493        0.5        1.2  \n",
       "494        0.5        1.2  \n",
       "495        0.5        1.2  \n",
       "496        0.5        1.2  \n",
       "497        0.5        1.2  \n",
       "498        0.5        1.2  \n",
       "499        0.5        1.2  "
      ]
     },
     "execution_count": 93,
     "metadata": {},
     "output_type": "execute_result"
    }
   ],
   "source": [
    "ratings=pd.read_csv('data/2020-10-12_rate_waste.csv', sep=';')\n",
    "tracks=pd.read_csv('data/2020-10-12_track_waste.csv', sep=';')\n",
    "print('number of track points: ', len (tracks))\n",
    "tracks.tail(8)"
   ]
  },
  {
   "cell_type": "markdown",
   "metadata": {},
   "source": [
    "## Aspects of data quality"
   ]
  },
  {
   "cell_type": "code",
   "execution_count": 109,
   "metadata": {},
   "outputs": [
    {
     "name": "stdout",
     "output_type": "stream",
     "text": [
      "Frequency of same time records:       [24, 21, 18, 14, 13, 13, 13, 12, 9, 6, 6, 6, 5, 3, 2, 1, 1, 1, 1, 1]\n",
      "Frequency of same Longitude records:  [24, 21, 18, 14, 13, 13, 13, 12, 9, 7, 6, 6, 5, 3, 3, 3, 2, 2, 2, 2]\n",
      "Distribution of number of satelites:  [151, 128, 120, 86, 15]\n"
     ]
    }
   ],
   "source": [
    "print('Frequency of same time records:      ', list(tracks.groupby(tracks['Raw_Time']).size().sort_values(ascending=False)) [0:20])\n",
    "print('Frequency of same Longitude records: ', list(tracks.groupby(tracks['Latitude']).size().sort_values(ascending=False)) [0:20])\n",
    "print('Distribution of number of satelites: ', list(tracks.groupby(tracks['Sats']).size().sort_values(ascending=False)) [0:20])"
   ]
  },
  {
   "cell_type": "code",
   "execution_count": 137,
   "metadata": {},
   "outputs": [
    {
     "name": "stdout",
     "output_type": "stream",
     "text": [
      "satellite density (sat-number, frequency):  [(6, 151), (7, 128), (5, 120), (8, 86), (4, 15)]\n"
     ]
    }
   ],
   "source": [
    "satDistribution = tracks.groupby(tracks['Sats']).size().sort_values(ascending=False)\n",
    "satNum =  list(satDistribution.keys())\n",
    "satFreq = list(satDistribution)\n",
    "satDens = list (zip (satNum, satFreq))\n",
    " \n",
    "print('satellite density (sat-number, frequency): ', satDens)\n"
   ]
  },
  {
   "cell_type": "code",
   "execution_count": 142,
   "metadata": {},
   "outputs": [
    {
     "data": {
      "text/plain": [
       "<BarContainer object of 5 artists>"
      ]
     },
     "execution_count": 142,
     "metadata": {},
     "output_type": "execute_result"
    },
    {
     "data": {
      "image/png": "[encoded data removed]",
      "text/plain": [
       "<Figure size 432x288 with 1 Axes>"
      ]
     },
     "metadata": {
      "needs_background": "light"
     },
     "output_type": "display_data"
    }
   ],
   "source": [
    "from matplotlib import pyplot as plt\n",
    "plt.bar(satNum, satFreq)"
   ]
  },
  {
   "cell_type": "markdown",
   "metadata": {},
   "source": [
    "## Use of categories (1 - 5)"
   ]
  },
  {
   "cell_type": "code",
   "execution_count": 168,
   "metadata": {},
   "outputs": [
    {
     "data": {
      "text/plain": [
       "Category\n",
       "1    13\n",
       "2     4\n",
       "4     5\n",
       "dtype: int64"
      ]
     },
     "execution_count": 168,
     "metadata": {},
     "output_type": "execute_result"
    }
   ],
   "source": [
    "cat=ratings.groupby(['Category']).size()\n",
    "cat\n"
   ]
  },
  {
   "cell_type": "code",
   "execution_count": 256,
   "metadata": {},
   "outputs": [
    {
     "data": {
      "text/plain": [
       "1    0\n",
       "2    0\n",
       "3    0\n",
       "4    0\n",
       "5    0\n",
       "dtype: int64"
      ]
     },
     "execution_count": 256,
     "metadata": {},
     "output_type": "execute_result"
    }
   ],
   "source": [
    "catSeries = pd.Series([0,0,0,0,0,0])\n",
    "catSeries = catSeries [1:6]\n",
    "catSeries"
   ]
  },
  {
   "cell_type": "code",
   "execution_count": 257,
   "metadata": {},
   "outputs": [
    {
     "data": {
      "text/plain": [
       "1    13\n",
       "2     4\n",
       "3     0\n",
       "4     5\n",
       "5     0\n",
       "dtype: int64"
      ]
     },
     "execution_count": 257,
     "metadata": {},
     "output_type": "execute_result"
    }
   ],
   "source": [
    "for x in cat.index:\n",
    "    catSeries [x] = cat [x]\n",
    "catSeries"
   ]
  },
  {
   "cell_type": "code",
   "execution_count": 259,
   "metadata": {},
   "outputs": [
    {
     "data": {
      "text/plain": [
       "<BarContainer object of 5 artists>"
      ]
     },
     "execution_count": 259,
     "metadata": {},
     "output_type": "execute_result"
    },
    {
     "data": {
      "image/png": "[encoded data removed]",
      "text/plain": [
       "<Figure size 432x288 with 1 Axes>"
      ]
     },
     "metadata": {
      "needs_background": "light"
     },
     "output_type": "display_data"
    }
   ],
   "source": [
    "\n",
    "plt.bar(catSeries.index, catSeries)"
   ]
  },
  {
   "cell_type": "code",
   "execution_count": 260,
   "metadata": {},
   "outputs": [
    {
     "name": "stdout",
     "output_type": "stream",
     "text": [
      "number of polutted trees:  17\n",
      "number of overflowing bins:  5\n"
     ]
    }
   ],
   "source": [
    "# at this point we add some meaning to the categories \n",
    "tree_waste = ratings[ (ratings['Category'] == 1) | (ratings['Category'] == 2) ] \n",
    "bin_waste = ratings[ ratings['Category'] == 4] \n",
    "print ('number of polutted trees: ', len(tree_waste))\n",
    "print ('number of overflowing bins: ', len(bin_waste))"
   ]
  },
  {
   "cell_type": "code",
   "execution_count": 67,
   "metadata": {},
   "outputs": [],
   "source": [
    "# a collection of points (GPS coordinates) needs to be provided as a list of lists, this is what this funciton does  \n",
    "def location_converter (df): \n",
    "    markers = df.loc[:,{'Latitude','Longitude'}] #ouput dataframe \n",
    "    markers = markers.reindex(columns = ['Latitude','Longitude']) #\n",
    "    markers = markers.to_records(index=False) #output array\n",
    "    markers = list (markers) #output list of tuples\n",
    "    markers = [list(i) for i in markers] # list of lists\n",
    "    return markers\n"
   ]
  },
  {
   "cell_type": "code",
   "execution_count": 68,
   "metadata": {},
   "outputs": [
    {
     "data": {
      "text/plain": [
       "Index(['Date', ' CET Time', ' Raw Time', 'Latitude', 'Longitude', 'Altitude',\n",
       "       ' Num of Sats', ' Sat Speed', ' Precision'],\n",
       "      dtype='object')"
      ]
     },
     "execution_count": 68,
     "metadata": {},
     "output_type": "execute_result"
    }
   ],
   "source": [
    "tracks.columns"
   ]
  },
  {
   "cell_type": "code",
   "execution_count": 69,
   "metadata": {},
   "outputs": [
    {
     "data": {
      "text/plain": [
       "[[48.231136, 16.374966], [48.231619, 16.374845]]"
      ]
     },
     "execution_count": 69,
     "metadata": {},
     "output_type": "execute_result"
    }
   ],
   "source": [
    "# calling the funnnction and checking outpu \n",
    "tree_pos = location_converter (tree_waste)\n",
    "bin_pos = location_converter (bin_waste)\n",
    "track_pos = location_converter (tracks)\n",
    "tree_pos [0:2]"
   ]
  },
  {
   "cell_type": "code",
   "execution_count": 70,
   "metadata": {},
   "outputs": [
    {
     "data": {
      "text/plain": [
       "'/Users/me/code/notebooks/ipyleaflet'"
      ]
     },
     "execution_count": 70,
     "metadata": {},
     "output_type": "execute_result"
    }
   ],
   "source": [
    "import os\n",
    "os.getcwd()"
   ]
  },
  {
   "cell_type": "markdown",
   "metadata": {},
   "source": [
    "## Adding tree- and rubish bin locations to the map "
   ]
  },
  {
   "cell_type": "code",
   "execution_count": 71,
   "metadata": {},
   "outputs": [
    {
     "name": "stdout",
     "output_type": "stream",
     "text": [
      "ipykernel.zmqshell\n"
     ]
    }
   ],
   "source": [
    "print (get_ipython().__class__.__module__)"
   ]
  },
  {
   "cell_type": "code",
   "execution_count": 72,
   "metadata": {},
   "outputs": [
    {
     "data": {
      "application/vnd.jupyter.widget-view+json": {
       "model_id": "087653ee04894d4f8cff0b83cbbe4f24",
       "version_major": 2,
       "version_minor": 0
      },
      "text/plain": [
       "Map(bottom=5816168.0, center=[48.231139, 16.374955], controls=(ZoomControl(options=['position', 'zoom_in_text'…"
      ]
     },
     "metadata": {},
     "output_type": "display_data"
    }
   ],
   "source": [
    "#trash_icon = AwesomeIcon (name='trash', marker_color='white', icon_color='black', spin=True)\n",
    "#trash_icon = Icon(icon_url='https://leafletjs.com/examples/custom-icons/leaf-red.png', icon_size=[25, 40]) #red, green, yellow\n",
    "\n",
    "bin_markers = []\n",
    "tree_markers = [] \n",
    "\n",
    "\n",
    "#for jupyter notebook \n",
    "trash_icon = Icon(icon_url= 'icons/trashbin.png', icon_size=[30, 40])\n",
    "tree_icon =  Icon(icon_url= 'icons/tree.png', icon_size=[30, 40])\n",
    "\n",
    "'''\n",
    "#for jupyter labs \n",
    "trash_icon = Icon(icon_url='files/'+os.getcwd().split('/')[-1]+'/icons/trashbin.png', icon_size=[30, 40])\n",
    "tree_icon = Icon(icon_url='files/'+os.getcwd().split('/')[-1]+'/icons/tree.png', icon_size=[30, 40])\n",
    "'''\n",
    "#external icons \n",
    "#icon = Icon(icon_url='https://leafletjs.com/examples/custom-icons/leaf-green.png', icon_size=[38, 95], icon_anchor=[22,94])\n",
    "\n",
    "\n",
    "# Just to see what os.path returns? \n",
    "'''\n",
    "try: \n",
    "    print(\"File exist: \", os.path.isfile(foot_icon))\n",
    "except:\n",
    "    print(foot_icon)\n",
    "'''\n",
    "\n",
    "\n",
    "for i in range(len(bin_pos)):\n",
    "    markertrash  = Marker(location=bin_pos[i], icon = trash_icon)\n",
    "    m.add_layer(markertrash);\n",
    "    #bin_markers = bin_markers + marker\n",
    "    \n",
    "    \n",
    "for i in range(len(tree_pos)):\n",
    "    markertree  = Marker(location=tree_pos[i], icon = tree_icon)\n",
    "    m.add_layer(markertree);\n",
    "    #tree_markers = tree_markers + marker\n",
    "    \n",
    "'''\n",
    "for i in range(len(track_pos)):\n",
    "    marker  = [Marker(location=track_pos[i], icon = foot_icon)]\n",
    "    foot_markers = foot_markers + marker\n",
    "   \n",
    "\n",
    "bin_markers = tuple (bin_markers)\n",
    "tree_markers = tuple (tree_markers)\n",
    "#foot_markers = tuple (foot_markers)\n",
    "''' \n",
    " # creating the path of the mapping exercise \n",
    "\n",
    "ant_path = AntPath (\n",
    "    locations=track_pos,     \n",
    "    dash_array=[1, 10],\n",
    "    delay=2000,\n",
    "    color='#7590ba',\n",
    "    pulse_color='#3f6fba',\n",
    "    name='Trail')\n",
    "\n",
    "m.add_layer(ant_path)\n",
    "\n",
    "display (m) "
   ]
  },
  {
   "cell_type": "code",
   "execution_count": 73,
   "metadata": {},
   "outputs": [
    {
     "data": {
      "application/vnd.jupyter.widget-view+json": {
       "model_id": "087653ee04894d4f8cff0b83cbbe4f24",
       "version_major": 2,
       "version_minor": 0
      },
      "text/plain": [
       "Map(bottom=5816168.0, center=[48.231139, 16.374955], controls=(ZoomControl(options=['position', 'zoom_in_text'…"
      ]
     },
     "metadata": {},
     "output_type": "display_data"
    }
   ],
   "source": [
    "# creating the path of the mapping exercise \n",
    "\n",
    "ant_path = AntPath (\n",
    "    locations=track_pos,     \n",
    "    dash_array=[1, 10],\n",
    "    delay=2000,\n",
    "    color='#7590ba',\n",
    "    pulse_color='#3f6fba',\n",
    "    name='Trail')\n",
    "\n",
    "m.add_layer(ant_path)\n",
    "\n",
    "display (m) "
   ]
  },
  {
   "cell_type": "markdown",
   "metadata": {},
   "source": [
    "## Grouping of markers (not really useful in this context) "
   ]
  },
  {
   "cell_type": "code",
   "execution_count": 20,
   "metadata": {},
   "outputs": [
    {
     "data": {
      "text/plain": [
       "\"\\nbin_layer = MarkerCluster(markers = bin_markers, name='Trash bins')\\ntree_layer = MarkerCluster(markers = tree_markers, name='Tree w. trash')\\n\\n#foot_layer = MarkerCluster(markers = foot_markers, name='Trail')\\n# print(bin_layer)\\n\\nm.add_layer(bin_layer) \\nm.add_layer(tree_layer) \\nm.add_layer(ant_path)\\nm\\n\""
      ]
     },
     "execution_count": 20,
     "metadata": {},
     "output_type": "execute_result"
    }
   ],
   "source": [
    "\"\"\"\n",
    "bin_layer = MarkerCluster(markers = bin_markers, name='Trash bins')\n",
    "tree_layer = MarkerCluster(markers = tree_markers, name='Tree w. trash')\n",
    "\n",
    "#foot_layer = MarkerCluster(markers = foot_markers, name='Trail')\n",
    "# print(bin_layer)\n",
    "\n",
    "m.add_layer(bin_layer) \n",
    "m.add_layer(tree_layer) \n",
    "m.add_layer(ant_path)\n",
    "m\n",
    "\"\"\"\n"
   ]
  },
  {
   "cell_type": "markdown",
   "metadata": {},
   "source": [
    "## The resulting HTML file should be visible in any browser (however, icons will be missing - fixible)"
   ]
  },
  {
   "cell_type": "code",
   "execution_count": 21,
   "metadata": {},
   "outputs": [],
   "source": [
    "m.save('my_map.html', title='My Map')"
   ]
  },
  {
   "cell_type": "markdown",
   "metadata": {},
   "source": [
    "## Some cleaning up if needed "
   ]
  },
  {
   "cell_type": "code",
   "execution_count": null,
   "metadata": {},
   "outputs": [],
   "source": [
    "m.clear_layers()"
   ]
  },
  {
   "cell_type": "code",
   "execution_count": null,
   "metadata": {},
   "outputs": [],
   "source": [
    "m.remove_layer(bin_layer)\n",
    "m.remove_layer(tree_layer)\n",
    "m.remove_layer (ant_path)"
   ]
  },
  {
   "cell_type": "markdown",
   "metadata": {},
   "source": [
    "## Integrating a different basemap with more details "
   ]
  },
  {
   "cell_type": "code",
   "execution_count": null,
   "metadata": {},
   "outputs": [],
   "source": [
    "from ipyleaflet import Map, WMSLayer, basemaps\n",
    "#wmts = \"http://maps.wien.gv.at/basemap/geolandbasemap/normal/google3857/{z}/{y}/{x}.png\"\n",
    "\n",
    "wms = WMSLayer(\n",
    "    url='http://maps.wien.gv.at/basemap/geolandbasemap/normal/google3857/{z}/{y}/{x}.png',\n",
    "    format='image/png',\n",
    "    transparent=True,\n",
    "    attribution='wait'\n",
    ")\n",
    "\n",
    "m.add_layer(wms)\n",
    "\n",
    "m"
   ]
  },
  {
   "cell_type": "markdown",
   "metadata": {},
   "source": [
    "## For later: Experimenting with coloring regions or neighborhoods "
   ]
  },
  {
   "cell_type": "code",
   "execution_count": null,
   "metadata": {},
   "outputs": [],
   "source": [
    "import csv \n",
    "from collections import defaultdict"
   ]
  },
  {
   "cell_type": "code",
   "execution_count": null,
   "metadata": {},
   "outputs": [],
   "source": [
    "#the syntax is: mydict[key] = \"value\"\n",
    "#mydict [\"iphone 5S\"] = 2013\n",
    "\n",
    "def parse_csv_by_field(filename, fieldnames):\n",
    "    print(fieldnames)\n",
    "    d = defaultdict(list)\n",
    "    with open(filename, newline='') as csvfile:\n",
    "        reader = csv.DictReader(csvfile, fieldnames)\n",
    "        next(reader)  # remove header\n",
    "        for row in reader:\n",
    "            d[row ['bundesland']] = int (row ['measurement'])\n",
    "    return dict(d)\n",
    "\n",
    "\n",
    "area_data = parse_csv_by_field('data/area_data.csv', ['bundesland','measurement'])\n",
    "area_data \n",
    " \n",
    "    "
   ]
  },
  {
   "cell_type": "code",
   "execution_count": null,
   "metadata": {},
   "outputs": [],
   "source": [
    "m.clear_layers()"
   ]
  },
  {
   "cell_type": "raw",
   "metadata": {},
   "source": [
    "geo_json_borders\n",
    "\n",
    "{'type': 'FeatureCollection',\n",
    " 'name': 'gemeinden_999_geo',\n",
    " 'crs': {'type': 'name',\n",
    "  'properties': {'name': 'urn:ogc:def:crs:OGC:1.3:CRS84'}},\n",
    " 'features': [{'type': 'Feature',\n",
    "   'properties': {'name': 'Pöttsching', 'iso': '10609'},\n",
    "   'geometry': {'type': 'MultiPolygon',\n",
    "    'coordinates': [[[[16.404354111718263, 47.79918128500937],\n",
    "       [16.400857594414486, 47.79178318259396],\n",
    "       [16.370098559225617, 47.75647909430695],\n",
    "       [16.36178609891293, 47.750404442983026],\n",
    "       [16.337313248332276, 47.775956948979676],"
   ]
  },
  {
   "cell_type": "code",
   "execution_count": null,
   "metadata": {},
   "outputs": [],
   "source": [
    "import geopandas as gpd\n",
    "import json \n",
    "states = gpd.read_file('geojson/laender.json')\n",
    "print(states.head())"
   ]
  },
  {
   "cell_type": "raw",
   "metadata": {},
   "source": [
    "borders1 = 'geojson/bezirke_vienna.json'\n",
    "borders2 = 'geojson/gemeinden_999_geo.json'\n",
    "borders3 = 'geojson/laender.json'\n",
    "\n",
    "with open(borders3) as f:\n",
    "    geo_json_borders = json.load(f)\n",
    "\n",
    "wms = WMSLayer(\n",
    "    url='http://maps.wien.gv.at/basemap/geolandbasemap/normal/google3857/{z}/{y}/{x}.png',\n",
    "    format='image/png',\n",
    "    transparent=True,\n",
    "    attribution='wait'\n",
    ")\n",
    "\n",
    "\n",
    "m = Map(center=center, zoom=12, layout=Layout(width='100%', height='600px'))\n",
    "\n",
    "'''\n",
    "border_layer = GeoJSON(data=geo_json_borders,\n",
    "                                 style = {'color': 'red', \n",
    "                                          'opacity': 1.0, \n",
    "                                          'weight': 2.9,\n",
    "                                          'fill': 'blue',\n",
    "                                          'fillOpacity': 0.2})\n",
    "'''\n",
    "\n",
    "layer = Choropleth(\n",
    "    geo_data=geo_json_borders,\n",
    "    choro_data=area_data,\n",
    "    key_on= 'iso',\n",
    "    colormap=linear.YlOrRd_04,\n",
    "    border_color='black',\n",
    "    style={'fillOpacity': 0.8, 'dashArray': '5, 5'})\n",
    "\n",
    "\n",
    "m.add_layer(wms)\n",
    "m.add_layer(border_layer)\n",
    "\n",
    "m"
   ]
  },
  {
   "cell_type": "code",
   "execution_count": null,
   "metadata": {},
   "outputs": [],
   "source": [
    "geo_json_borders ['features'] [0] ['properties'] ['name']"
   ]
  },
  {
   "cell_type": "code",
   "execution_count": null,
   "metadata": {},
   "outputs": [],
   "source": []
  }
 ],
 "metadata": {
  "hide_input": false,
  "kernelspec": {
   "display_name": "ipyleaflet",
   "language": "python",
   "name": "ipyleaflet"
  },
  "language_info": {
   "codemirror_mode": {
    "name": "ipython",
    "version": 3
   },
   "file_extension": ".py",
   "mimetype": "text/x-python",
   "name": "python",
   "nbconvert_exporter": "python",
   "pygments_lexer": "ipython3",
   "version": "3.8.1"
  },
  "toc": {
   "base_numbering": 1,
   "nav_menu": {},
   "number_sections": true,
   "sideBar": true,
   "skip_h1_title": false,
   "title_cell": "Table of Contents",
   "title_sidebar": "Contents",
   "toc_cell": true,
   "toc_position": {},
   "toc_section_display": true,
   "toc_window_display": false
  },
  "widgets": {
   "application/vnd.jupyter.widget-state+json": {
    "state": {
     "00f5fbd683b5453f952b13e1c4a8d5ba": {
      "model_module": "jupyter-leaflet",
      "model_module_version": "^0.13.2",
      "model_name": "LeafletMeasureControlModel",
      "state": {
       "_model_module_version": "^0.13.2",
       "_view_module_version": "^0.13.2",
       "active_color": "orange",
       "completed_color": "blue",
       "options": [
        "active_color",
        "capture_z_index",
        "completed_color",
        "popup_options",
        "position",
        "primary_area_unit",
        "primary_length_unit",
        "secondary_area_unit",
        "secondary_length_unit"
       ],
       "position": "bottomleft",
       "primary_area_unit": "sqmeters",
       "primary_length_unit": "meters",
       "secondary_area_unit": null,
       "secondary_length_unit": null
      }
     },
     "04aca46fa7f049dd9fd7716f96c5d174": {
      "model_module": "@jupyter-widgets/base",
      "model_module_version": "1.2.0",
      "model_name": "LayoutModel",
      "state": {}
     },
     "052827d532dc481381798695080334a6": {
      "model_module": "jupyter-leaflet",
      "model_module_version": "^0.13.2",
      "model_name": "LeafletSplitMapControlModel",
      "state": {
       "_model_module_version": "^0.13.2",
       "_model_name": "LeafletSplitMapControlModel",
       "_view_module_version": "^0.13.2",
       "_view_name": "LeafletSplitMapControlView",
       "left_layer": "IPY_MODEL_93e7cb772f554327a6da005214c54efa",
       "options": [
        "position"
       ],
       "right_layer": "IPY_MODEL_42e5a538f2cd4474a58ff0fc86096e48"
      }
     },
     "0592aa6b57ea4e31851a96dd8bfc8c9f": {
      "model_module": "jupyter-leaflet",
      "model_module_version": "^0.13.2",
      "model_name": "LeafletFullScreenControlModel",
      "state": {
       "_model_module_version": "^0.13.2",
       "_view_module_version": "^0.13.2",
       "options": [
        "position"
       ]
      }
     },
     "082d8682d49e4b85926f182f18fa2a21": {
      "model_module": "jupyter-leaflet",
      "model_module_version": "^0.13.2",
      "model_name": "LeafletMapStyleModel",
      "state": {
       "_model_module_version": "^0.13.2"
      }
     },
     "087653ee04894d4f8cff0b83cbbe4f24": {
      "model_module": "jupyter-leaflet",
      "model_module_version": "^0.13.2",
      "model_name": "LeafletMapModel",
      "state": {
       "_model_module_version": "^0.13.2",
       "_view_module_version": "^0.13.2",
       "bottom": 5816168,
       "center": [
        48.23113373793681,
        16.37497186660767
       ],
       "controls": [
        "IPY_MODEL_7989fca41a0a48758dbd8c12fe5d6228",
        "IPY_MODEL_1ce8af20920b4afca1ddda01a7b02fc1",
        "IPY_MODEL_59780f474632467d8fea2325412b1e58",
        "IPY_MODEL_c7231a745a454ad0888119cb964cc85a",
        "IPY_MODEL_69cd20359a624119b2d5f62ecc4a098f",
        "IPY_MODEL_c37f7c70f575420c8c0184a60ee2c513",
        "IPY_MODEL_e55a44ca5e034ba998642523b3460758"
       ],
       "default_style": "IPY_MODEL_36b289fc5d694bb4895030095974173e",
       "dragging_style": "IPY_MODEL_22755090e3c54f0892edae5851054edb",
       "east": 16.385400295257572,
       "fullscreen": false,
       "interpolation": "bilinear",
       "layers": [
        "IPY_MODEL_e5d09500c7b34a369e2c55232407cbe1",
        "IPY_MODEL_9b0770d3b0974203ab884ad5fa3fd6d9",
        "IPY_MODEL_7811998fb0b8410c88f24a50f2cfa476",
        "IPY_MODEL_24652f894eb74ada8083bda5e8bfabca",
        "IPY_MODEL_cbb54213891d478686f22fa548ffc48e",
        "IPY_MODEL_dc93cec10bba463f946ec89677a48e2a",
        "IPY_MODEL_77eb94dab34a4886bc359141a591f75c",
        "IPY_MODEL_f8a851fe3c8a4841bd970ea18a75e044",
        "IPY_MODEL_79af79d4076b468a8c03417a57f15532",
        "IPY_MODEL_17642956675342eb8c1a548da4d8688e",
        "IPY_MODEL_f37863efb009472a95b4775478ac3f94",
        "IPY_MODEL_6db7eeccbb664f57af1654b248b69b39",
        "IPY_MODEL_361e287760674e97908388e8fdcdea87",
        "IPY_MODEL_64e427624b2b4fe58d2a32c3a6610386",
        "IPY_MODEL_6947c52e658743e9b4fd22f5c75da1a9",
        "IPY_MODEL_7dad542cc0d94dc2800cb81b7fe9881c",
        "IPY_MODEL_c34d5833ac804d70be68c6315c2f992f",
        "IPY_MODEL_27c8fec87a31477391c9dbf744d977c0",
        "IPY_MODEL_5c6e80133f124ed283a88d04343a760b",
        "IPY_MODEL_e726ba13ee2b4efcb552fcef21b2c2c4",
        "IPY_MODEL_20a54ac8a54948e7b9328158aa7aa582",
        "IPY_MODEL_d97972bc6f7443269657eb40a77c1613",
        "IPY_MODEL_ecd38393724e4615ab390f33d9c145bf",
        "IPY_MODEL_5780cc024b9c43909268a490fb2cd5fb",
        "IPY_MODEL_4fc7c3addbe84c33b0ae603dbd33edf9"
       ],
       "layout": "IPY_MODEL_e8e26efd13bc45e7983dcc20b4dc783c",
       "left": 9151251,
       "modisdate": "yesterday",
       "north": 48.235421620572104,
       "options": [
        "bounce_at_zoom_limits",
        "box_zoom",
        "center",
        "close_popup_on_click",
        "double_click_zoom",
        "dragging",
        "fullscreen",
        "inertia",
        "inertia_deceleration",
        "inertia_max_speed",
        "interpolation",
        "keyboard",
        "keyboard_pan_offset",
        "keyboard_zoom_offset",
        "max_zoom",
        "min_zoom",
        "scroll_wheel_zoom",
        "tap",
        "tap_tolerance",
        "touch_zoom",
        "world_copy_jump",
        "zoom",
        "zoom_animation_threshold",
        "zoom_delta",
        "zoom_snap",
        "zoom_start"
       ],
       "right": 9152223,
       "south": 48.22684549597699,
       "style": "IPY_MODEL_36b289fc5d694bb4895030095974173e",
       "top": 5815568,
       "west": 16.364543437957767,
       "window_url": "http://localhost:8888/lab",
       "zoom": 16
      }
     },
     "09848b0b69114fc6bf105123cbe48472": {
      "model_module": "jupyter-leaflet",
      "model_module_version": "^0.13.2",
      "model_name": "LeafletLayersControlModel",
      "state": {
       "_model_module_version": "^0.13.2",
       "_view_module_version": "^0.13.2",
       "options": [
        "position"
       ],
       "position": "topright"
      }
     },
     "0afe9009f9ac4a43891bfe8a8555ced5": {
      "model_module": "jupyter-leaflet",
      "model_module_version": "^0.13.2",
      "model_name": "LeafletTileLayerModel",
      "state": {
       "_model_module_version": "^0.13.2",
       "_view_module_version": "^0.13.2",
       "base": true,
       "max_native_zoom": 18,
       "max_zoom": 19,
       "min_native_zoom": 0,
       "min_zoom": 1,
       "options": [
        "attribution",
        "detect_retina",
        "max_native_zoom",
        "max_zoom",
        "min_native_zoom",
        "min_zoom",
        "no_wrap",
        "tile_size",
        "tms"
       ]
      }
     },
     "0b782846689d4244aaa2b2ac4f163809": {
      "model_module": "@jupyter-widgets/controls",
      "model_module_version": "1.5.0",
      "model_name": "IntSliderModel",
      "state": {
       "description": "Zoom level:",
       "layout": "IPY_MODEL_b96ce589a86b445fa164b7754bca23ca",
       "max": 20,
       "min": 10,
       "style": "IPY_MODEL_6bbe0a19a7aa4e4a9eb10d530b640259",
       "value": 16
      }
     },
     "0c18145acf894fc3955f2db7752f1f65": {
      "model_module": "jupyter-leaflet",
      "model_module_version": "^0.13.2",
      "model_name": "LeafletTileLayerModel",
      "state": {
       "_model_module_version": "^0.13.2",
       "_view_module_version": "^0.13.2",
       "attribution": "Map tiles by <a href=\"http://stamen.com/\">Stamen Design</a>, under <a href=\"http://creativecommons.org/licenses/by/3.0\">CC BY 3.0</a>. Data by <a href=\"http://openstreetmap.org/\">OpenStreetMap</a>, under <a href=\"http://creativecommons.org/licenses/by-sa/3.0\">CC BY SA</a>.",
       "max_native_zoom": 18,
       "max_zoom": 20,
       "min_native_zoom": 0,
       "name": "Stamen.Toner",
       "options": [
        "attribution",
        "detect_retina",
        "max_native_zoom",
        "max_zoom",
        "min_native_zoom",
        "min_zoom",
        "no_wrap",
        "tile_size",
        "tms"
       ],
       "url": "https://stamen-tiles-a.a.ssl.fastly.net/toner/{z}/{x}/{y}.png"
      }
     },
     "12e1262917b049d2aaf75950be3d14d5": {
      "model_module": "jupyter-leaflet",
      "model_module_version": "^0.13.2",
      "model_name": "LeafletFullScreenControlModel",
      "state": {
       "_model_module_version": "^0.13.2",
       "_view_module_version": "^0.13.2",
       "options": [
        "position"
       ]
      }
     },
     "13e2b5f0291747bdb4883fbd110bd5a8": {
      "model_module": "@jupyter-widgets/controls",
      "model_module_version": "1.5.0",
      "model_name": "SliderStyleModel",
      "state": {
       "description_width": ""
      }
     },
     "156eea8d256c4d00a52b2e61a7f4ef0c": {
      "model_module": "@jupyter-widgets/controls",
      "model_module_version": "1.5.0",
      "model_name": "LinkModel",
      "state": {
       "source": [
        "IPY_MODEL_644530eb38804312b787402df95aa5ab",
        "value"
       ],
       "target": [
        "IPY_MODEL_1c1c2a617e664af2adcf8cb1f889be07",
        "zoom"
       ]
      }
     },
     "171ffbb6cb0047adbf3d28234ea92e16": {
      "model_module": "jupyter-leaflet",
      "model_module_version": "^0.13.2",
      "model_name": "LeafletSplitMapControlModel",
      "state": {
       "_model_module_version": "^0.13.2",
       "_model_name": "LeafletSplitMapControlModel",
       "_view_module_version": "^0.13.2",
       "_view_name": "LeafletSplitMapControlView",
       "left_layer": "IPY_MODEL_805e11f68120493c9093ba4e0d9a049f",
       "options": [
        "position"
       ],
       "right_layer": "IPY_MODEL_175395ac79f04e7ba31e05226be55fc7"
      }
     },
     "175395ac79f04e7ba31e05226be55fc7": {
      "model_module": "jupyter-leaflet",
      "model_module_version": "^0.13.2",
      "model_name": "LeafletTileLayerModel",
      "state": {
       "_model_module_version": "^0.13.2",
       "_view_module_version": "^0.13.2",
       "attribution": "Map tiles by <a href=\"http://stamen.com/\">Stamen Design</a>, under <a href=\"http://creativecommons.org/licenses/by/3.0\">CC BY 3.0</a>. Data by <a href=\"http://openstreetmap.org/\">OpenStreetMap</a>, under <a href=\"http://creativecommons.org/licenses/by-sa/3.0\">CC BY SA</a>.",
       "max_native_zoom": 18,
       "max_zoom": 20,
       "min_native_zoom": 0,
       "name": "Stamen.Toner",
       "options": [
        "attribution",
        "detect_retina",
        "max_native_zoom",
        "max_zoom",
        "min_native_zoom",
        "min_zoom",
        "no_wrap",
        "tile_size",
        "tms"
       ],
       "url": "https://stamen-tiles-a.a.ssl.fastly.net/toner/{z}/{x}/{y}.png"
      }
     },
     "17642956675342eb8c1a548da4d8688e": {
      "model_module": "jupyter-leaflet",
      "model_module_version": "^0.13.2",
      "model_name": "LeafletMarkerModel",
      "state": {
       "_model_module_version": "^0.13.2",
       "_view_module_version": "^0.13.2",
       "icon": "IPY_MODEL_48aa036322554b2086e1192fc7abf556",
       "location": [
        48.232615,
        16.374924
       ],
       "options": [
        "alt",
        "draggable",
        "keyboard",
        "rise_offset",
        "rise_on_hover",
        "rotation_angle",
        "rotation_origin",
        "title",
        "z_index_offset"
       ]
      }
     },
     "17fa223945ea49f78d9e1c13b8e95472": {
      "model_module": "jupyter-leaflet",
      "model_module_version": "^0.13.2",
      "model_name": "LeafletMarkerModel",
      "state": {
       "_model_module_version": "^0.13.2",
       "_view_module_version": "^0.13.2",
       "icon": "IPY_MODEL_47139d2718e44c5d96b690875addd5a2",
       "location": [
        48.235323,
        16.371179
       ],
       "options": [
        "alt",
        "draggable",
        "keyboard",
        "rise_offset",
        "rise_on_hover",
        "rotation_angle",
        "rotation_origin",
        "title",
        "z_index_offset"
       ]
      }
     },
     "1827ca5a50aa4c0ba92ae52e2be77ca0": {
      "model_module": "jupyter-leaflet",
      "model_module_version": "^0.13.2",
      "model_name": "LeafletFullScreenControlModel",
      "state": {
       "_model_module_version": "^0.13.2",
       "_view_module_version": "^0.13.2",
       "options": [
        "position"
       ]
      }
     },
     "1a5ad1adf64f4a9bb324a43d8e3f5a1c": {
      "model_module": "jupyter-leaflet",
      "model_module_version": "^0.13.2",
      "model_name": "LeafletMarkerModel",
      "state": {
       "_model_module_version": "^0.13.2",
       "_view_module_version": "^0.13.2",
       "icon": "IPY_MODEL_a9714de54ea0436fb1b406c843cb2db1",
       "location": [
        48.23324,
        16.374012
       ],
       "options": [
        "alt",
        "draggable",
        "keyboard",
        "rise_offset",
        "rise_on_hover",
        "rotation_angle",
        "rotation_origin",
        "title",
        "z_index_offset"
       ]
      }
     },
     "1b46d9dd5d824da29dd02b1f55efecd2": {
      "model_module": "jupyter-leaflet",
      "model_module_version": "^0.13.2",
      "model_name": "LeafletMapStyleModel",
      "state": {
       "_model_module_version": "^0.13.2"
      }
     },
     "1c1c2a617e664af2adcf8cb1f889be07": {
      "model_module": "jupyter-leaflet",
      "model_module_version": "^0.13.2",
      "model_name": "LeafletMapModel",
      "state": {
       "_model_module_version": "^0.13.2",
       "_view_module_version": "^0.13.2",
       "bottom": 5816168,
       "center": [
        48.231139,
        16.374955
       ],
       "controls": [
        "IPY_MODEL_578cecd963814a8485547b929b2e317e",
        "IPY_MODEL_e80564ee5af84f27a7a96504c56dd2bd",
        "IPY_MODEL_2f4388cf478e49d1b4b219e573a8f679",
        "IPY_MODEL_3bd4ce5950fb4c37a48187d321630bde",
        "IPY_MODEL_7155a80b68a841f88e235d9fbb5cb596",
        "IPY_MODEL_9a94f5dc27eb40b08d82b53959514be7",
        "IPY_MODEL_2022921fdb0d4e2083a0f37b80aec76b"
       ],
       "default_style": "IPY_MODEL_4eb9a064f7984b92a50103259150bb5d",
       "dragging_style": "IPY_MODEL_1d9d8f88002b4da0b51cdede79d8788e",
       "east": 16.385378837585453,
       "fullscreen": false,
       "interpolation": "bilinear",
       "layers": [
        "IPY_MODEL_7653ad85faaa48409e3f101c87ea36c0"
       ],
       "layout": "IPY_MODEL_f6e08d93d18b41769bf80cd49662e554",
       "left": 9151250,
       "modisdate": "yesterday",
       "north": 48.235421620572104,
       "options": [
        "bounce_at_zoom_limits",
        "box_zoom",
        "center",
        "close_popup_on_click",
        "double_click_zoom",
        "dragging",
        "fullscreen",
        "inertia",
        "inertia_deceleration",
        "inertia_max_speed",
        "interpolation",
        "keyboard",
        "keyboard_pan_offset",
        "keyboard_zoom_offset",
        "max_zoom",
        "min_zoom",
        "scroll_wheel_zoom",
        "tap",
        "tap_tolerance",
        "touch_zoom",
        "world_copy_jump",
        "zoom",
        "zoom_animation_threshold",
        "zoom_delta",
        "zoom_snap",
        "zoom_start"
       ],
       "right": 9152222,
       "south": 48.22684549597699,
       "style": "IPY_MODEL_4eb9a064f7984b92a50103259150bb5d",
       "top": 5815568,
       "west": 16.364521980285648,
       "window_url": "http://localhost:8888/lab",
       "zoom": 16
      }
     },
     "1ce8af20920b4afca1ddda01a7b02fc1": {
      "model_module": "jupyter-leaflet",
      "model_module_version": "^0.13.2",
      "model_name": "LeafletAttributionControlModel",
      "state": {
       "_model_module_version": "^0.13.2",
       "_view_module_version": "^0.13.2",
       "options": [
        "position",
        "prefix"
       ],
       "position": "bottomright",
       "prefix": "ipyleaflet"
      }
     },
     "1d9d8f88002b4da0b51cdede79d8788e": {
      "model_module": "jupyter-leaflet",
      "model_module_version": "^0.13.2",
      "model_name": "LeafletMapStyleModel",
      "state": {
       "_model_module_version": "^0.13.2",
       "cursor": "move"
      }
     },
     "201ef9912c6241d39f134807bd5ebf07": {
      "model_module": "jupyter-leaflet",
      "model_module_version": "^0.13.2",
      "model_name": "LeafletMarkerModel",
      "state": {
       "_model_module_version": "^0.13.2",
       "_view_module_version": "^0.13.2",
       "icon": "IPY_MODEL_a9714de54ea0436fb1b406c843cb2db1",
       "location": [
        48.235285,
        16.372603
       ],
       "options": [
        "alt",
        "draggable",
        "keyboard",
        "rise_offset",
        "rise_on_hover",
        "rotation_angle",
        "rotation_origin",
        "title",
        "z_index_offset"
       ]
      }
     },
     "2022921fdb0d4e2083a0f37b80aec76b": {
      "model_module": "jupyter-leaflet",
      "model_module_version": "^0.13.2",
      "model_name": "LeafletMeasureControlModel",
      "state": {
       "_model_module_version": "^0.13.2",
       "_view_module_version": "^0.13.2",
       "active_color": "orange",
       "completed_color": "blue",
       "options": [
        "active_color",
        "capture_z_index",
        "completed_color",
        "popup_options",
        "position",
        "primary_area_unit",
        "primary_length_unit",
        "secondary_area_unit",
        "secondary_length_unit"
       ],
       "position": "bottomleft",
       "primary_area_unit": "sqmeters",
       "primary_length_unit": "meters",
       "secondary_area_unit": null,
       "secondary_length_unit": null
      }
     },
     "20a54ac8a54948e7b9328158aa7aa582": {
      "model_module": "jupyter-leaflet",
      "model_module_version": "^0.13.2",
      "model_name": "LeafletMarkerModel",
      "state": {
       "_model_module_version": "^0.13.2",
       "_view_module_version": "^0.13.2",
       "icon": "IPY_MODEL_48aa036322554b2086e1192fc7abf556",
       "location": [
        48.235440999999994,
        16.371724
       ],
       "options": [
        "alt",
        "draggable",
        "keyboard",
        "rise_offset",
        "rise_on_hover",
        "rotation_angle",
        "rotation_origin",
        "title",
        "z_index_offset"
       ]
      }
     },
     "20f7c05d20a048abb8bd72412ffa089a": {
      "model_module": "jupyter-leaflet",
      "model_module_version": "^0.13.2",
      "model_name": "LeafletMapStyleModel",
      "state": {
       "_model_module_version": "^0.13.2"
      }
     },
     "22755090e3c54f0892edae5851054edb": {
      "model_module": "jupyter-leaflet",
      "model_module_version": "^0.13.2",
      "model_name": "LeafletMapStyleModel",
      "state": {
       "_model_module_version": "^0.13.2",
       "cursor": "move"
      }
     },
     "234576ad5c1e45d8b6712a2b1e51eb2d": {
      "model_module": "jupyter-leaflet",
      "model_module_version": "^0.13.2",
      "model_name": "LeafletWidgetControlModel",
      "state": {
       "_model_module": "jupyter-leaflet",
       "_model_module_version": "^0.13.2",
       "_view_count": null,
       "_view_module": "jupyter-leaflet",
       "_view_module_version": "^0.13.2",
       "options": [
        "position"
       ],
       "position": "topright",
       "widget": "IPY_MODEL_644530eb38804312b787402df95aa5ab"
      }
     },
     "2369a4e45c214398a8d956f090fffb53": {
      "model_module": "jupyter-leaflet",
      "model_module_version": "^0.13.2",
      "model_name": "LeafletTileLayerModel",
      "state": {
       "_model_module_version": "^0.13.2",
       "_view_module_version": "^0.13.2",
       "attribution": "Tiles &copy; Esri &mdash; Source: Esri, DeLorme, NAVTEQ, USGS, Intermap, iPC, NRCAN, Esri Japan, METI, Esri China (Hong Kong), Esri (Thailand), TomTom, 2012",
       "base": true,
       "max_native_zoom": 18,
       "max_zoom": 20,
       "min_native_zoom": 0,
       "min_zoom": 1,
       "name": "Esri.WorldStreetMap",
       "options": [
        "attribution",
        "detect_retina",
        "max_native_zoom",
        "max_zoom",
        "min_native_zoom",
        "min_zoom",
        "no_wrap",
        "tile_size",
        "tms"
       ],
       "url": "http://server.arcgisonline.com/ArcGIS/rest/services/World_Street_Map/MapServer/tile/{z}/{y}/{x}"
      }
     },
     "2371c58a17954e7196cfe9be12a3a25d": {
      "model_module": "jupyter-leaflet",
      "model_module_version": "^0.13.2",
      "model_name": "LeafletMapModel",
      "state": {
       "_model_module_version": "^0.13.2",
       "_view_module_version": "^0.13.2",
       "bottom": 5816168,
       "center": [
        48.231139,
        16.374955
       ],
       "controls": [
        "IPY_MODEL_cf451524ddf04d848f63b04525dbcb30",
        "IPY_MODEL_be7e016abd864d499aaa5f4d5eb26b91",
        "IPY_MODEL_171ffbb6cb0047adbf3d28234ea92e16",
        "IPY_MODEL_75e4d461278f4a9e9c17cfd8b052627a",
        "IPY_MODEL_12e1262917b049d2aaf75950be3d14d5",
        "IPY_MODEL_a515e6021ce5422f8e0b1899985bffd7",
        "IPY_MODEL_09848b0b69114fc6bf105123cbe48472"
       ],
       "default_style": "IPY_MODEL_fafdacc5a4c140be9c1d288472503570",
       "dragging_style": "IPY_MODEL_c84841a3f50b43c981d6b1b3253b95ba",
       "east": 16.38518571853638,
       "fullscreen": false,
       "interpolation": "bilinear",
       "layers": [
        "IPY_MODEL_ea39f14ca0b74088bb20873858101110"
       ],
       "layout": "IPY_MODEL_e8e26efd13bc45e7983dcc20b4dc783c",
       "left": 9151260,
       "modisdate": "yesterday",
       "north": 48.235421620572104,
       "options": [
        "bounce_at_zoom_limits",
        "box_zoom",
        "center",
        "close_popup_on_click",
        "double_click_zoom",
        "dragging",
        "fullscreen",
        "inertia",
        "inertia_deceleration",
        "inertia_max_speed",
        "interpolation",
        "keyboard",
        "keyboard_pan_offset",
        "keyboard_zoom_offset",
        "max_zoom",
        "min_zoom",
        "scroll_wheel_zoom",
        "tap",
        "tap_tolerance",
        "touch_zoom",
        "world_copy_jump",
        "zoom",
        "zoom_animation_threshold",
        "zoom_delta",
        "zoom_snap",
        "zoom_start"
       ],
       "right": 9152213,
       "south": 48.22684549597699,
       "style": "IPY_MODEL_87956c5dfebf49dfaefa11d7394d792b",
       "top": 5815568,
       "west": 16.36473655700684,
       "window_url": "http://localhost:8888/lab",
       "zoom": 16
      }
     },
     "2380828710eb41b387b3709d39395ca1": {
      "model_module": "jupyter-leaflet",
      "model_module_version": "^0.13.2",
      "model_name": "LeafletMapStyleModel",
      "state": {
       "_model_module_version": "^0.13.2",
       "cursor": "move"
      }
     },
     "24652f894eb74ada8083bda5e8bfabca": {
      "model_module": "jupyter-leaflet",
      "model_module_version": "^0.13.2",
      "model_name": "LeafletMarkerModel",
      "state": {
       "_model_module_version": "^0.13.2",
       "_view_module_version": "^0.13.2",
       "icon": "IPY_MODEL_f7e6f4eeb5ec49deb9c094aefb5ff7bb",
       "location": [
        48.232625,
        16.369195
       ],
       "options": [
        "alt",
        "draggable",
        "keyboard",
        "rise_offset",
        "rise_on_hover",
        "rotation_angle",
        "rotation_origin",
        "title",
        "z_index_offset"
       ]
      }
     },
     "24a2029528cc4917b1982690a90e4f2b": {
      "model_module": "jupyter-leaflet",
      "model_module_version": "^0.13.2",
      "model_name": "LeafletMapModel",
      "state": {
       "_model_module_version": "^0.13.2",
       "_view_module_version": "^0.13.2",
       "bottom": 5816168,
       "center": [
        48.231139,
        16.374955
       ],
       "controls": [
        "IPY_MODEL_db0c75b223a5427c8b6a37320ed3e5d8",
        "IPY_MODEL_5ed5c75294b34878b1e1b0554f3fa7cf",
        "IPY_MODEL_28135e76ceb1411f8f66af1bc90ba364",
        "IPY_MODEL_da6ed7f9441b44fc8388e5ddc91b83d7",
        "IPY_MODEL_bfcf68539b0e4497a0a7842288db4d71",
        "IPY_MODEL_2b6911b84c40489f979fe0dc15d791bc",
        "IPY_MODEL_9e4c10c2813f4668966191f680b854db"
       ],
       "default_style": "IPY_MODEL_a9f5bdf11d4a40eb856e0b478190415a",
       "dragging_style": "IPY_MODEL_faf730607b1d41d280ff3d1c863012db",
       "east": 16.38518571853638,
       "fullscreen": false,
       "interpolation": "bilinear",
       "layers": [
        "IPY_MODEL_4f96bacae17b4867bf092443c600d541"
       ],
       "layout": "IPY_MODEL_e8e26efd13bc45e7983dcc20b4dc783c",
       "left": 9151260,
       "modisdate": "yesterday",
       "north": 48.235421620572104,
       "options": [
        "bounce_at_zoom_limits",
        "box_zoom",
        "center",
        "close_popup_on_click",
        "double_click_zoom",
        "dragging",
        "fullscreen",
        "inertia",
        "inertia_deceleration",
        "inertia_max_speed",
        "interpolation",
        "keyboard",
        "keyboard_pan_offset",
        "keyboard_zoom_offset",
        "max_zoom",
        "min_zoom",
        "scroll_wheel_zoom",
        "tap",
        "tap_tolerance",
        "touch_zoom",
        "world_copy_jump",
        "zoom",
        "zoom_animation_threshold",
        "zoom_delta",
        "zoom_snap",
        "zoom_start"
       ],
       "right": 9152213,
       "south": 48.22684549597699,
       "style": "IPY_MODEL_77a0d5930d0245d58294af9ba4e865b5",
       "top": 5815568,
       "west": 16.36473655700684,
       "window_url": "http://localhost:8888/lab",
       "zoom": 16
      }
     },
     "2703d9f80ea145298e55df9dac43e035": {
      "model_module": "jupyter-leaflet",
      "model_module_version": "^0.13.2",
      "model_name": "LeafletZoomControlModel",
      "state": {
       "_model_module_version": "^0.13.2",
       "_view_module_version": "^0.13.2",
       "options": [
        "position",
        "zoom_in_text",
        "zoom_in_title",
        "zoom_out_text",
        "zoom_out_title"
       ]
      }
     },
     "27099e9cdf15448aa78450df1e83d694": {
      "model_module": "jupyter-leaflet",
      "model_module_version": "^0.13.2",
      "model_name": "LeafletLayersControlModel",
      "state": {
       "_model_module_version": "^0.13.2",
       "_view_module_version": "^0.13.2",
       "options": [
        "position"
       ],
       "position": "topright"
      }
     },
     "27c8fec87a31477391c9dbf744d977c0": {
      "model_module": "jupyter-leaflet",
      "model_module_version": "^0.13.2",
      "model_name": "LeafletMarkerModel",
      "state": {
       "_model_module_version": "^0.13.2",
       "_view_module_version": "^0.13.2",
       "icon": "IPY_MODEL_48aa036322554b2086e1192fc7abf556",
       "location": [
        48.233889000000005,
        16.373088
       ],
       "options": [
        "alt",
        "draggable",
        "keyboard",
        "rise_offset",
        "rise_on_hover",
        "rotation_angle",
        "rotation_origin",
        "title",
        "z_index_offset"
       ]
      }
     },
     "28135e76ceb1411f8f66af1bc90ba364": {
      "model_module": "jupyter-leaflet",
      "model_module_version": "^0.13.2",
      "model_name": "LeafletWidgetControlModel",
      "state": {
       "_model_module": "jupyter-leaflet",
       "_model_module_version": "^0.13.2",
       "_view_count": null,
       "_view_module": "jupyter-leaflet",
       "_view_module_version": "^0.13.2",
       "options": [
        "position"
       ],
       "position": "topright",
       "widget": "IPY_MODEL_b21ebbefc6b545a2abd3d8194bb314c7"
      }
     },
     "2950a6be745548f784bcd841901fdf71": {
      "model_module": "jupyter-leaflet",
      "model_module_version": "^0.13.2",
      "model_name": "LeafletMapStyleModel",
      "state": {
       "_model_module_version": "^0.13.2"
      }
     },
     "2b6911b84c40489f979fe0dc15d791bc": {
      "model_module": "jupyter-leaflet",
      "model_module_version": "^0.13.2",
      "model_name": "LeafletLayersControlModel",
      "state": {
       "_model_module_version": "^0.13.2",
       "_view_module_version": "^0.13.2",
       "options": [
        "position"
       ],
       "position": "topright"
      }
     },
     "2c6ea0b051514869bc78581ca6db6471": {
      "model_module": "jupyter-leaflet",
      "model_module_version": "^0.13.2",
      "model_name": "LeafletScaleControlModel",
      "state": {
       "_model_module_version": "^0.13.2",
       "_view_module_version": "^0.13.2",
       "imperial": false,
       "max_width": 100,
       "metric": true,
       "options": [
        "imperial",
        "max_width",
        "metric",
        "position",
        "update_when_idle"
       ],
       "position": "bottomleft",
       "update_when_idle": false
      }
     },
     "2ce27834b427408685270e9cfb66971c": {
      "model_module": "jupyter-leaflet",
      "model_module_version": "^0.13.2",
      "model_name": "LeafletMapStyleModel",
      "state": {
       "_model_module_version": "^0.13.2"
      }
     },
     "2e66679176cc47b7ae5b7c3ab5508d18": {
      "model_module": "@jupyter-widgets/controls",
      "model_module_version": "1.5.0",
      "model_name": "IntSliderModel",
      "state": {
       "description": "Zoom level:",
       "layout": "IPY_MODEL_c34c07182f8348839e986749579f3e73",
       "max": 20,
       "min": 10,
       "style": "IPY_MODEL_708019f54fb84df39db7fbc255c4bb5d",
       "value": 18
      }
     },
     "2f0208fc824048b6888606a1d9d40e10": {
      "model_module": "jupyter-leaflet",
      "model_module_version": "^0.13.2",
      "model_name": "LeafletFullScreenControlModel",
      "state": {
       "_model_module_version": "^0.13.2",
       "_view_module_version": "^0.13.2",
       "options": [
        "position"
       ]
      }
     },
     "2f4388cf478e49d1b4b219e573a8f679": {
      "model_module": "jupyter-leaflet",
      "model_module_version": "^0.13.2",
      "model_name": "LeafletWidgetControlModel",
      "state": {
       "_model_module": "jupyter-leaflet",
       "_model_module_version": "^0.13.2",
       "_view_count": null,
       "_view_module": "jupyter-leaflet",
       "_view_module_version": "^0.13.2",
       "options": [
        "position"
       ],
       "position": "topright",
       "widget": "IPY_MODEL_0b782846689d4244aaa2b2ac4f163809"
      }
     },
     "2f918b823e25414f85befc97c2cb8053": {
      "model_module": "jupyter-leaflet",
      "model_module_version": "^0.13.2",
      "model_name": "LeafletZoomControlModel",
      "state": {
       "_model_module_version": "^0.13.2",
       "_view_module_version": "^0.13.2",
       "options": [
        "position",
        "zoom_in_text",
        "zoom_in_title",
        "zoom_out_text",
        "zoom_out_title"
       ]
      }
     },
     "2fbea331cc6f4d35bd2fae2affa19849": {
      "model_module": "jupyter-leaflet",
      "model_module_version": "^0.13.2",
      "model_name": "LeafletMeasureControlModel",
      "state": {
       "_model_module_version": "^0.13.2",
       "_view_module_version": "^0.13.2",
       "active_color": "orange",
       "completed_color": "blue",
       "options": [
        "active_color",
        "capture_z_index",
        "completed_color",
        "popup_options",
        "position",
        "primary_area_unit",
        "primary_length_unit",
        "secondary_area_unit",
        "secondary_length_unit"
       ],
       "position": "bottomleft",
       "primary_area_unit": "sqmeters",
       "primary_length_unit": "meters",
       "secondary_area_unit": null,
       "secondary_length_unit": null
      }
     },
     "34cd251a39bc435ca80cab9d129f0a6b": {
      "model_module": "jupyter-leaflet",
      "model_module_version": "^0.13.2",
      "model_name": "LeafletTileLayerModel",
      "state": {
       "_model_module_version": "^0.13.2",
       "_view_module_version": "^0.13.2",
       "base": true,
       "max_native_zoom": 18,
       "max_zoom": 19,
       "min_native_zoom": 0,
       "min_zoom": 1,
       "options": [
        "attribution",
        "detect_retina",
        "max_native_zoom",
        "max_zoom",
        "min_native_zoom",
        "min_zoom",
        "no_wrap",
        "tile_size",
        "tms"
       ]
      }
     },
     "354474d3363946749c9b1c38b29fe282": {
      "model_module": "jupyter-leaflet",
      "model_module_version": "^0.13.2",
      "model_name": "LeafletMarkerModel",
      "state": {
       "_model_module_version": "^0.13.2",
       "_view_module_version": "^0.13.2",
       "icon": "IPY_MODEL_47139d2718e44c5d96b690875addd5a2",
       "location": [
        48.231184999999996,
        16.372423
       ],
       "options": [
        "alt",
        "draggable",
        "keyboard",
        "rise_offset",
        "rise_on_hover",
        "rotation_angle",
        "rotation_origin",
        "title",
        "z_index_offset"
       ]
      }
     },
     "361e287760674e97908388e8fdcdea87": {
      "model_module": "jupyter-leaflet",
      "model_module_version": "^0.13.2",
      "model_name": "LeafletMarkerModel",
      "state": {
       "_model_module_version": "^0.13.2",
       "_view_module_version": "^0.13.2",
       "icon": "IPY_MODEL_48aa036322554b2086e1192fc7abf556",
       "location": [
        48.233253000000005,
        16.374233
       ],
       "options": [
        "alt",
        "draggable",
        "keyboard",
        "rise_offset",
        "rise_on_hover",
        "rotation_angle",
        "rotation_origin",
        "title",
        "z_index_offset"
       ]
      }
     },
     "36b289fc5d694bb4895030095974173e": {
      "model_module": "jupyter-leaflet",
      "model_module_version": "^0.13.2",
      "model_name": "LeafletMapStyleModel",
      "state": {
       "_model_module_version": "^0.13.2"
      }
     },
     "36fbdb66f2984027856cd3de9be79e27": {
      "model_module": "@jupyter-widgets/controls",
      "model_module_version": "1.5.0",
      "model_name": "IntSliderModel",
      "state": {
       "description": "Zoom level:",
       "layout": "IPY_MODEL_7c1f97b1151749bba232aa9a5dd07014",
       "max": 20,
       "min": 10,
       "style": "IPY_MODEL_8026468f0641494b8aef44b2d885ef57",
       "value": 16
      }
     },
     "37891c932ac0422aaa52d2841d1b9b60": {
      "model_module": "@jupyter-widgets/controls",
      "model_module_version": "1.5.0",
      "model_name": "LinkModel",
      "state": {
       "source": [
        "IPY_MODEL_0b782846689d4244aaa2b2ac4f163809",
        "value"
       ],
       "target": [
        "IPY_MODEL_1c1c2a617e664af2adcf8cb1f889be07",
        "zoom"
       ]
      }
     },
     "3bd4ce5950fb4c37a48187d321630bde": {
      "model_module": "jupyter-leaflet",
      "model_module_version": "^0.13.2",
      "model_name": "LeafletFullScreenControlModel",
      "state": {
       "_model_module_version": "^0.13.2",
       "_view_module_version": "^0.13.2",
       "options": [
        "position"
       ]
      }
     },
     "3fcece2202d14dafa7f7543d18eb9b78": {
      "model_module": "jupyter-leaflet",
      "model_module_version": "^0.13.2",
      "model_name": "LeafletMarkerModel",
      "state": {
       "_model_module_version": "^0.13.2",
       "_view_module_version": "^0.13.2",
       "icon": "IPY_MODEL_47139d2718e44c5d96b690875addd5a2",
       "location": [
        48.231945,
        16.371917
       ],
       "options": [
        "alt",
        "draggable",
        "keyboard",
        "rise_offset",
        "rise_on_hover",
        "rotation_angle",
        "rotation_origin",
        "title",
        "z_index_offset"
       ]
      }
     },
     "3fd4b0ae8aef4d8298d7f1a20194a797": {
      "model_module": "@jupyter-widgets/controls",
      "model_module_version": "1.5.0",
      "model_name": "LinkModel",
      "state": {
       "source": [
        "IPY_MODEL_2e66679176cc47b7ae5b7c3ab5508d18",
        "value"
       ],
       "target": [
        "IPY_MODEL_f5cca37fa4704459994a9c616b11add8",
        "zoom"
       ]
      }
     },
     "403e4606ba1e43749263a92a07ebca0e": {
      "model_module": "jupyter-leaflet",
      "model_module_version": "^0.13.2",
      "model_name": "LeafletFullScreenControlModel",
      "state": {
       "_model_module_version": "^0.13.2",
       "_view_module_version": "^0.13.2",
       "options": [
        "position"
       ]
      }
     },
     "42e5a538f2cd4474a58ff0fc86096e48": {
      "model_module": "jupyter-leaflet",
      "model_module_version": "^0.13.2",
      "model_name": "LeafletTileLayerModel",
      "state": {
       "_model_module_version": "^0.13.2",
       "_view_module_version": "^0.13.2",
       "attribution": "Map tiles by <a href=\"http://stamen.com/\">Stamen Design</a>, under <a href=\"http://creativecommons.org/licenses/by/3.0\">CC BY 3.0</a>. Data by <a href=\"http://openstreetmap.org/\">OpenStreetMap</a>, under <a href=\"http://creativecommons.org/licenses/by-sa/3.0\">CC BY SA</a>.",
       "max_native_zoom": 18,
       "max_zoom": 20,
       "min_native_zoom": 0,
       "name": "Stamen.Toner",
       "options": [
        "attribution",
        "detect_retina",
        "max_native_zoom",
        "max_zoom",
        "min_native_zoom",
        "min_zoom",
        "no_wrap",
        "tile_size",
        "tms"
       ],
       "url": "https://stamen-tiles-a.a.ssl.fastly.net/toner/{z}/{x}/{y}.png"
      }
     },
     "44aa3c9f5da7429a99b9f192c29d9ba6": {
      "model_module": "jupyter-leaflet",
      "model_module_version": "^0.13.2",
      "model_name": "LeafletMarkerModel",
      "state": {
       "_model_module_version": "^0.13.2",
       "_view_module_version": "^0.13.2",
       "icon": "IPY_MODEL_a9714de54ea0436fb1b406c843cb2db1",
       "location": [
        48.235440999999994,
        16.371724
       ],
       "options": [
        "alt",
        "draggable",
        "keyboard",
        "rise_offset",
        "rise_on_hover",
        "rotation_angle",
        "rotation_origin",
        "title",
        "z_index_offset"
       ]
      }
     },
     "47139d2718e44c5d96b690875addd5a2": {
      "model_module": "jupyter-leaflet",
      "model_module_version": "^0.13.2",
      "model_name": "LeafletIconModel",
      "state": {
       "_model_module_version": "^0.13.2",
       "_view_module_version": "^0.13.2",
       "icon_size": [
        30,
        40
       ],
       "icon_url": "icons/trashbin.png",
       "options": [
        "icon_anchor",
        "icon_size",
        "icon_url",
        "popup_anchor",
        "shadow_anchor",
        "shadow_size",
        "shadow_url"
       ],
       "shadow_url": null
      }
     },
     "484d1a99f8f74b37b6cf21c7b416b58a": {
      "model_module": "jupyter-leaflet",
      "model_module_version": "^0.13.2",
      "model_name": "LeafletFullScreenControlModel",
      "state": {
       "_model_module_version": "^0.13.2",
       "_view_module_version": "^0.13.2",
       "options": [
        "position"
       ]
      }
     },
     "48aa036322554b2086e1192fc7abf556": {
      "model_module": "jupyter-leaflet",
      "model_module_version": "^0.13.2",
      "model_name": "LeafletIconModel",
      "state": {
       "_model_module_version": "^0.13.2",
       "_view_module_version": "^0.13.2",
       "icon_size": [
        30,
        40
       ],
       "icon_url": "icons/tree.png",
       "options": [
        "icon_anchor",
        "icon_size",
        "icon_url",
        "popup_anchor",
        "shadow_anchor",
        "shadow_size",
        "shadow_url"
       ],
       "shadow_url": null
      }
     },
     "48c6a42907b446d889add45481b3ddf1": {
      "model_module": "jupyter-leaflet",
      "model_module_version": "^0.13.2",
      "model_name": "LeafletAttributionControlModel",
      "state": {
       "_model_module_version": "^0.13.2",
       "_view_module_version": "^0.13.2",
       "options": [
        "position",
        "prefix"
       ],
       "position": "bottomright",
       "prefix": "ipyleaflet"
      }
     },
     "49245f9ade7a41a7b6d5e0c8dccf9967": {
      "model_module": "@jupyter-widgets/controls",
      "model_module_version": "1.5.0",
      "model_name": "LinkModel",
      "state": {
       "source": [
        "IPY_MODEL_8064e1b48de84981904367ab550866a1",
        "value"
       ],
       "target": [
        "IPY_MODEL_7ca8569ff5864ddbbd85025aa8f7d8f2",
        "zoom"
       ]
      }
     },
     "49b543c31e1b4271989ef09529a3a63b": {
      "model_module": "jupyter-leaflet",
      "model_module_version": "^0.13.2",
      "model_name": "LeafletMapStyleModel",
      "state": {
       "_model_module_version": "^0.13.2"
      }
     },
     "4aac481e9bc4474ea9c1045c599c03eb": {
      "model_module": "@jupyter-widgets/base",
      "model_module_version": "1.2.0",
      "model_name": "LayoutModel",
      "state": {
       "height": "600px",
       "width": "100%"
      }
     },
     "4ca031d70e8d4e638d7d9b6d94d3adeb": {
      "model_module": "@jupyter-widgets/controls",
      "model_module_version": "1.5.0",
      "model_name": "LinkModel",
      "state": {
       "source": [
        "IPY_MODEL_fb7cefae41004ded94192f2a5f2266bf",
        "value"
       ],
       "target": [
        "IPY_MODEL_087653ee04894d4f8cff0b83cbbe4f24",
        "zoom"
       ]
      }
     },
     "4cb3c71fcb2644e4bbb717fa63138d9a": {
      "model_module": "jupyter-leaflet",
      "model_module_version": "^0.13.2",
      "model_name": "LeafletZoomControlModel",
      "state": {
       "_model_module_version": "^0.13.2",
       "_view_module_version": "^0.13.2",
       "options": [
        "position",
        "zoom_in_text",
        "zoom_in_title",
        "zoom_out_text",
        "zoom_out_title"
       ]
      }
     },
     "4dd8177dce8546e496b9c55b9feb0d85": {
      "model_module": "jupyter-leaflet",
      "model_module_version": "^0.13.2",
      "model_name": "LeafletAttributionControlModel",
      "state": {
       "_model_module_version": "^0.13.2",
       "_view_module_version": "^0.13.2",
       "options": [
        "position",
        "prefix"
       ],
       "position": "bottomright",
       "prefix": "ipyleaflet"
      }
     },
     "4e02d7a74241402da87f669e7919a3e2": {
      "model_module": "jupyter-leaflet",
      "model_module_version": "^0.13.2",
      "model_name": "LeafletMarkerModel",
      "state": {
       "_model_module_version": "^0.13.2",
       "_view_module_version": "^0.13.2",
       "icon": "IPY_MODEL_a9714de54ea0436fb1b406c843cb2db1",
       "location": [
        48.231136,
        16.374966
       ],
       "options": [
        "alt",
        "draggable",
        "keyboard",
        "rise_offset",
        "rise_on_hover",
        "rotation_angle",
        "rotation_origin",
        "title",
        "z_index_offset"
       ]
      }
     },
     "4e7a6b25b01641d08649c1b52e7a15da": {
      "model_module": "jupyter-leaflet",
      "model_module_version": "^0.13.2",
      "model_name": "LeafletMapStyleModel",
      "state": {
       "_model_module_version": "^0.13.2"
      }
     },
     "4ea0a77ff6ae405db2a9995a56df98f0": {
      "model_module": "jupyter-leaflet",
      "model_module_version": "^0.13.2",
      "model_name": "LeafletLayersControlModel",
      "state": {
       "_model_module_version": "^0.13.2",
       "_view_module_version": "^0.13.2",
       "options": [
        "position"
       ],
       "position": "topright"
      }
     },
     "4eb9a064f7984b92a50103259150bb5d": {
      "model_module": "jupyter-leaflet",
      "model_module_version": "^0.13.2",
      "model_name": "LeafletMapStyleModel",
      "state": {
       "_model_module_version": "^0.13.2"
      }
     },
     "4ed088e6957540c1846c23f2e83abda1": {
      "model_module": "jupyter-leaflet",
      "model_module_version": "^0.13.2",
      "model_name": "LeafletMapStyleModel",
      "state": {
       "_model_module_version": "^0.13.2",
       "cursor": "move"
      }
     },
     "4f96bacae17b4867bf092443c600d541": {
      "model_module": "jupyter-leaflet",
      "model_module_version": "^0.13.2",
      "model_name": "LeafletTileLayerModel",
      "state": {
       "_model_module_version": "^0.13.2",
       "_view_module_version": "^0.13.2",
       "attribution": "Tiles &copy; Esri &mdash; Source: Esri, DeLorme, NAVTEQ, USGS, Intermap, iPC, NRCAN, Esri Japan, METI, Esri China (Hong Kong), Esri (Thailand), TomTom, 2012",
       "base": true,
       "max_native_zoom": 18,
       "max_zoom": 20,
       "min_native_zoom": 0,
       "min_zoom": 1,
       "name": "Esri.WorldStreetMap",
       "options": [
        "attribution",
        "detect_retina",
        "max_native_zoom",
        "max_zoom",
        "min_native_zoom",
        "min_zoom",
        "no_wrap",
        "tile_size",
        "tms"
       ],
       "url": "http://server.arcgisonline.com/ArcGIS/rest/services/World_Street_Map/MapServer/tile/{z}/{y}/{x}"
      }
     },
     "4fc7c3addbe84c33b0ae603dbd33edf9": {
      "model_module": "jupyter-leaflet",
      "model_module_version": "^0.13.2",
      "model_name": "LeafletAntPathModel",
      "state": {
       "_model_module_version": "^0.13.2",
       "_view_module_version": "^0.13.2",
       "color": "#7590ba",
       "dash_array": [
        1,
        10
       ],
       "delay": 2000,
       "locations": [
        [
         48.2311,
         16.375006
        ],
        [
         48.2311,
         16.375006
        ],
        [
         48.2311,
         16.375006
        ],
        [
         48.2311,
         16.375006
        ],
        [
         48.2311,
         16.375006
        ],
        [
         48.2311,
         16.375006
        ],
        [
         48.2311,
         16.375006
        ],
        [
         48.2311,
         16.375006
        ],
        [
         48.2311,
         16.375006
        ],
        [
         48.2311,
         16.375006
        ],
        [
         48.2311,
         16.375006
        ],
        [
         48.2311,
         16.375006
        ],
        [
         48.231136,
         16.374966
        ],
        [
         48.231136,
         16.374966
        ],
        [
         48.231136,
         16.374966
        ],
        [
         48.231139,
         16.374955
        ],
        [
         48.231139,
         16.374955
        ],
        [
         48.231139,
         16.374955
        ],
        [
         48.231139,
         16.374955
        ],
        [
         48.231139,
         16.374955
        ],
        [
         48.231139,
         16.374955
        ],
        [
         48.231139,
         16.374955
        ],
        [
         48.231139,
         16.374955
        ],
        [
         48.231139,
         16.374955
        ],
        [
         48.231139,
         16.374955
        ],
        [
         48.231139,
         16.374955
        ],
        [
         48.231139,
         16.374955
        ],
        [
         48.231139,
         16.374955
        ],
        [
         48.231139,
         16.374955
        ],
        [
         48.231139,
         16.374955
        ],
        [
         48.231139,
         16.374955
        ],
        [
         48.231139,
         16.374955
        ],
        [
         48.231139,
         16.374955
        ],
        [
         48.231619,
         16.374845
        ],
        [
         48.231619,
         16.374845
        ],
        [
         48.231619,
         16.374845
        ],
        [
         48.231619,
         16.374845
        ],
        [
         48.231619,
         16.374845
        ],
        [
         48.231619,
         16.374845
        ],
        [
         48.231619,
         16.374845
        ],
        [
         48.231619,
         16.374845
        ],
        [
         48.231619,
         16.374845
        ],
        [
         48.231835,
         16.374748
        ],
        [
         48.231854,
         16.374751
        ],
        [
         48.231878,
         16.374744
        ],
        [
         48.2319,
         16.374732
        ],
        [
         48.23193,
         16.374722
        ],
        [
         48.231968,
         16.374724
        ],
        [
         48.231994,
         16.374727
        ],
        [
         48.232023999999996,
         16.374717
        ],
        [
         48.232075,
         16.374732
        ],
        [
         48.23212,
         16.37474
        ],
        [
         48.232163,
         16.374747
        ],
        [
         48.2322,
         16.374753
        ],
        [
         48.232238,
         16.374759
        ],
        [
         48.232248,
         16.374748999999998
        ],
        [
         48.232281,
         16.374744
        ],
        [
         48.23232,
         16.374758
        ],
        [
         48.232355,
         16.374763
        ],
        [
         48.232374,
         16.374735
        ],
        [
         48.232385,
         16.374694
        ],
        [
         48.232405,
         16.374673
        ],
        [
         48.232442,
         16.374664000000003
        ],
        [
         48.232442999999996,
         16.374668
        ],
        [
         48.232446,
         16.374667000000002
        ],
        [
         48.232479999999995,
         16.374675
        ],
        [
         48.232496000000005,
         16.374685999999997
        ],
        [
         48.232504999999996,
         16.374693
        ],
        [
         48.232531,
         16.374693
        ],
        [
         48.23256,
         16.374701
        ],
        [
         48.232571,
         16.374706
        ],
        [
         48.232569,
         16.37471
        ],
        [
         48.232589000000004,
         16.374716
        ],
        [
         48.232608,
         16.374751999999997
        ],
        [
         48.232628000000005,
         16.374767000000002
        ],
        [
         48.232618,
         16.374781
        ],
        [
         48.232616,
         16.374812
        ],
        [
         48.232616,
         16.374856
        ],
        [
         48.232642,
         16.374888000000002
        ],
        [
         48.232642,
         16.374888000000002
        ],
        [
         48.232615,
         16.374924
        ],
        [
         48.232615,
         16.374924
        ],
        [
         48.232615,
         16.374924
        ],
        [
         48.232615,
         16.374924
        ],
        [
         48.232615,
         16.374924
        ],
        [
         48.232615,
         16.374924
        ],
        [
         48.232818,
         16.374986
        ],
        [
         48.232818,
         16.374986
        ],
        [
         48.232818,
         16.374986
        ],
        [
         48.232818,
         16.374986
        ],
        [
         48.232818,
         16.374986
        ],
        [
         48.232818,
         16.374986
        ],
        [
         48.232818,
         16.374986
        ],
        [
         48.232818,
         16.374986
        ],
        [
         48.232818,
         16.374986
        ],
        [
         48.232818,
         16.374986
        ],
        [
         48.232818,
         16.374986
        ],
        [
         48.232818,
         16.374986
        ],
        [
         48.232818,
         16.374986
        ],
        [
         48.232818,
         16.374986
        ],
        [
         48.233447,
         16.374697
        ],
        [
         48.233447,
         16.374697
        ],
        [
         48.233447,
         16.374697
        ],
        [
         48.233447,
         16.374697
        ],
        [
         48.233447,
         16.374697
        ],
        [
         48.233447,
         16.374697
        ],
        [
         48.233447,
         16.374697
        ],
        [
         48.233447,
         16.374697
        ],
        [
         48.233447,
         16.374697
        ],
        [
         48.233447,
         16.374697
        ],
        [
         48.233447,
         16.374697
        ],
        [
         48.233447,
         16.374697
        ],
        [
         48.233447,
         16.374697
        ],
        [
         48.233518,
         16.374664000000003
        ],
        [
         48.233518,
         16.374664000000003
        ],
        [
         48.233518,
         16.374664000000003
        ],
        [
         48.233518,
         16.374664000000003
        ],
        [
         48.233518,
         16.374664000000003
        ],
        [
         48.233518,
         16.374664000000003
        ],
        [
         48.233518,
         16.374664000000003
        ],
        [
         48.233518,
         16.374664000000003
        ],
        [
         48.233518,
         16.374664000000003
        ],
        [
         48.233518,
         16.374664000000003
        ],
        [
         48.233518,
         16.374664000000003
        ],
        [
         48.233518,
         16.374664000000003
        ],
        [
         48.233518,
         16.374664000000003
        ],
        [
         48.233519,
         16.374678
        ],
        [
         48.233513,
         16.374674
        ],
        [
         48.233515999999995,
         16.374669
        ],
        [
         48.233515999999995,
         16.374667000000002
        ],
        [
         48.233525,
         16.374665
        ],
        [
         48.233523999999996,
         16.374667000000002
        ],
        [
         48.233531,
         16.374668
        ],
        [
         48.233531,
         16.374667000000002
        ],
        [
         48.233536,
         16.374654
        ],
        [
         48.233534000000006,
         16.374653
        ],
        [
         48.233525,
         16.374653
        ],
        [
         48.233507,
         16.374648
        ],
        [
         48.233506,
         16.374653
        ],
        [
         48.233503999999996,
         16.374663
        ],
        [
         48.233499,
         16.374665
        ],
        [
         48.233495,
         16.374674
        ],
        [
         48.233509999999995,
         16.374657
        ],
        [
         48.23348,
         16.374661
        ],
        [
         48.233455,
         16.374669
        ],
        [
         48.233434,
         16.374659
        ],
        [
         48.233427,
         16.374613
        ],
        [
         48.233429,
         16.374563000000002
        ],
        [
         48.233436,
         16.374509
        ],
        [
         48.233449,
         16.37446
        ],
        [
         48.233465,
         16.374415
        ],
        [
         48.233486,
         16.374365
        ],
        [
         48.23349,
         16.37432
        ],
        [
         48.233487,
         16.374267
        ],
        [
         48.233476,
         16.374228
        ],
        [
         48.233458,
         16.374214000000002
        ],
        [
         48.233441,
         16.374219
        ],
        [
         48.233415,
         16.374242000000002
        ],
        [
         48.233401,
         16.374246
        ],
        [
         48.233378,
         16.374273000000002
        ],
        [
         48.233366,
         16.374287
        ],
        [
         48.233364,
         16.374288
        ],
        [
         48.233342,
         16.374302
        ],
        [
         48.233337,
         16.374303
        ],
        [
         48.233329,
         16.374318
        ],
        [
         48.233301000000004,
         16.374323
        ],
        [
         48.233287,
         16.374271
        ],
        [
         48.233268,
         16.374236
        ],
        [
         48.233253000000005,
         16.374233
        ],
        [
         48.233243,
         16.374223
        ],
        [
         48.233249,
         16.374216
        ],
        [
         48.233249,
         16.374216
        ],
        [
         48.233249,
         16.374216
        ],
        [
         48.233249,
         16.374216
        ],
        [
         48.233249,
         16.374216
        ],
        [
         48.233249,
         16.374216
        ],
        [
         48.23324,
         16.374012
        ],
        [
         48.23324,
         16.374012
        ],
        [
         48.23324,
         16.374012
        ],
        [
         48.23324,
         16.374012
        ],
        [
         48.23324,
         16.374012
        ],
        [
         48.23324,
         16.374012
        ],
        [
         48.233115999999995,
         16.373853
        ],
        [
         48.233121999999995,
         16.373819
        ],
        [
         48.233112,
         16.373767
        ],
        [
         48.233102,
         16.373713000000002
        ],
        [
         48.233093,
         16.37365
        ],
        [
         48.233090000000004,
         16.373587
        ],
        [
         48.233074,
         16.37353
        ],
        [
         48.233149,
         16.373388000000002
        ],
        [
         48.23317,
         16.373345
        ],
        [
         48.233199,
         16.373309
        ],
        [
         48.233230999999996,
         16.373279
        ],
        [
         48.233269,
         16.373273
        ],
        [
         48.233306,
         16.373251999999997
        ],
        [
         48.233340000000005,
         16.37323
        ],
        [
         48.233378,
         16.373209
        ],
        [
         48.233415,
         16.373186999999998
        ],
        [
         48.233449,
         16.373171
        ],
        [
         48.23348,
         16.373157
        ],
        [
         48.233512,
         16.373143
        ],
        [
         48.23355,
         16.37313
        ],
        [
         48.233585999999995,
         16.373123
        ],
        [
         48.233615,
         16.37311
        ],
        [
         48.233649,
         16.373085999999997
        ],
        [
         48.233693,
         16.373062
        ],
        [
         48.233711,
         16.373057
        ],
        [
         48.233724,
         16.373077
        ],
        [
         48.233737,
         16.373089999999998
        ],
        [
         48.233737,
         16.373089999999998
        ],
        [
         48.233737,
         16.373089999999998
        ],
        [
         48.233737,
         16.373089999999998
        ],
        [
         48.233737,
         16.373089999999998
        ],
        [
         48.233894,
         16.373085
        ],
        [
         48.233889000000005,
         16.373088
        ],
        [
         48.233889000000005,
         16.373088
        ],
        [
         48.233889000000005,
         16.373088
        ],
        [
         48.233889000000005,
         16.373088
        ],
        [
         48.233889000000005,
         16.373088
        ],
        [
         48.233889000000005,
         16.373088
        ],
        [
         48.233889000000005,
         16.373088
        ],
        [
         48.233889000000005,
         16.373088
        ],
        [
         48.233889000000005,
         16.373088
        ],
        [
         48.233889000000005,
         16.373088
        ],
        [
         48.233889000000005,
         16.373088
        ],
        [
         48.233889000000005,
         16.373088
        ],
        [
         48.233889000000005,
         16.373088
        ],
        [
         48.233889000000005,
         16.373088
        ],
        [
         48.233889000000005,
         16.373088
        ],
        [
         48.233889000000005,
         16.373088
        ],
        [
         48.233889000000005,
         16.373088
        ],
        [
         48.233889000000005,
         16.373088
        ],
        [
         48.233889000000005,
         16.373088
        ],
        [
         48.233889000000005,
         16.373088
        ],
        [
         48.233889000000005,
         16.373088
        ],
        [
         48.234426,
         16.372957999999997
        ],
        [
         48.234423,
         16.372961
        ],
        [
         48.234431,
         16.372945
        ],
        [
         48.234464,
         16.372932000000002
        ],
        [
         48.234505,
         16.372923999999998
        ],
        [
         48.234524,
         16.372914
        ],
        [
         48.234569,
         16.372888
        ],
        [
         48.234586,
         16.372865
        ],
        [
         48.234595,
         16.372864
        ],
        [
         48.234621999999995,
         16.372866000000002
        ],
        [
         48.234652000000004,
         16.372866000000002
        ],
        [
         48.234727,
         16.372867000000003
        ],
        [
         48.234771,
         16.372869
        ],
        [
         48.234802,
         16.372869
        ],
        [
         48.234840000000005,
         16.37286
        ],
        [
         48.23488,
         16.37284
        ],
        [
         48.23493,
         16.37284
        ],
        [
         48.234981,
         16.372825
        ],
        [
         48.235029,
         16.372821
        ],
        [
         48.235093,
         16.372770000000003
        ],
        [
         48.235178000000005,
         16.372694
        ],
        [
         48.235233,
         16.372668
        ],
        [
         48.235269,
         16.372643
        ],
        [
         48.235299,
         16.372607000000002
        ],
        [
         48.235285,
         16.372603
        ],
        [
         48.235284,
         16.372603
        ],
        [
         48.235301,
         16.372575
        ],
        [
         48.235305,
         16.372526999999998
        ],
        [
         48.235309,
         16.372479000000002
        ],
        [
         48.235321,
         16.372425
        ],
        [
         48.235336,
         16.372374
        ],
        [
         48.235333000000004,
         16.372335999999997
        ],
        [
         48.235335,
         16.372291
        ],
        [
         48.235347999999995,
         16.372241
        ],
        [
         48.235354,
         16.372188
        ],
        [
         48.235358000000005,
         16.372142999999998
        ],
        [
         48.235363,
         16.372097
        ],
        [
         48.23537,
         16.372054000000002
        ],
        [
         48.235382,
         16.372004999999998
        ],
        [
         48.235378999999995,
         16.371951
        ],
        [
         48.235381,
         16.371894
        ],
        [
         48.235397,
         16.371838
        ],
        [
         48.235415,
         16.371783999999998
        ],
        [
         48.235442,
         16.371745999999998
        ],
        [
         48.235439,
         16.371726000000002
        ],
        [
         48.235440000000004,
         16.371716
        ],
        [
         48.235465000000005,
         16.371675
        ],
        [
         48.235473,
         16.371616
        ],
        [
         48.235479,
         16.371567000000002
        ],
        [
         48.235481,
         16.37153
        ],
        [
         48.235463,
         16.371472
        ],
        [
         48.235403999999996,
         16.37141
        ],
        [
         48.235362,
         16.37135
        ],
        [
         48.235319,
         16.371278
        ],
        [
         48.235304,
         16.371235000000002
        ],
        [
         48.235303,
         16.371197
        ],
        [
         48.235306,
         16.371183
        ],
        [
         48.235315,
         16.371182
        ],
        [
         48.235327000000005,
         16.371177
        ],
        [
         48.235329,
         16.371167
        ],
        [
         48.235307,
         16.371143
        ],
        [
         48.235302000000004,
         16.371126
        ],
        [
         48.235307,
         16.371086
        ],
        [
         48.235289,
         16.371029999999998
        ],
        [
         48.235275,
         16.370986
        ],
        [
         48.235244,
         16.370934
        ],
        [
         48.235242,
         16.370882
        ],
        [
         48.235239,
         16.370816
        ],
        [
         48.235234000000005,
         16.370754
        ],
        [
         48.235221,
         16.370685
        ],
        [
         48.235211,
         16.370619
        ],
        [
         48.235201,
         16.370558
        ],
        [
         48.235170000000004,
         16.370499
        ],
        [
         48.235168,
         16.370464000000002
        ],
        [
         48.235147,
         16.370407999999998
        ],
        [
         48.235109,
         16.370382
        ],
        [
         48.235076,
         16.370382
        ],
        [
         48.235068,
         16.370369
        ],
        [
         48.235098,
         16.370345999999998
        ],
        [
         48.235106,
         16.370305
        ],
        [
         48.235108000000004,
         16.370297
        ],
        [
         48.23511,
         16.37029
        ],
        [
         48.235134,
         16.370244
        ],
        [
         48.23515,
         16.370182999999997
        ],
        [
         48.235137,
         16.37013
        ],
        [
         48.235106,
         16.37011
        ],
        [
         48.235094000000004,
         16.370101000000002
        ],
        [
         48.235091,
         16.370089
        ],
        [
         48.235085999999995,
         16.370078
        ],
        [
         48.235087,
         16.370093
        ],
        [
         48.235084,
         16.370098000000002
        ],
        [
         48.235084,
         16.370098000000002
        ],
        [
         48.235084,
         16.370098000000002
        ],
        [
         48.235084,
         16.370098000000002
        ],
        [
         48.235084,
         16.370098000000002
        ],
        [
         48.235084,
         16.370098000000002
        ],
        [
         48.235084,
         16.370098000000002
        ],
        [
         48.235084,
         16.370098000000002
        ],
        [
         48.235084,
         16.370098000000002
        ],
        [
         48.235084,
         16.370098000000002
        ],
        [
         48.235084,
         16.370098000000002
        ],
        [
         48.235084,
         16.370098000000002
        ],
        [
         48.235084,
         16.370098000000002
        ],
        [
         48.234423,
         16.370252999999998
        ],
        [
         48.23438,
         16.370264000000002
        ],
        [
         48.234333,
         16.370272
        ],
        [
         48.234286,
         16.370271
        ],
        [
         48.234245,
         16.370252999999998
        ],
        [
         48.234206,
         16.370257000000002
        ],
        [
         48.234173,
         16.370252
        ],
        [
         48.234147,
         16.370256
        ],
        [
         48.234124,
         16.370254
        ],
        [
         48.234092,
         16.370260000000002
        ],
        [
         48.234052,
         16.370267000000002
        ],
        [
         48.234016,
         16.370281
        ],
        [
         48.233978,
         16.370287
        ],
        [
         48.233958,
         16.370279
        ],
        [
         48.233964,
         16.370242
        ],
        [
         48.233952,
         16.370245
        ],
        [
         48.233959000000006,
         16.370239
        ],
        [
         48.233965999999995,
         16.370236
        ],
        [
         48.233975,
         16.370231
        ],
        [
         48.233985,
         16.370216
        ],
        [
         48.233982,
         16.370202
        ],
        [
         48.23395,
         16.370194
        ],
        [
         48.233922,
         16.370184
        ],
        [
         48.233896,
         16.37017
        ],
        [
         48.233876,
         16.370154
        ],
        [
         48.233832,
         16.370151999999997
        ],
        [
         48.233785,
         16.370141
        ],
        [
         48.233740000000004,
         16.370127
        ],
        [
         48.233689,
         16.37013
        ],
        [
         48.23364,
         16.370133
        ],
        [
         48.233593,
         16.37014
        ],
        [
         48.233544,
         16.370148
        ],
        [
         48.233509999999995,
         16.370155
        ],
        [
         48.233473,
         16.370163
        ],
        [
         48.233438,
         16.370160000000002
        ],
        [
         48.233401,
         16.370167000000002
        ],
        [
         48.233359,
         16.370173
        ],
        [
         48.233314,
         16.370162
        ],
        [
         48.233274,
         16.370157
        ],
        [
         48.233246,
         16.370119
        ],
        [
         48.233230999999996,
         16.370054999999997
        ],
        [
         48.233224,
         16.369999
        ],
        [
         48.233222999999995,
         16.369927
        ],
        [
         48.233218,
         16.369868
        ],
        [
         48.233208000000005,
         16.369811
        ],
        [
         48.233227,
         16.369754999999998
        ],
        [
         48.233251,
         16.36972
        ],
        [
         48.233224,
         16.369685
        ],
        [
         48.233219,
         16.369604000000002
        ],
        [
         48.23322,
         16.369532
        ],
        [
         48.23324,
         16.369462
        ],
        [
         48.233319,
         16.369396
        ],
        [
         48.233332,
         16.369321
        ],
        [
         48.233313,
         16.369253
        ],
        [
         48.233292999999996,
         16.369175
        ],
        [
         48.233233,
         16.369113
        ],
        [
         48.233193,
         16.369064
        ],
        [
         48.233176,
         16.369013
        ],
        [
         48.233096999999994,
         16.368982
        ],
        [
         48.233044,
         16.368983
        ],
        [
         48.232994,
         16.369022
        ],
        [
         48.232946000000005,
         16.369019
        ],
        [
         48.232884999999996,
         16.369003
        ],
        [
         48.232856,
         16.369024
        ],
        [
         48.232805,
         16.369006
        ],
        [
         48.232764,
         16.368999
        ],
        [
         48.232732,
         16.369004999999998
        ],
        [
         48.232685,
         16.369013
        ],
        [
         48.232651000000004,
         16.369026
        ],
        [
         48.23264,
         16.369051000000002
        ],
        [
         48.232634000000004,
         16.369086
        ],
        [
         48.232627,
         16.36915
        ],
        [
         48.232628000000005,
         16.369191
        ],
        [
         48.232625,
         16.369195
        ],
        [
         48.232625,
         16.369204
        ],
        [
         48.23264,
         16.369257
        ],
        [
         48.232662,
         16.369314000000003
        ],
        [
         48.23268,
         16.369367
        ],
        [
         48.232704,
         16.369426
        ],
        [
         48.232706,
         16.369478
        ],
        [
         48.232725,
         16.369531
        ],
        [
         48.232748,
         16.369587
        ],
        [
         48.232773,
         16.369644
        ],
        [
         48.232774,
         16.369704000000002
        ],
        [
         48.2328,
         16.369768
        ],
        [
         48.232817,
         16.369835000000002
        ],
        [
         48.232842,
         16.369905
        ],
        [
         48.232856,
         16.369975
        ],
        [
         48.232856,
         16.370046
        ],
        [
         48.232853999999996,
         16.370113
        ],
        [
         48.232846,
         16.370174
        ],
        [
         48.232858,
         16.370241
        ],
        [
         48.232865000000004,
         16.370305
        ],
        [
         48.232859999999995,
         16.370361
        ],
        [
         48.232827,
         16.370393
        ],
        [
         48.2328,
         16.370426000000002
        ],
        [
         48.232764,
         16.370445
        ],
        [
         48.232732,
         16.370471
        ],
        [
         48.232698,
         16.370463
        ],
        [
         48.232698,
         16.370469
        ],
        [
         48.23271,
         16.370521
        ],
        [
         48.232702,
         16.370579
        ],
        [
         48.232703,
         16.370626
        ],
        [
         48.232706,
         16.37066
        ],
        [
         48.232707,
         16.370670999999998
        ],
        [
         48.232695,
         16.370717000000003
        ],
        [
         48.232669,
         16.370788
        ],
        [
         48.232663,
         16.370832999999998
        ],
        [
         48.232653000000006,
         16.370892
        ],
        [
         48.232641,
         16.370973
        ],
        [
         48.232628000000005,
         16.37104
        ],
        [
         48.23261,
         16.371118
        ],
        [
         48.232605,
         16.371187
        ],
        [
         48.23259,
         16.371259
        ],
        [
         48.23256,
         16.371316
        ],
        [
         48.232535999999996,
         16.371361
        ],
        [
         48.232504,
         16.371382999999998
        ],
        [
         48.232479999999995,
         16.37138
        ],
        [
         48.232476,
         16.371363
        ],
        [
         48.232446,
         16.371385999999998
        ],
        [
         48.232392,
         16.371451
        ],
        [
         48.232338,
         16.371499
        ],
        [
         48.232314,
         16.37153
        ],
        [
         48.232293,
         16.371610999999998
        ],
        [
         48.232285,
         16.371682
        ],
        [
         48.232274,
         16.371737
        ],
        [
         48.232271999999995,
         16.371793
        ],
        [
         48.232279999999996,
         16.371839
        ],
        [
         48.232261,
         16.371861
        ],
        [
         48.232238,
         16.371873
        ],
        [
         48.232196,
         16.371896
        ],
        [
         48.232141,
         16.371889000000003
        ],
        [
         48.232096999999996,
         16.371891
        ],
        [
         48.232054999999995,
         16.371895000000002
        ],
        [
         48.23202,
         16.371904999999998
        ],
        [
         48.231981,
         16.371910999999997
        ],
        [
         48.231958,
         16.371917
        ],
        [
         48.231947999999996,
         16.371916
        ],
        [
         48.231945,
         16.371917
        ],
        [
         48.231945,
         16.371917
        ],
        [
         48.231945,
         16.371917
        ],
        [
         48.231945,
         16.371917
        ],
        [
         48.231945,
         16.371917
        ],
        [
         48.231945,
         16.371917
        ],
        [
         48.231945,
         16.371917
        ],
        [
         48.231945,
         16.371917
        ],
        [
         48.231945,
         16.371917
        ],
        [
         48.231945,
         16.371917
        ],
        [
         48.231945,
         16.371917
        ],
        [
         48.231945,
         16.371917
        ],
        [
         48.231945,
         16.371917
        ],
        [
         48.231945,
         16.371917
        ],
        [
         48.231945,
         16.371917
        ],
        [
         48.231945,
         16.371917
        ],
        [
         48.231945,
         16.371917
        ],
        [
         48.231945,
         16.371917
        ],
        [
         48.231945,
         16.371917
        ],
        [
         48.231945,
         16.371917
        ],
        [
         48.231945,
         16.371917
        ],
        [
         48.231945,
         16.371917
        ],
        [
         48.231945,
         16.371917
        ],
        [
         48.231945,
         16.371917
        ]
       ],
       "name": "Trail",
       "options": [
        "color",
        "dash_array",
        "delay",
        "hardware_accelerated",
        "paused",
        "pulse_color",
        "radius",
        "reverse",
        "use",
        "weight"
       ],
       "pulse_color": "#3f6fba"
      }
     },
     "5072d821002f46a8bb576175337cb6d7": {
      "model_module": "jupyter-leaflet",
      "model_module_version": "^0.13.2",
      "model_name": "LeafletTileLayerModel",
      "state": {
       "_model_module_version": "^0.13.2",
       "_view_module_version": "^0.13.2",
       "attribution": "Tiles &copy; Esri &mdash; Source: Esri, DeLorme, NAVTEQ, USGS, Intermap, iPC, NRCAN, Esri Japan, METI, Esri China (Hong Kong), Esri (Thailand), TomTom, 2012",
       "max_native_zoom": 18,
       "max_zoom": 20,
       "min_native_zoom": 0,
       "min_zoom": 1,
       "name": "Esri.WorldStreetMap",
       "options": [
        "attribution",
        "detect_retina",
        "max_native_zoom",
        "max_zoom",
        "min_native_zoom",
        "min_zoom",
        "no_wrap",
        "tile_size",
        "tms"
       ],
       "url": "http://server.arcgisonline.com/ArcGIS/rest/services/World_Street_Map/MapServer/tile/{z}/{y}/{x}"
      }
     },
     "512176f347de44d4bf9a28a4562cf1c2": {
      "model_module": "jupyter-leaflet",
      "model_module_version": "^0.13.2",
      "model_name": "LeafletWidgetControlModel",
      "state": {
       "_model_module": "jupyter-leaflet",
       "_model_module_version": "^0.13.2",
       "_view_count": null,
       "_view_module": "jupyter-leaflet",
       "_view_module_version": "^0.13.2",
       "options": [
        "position"
       ],
       "position": "topright",
       "widget": "IPY_MODEL_2e66679176cc47b7ae5b7c3ab5508d18"
      }
     },
     "5780cc024b9c43909268a490fb2cd5fb": {
      "model_module": "jupyter-leaflet",
      "model_module_version": "^0.13.2",
      "model_name": "LeafletAntPathModel",
      "state": {
       "_model_module_version": "^0.13.2",
       "_view_module_version": "^0.13.2",
       "color": "#7590ba",
       "dash_array": [
        1,
        10
       ],
       "delay": 2000,
       "locations": [
        [
         48.2311,
         16.375006
        ],
        [
         48.2311,
         16.375006
        ],
        [
         48.2311,
         16.375006
        ],
        [
         48.2311,
         16.375006
        ],
        [
         48.2311,
         16.375006
        ],
        [
         48.2311,
         16.375006
        ],
        [
         48.2311,
         16.375006
        ],
        [
         48.2311,
         16.375006
        ],
        [
         48.2311,
         16.375006
        ],
        [
         48.2311,
         16.375006
        ],
        [
         48.2311,
         16.375006
        ],
        [
         48.2311,
         16.375006
        ],
        [
         48.231136,
         16.374966
        ],
        [
         48.231136,
         16.374966
        ],
        [
         48.231136,
         16.374966
        ],
        [
         48.231139,
         16.374955
        ],
        [
         48.231139,
         16.374955
        ],
        [
         48.231139,
         16.374955
        ],
        [
         48.231139,
         16.374955
        ],
        [
         48.231139,
         16.374955
        ],
        [
         48.231139,
         16.374955
        ],
        [
         48.231139,
         16.374955
        ],
        [
         48.231139,
         16.374955
        ],
        [
         48.231139,
         16.374955
        ],
        [
         48.231139,
         16.374955
        ],
        [
         48.231139,
         16.374955
        ],
        [
         48.231139,
         16.374955
        ],
        [
         48.231139,
         16.374955
        ],
        [
         48.231139,
         16.374955
        ],
        [
         48.231139,
         16.374955
        ],
        [
         48.231139,
         16.374955
        ],
        [
         48.231139,
         16.374955
        ],
        [
         48.231139,
         16.374955
        ],
        [
         48.231619,
         16.374845
        ],
        [
         48.231619,
         16.374845
        ],
        [
         48.231619,
         16.374845
        ],
        [
         48.231619,
         16.374845
        ],
        [
         48.231619,
         16.374845
        ],
        [
         48.231619,
         16.374845
        ],
        [
         48.231619,
         16.374845
        ],
        [
         48.231619,
         16.374845
        ],
        [
         48.231619,
         16.374845
        ],
        [
         48.231835,
         16.374748
        ],
        [
         48.231854,
         16.374751
        ],
        [
         48.231878,
         16.374744
        ],
        [
         48.2319,
         16.374732
        ],
        [
         48.23193,
         16.374722
        ],
        [
         48.231968,
         16.374724
        ],
        [
         48.231994,
         16.374727
        ],
        [
         48.232023999999996,
         16.374717
        ],
        [
         48.232075,
         16.374732
        ],
        [
         48.23212,
         16.37474
        ],
        [
         48.232163,
         16.374747
        ],
        [
         48.2322,
         16.374753
        ],
        [
         48.232238,
         16.374759
        ],
        [
         48.232248,
         16.374748999999998
        ],
        [
         48.232281,
         16.374744
        ],
        [
         48.23232,
         16.374758
        ],
        [
         48.232355,
         16.374763
        ],
        [
         48.232374,
         16.374735
        ],
        [
         48.232385,
         16.374694
        ],
        [
         48.232405,
         16.374673
        ],
        [
         48.232442,
         16.374664000000003
        ],
        [
         48.232442999999996,
         16.374668
        ],
        [
         48.232446,
         16.374667000000002
        ],
        [
         48.232479999999995,
         16.374675
        ],
        [
         48.232496000000005,
         16.374685999999997
        ],
        [
         48.232504999999996,
         16.374693
        ],
        [
         48.232531,
         16.374693
        ],
        [
         48.23256,
         16.374701
        ],
        [
         48.232571,
         16.374706
        ],
        [
         48.232569,
         16.37471
        ],
        [
         48.232589000000004,
         16.374716
        ],
        [
         48.232608,
         16.374751999999997
        ],
        [
         48.232628000000005,
         16.374767000000002
        ],
        [
         48.232618,
         16.374781
        ],
        [
         48.232616,
         16.374812
        ],
        [
         48.232616,
         16.374856
        ],
        [
         48.232642,
         16.374888000000002
        ],
        [
         48.232642,
         16.374888000000002
        ],
        [
         48.232615,
         16.374924
        ],
        [
         48.232615,
         16.374924
        ],
        [
         48.232615,
         16.374924
        ],
        [
         48.232615,
         16.374924
        ],
        [
         48.232615,
         16.374924
        ],
        [
         48.232615,
         16.374924
        ],
        [
         48.232818,
         16.374986
        ],
        [
         48.232818,
         16.374986
        ],
        [
         48.232818,
         16.374986
        ],
        [
         48.232818,
         16.374986
        ],
        [
         48.232818,
         16.374986
        ],
        [
         48.232818,
         16.374986
        ],
        [
         48.232818,
         16.374986
        ],
        [
         48.232818,
         16.374986
        ],
        [
         48.232818,
         16.374986
        ],
        [
         48.232818,
         16.374986
        ],
        [
         48.232818,
         16.374986
        ],
        [
         48.232818,
         16.374986
        ],
        [
         48.232818,
         16.374986
        ],
        [
         48.232818,
         16.374986
        ],
        [
         48.233447,
         16.374697
        ],
        [
         48.233447,
         16.374697
        ],
        [
         48.233447,
         16.374697
        ],
        [
         48.233447,
         16.374697
        ],
        [
         48.233447,
         16.374697
        ],
        [
         48.233447,
         16.374697
        ],
        [
         48.233447,
         16.374697
        ],
        [
         48.233447,
         16.374697
        ],
        [
         48.233447,
         16.374697
        ],
        [
         48.233447,
         16.374697
        ],
        [
         48.233447,
         16.374697
        ],
        [
         48.233447,
         16.374697
        ],
        [
         48.233447,
         16.374697
        ],
        [
         48.233518,
         16.374664000000003
        ],
        [
         48.233518,
         16.374664000000003
        ],
        [
         48.233518,
         16.374664000000003
        ],
        [
         48.233518,
         16.374664000000003
        ],
        [
         48.233518,
         16.374664000000003
        ],
        [
         48.233518,
         16.374664000000003
        ],
        [
         48.233518,
         16.374664000000003
        ],
        [
         48.233518,
         16.374664000000003
        ],
        [
         48.233518,
         16.374664000000003
        ],
        [
         48.233518,
         16.374664000000003
        ],
        [
         48.233518,
         16.374664000000003
        ],
        [
         48.233518,
         16.374664000000003
        ],
        [
         48.233518,
         16.374664000000003
        ],
        [
         48.233519,
         16.374678
        ],
        [
         48.233513,
         16.374674
        ],
        [
         48.233515999999995,
         16.374669
        ],
        [
         48.233515999999995,
         16.374667000000002
        ],
        [
         48.233525,
         16.374665
        ],
        [
         48.233523999999996,
         16.374667000000002
        ],
        [
         48.233531,
         16.374668
        ],
        [
         48.233531,
         16.374667000000002
        ],
        [
         48.233536,
         16.374654
        ],
        [
         48.233534000000006,
         16.374653
        ],
        [
         48.233525,
         16.374653
        ],
        [
         48.233507,
         16.374648
        ],
        [
         48.233506,
         16.374653
        ],
        [
         48.233503999999996,
         16.374663
        ],
        [
         48.233499,
         16.374665
        ],
        [
         48.233495,
         16.374674
        ],
        [
         48.233509999999995,
         16.374657
        ],
        [
         48.23348,
         16.374661
        ],
        [
         48.233455,
         16.374669
        ],
        [
         48.233434,
         16.374659
        ],
        [
         48.233427,
         16.374613
        ],
        [
         48.233429,
         16.374563000000002
        ],
        [
         48.233436,
         16.374509
        ],
        [
         48.233449,
         16.37446
        ],
        [
         48.233465,
         16.374415
        ],
        [
         48.233486,
         16.374365
        ],
        [
         48.23349,
         16.37432
        ],
        [
         48.233487,
         16.374267
        ],
        [
         48.233476,
         16.374228
        ],
        [
         48.233458,
         16.374214000000002
        ],
        [
         48.233441,
         16.374219
        ],
        [
         48.233415,
         16.374242000000002
        ],
        [
         48.233401,
         16.374246
        ],
        [
         48.233378,
         16.374273000000002
        ],
        [
         48.233366,
         16.374287
        ],
        [
         48.233364,
         16.374288
        ],
        [
         48.233342,
         16.374302
        ],
        [
         48.233337,
         16.374303
        ],
        [
         48.233329,
         16.374318
        ],
        [
         48.233301000000004,
         16.374323
        ],
        [
         48.233287,
         16.374271
        ],
        [
         48.233268,
         16.374236
        ],
        [
         48.233253000000005,
         16.374233
        ],
        [
         48.233243,
         16.374223
        ],
        [
         48.233249,
         16.374216
        ],
        [
         48.233249,
         16.374216
        ],
        [
         48.233249,
         16.374216
        ],
        [
         48.233249,
         16.374216
        ],
        [
         48.233249,
         16.374216
        ],
        [
         48.233249,
         16.374216
        ],
        [
         48.23324,
         16.374012
        ],
        [
         48.23324,
         16.374012
        ],
        [
         48.23324,
         16.374012
        ],
        [
         48.23324,
         16.374012
        ],
        [
         48.23324,
         16.374012
        ],
        [
         48.23324,
         16.374012
        ],
        [
         48.233115999999995,
         16.373853
        ],
        [
         48.233121999999995,
         16.373819
        ],
        [
         48.233112,
         16.373767
        ],
        [
         48.233102,
         16.373713000000002
        ],
        [
         48.233093,
         16.37365
        ],
        [
         48.233090000000004,
         16.373587
        ],
        [
         48.233074,
         16.37353
        ],
        [
         48.233149,
         16.373388000000002
        ],
        [
         48.23317,
         16.373345
        ],
        [
         48.233199,
         16.373309
        ],
        [
         48.233230999999996,
         16.373279
        ],
        [
         48.233269,
         16.373273
        ],
        [
         48.233306,
         16.373251999999997
        ],
        [
         48.233340000000005,
         16.37323
        ],
        [
         48.233378,
         16.373209
        ],
        [
         48.233415,
         16.373186999999998
        ],
        [
         48.233449,
         16.373171
        ],
        [
         48.23348,
         16.373157
        ],
        [
         48.233512,
         16.373143
        ],
        [
         48.23355,
         16.37313
        ],
        [
         48.233585999999995,
         16.373123
        ],
        [
         48.233615,
         16.37311
        ],
        [
         48.233649,
         16.373085999999997
        ],
        [
         48.233693,
         16.373062
        ],
        [
         48.233711,
         16.373057
        ],
        [
         48.233724,
         16.373077
        ],
        [
         48.233737,
         16.373089999999998
        ],
        [
         48.233737,
         16.373089999999998
        ],
        [
         48.233737,
         16.373089999999998
        ],
        [
         48.233737,
         16.373089999999998
        ],
        [
         48.233737,
         16.373089999999998
        ],
        [
         48.233894,
         16.373085
        ],
        [
         48.233889000000005,
         16.373088
        ],
        [
         48.233889000000005,
         16.373088
        ],
        [
         48.233889000000005,
         16.373088
        ],
        [
         48.233889000000005,
         16.373088
        ],
        [
         48.233889000000005,
         16.373088
        ],
        [
         48.233889000000005,
         16.373088
        ],
        [
         48.233889000000005,
         16.373088
        ],
        [
         48.233889000000005,
         16.373088
        ],
        [
         48.233889000000005,
         16.373088
        ],
        [
         48.233889000000005,
         16.373088
        ],
        [
         48.233889000000005,
         16.373088
        ],
        [
         48.233889000000005,
         16.373088
        ],
        [
         48.233889000000005,
         16.373088
        ],
        [
         48.233889000000005,
         16.373088
        ],
        [
         48.233889000000005,
         16.373088
        ],
        [
         48.233889000000005,
         16.373088
        ],
        [
         48.233889000000005,
         16.373088
        ],
        [
         48.233889000000005,
         16.373088
        ],
        [
         48.233889000000005,
         16.373088
        ],
        [
         48.233889000000005,
         16.373088
        ],
        [
         48.233889000000005,
         16.373088
        ],
        [
         48.234426,
         16.372957999999997
        ],
        [
         48.234423,
         16.372961
        ],
        [
         48.234431,
         16.372945
        ],
        [
         48.234464,
         16.372932000000002
        ],
        [
         48.234505,
         16.372923999999998
        ],
        [
         48.234524,
         16.372914
        ],
        [
         48.234569,
         16.372888
        ],
        [
         48.234586,
         16.372865
        ],
        [
         48.234595,
         16.372864
        ],
        [
         48.234621999999995,
         16.372866000000002
        ],
        [
         48.234652000000004,
         16.372866000000002
        ],
        [
         48.234727,
         16.372867000000003
        ],
        [
         48.234771,
         16.372869
        ],
        [
         48.234802,
         16.372869
        ],
        [
         48.234840000000005,
         16.37286
        ],
        [
         48.23488,
         16.37284
        ],
        [
         48.23493,
         16.37284
        ],
        [
         48.234981,
         16.372825
        ],
        [
         48.235029,
         16.372821
        ],
        [
         48.235093,
         16.372770000000003
        ],
        [
         48.235178000000005,
         16.372694
        ],
        [
         48.235233,
         16.372668
        ],
        [
         48.235269,
         16.372643
        ],
        [
         48.235299,
         16.372607000000002
        ],
        [
         48.235285,
         16.372603
        ],
        [
         48.235284,
         16.372603
        ],
        [
         48.235301,
         16.372575
        ],
        [
         48.235305,
         16.372526999999998
        ],
        [
         48.235309,
         16.372479000000002
        ],
        [
         48.235321,
         16.372425
        ],
        [
         48.235336,
         16.372374
        ],
        [
         48.235333000000004,
         16.372335999999997
        ],
        [
         48.235335,
         16.372291
        ],
        [
         48.235347999999995,
         16.372241
        ],
        [
         48.235354,
         16.372188
        ],
        [
         48.235358000000005,
         16.372142999999998
        ],
        [
         48.235363,
         16.372097
        ],
        [
         48.23537,
         16.372054000000002
        ],
        [
         48.235382,
         16.372004999999998
        ],
        [
         48.235378999999995,
         16.371951
        ],
        [
         48.235381,
         16.371894
        ],
        [
         48.235397,
         16.371838
        ],
        [
         48.235415,
         16.371783999999998
        ],
        [
         48.235442,
         16.371745999999998
        ],
        [
         48.235439,
         16.371726000000002
        ],
        [
         48.235440000000004,
         16.371716
        ],
        [
         48.235465000000005,
         16.371675
        ],
        [
         48.235473,
         16.371616
        ],
        [
         48.235479,
         16.371567000000002
        ],
        [
         48.235481,
         16.37153
        ],
        [
         48.235463,
         16.371472
        ],
        [
         48.235403999999996,
         16.37141
        ],
        [
         48.235362,
         16.37135
        ],
        [
         48.235319,
         16.371278
        ],
        [
         48.235304,
         16.371235000000002
        ],
        [
         48.235303,
         16.371197
        ],
        [
         48.235306,
         16.371183
        ],
        [
         48.235315,
         16.371182
        ],
        [
         48.235327000000005,
         16.371177
        ],
        [
         48.235329,
         16.371167
        ],
        [
         48.235307,
         16.371143
        ],
        [
         48.235302000000004,
         16.371126
        ],
        [
         48.235307,
         16.371086
        ],
        [
         48.235289,
         16.371029999999998
        ],
        [
         48.235275,
         16.370986
        ],
        [
         48.235244,
         16.370934
        ],
        [
         48.235242,
         16.370882
        ],
        [
         48.235239,
         16.370816
        ],
        [
         48.235234000000005,
         16.370754
        ],
        [
         48.235221,
         16.370685
        ],
        [
         48.235211,
         16.370619
        ],
        [
         48.235201,
         16.370558
        ],
        [
         48.235170000000004,
         16.370499
        ],
        [
         48.235168,
         16.370464000000002
        ],
        [
         48.235147,
         16.370407999999998
        ],
        [
         48.235109,
         16.370382
        ],
        [
         48.235076,
         16.370382
        ],
        [
         48.235068,
         16.370369
        ],
        [
         48.235098,
         16.370345999999998
        ],
        [
         48.235106,
         16.370305
        ],
        [
         48.235108000000004,
         16.370297
        ],
        [
         48.23511,
         16.37029
        ],
        [
         48.235134,
         16.370244
        ],
        [
         48.23515,
         16.370182999999997
        ],
        [
         48.235137,
         16.37013
        ],
        [
         48.235106,
         16.37011
        ],
        [
         48.235094000000004,
         16.370101000000002
        ],
        [
         48.235091,
         16.370089
        ],
        [
         48.235085999999995,
         16.370078
        ],
        [
         48.235087,
         16.370093
        ],
        [
         48.235084,
         16.370098000000002
        ],
        [
         48.235084,
         16.370098000000002
        ],
        [
         48.235084,
         16.370098000000002
        ],
        [
         48.235084,
         16.370098000000002
        ],
        [
         48.235084,
         16.370098000000002
        ],
        [
         48.235084,
         16.370098000000002
        ],
        [
         48.235084,
         16.370098000000002
        ],
        [
         48.235084,
         16.370098000000002
        ],
        [
         48.235084,
         16.370098000000002
        ],
        [
         48.235084,
         16.370098000000002
        ],
        [
         48.235084,
         16.370098000000002
        ],
        [
         48.235084,
         16.370098000000002
        ],
        [
         48.235084,
         16.370098000000002
        ],
        [
         48.234423,
         16.370252999999998
        ],
        [
         48.23438,
         16.370264000000002
        ],
        [
         48.234333,
         16.370272
        ],
        [
         48.234286,
         16.370271
        ],
        [
         48.234245,
         16.370252999999998
        ],
        [
         48.234206,
         16.370257000000002
        ],
        [
         48.234173,
         16.370252
        ],
        [
         48.234147,
         16.370256
        ],
        [
         48.234124,
         16.370254
        ],
        [
         48.234092,
         16.370260000000002
        ],
        [
         48.234052,
         16.370267000000002
        ],
        [
         48.234016,
         16.370281
        ],
        [
         48.233978,
         16.370287
        ],
        [
         48.233958,
         16.370279
        ],
        [
         48.233964,
         16.370242
        ],
        [
         48.233952,
         16.370245
        ],
        [
         48.233959000000006,
         16.370239
        ],
        [
         48.233965999999995,
         16.370236
        ],
        [
         48.233975,
         16.370231
        ],
        [
         48.233985,
         16.370216
        ],
        [
         48.233982,
         16.370202
        ],
        [
         48.23395,
         16.370194
        ],
        [
         48.233922,
         16.370184
        ],
        [
         48.233896,
         16.37017
        ],
        [
         48.233876,
         16.370154
        ],
        [
         48.233832,
         16.370151999999997
        ],
        [
         48.233785,
         16.370141
        ],
        [
         48.233740000000004,
         16.370127
        ],
        [
         48.233689,
         16.37013
        ],
        [
         48.23364,
         16.370133
        ],
        [
         48.233593,
         16.37014
        ],
        [
         48.233544,
         16.370148
        ],
        [
         48.233509999999995,
         16.370155
        ],
        [
         48.233473,
         16.370163
        ],
        [
         48.233438,
         16.370160000000002
        ],
        [
         48.233401,
         16.370167000000002
        ],
        [
         48.233359,
         16.370173
        ],
        [
         48.233314,
         16.370162
        ],
        [
         48.233274,
         16.370157
        ],
        [
         48.233246,
         16.370119
        ],
        [
         48.233230999999996,
         16.370054999999997
        ],
        [
         48.233224,
         16.369999
        ],
        [
         48.233222999999995,
         16.369927
        ],
        [
         48.233218,
         16.369868
        ],
        [
         48.233208000000005,
         16.369811
        ],
        [
         48.233227,
         16.369754999999998
        ],
        [
         48.233251,
         16.36972
        ],
        [
         48.233224,
         16.369685
        ],
        [
         48.233219,
         16.369604000000002
        ],
        [
         48.23322,
         16.369532
        ],
        [
         48.23324,
         16.369462
        ],
        [
         48.233319,
         16.369396
        ],
        [
         48.233332,
         16.369321
        ],
        [
         48.233313,
         16.369253
        ],
        [
         48.233292999999996,
         16.369175
        ],
        [
         48.233233,
         16.369113
        ],
        [
         48.233193,
         16.369064
        ],
        [
         48.233176,
         16.369013
        ],
        [
         48.233096999999994,
         16.368982
        ],
        [
         48.233044,
         16.368983
        ],
        [
         48.232994,
         16.369022
        ],
        [
         48.232946000000005,
         16.369019
        ],
        [
         48.232884999999996,
         16.369003
        ],
        [
         48.232856,
         16.369024
        ],
        [
         48.232805,
         16.369006
        ],
        [
         48.232764,
         16.368999
        ],
        [
         48.232732,
         16.369004999999998
        ],
        [
         48.232685,
         16.369013
        ],
        [
         48.232651000000004,
         16.369026
        ],
        [
         48.23264,
         16.369051000000002
        ],
        [
         48.232634000000004,
         16.369086
        ],
        [
         48.232627,
         16.36915
        ],
        [
         48.232628000000005,
         16.369191
        ],
        [
         48.232625,
         16.369195
        ],
        [
         48.232625,
         16.369204
        ],
        [
         48.23264,
         16.369257
        ],
        [
         48.232662,
         16.369314000000003
        ],
        [
         48.23268,
         16.369367
        ],
        [
         48.232704,
         16.369426
        ],
        [
         48.232706,
         16.369478
        ],
        [
         48.232725,
         16.369531
        ],
        [
         48.232748,
         16.369587
        ],
        [
         48.232773,
         16.369644
        ],
        [
         48.232774,
         16.369704000000002
        ],
        [
         48.2328,
         16.369768
        ],
        [
         48.232817,
         16.369835000000002
        ],
        [
         48.232842,
         16.369905
        ],
        [
         48.232856,
         16.369975
        ],
        [
         48.232856,
         16.370046
        ],
        [
         48.232853999999996,
         16.370113
        ],
        [
         48.232846,
         16.370174
        ],
        [
         48.232858,
         16.370241
        ],
        [
         48.232865000000004,
         16.370305
        ],
        [
         48.232859999999995,
         16.370361
        ],
        [
         48.232827,
         16.370393
        ],
        [
         48.2328,
         16.370426000000002
        ],
        [
         48.232764,
         16.370445
        ],
        [
         48.232732,
         16.370471
        ],
        [
         48.232698,
         16.370463
        ],
        [
         48.232698,
         16.370469
        ],
        [
         48.23271,
         16.370521
        ],
        [
         48.232702,
         16.370579
        ],
        [
         48.232703,
         16.370626
        ],
        [
         48.232706,
         16.37066
        ],
        [
         48.232707,
         16.370670999999998
        ],
        [
         48.232695,
         16.370717000000003
        ],
        [
         48.232669,
         16.370788
        ],
        [
         48.232663,
         16.370832999999998
        ],
        [
         48.232653000000006,
         16.370892
        ],
        [
         48.232641,
         16.370973
        ],
        [
         48.232628000000005,
         16.37104
        ],
        [
         48.23261,
         16.371118
        ],
        [
         48.232605,
         16.371187
        ],
        [
         48.23259,
         16.371259
        ],
        [
         48.23256,
         16.371316
        ],
        [
         48.232535999999996,
         16.371361
        ],
        [
         48.232504,
         16.371382999999998
        ],
        [
         48.232479999999995,
         16.37138
        ],
        [
         48.232476,
         16.371363
        ],
        [
         48.232446,
         16.371385999999998
        ],
        [
         48.232392,
         16.371451
        ],
        [
         48.232338,
         16.371499
        ],
        [
         48.232314,
         16.37153
        ],
        [
         48.232293,
         16.371610999999998
        ],
        [
         48.232285,
         16.371682
        ],
        [
         48.232274,
         16.371737
        ],
        [
         48.232271999999995,
         16.371793
        ],
        [
         48.232279999999996,
         16.371839
        ],
        [
         48.232261,
         16.371861
        ],
        [
         48.232238,
         16.371873
        ],
        [
         48.232196,
         16.371896
        ],
        [
         48.232141,
         16.371889000000003
        ],
        [
         48.232096999999996,
         16.371891
        ],
        [
         48.232054999999995,
         16.371895000000002
        ],
        [
         48.23202,
         16.371904999999998
        ],
        [
         48.231981,
         16.371910999999997
        ],
        [
         48.231958,
         16.371917
        ],
        [
         48.231947999999996,
         16.371916
        ],
        [
         48.231945,
         16.371917
        ],
        [
         48.231945,
         16.371917
        ],
        [
         48.231945,
         16.371917
        ],
        [
         48.231945,
         16.371917
        ],
        [
         48.231945,
         16.371917
        ],
        [
         48.231945,
         16.371917
        ],
        [
         48.231945,
         16.371917
        ],
        [
         48.231945,
         16.371917
        ],
        [
         48.231945,
         16.371917
        ],
        [
         48.231945,
         16.371917
        ],
        [
         48.231945,
         16.371917
        ],
        [
         48.231945,
         16.371917
        ],
        [
         48.231945,
         16.371917
        ],
        [
         48.231945,
         16.371917
        ],
        [
         48.231945,
         16.371917
        ],
        [
         48.231945,
         16.371917
        ],
        [
         48.231945,
         16.371917
        ],
        [
         48.231945,
         16.371917
        ],
        [
         48.231945,
         16.371917
        ],
        [
         48.231945,
         16.371917
        ],
        [
         48.231945,
         16.371917
        ],
        [
         48.231945,
         16.371917
        ],
        [
         48.231945,
         16.371917
        ],
        [
         48.231945,
         16.371917
        ]
       ],
       "name": "Trail",
       "options": [
        "color",
        "dash_array",
        "delay",
        "hardware_accelerated",
        "paused",
        "pulse_color",
        "radius",
        "reverse",
        "use",
        "weight"
       ],
       "pulse_color": "#3f6fba"
      }
     },
     "578cecd963814a8485547b929b2e317e": {
      "model_module": "jupyter-leaflet",
      "model_module_version": "^0.13.2",
      "model_name": "LeafletZoomControlModel",
      "state": {
       "_model_module_version": "^0.13.2",
       "_view_module_version": "^0.13.2",
       "options": [
        "position",
        "zoom_in_text",
        "zoom_in_title",
        "zoom_out_text",
        "zoom_out_title"
       ]
      }
     },
     "59780f474632467d8fea2325412b1e58": {
      "model_module": "jupyter-leaflet",
      "model_module_version": "^0.13.2",
      "model_name": "LeafletWidgetControlModel",
      "state": {
       "_model_module": "jupyter-leaflet",
       "_model_module_version": "^0.13.2",
       "_view_count": null,
       "_view_module": "jupyter-leaflet",
       "_view_module_version": "^0.13.2",
       "options": [
        "position"
       ],
       "position": "topright",
       "widget": "IPY_MODEL_bdf51bda213a45f193706b7008717b33"
      }
     },
     "5b582a549a5e4536957068c3b063be54": {
      "model_module": "jupyter-leaflet",
      "model_module_version": "^0.13.2",
      "model_name": "LeafletMapStyleModel",
      "state": {
       "_model_module_version": "^0.13.2"
      }
     },
     "5b9c44505edb443890d64193a7b128a9": {
      "model_module": "jupyter-leaflet",
      "model_module_version": "^0.13.2",
      "model_name": "LeafletMarkerModel",
      "state": {
       "_model_module_version": "^0.13.2",
       "_view_module_version": "^0.13.2",
       "icon": "IPY_MODEL_a9714de54ea0436fb1b406c843cb2db1",
       "location": [
        48.231947999999996,
        16.371916
       ],
       "options": [
        "alt",
        "draggable",
        "keyboard",
        "rise_offset",
        "rise_on_hover",
        "rotation_angle",
        "rotation_origin",
        "title",
        "z_index_offset"
       ]
      }
     },
     "5c6e80133f124ed283a88d04343a760b": {
      "model_module": "jupyter-leaflet",
      "model_module_version": "^0.13.2",
      "model_name": "LeafletMarkerModel",
      "state": {
       "_model_module_version": "^0.13.2",
       "_view_module_version": "^0.13.2",
       "icon": "IPY_MODEL_48aa036322554b2086e1192fc7abf556",
       "location": [
        48.235285,
        16.372603
       ],
       "options": [
        "alt",
        "draggable",
        "keyboard",
        "rise_offset",
        "rise_on_hover",
        "rotation_angle",
        "rotation_origin",
        "title",
        "z_index_offset"
       ]
      }
     },
     "5eadf5fc036f409ea0300aaa911ef130": {
      "model_module": "jupyter-leaflet",
      "model_module_version": "^0.13.2",
      "model_name": "LeafletMarkerModel",
      "state": {
       "_model_module_version": "^0.13.2",
       "_view_module_version": "^0.13.2",
       "icon": "IPY_MODEL_47139d2718e44c5d96b690875addd5a2",
       "location": [
        48.233536,
        16.374654
       ],
       "options": [
        "alt",
        "draggable",
        "keyboard",
        "rise_offset",
        "rise_on_hover",
        "rotation_angle",
        "rotation_origin",
        "title",
        "z_index_offset"
       ]
      }
     },
     "5ed5c75294b34878b1e1b0554f3fa7cf": {
      "model_module": "jupyter-leaflet",
      "model_module_version": "^0.13.2",
      "model_name": "LeafletAttributionControlModel",
      "state": {
       "_model_module_version": "^0.13.2",
       "_view_module_version": "^0.13.2",
       "options": [
        "position",
        "prefix"
       ],
       "position": "bottomright",
       "prefix": "ipyleaflet"
      }
     },
     "5fad0cf914ed4b1985ebeccf3ad3c8e9": {
      "model_module": "jupyter-leaflet",
      "model_module_version": "^0.13.2",
      "model_name": "LeafletMapStyleModel",
      "state": {
       "_model_module_version": "^0.13.2"
      }
     },
     "5fe5a262309246d8ad8b12d92a5d93f2": {
      "model_module": "jupyter-leaflet",
      "model_module_version": "^0.13.2",
      "model_name": "LeafletTileLayerModel",
      "state": {
       "_model_module_version": "^0.13.2",
       "_view_module_version": "^0.13.2",
       "attribution": "Tiles &copy; Esri &mdash; Source: Esri, DeLorme, NAVTEQ, USGS, Intermap, iPC, NRCAN, Esri Japan, METI, Esri China (Hong Kong), Esri (Thailand), TomTom, 2012",
       "max_native_zoom": 18,
       "max_zoom": 20,
       "min_native_zoom": 0,
       "min_zoom": 1,
       "name": "Esri.WorldStreetMap",
       "options": [
        "attribution",
        "detect_retina",
        "max_native_zoom",
        "max_zoom",
        "min_native_zoom",
        "min_zoom",
        "no_wrap",
        "tile_size",
        "tms"
       ],
       "url": "http://server.arcgisonline.com/ArcGIS/rest/services/World_Street_Map/MapServer/tile/{z}/{y}/{x}"
      }
     },
     "644530eb38804312b787402df95aa5ab": {
      "model_module": "@jupyter-widgets/controls",
      "model_module_version": "1.5.0",
      "model_name": "IntSliderModel",
      "state": {
       "description": "Zoom level:",
       "layout": "IPY_MODEL_04aca46fa7f049dd9fd7716f96c5d174",
       "max": 20,
       "min": 10,
       "style": "IPY_MODEL_d1cb00e465fe4f1a9eb28d13a09e1e5a",
       "value": 16
      }
     },
     "64e427624b2b4fe58d2a32c3a6610386": {
      "model_module": "jupyter-leaflet",
      "model_module_version": "^0.13.2",
      "model_name": "LeafletMarkerModel",
      "state": {
       "_model_module_version": "^0.13.2",
       "_view_module_version": "^0.13.2",
       "icon": "IPY_MODEL_48aa036322554b2086e1192fc7abf556",
       "location": [
        48.23324,
        16.374012
       ],
       "options": [
        "alt",
        "draggable",
        "keyboard",
        "rise_offset",
        "rise_on_hover",
        "rotation_angle",
        "rotation_origin",
        "title",
        "z_index_offset"
       ]
      }
     },
     "67aa8ca5bd434c60bed96526b6a79b1e": {
      "model_module": "jupyter-leaflet",
      "model_module_version": "^0.13.2",
      "model_name": "LeafletScaleControlModel",
      "state": {
       "_model_module_version": "^0.13.2",
       "_view_module_version": "^0.13.2",
       "imperial": false,
       "max_width": 100,
       "metric": true,
       "options": [
        "imperial",
        "max_width",
        "metric",
        "position",
        "update_when_idle"
       ],
       "position": "bottomleft",
       "update_when_idle": false
      }
     },
     "6947c52e658743e9b4fd22f5c75da1a9": {
      "model_module": "jupyter-leaflet",
      "model_module_version": "^0.13.2",
      "model_name": "LeafletMarkerModel",
      "state": {
       "_model_module_version": "^0.13.2",
       "_view_module_version": "^0.13.2",
       "icon": "IPY_MODEL_48aa036322554b2086e1192fc7abf556",
       "location": [
        48.23324,
        16.374012
       ],
       "options": [
        "alt",
        "draggable",
        "keyboard",
        "rise_offset",
        "rise_on_hover",
        "rotation_angle",
        "rotation_origin",
        "title",
        "z_index_offset"
       ]
      }
     },
     "69cd20359a624119b2d5f62ecc4a098f": {
      "model_module": "jupyter-leaflet",
      "model_module_version": "^0.13.2",
      "model_name": "LeafletScaleControlModel",
      "state": {
       "_model_module_version": "^0.13.2",
       "_view_module_version": "^0.13.2",
       "imperial": false,
       "max_width": 100,
       "metric": true,
       "options": [
        "imperial",
        "max_width",
        "metric",
        "position",
        "update_when_idle"
       ],
       "position": "bottomleft",
       "update_when_idle": false
      }
     },
     "6b024f5bff4c4ce1a460b7f3b9f9fd8e": {
      "model_module": "jupyter-leaflet",
      "model_module_version": "^0.13.2",
      "model_name": "LeafletMapModel",
      "state": {
       "_model_module_version": "^0.13.2",
       "_view_module_version": "^0.13.2",
       "center": [
        48.23113373793681,
        16.37497186660767
       ],
       "controls": [
        "IPY_MODEL_2f918b823e25414f85befc97c2cb8053",
        "IPY_MODEL_d1c621d6d72d43cab041cc94ed2ee65c",
        "IPY_MODEL_db88a7eeb24c46f496fb13759d4eaaa2",
        "IPY_MODEL_bf2e8b0506d442d9b73c29c3aa840eeb",
        "IPY_MODEL_1827ca5a50aa4c0ba92ae52e2be77ca0",
        "IPY_MODEL_6ee94b948d5a4c2eab88c08bfbd3d379",
        "IPY_MODEL_af5528719e884659bd4ba49c7d9adfd6"
       ],
       "default_style": "IPY_MODEL_9d28f44174c747e6bcbff1f6b5546832",
       "dragging_style": "IPY_MODEL_cad30dcd283749c49c5b965c139ca1b3",
       "east": -180,
       "fullscreen": false,
       "interpolation": "bilinear",
       "layers": [
        "IPY_MODEL_987aece7b4084c989b34cacbbcdf91ed"
       ],
       "layout": "IPY_MODEL_e8e26efd13bc45e7983dcc20b4dc783c",
       "modisdate": "yesterday",
       "north": -90,
       "options": [
        "bounce_at_zoom_limits",
        "box_zoom",
        "center",
        "close_popup_on_click",
        "double_click_zoom",
        "dragging",
        "fullscreen",
        "inertia",
        "inertia_deceleration",
        "inertia_max_speed",
        "interpolation",
        "keyboard",
        "keyboard_pan_offset",
        "keyboard_zoom_offset",
        "max_zoom",
        "min_zoom",
        "scroll_wheel_zoom",
        "tap",
        "tap_tolerance",
        "touch_zoom",
        "world_copy_jump",
        "zoom",
        "zoom_animation_threshold",
        "zoom_delta",
        "zoom_snap",
        "zoom_start"
       ],
       "south": 90,
       "style": "IPY_MODEL_9d28f44174c747e6bcbff1f6b5546832",
       "west": 180,
       "window_url": "http://localhost:8888/lab",
       "zoom": 16
      }
     },
     "6bbe0a19a7aa4e4a9eb10d530b640259": {
      "model_module": "@jupyter-widgets/controls",
      "model_module_version": "1.5.0",
      "model_name": "SliderStyleModel",
      "state": {
       "description_width": ""
      }
     },
     "6d50e23780ad4ccbb8ba7d367a69ec31": {
      "model_module": "@jupyter-widgets/controls",
      "model_module_version": "1.5.0",
      "model_name": "LinkModel",
      "state": {
       "source": [
        "IPY_MODEL_36fbdb66f2984027856cd3de9be79e27",
        "value"
       ],
       "target": [
        "IPY_MODEL_24a2029528cc4917b1982690a90e4f2b",
        "zoom"
       ]
      }
     },
     "6db7eeccbb664f57af1654b248b69b39": {
      "model_module": "jupyter-leaflet",
      "model_module_version": "^0.13.2",
      "model_name": "LeafletMarkerModel",
      "state": {
       "_model_module_version": "^0.13.2",
       "_view_module_version": "^0.13.2",
       "icon": "IPY_MODEL_48aa036322554b2086e1192fc7abf556",
       "location": [
        48.233336,
        16.374308
       ],
       "options": [
        "alt",
        "draggable",
        "keyboard",
        "rise_offset",
        "rise_on_hover",
        "rotation_angle",
        "rotation_origin",
        "title",
        "z_index_offset"
       ]
      }
     },
     "6ee94b948d5a4c2eab88c08bfbd3d379": {
      "model_module": "jupyter-leaflet",
      "model_module_version": "^0.13.2",
      "model_name": "LeafletScaleControlModel",
      "state": {
       "_model_module_version": "^0.13.2",
       "_view_module_version": "^0.13.2",
       "imperial": false,
       "max_width": 100,
       "metric": true,
       "options": [
        "imperial",
        "max_width",
        "metric",
        "position",
        "update_when_idle"
       ],
       "position": "bottomleft",
       "update_when_idle": false
      }
     },
     "702194b0fd47426d9438e44a2b6d0157": {
      "model_module": "@jupyter-widgets/base",
      "model_module_version": "1.2.0",
      "model_name": "LayoutModel",
      "state": {}
     },
     "708019f54fb84df39db7fbc255c4bb5d": {
      "model_module": "@jupyter-widgets/controls",
      "model_module_version": "1.5.0",
      "model_name": "SliderStyleModel",
      "state": {
       "description_width": ""
      }
     },
     "708ea2cc42ac4369b9d25329b6300656": {
      "model_module": "jupyter-leaflet",
      "model_module_version": "^0.13.2",
      "model_name": "LeafletMarkerModel",
      "state": {
       "_model_module_version": "^0.13.2",
       "_view_module_version": "^0.13.2",
       "icon": "IPY_MODEL_a9714de54ea0436fb1b406c843cb2db1",
       "location": [
        48.233253000000005,
        16.374233
       ],
       "options": [
        "alt",
        "draggable",
        "keyboard",
        "rise_offset",
        "rise_on_hover",
        "rotation_angle",
        "rotation_origin",
        "title",
        "z_index_offset"
       ]
      }
     },
     "714b8532db09498aaef80da054a3a5b6": {
      "model_module": "@jupyter-widgets/base",
      "model_module_version": "1.2.0",
      "model_name": "LayoutModel",
      "state": {
       "height": "600px",
       "width": "100%"
      }
     },
     "7155a80b68a841f88e235d9fbb5cb596": {
      "model_module": "jupyter-leaflet",
      "model_module_version": "^0.13.2",
      "model_name": "LeafletScaleControlModel",
      "state": {
       "_model_module_version": "^0.13.2",
       "_view_module_version": "^0.13.2",
       "imperial": false,
       "max_width": 100,
       "metric": true,
       "options": [
        "imperial",
        "max_width",
        "metric",
        "position",
        "update_when_idle"
       ],
       "position": "bottomleft",
       "update_when_idle": false
      }
     },
     "7523287281004c5a945223647a1fc6ea": {
      "model_module": "jupyter-leaflet",
      "model_module_version": "^0.13.2",
      "model_name": "LeafletMarkerModel",
      "state": {
       "_model_module_version": "^0.13.2",
       "_view_module_version": "^0.13.2",
       "icon": "IPY_MODEL_a9714de54ea0436fb1b406c843cb2db1",
       "location": [
        48.23324,
        16.374012
       ],
       "options": [
        "alt",
        "draggable",
        "keyboard",
        "rise_offset",
        "rise_on_hover",
        "rotation_angle",
        "rotation_origin",
        "title",
        "z_index_offset"
       ]
      }
     },
     "755a5cf0a40941729be10a75a91c7986": {
      "model_module": "jupyter-leaflet",
      "model_module_version": "^0.13.2",
      "model_name": "LeafletLayersControlModel",
      "state": {
       "_model_module_version": "^0.13.2",
       "_view_module_version": "^0.13.2",
       "options": [
        "position"
       ],
       "position": "topright"
      }
     },
     "75e4d461278f4a9e9c17cfd8b052627a": {
      "model_module": "jupyter-leaflet",
      "model_module_version": "^0.13.2",
      "model_name": "LeafletWidgetControlModel",
      "state": {
       "_model_module": "jupyter-leaflet",
       "_model_module_version": "^0.13.2",
       "_view_count": null,
       "_view_module": "jupyter-leaflet",
       "_view_module_version": "^0.13.2",
       "options": [
        "position"
       ],
       "position": "topright",
       "widget": "IPY_MODEL_36fbdb66f2984027856cd3de9be79e27"
      }
     },
     "7653ad85faaa48409e3f101c87ea36c0": {
      "model_module": "jupyter-leaflet",
      "model_module_version": "^0.13.2",
      "model_name": "LeafletTileLayerModel",
      "state": {
       "_model_module_version": "^0.13.2",
       "_view_module_version": "^0.13.2",
       "attribution": "Tiles &copy; Esri &mdash; Source: Esri, DeLorme, NAVTEQ, USGS, Intermap, iPC, NRCAN, Esri Japan, METI, Esri China (Hong Kong), Esri (Thailand), TomTom, 2012",
       "base": true,
       "max_native_zoom": 18,
       "max_zoom": 20,
       "min_native_zoom": 0,
       "min_zoom": 1,
       "name": "Esri.WorldStreetMap",
       "options": [
        "attribution",
        "detect_retina",
        "max_native_zoom",
        "max_zoom",
        "min_native_zoom",
        "min_zoom",
        "no_wrap",
        "tile_size",
        "tms"
       ],
       "url": "http://server.arcgisonline.com/ArcGIS/rest/services/World_Street_Map/MapServer/tile/{z}/{y}/{x}"
      }
     },
     "76b7571ddf0a4b289666cf33f0219d12": {
      "model_module": "jupyter-leaflet",
      "model_module_version": "^0.13.2",
      "model_name": "LeafletTileLayerModel",
      "state": {
       "_model_module_version": "^0.13.2",
       "_view_module_version": "^0.13.2",
       "attribution": "Tiles &copy; Esri &mdash; Source: Esri, DeLorme, NAVTEQ, USGS, Intermap, iPC, NRCAN, Esri Japan, METI, Esri China (Hong Kong), Esri (Thailand), TomTom, 2012",
       "base": true,
       "max_native_zoom": 18,
       "max_zoom": 20,
       "min_native_zoom": 0,
       "min_zoom": 1,
       "name": "Esri.WorldStreetMap",
       "options": [
        "attribution",
        "detect_retina",
        "max_native_zoom",
        "max_zoom",
        "min_native_zoom",
        "min_zoom",
        "no_wrap",
        "tile_size",
        "tms"
       ],
       "url": "http://server.arcgisonline.com/ArcGIS/rest/services/World_Street_Map/MapServer/tile/{z}/{y}/{x}"
      }
     },
     "77a0d5930d0245d58294af9ba4e865b5": {
      "model_module": "jupyter-leaflet",
      "model_module_version": "^0.13.2",
      "model_name": "LeafletMapStyleModel",
      "state": {
       "_model_module_version": "^0.13.2"
      }
     },
     "77eb94dab34a4886bc359141a591f75c": {
      "model_module": "jupyter-leaflet",
      "model_module_version": "^0.13.2",
      "model_name": "LeafletMarkerModel",
      "state": {
       "_model_module_version": "^0.13.2",
       "_view_module_version": "^0.13.2",
       "icon": "IPY_MODEL_48aa036322554b2086e1192fc7abf556",
       "location": [
        48.231136,
        16.374966
       ],
       "options": [
        "alt",
        "draggable",
        "keyboard",
        "rise_offset",
        "rise_on_hover",
        "rotation_angle",
        "rotation_origin",
        "title",
        "z_index_offset"
       ]
      }
     },
     "7811998fb0b8410c88f24a50f2cfa476": {
      "model_module": "jupyter-leaflet",
      "model_module_version": "^0.13.2",
      "model_name": "LeafletMarkerModel",
      "state": {
       "_model_module_version": "^0.13.2",
       "_view_module_version": "^0.13.2",
       "icon": "IPY_MODEL_f7e6f4eeb5ec49deb9c094aefb5ff7bb",
       "location": [
        48.235323,
        16.371179
       ],
       "options": [
        "alt",
        "draggable",
        "keyboard",
        "rise_offset",
        "rise_on_hover",
        "rotation_angle",
        "rotation_origin",
        "title",
        "z_index_offset"
       ]
      }
     },
     "78e1b44214bc4c9ca5c4d14eaa2635dd": {
      "model_module": "@jupyter-widgets/base",
      "model_module_version": "1.2.0",
      "model_name": "LayoutModel",
      "state": {}
     },
     "7989fca41a0a48758dbd8c12fe5d6228": {
      "model_module": "jupyter-leaflet",
      "model_module_version": "^0.13.2",
      "model_name": "LeafletZoomControlModel",
      "state": {
       "_model_module_version": "^0.13.2",
       "_view_module_version": "^0.13.2",
       "options": [
        "position",
        "zoom_in_text",
        "zoom_in_title",
        "zoom_out_text",
        "zoom_out_title"
       ]
      }
     },
     "79af79d4076b468a8c03417a57f15532": {
      "model_module": "jupyter-leaflet",
      "model_module_version": "^0.13.2",
      "model_name": "LeafletMarkerModel",
      "state": {
       "_model_module_version": "^0.13.2",
       "_view_module_version": "^0.13.2",
       "icon": "IPY_MODEL_48aa036322554b2086e1192fc7abf556",
       "location": [
        48.232442,
        16.374664000000003
       ],
       "options": [
        "alt",
        "draggable",
        "keyboard",
        "rise_offset",
        "rise_on_hover",
        "rotation_angle",
        "rotation_origin",
        "title",
        "z_index_offset"
       ]
      }
     },
     "7a3033e3dcdf454b82280939e91af517": {
      "model_module": "jupyter-leaflet",
      "model_module_version": "^0.13.2",
      "model_name": "LeafletMapModel",
      "state": {
       "_model_module_version": "^0.13.2",
       "_view_module_version": "^0.13.2",
       "bottom": 5816168,
       "center": [
        48.231139,
        16.374955
       ],
       "controls": [
        "IPY_MODEL_ac6d73a83be041b9984e30478e465030",
        "IPY_MODEL_e13fd03292454fb3acd72411dbc81904",
        "IPY_MODEL_b5282d119ccb4f3c9d2ddcb3c833fd74",
        "IPY_MODEL_234576ad5c1e45d8b6712a2b1e51eb2d",
        "IPY_MODEL_484d1a99f8f74b37b6cf21c7b416b58a",
        "IPY_MODEL_67aa8ca5bd434c60bed96526b6a79b1e",
        "IPY_MODEL_27099e9cdf15448aa78450df1e83d694"
       ],
       "default_style": "IPY_MODEL_8e64a05e6365407c8b41202c6ba0e15e",
       "dragging_style": "IPY_MODEL_a1a4dee7140b4ea0963833614d01dbdd",
       "east": 16.385378837585453,
       "fullscreen": false,
       "interpolation": "bilinear",
       "layers": [
        "IPY_MODEL_d17ecf4c61cc4248818f13c385e0664f"
       ],
       "layout": "IPY_MODEL_f6e08d93d18b41769bf80cd49662e554",
       "left": 9151250,
       "modisdate": "yesterday",
       "north": 48.235421620572104,
       "options": [
        "bounce_at_zoom_limits",
        "box_zoom",
        "center",
        "close_popup_on_click",
        "double_click_zoom",
        "dragging",
        "fullscreen",
        "inertia",
        "inertia_deceleration",
        "inertia_max_speed",
        "interpolation",
        "keyboard",
        "keyboard_pan_offset",
        "keyboard_zoom_offset",
        "max_zoom",
        "min_zoom",
        "scroll_wheel_zoom",
        "tap",
        "tap_tolerance",
        "touch_zoom",
        "world_copy_jump",
        "zoom",
        "zoom_animation_threshold",
        "zoom_delta",
        "zoom_snap",
        "zoom_start"
       ],
       "right": 9152222,
       "south": 48.22684549597699,
       "style": "IPY_MODEL_8e64a05e6365407c8b41202c6ba0e15e",
       "top": 5815568,
       "west": 16.364521980285648,
       "window_url": "http://localhost:8888/lab",
       "zoom": 16
      }
     },
     "7aa5934495ee489fb59b645e33c69a1d": {
      "model_module": "jupyter-leaflet",
      "model_module_version": "^0.13.2",
      "model_name": "LeafletTileLayerModel",
      "state": {
       "_model_module_version": "^0.13.2",
       "_view_module_version": "^0.13.2",
       "attribution": "Map tiles by <a href=\"http://stamen.com/\">Stamen Design</a>, under <a href=\"http://creativecommons.org/licenses/by/3.0\">CC BY 3.0</a>. Data by <a href=\"http://openstreetmap.org/\">OpenStreetMap</a>, under <a href=\"http://creativecommons.org/licenses/by-sa/3.0\">CC BY SA</a>.",
       "max_native_zoom": 18,
       "max_zoom": 20,
       "min_native_zoom": 0,
       "name": "Stamen.Toner",
       "options": [
        "attribution",
        "detect_retina",
        "max_native_zoom",
        "max_zoom",
        "min_native_zoom",
        "min_zoom",
        "no_wrap",
        "tile_size",
        "tms"
       ],
       "url": "https://stamen-tiles-a.a.ssl.fastly.net/toner/{z}/{x}/{y}.png"
      }
     },
     "7c1f97b1151749bba232aa9a5dd07014": {
      "model_module": "@jupyter-widgets/base",
      "model_module_version": "1.2.0",
      "model_name": "LayoutModel",
      "state": {}
     },
     "7ca8569ff5864ddbbd85025aa8f7d8f2": {
      "model_module": "jupyter-leaflet",
      "model_module_version": "^0.13.2",
      "model_name": "LeafletMapModel",
      "state": {
       "_model_module_version": "^0.13.2",
       "_view_module_version": "^0.13.2",
       "bottom": 5816168,
       "center": [
        48.231139,
        16.374955
       ],
       "controls": [
        "IPY_MODEL_eea895f513f44c3582fb79da132e9c58",
        "IPY_MODEL_bc10bcf87fd5491f96275a49847b3c5c",
        "IPY_MODEL_d950c576c1bc4da5bbe7ba016a4aa14f",
        "IPY_MODEL_0592aa6b57ea4e31851a96dd8bfc8c9f",
        "IPY_MODEL_2c6ea0b051514869bc78581ca6db6471",
        "IPY_MODEL_755a5cf0a40941729be10a75a91c7986",
        "IPY_MODEL_00f5fbd683b5453f952b13e1c4a8d5ba"
       ],
       "default_style": "IPY_MODEL_49b543c31e1b4271989ef09529a3a63b",
       "dragging_style": "IPY_MODEL_80a789bae96542c09fd21bd05af95386",
       "east": 16.3866662979126,
       "fullscreen": false,
       "interpolation": "bilinear",
       "layers": [
        "IPY_MODEL_76b7571ddf0a4b289666cf33f0219d12"
       ],
       "layout": "IPY_MODEL_4aac481e9bc4474ea9c1045c599c03eb",
       "left": 9151190,
       "modisdate": "yesterday",
       "north": 48.235421620572104,
       "options": [
        "bounce_at_zoom_limits",
        "box_zoom",
        "center",
        "close_popup_on_click",
        "double_click_zoom",
        "dragging",
        "fullscreen",
        "inertia",
        "inertia_deceleration",
        "inertia_max_speed",
        "interpolation",
        "keyboard",
        "keyboard_pan_offset",
        "keyboard_zoom_offset",
        "max_zoom",
        "min_zoom",
        "scroll_wheel_zoom",
        "tap",
        "tap_tolerance",
        "touch_zoom",
        "world_copy_jump",
        "zoom",
        "zoom_animation_threshold",
        "zoom_delta",
        "zoom_snap",
        "zoom_start"
       ],
       "right": 9152282,
       "south": 48.22684549597699,
       "style": "IPY_MODEL_49b543c31e1b4271989ef09529a3a63b",
       "top": 5815568,
       "west": 16.3632345199585,
       "window_url": "http://localhost:8888/lab",
       "zoom": 16
      }
     },
     "7dad542cc0d94dc2800cb81b7fe9881c": {
      "model_module": "jupyter-leaflet",
      "model_module_version": "^0.13.2",
      "model_name": "LeafletMarkerModel",
      "state": {
       "_model_module_version": "^0.13.2",
       "_view_module_version": "^0.13.2",
       "icon": "IPY_MODEL_48aa036322554b2086e1192fc7abf556",
       "location": [
        48.233724,
        16.373077
       ],
       "options": [
        "alt",
        "draggable",
        "keyboard",
        "rise_offset",
        "rise_on_hover",
        "rotation_angle",
        "rotation_origin",
        "title",
        "z_index_offset"
       ]
      }
     },
     "7fcadc95532f43aebbfa64b72fa68956": {
      "model_module": "jupyter-leaflet",
      "model_module_version": "^0.13.2",
      "model_name": "LeafletMarkerModel",
      "state": {
       "_model_module_version": "^0.13.2",
       "_view_module_version": "^0.13.2",
       "icon": "IPY_MODEL_a9714de54ea0436fb1b406c843cb2db1",
       "location": [
        48.233336,
        16.374308
       ],
       "options": [
        "alt",
        "draggable",
        "keyboard",
        "rise_offset",
        "rise_on_hover",
        "rotation_angle",
        "rotation_origin",
        "title",
        "z_index_offset"
       ]
      }
     },
     "8026468f0641494b8aef44b2d885ef57": {
      "model_module": "@jupyter-widgets/controls",
      "model_module_version": "1.5.0",
      "model_name": "SliderStyleModel",
      "state": {
       "description_width": ""
      }
     },
     "805e11f68120493c9093ba4e0d9a049f": {
      "model_module": "jupyter-leaflet",
      "model_module_version": "^0.13.2",
      "model_name": "LeafletTileLayerModel",
      "state": {
       "_model_module_version": "^0.13.2",
       "_view_module_version": "^0.13.2",
       "attribution": "Tiles &copy; Esri &mdash; Source: Esri, DeLorme, NAVTEQ, USGS, Intermap, iPC, NRCAN, Esri Japan, METI, Esri China (Hong Kong), Esri (Thailand), TomTom, 2012",
       "max_native_zoom": 18,
       "max_zoom": 20,
       "min_native_zoom": 0,
       "min_zoom": 1,
       "name": "Esri.WorldStreetMap",
       "options": [
        "attribution",
        "detect_retina",
        "max_native_zoom",
        "max_zoom",
        "min_native_zoom",
        "min_zoom",
        "no_wrap",
        "tile_size",
        "tms"
       ],
       "url": "http://server.arcgisonline.com/ArcGIS/rest/services/World_Street_Map/MapServer/tile/{z}/{y}/{x}"
      }
     },
     "8064e1b48de84981904367ab550866a1": {
      "model_module": "@jupyter-widgets/controls",
      "model_module_version": "1.5.0",
      "model_name": "IntSliderModel",
      "state": {
       "description": "Zoom level:",
       "layout": "IPY_MODEL_702194b0fd47426d9438e44a2b6d0157",
       "max": 20,
       "min": 10,
       "style": "IPY_MODEL_c8b274f1a37b4a358cab1639c99d2cd6",
       "value": 16
      }
     },
     "80a789bae96542c09fd21bd05af95386": {
      "model_module": "jupyter-leaflet",
      "model_module_version": "^0.13.2",
      "model_name": "LeafletMapStyleModel",
      "state": {
       "_model_module_version": "^0.13.2",
       "cursor": "move"
      }
     },
     "81e8f6cd8bd549d98edeff9a064c054f": {
      "model_module": "jupyter-leaflet",
      "model_module_version": "^0.13.2",
      "model_name": "LeafletAntPathModel",
      "state": {
       "_model_module_version": "^0.13.2",
       "_view_module_version": "^0.13.2",
       "color": "#7590ba",
       "dash_array": [
        1,
        10
       ],
       "delay": 2000,
       "locations": [
        [
         48.231194,
         16.372839000000003
        ],
        [
         48.230459,
         16.372595999999998
        ],
        [
         48.230912,
         16.372421
        ],
        [
         48.231109000000004,
         16.372348000000002
        ],
        [
         48.23083,
         16.371501000000002
        ],
        [
         48.23083,
         16.371501000000002
        ],
        [
         48.23083,
         16.371501000000002
        ],
        [
         48.230529,
         16.371344
        ],
        [
         48.230399,
         16.371314
        ],
        [
         48.230340000000005,
         16.371259
        ],
        [
         48.230315000000004,
         16.37119
        ],
        [
         48.230283,
         16.371159
        ],
        [
         48.230273,
         16.371149
        ],
        [
         48.230272,
         16.371146
        ],
        [
         48.230264,
         16.371131
        ],
        [
         48.230246,
         16.371132
        ],
        [
         48.230237,
         16.371129999999997
        ],
        [
         48.230230999999996,
         16.371142000000003
        ],
        [
         48.230232,
         16.371151
        ],
        [
         48.230224,
         16.371168
        ],
        [
         48.230216999999996,
         16.371168
        ],
        [
         48.230201,
         16.371170000000003
        ],
        [
         48.230177000000005,
         16.371179
        ],
        [
         48.230115999999995,
         16.371175
        ],
        [
         48.230078000000006,
         16.371194
        ],
        [
         48.230039,
         16.371226999999998
        ],
        [
         48.230028999999995,
         16.37118
        ],
        [
         48.230121999999994,
         16.371151
        ],
        [
         48.230129,
         16.371176000000002
        ],
        [
         48.230149,
         16.371217
        ],
        [
         48.230049,
         16.371292
        ],
        [
         48.229914,
         16.371351999999998
        ],
        [
         48.229876000000004,
         16.371431
        ],
        [
         48.229946999999996,
         16.37151
        ],
        [
         48.229877,
         16.371592
        ],
        [
         48.229801,
         16.371647
        ],
        [
         48.230193,
         16.371605
        ],
        [
         48.230208000000005,
         16.371574
        ],
        [
         48.230222999999995,
         16.371606
        ],
        [
         48.230234,
         16.371644
        ],
        [
         48.230215,
         16.371639000000002
        ],
        [
         48.230432,
         16.371805
        ],
        [
         48.230444,
         16.371857000000002
        ],
        [
         48.230261,
         16.371916
        ],
        [
         48.230071,
         16.371928
        ],
        [
         48.229956,
         16.37197
        ],
        [
         48.229859999999995,
         16.371951
        ],
        [
         48.229714,
         16.371969
        ],
        [
         48.229492,
         16.372019
        ],
        [
         48.229378000000004,
         16.372071
        ],
        [
         48.229411,
         16.372048
        ],
        [
         48.229354,
         16.372153
        ],
        [
         48.229279999999996,
         16.372244
        ],
        [
         48.229088,
         16.372322
        ],
        [
         48.228955,
         16.372478
        ],
        [
         48.228842,
         16.372575
        ],
        [
         48.22886,
         16.372507000000002
        ],
        [
         48.228899,
         16.372514000000002
        ],
        [
         48.228826,
         16.372609
        ],
        [
         48.228896999999996,
         16.372654
        ],
        [
         48.228946,
         16.372692999999998
        ],
        [
         48.22895,
         16.372706
        ],
        [
         48.228955,
         16.37271
        ],
        [
         48.229056,
         16.37275
        ],
        [
         48.228833,
         16.372992
        ],
        [
         48.228724,
         16.373047
        ],
        [
         48.228867,
         16.373023999999997
        ],
        [
         48.228857,
         16.373132000000002
        ],
        [
         48.228840999999996,
         16.373286
        ],
        [
         48.228916999999996,
         16.373669
        ],
        [
         48.228958,
         16.373889000000002
        ],
        [
         48.228978999999995,
         16.374126
        ],
        [
         48.228764,
         16.373765
        ],
        [
         48.228583,
         16.373561
        ],
        [
         48.228536,
         16.373542
        ],
        [
         48.228476,
         16.373509
        ],
        [
         48.228435,
         16.373516
        ],
        [
         48.228395,
         16.373531
        ],
        [
         48.228371,
         16.373535999999998
        ],
        [
         48.228336999999996,
         16.373534
        ],
        [
         48.228322999999996,
         16.373542
        ],
        [
         48.2283,
         16.37354
        ],
        [
         48.228299,
         16.373547
        ],
        [
         48.228293,
         16.373531
        ],
        [
         48.228286,
         16.373502
        ],
        [
         48.228295,
         16.373478
        ],
        [
         48.228277,
         16.37346
        ],
        [
         48.228279,
         16.373401
        ],
        [
         48.228276,
         16.373332
        ],
        [
         48.228232,
         16.373262
        ],
        [
         48.228183,
         16.373178
        ],
        [
         48.228165999999995,
         16.373104
        ],
        [
         48.228141,
         16.373034
        ],
        [
         48.228108,
         16.372938
        ],
        [
         48.228079,
         16.372861999999998
        ],
        [
         48.228063,
         16.372782
        ],
        [
         48.22802,
         16.372711
        ],
        [
         48.227994,
         16.372622
        ],
        [
         48.227959999999996,
         16.372564
        ],
        [
         48.227956,
         16.372447
        ],
        [
         48.22793,
         16.372357
        ],
        [
         48.227884,
         16.372301999999998
        ],
        [
         48.227871,
         16.372294
        ],
        [
         48.227858000000005,
         16.372286
        ],
        [
         48.227823,
         16.372239
        ],
        [
         48.227776,
         16.372196
        ],
        [
         48.227716,
         16.372151000000002
        ],
        [
         48.227663,
         16.372103
        ],
        [
         48.227604,
         16.372042
        ],
        [
         48.227527,
         16.372006
        ],
        [
         48.227464000000005,
         16.371945999999998
        ],
        [
         48.227405,
         16.371907
        ],
        [
         48.227339,
         16.371859
        ],
        [
         48.227275,
         16.37181
        ],
        [
         48.227219,
         16.371763
        ],
        [
         48.227158,
         16.371719
        ],
        [
         48.227111,
         16.371682
        ],
        [
         48.227062,
         16.371617
        ],
        [
         48.227013,
         16.371567000000002
        ],
        [
         48.226934,
         16.371520999999998
        ],
        [
         48.226888,
         16.371513
        ],
        [
         48.226818,
         16.3715
        ],
        [
         48.226769,
         16.371476
        ],
        [
         48.226732,
         16.371451999999998
        ],
        [
         48.226672,
         16.3714
        ],
        [
         48.226634999999995,
         16.371337
        ],
        [
         48.226585,
         16.371312
        ],
        [
         48.226527000000004,
         16.37132
        ],
        [
         48.226463,
         16.37134
        ],
        [
         48.226399,
         16.37138
        ],
        [
         48.226324,
         16.371397
        ],
        [
         48.226256,
         16.371406
        ],
        [
         48.226198,
         16.371432000000002
        ],
        [
         48.226123,
         16.371469
        ],
        [
         48.226069,
         16.3715
        ],
        [
         48.226007,
         16.371547
        ],
        [
         48.225988,
         16.371597
        ],
        [
         48.225966,
         16.371644
        ],
        [
         48.225952,
         16.371674
        ],
        [
         48.225967,
         16.3717
        ],
        [
         48.225951,
         16.371745
        ],
        [
         48.225921,
         16.371807999999998
        ],
        [
         48.225868,
         16.371892000000003
        ],
        [
         48.225823,
         16.371944
        ],
        [
         48.225787,
         16.371983
        ],
        [
         48.225738,
         16.371982
        ],
        [
         48.225738,
         16.371982
        ],
        [
         48.225738,
         16.371982
        ],
        [
         48.225738,
         16.371982
        ],
        [
         48.225738,
         16.371982
        ],
        [
         48.225738,
         16.371982
        ],
        [
         48.225738,
         16.371982
        ],
        [
         48.225738,
         16.371982
        ],
        [
         48.225738,
         16.371982
        ],
        [
         48.225738,
         16.371982
        ],
        [
         48.225738,
         16.371982
        ],
        [
         48.225738,
         16.371982
        ],
        [
         48.225738,
         16.371982
        ],
        [
         48.225738,
         16.371982
        ],
        [
         48.225738,
         16.371982
        ],
        [
         48.225738,
         16.371982
        ],
        [
         48.225738,
         16.371982
        ],
        [
         48.225738,
         16.371982
        ],
        [
         48.225738,
         16.371982
        ],
        [
         48.225738,
         16.371982
        ],
        [
         48.225738,
         16.371982
        ],
        [
         48.225738,
         16.371982
        ],
        [
         48.225738,
         16.371982
        ],
        [
         48.225738,
         16.371982
        ],
        [
         48.225738,
         16.371982
        ],
        [
         48.225738,
         16.371982
        ],
        [
         48.225738,
         16.371982
        ],
        [
         48.225738,
         16.371982
        ],
        [
         48.225738,
         16.371982
        ],
        [
         48.225738,
         16.371982
        ],
        [
         48.225738,
         16.371982
        ],
        [
         48.225738,
         16.371982
        ],
        [
         48.225738,
         16.371982
        ],
        [
         48.225738,
         16.371982
        ],
        [
         48.225738,
         16.371982
        ],
        [
         48.225738,
         16.371982
        ],
        [
         48.225738,
         16.371982
        ],
        [
         48.225738,
         16.371982
        ],
        [
         48.225738,
         16.371982
        ],
        [
         48.225738,
         16.371982
        ],
        [
         48.225738,
         16.371982
        ],
        [
         48.225738,
         16.371982
        ],
        [
         48.225738,
         16.371982
        ],
        [
         48.225738,
         16.371982
        ],
        [
         48.225738,
         16.371982
        ],
        [
         48.225738,
         16.371982
        ],
        [
         48.225738,
         16.371982
        ],
        [
         48.225738,
         16.371982
        ],
        [
         48.225738,
         16.371982
        ],
        [
         48.225738,
         16.371982
        ],
        [
         48.225738,
         16.371982
        ],
        [
         48.225738,
         16.371982
        ],
        [
         48.225738,
         16.371982
        ],
        [
         48.225738,
         16.371982
        ],
        [
         48.225738,
         16.371982
        ],
        [
         48.225738,
         16.371982
        ],
        [
         48.225738,
         16.371982
        ],
        [
         48.225738,
         16.371982
        ],
        [
         48.225738,
         16.371982
        ],
        [
         48.225738,
         16.371982
        ],
        [
         48.225738,
         16.371982
        ],
        [
         48.225738,
         16.371982
        ],
        [
         48.225738,
         16.371982
        ],
        [
         48.225738,
         16.371982
        ],
        [
         48.225738,
         16.371982
        ],
        [
         48.225738,
         16.371982
        ],
        [
         48.225738,
         16.371982
        ],
        [
         48.225738,
         16.371982
        ],
        [
         48.225738,
         16.371982
        ],
        [
         48.225738,
         16.371982
        ],
        [
         48.225738,
         16.371982
        ],
        [
         48.225738,
         16.371982
        ],
        [
         48.225738,
         16.371982
        ],
        [
         48.225738,
         16.371982
        ],
        [
         48.225738,
         16.371982
        ],
        [
         48.225738,
         16.371982
        ],
        [
         48.225738,
         16.371982
        ],
        [
         48.225738,
         16.371982
        ],
        [
         48.225738,
         16.371982
        ],
        [
         48.225738,
         16.371982
        ],
        [
         48.225738,
         16.371982
        ],
        [
         48.225738,
         16.371982
        ],
        [
         48.225738,
         16.371982
        ],
        [
         48.225738,
         16.371982
        ],
        [
         48.225738,
         16.371982
        ],
        [
         48.225738,
         16.371982
        ],
        [
         48.225738,
         16.371982
        ],
        [
         48.225738,
         16.371982
        ],
        [
         48.225738,
         16.371982
        ],
        [
         48.225738,
         16.371982
        ],
        [
         48.225738,
         16.371982
        ],
        [
         48.225738,
         16.371982
        ],
        [
         48.225738,
         16.371982
        ],
        [
         48.225738,
         16.371982
        ],
        [
         48.225738,
         16.371982
        ],
        [
         48.225738,
         16.371982
        ],
        [
         48.225738,
         16.371982
        ],
        [
         48.225738,
         16.371982
        ],
        [
         48.225738,
         16.371982
        ],
        [
         48.225738,
         16.371982
        ],
        [
         48.225738,
         16.371982
        ],
        [
         48.225738,
         16.371982
        ],
        [
         48.225738,
         16.371982
        ],
        [
         48.225738,
         16.371982
        ],
        [
         48.225738,
         16.371982
        ],
        [
         48.225738,
         16.371982
        ],
        [
         48.225738,
         16.371982
        ],
        [
         48.225738,
         16.371982
        ],
        [
         48.225738,
         16.371982
        ],
        [
         48.225738,
         16.371982
        ],
        [
         48.225738,
         16.371982
        ],
        [
         48.225738,
         16.371982
        ],
        [
         48.225738,
         16.371982
        ],
        [
         48.225738,
         16.371982
        ],
        [
         48.225738,
         16.371982
        ],
        [
         48.225738,
         16.371982
        ],
        [
         48.225738,
         16.371982
        ],
        [
         48.225738,
         16.371982
        ],
        [
         48.225738,
         16.371982
        ],
        [
         48.225738,
         16.371982
        ],
        [
         48.225738,
         16.371982
        ],
        [
         48.225738,
         16.371982
        ],
        [
         48.225738,
         16.371982
        ],
        [
         48.225738,
         16.371982
        ],
        [
         48.225738,
         16.371982
        ],
        [
         48.225738,
         16.371982
        ],
        [
         48.225738,
         16.371982
        ],
        [
         48.225738,
         16.371982
        ],
        [
         48.225738,
         16.371982
        ],
        [
         48.225738,
         16.371982
        ],
        [
         48.225738,
         16.371982
        ],
        [
         48.225738,
         16.371982
        ],
        [
         48.225738,
         16.371982
        ],
        [
         48.225738,
         16.371982
        ],
        [
         48.225738,
         16.371982
        ],
        [
         48.225738,
         16.371982
        ],
        [
         48.225738,
         16.371982
        ],
        [
         48.225738,
         16.371982
        ],
        [
         48.225738,
         16.371982
        ],
        [
         48.225738,
         16.371982
        ],
        [
         48.225738,
         16.371982
        ],
        [
         48.225738,
         16.371982
        ],
        [
         48.225738,
         16.371982
        ],
        [
         48.225738,
         16.371982
        ],
        [
         48.225738,
         16.371982
        ],
        [
         48.225738,
         16.371982
        ],
        [
         48.225738,
         16.371982
        ],
        [
         48.225738,
         16.371982
        ],
        [
         48.225738,
         16.371982
        ],
        [
         48.225738,
         16.371982
        ],
        [
         48.225738,
         16.371982
        ],
        [
         48.225738,
         16.371982
        ],
        [
         48.225738,
         16.371982
        ],
        [
         48.225738,
         16.371982
        ],
        [
         48.225738,
         16.371982
        ],
        [
         48.225738,
         16.371982
        ],
        [
         48.225738,
         16.371982
        ],
        [
         48.225738,
         16.371982
        ],
        [
         48.225738,
         16.371982
        ],
        [
         48.225738,
         16.371982
        ],
        [
         48.225738,
         16.371982
        ],
        [
         48.225738,
         16.371982
        ],
        [
         48.225738,
         16.371982
        ],
        [
         48.225738,
         16.371982
        ],
        [
         48.225738,
         16.371982
        ],
        [
         48.225738,
         16.371982
        ],
        [
         48.225738,
         16.371982
        ],
        [
         48.225738,
         16.371982
        ],
        [
         48.225738,
         16.371982
        ],
        [
         48.225738,
         16.371982
        ],
        [
         48.225738,
         16.371982
        ],
        [
         48.225738,
         16.371982
        ],
        [
         48.225738,
         16.371982
        ],
        [
         48.225738,
         16.371982
        ],
        [
         48.225738,
         16.371982
        ],
        [
         48.225738,
         16.371982
        ],
        [
         48.225738,
         16.371982
        ],
        [
         48.225738,
         16.371982
        ],
        [
         48.225738,
         16.371982
        ],
        [
         48.225738,
         16.371982
        ],
        [
         48.225738,
         16.371982
        ],
        [
         48.225738,
         16.371982
        ],
        [
         48.225738,
         16.371982
        ],
        [
         48.225738,
         16.371982
        ],
        [
         48.225738,
         16.371982
        ],
        [
         48.225738,
         16.371982
        ],
        [
         48.225738,
         16.371982
        ],
        [
         48.225738,
         16.371982
        ],
        [
         48.225738,
         16.371982
        ],
        [
         48.225738,
         16.371982
        ],
        [
         48.225738,
         16.371982
        ],
        [
         48.225738,
         16.371982
        ],
        [
         48.225738,
         16.371982
        ],
        [
         48.225738,
         16.371982
        ],
        [
         48.225738,
         16.371982
        ],
        [
         48.225738,
         16.371982
        ],
        [
         48.225738,
         16.371982
        ],
        [
         48.225738,
         16.371982
        ],
        [
         48.225738,
         16.371982
        ],
        [
         48.225738,
         16.371982
        ],
        [
         48.225738,
         16.371982
        ],
        [
         48.225738,
         16.371982
        ],
        [
         48.225738,
         16.371982
        ],
        [
         48.225738,
         16.371982
        ],
        [
         48.225738,
         16.371982
        ],
        [
         48.225738,
         16.371982
        ],
        [
         48.225738,
         16.371982
        ],
        [
         48.225738,
         16.371982
        ],
        [
         48.225738,
         16.371982
        ],
        [
         48.225738,
         16.371982
        ],
        [
         48.225738,
         16.371982
        ],
        [
         48.225738,
         16.371982
        ],
        [
         48.225738,
         16.371982
        ],
        [
         48.225738,
         16.371982
        ],
        [
         48.225738,
         16.371982
        ],
        [
         48.225738,
         16.371982
        ],
        [
         48.225738,
         16.371982
        ],
        [
         48.225738,
         16.371982
        ],
        [
         48.225738,
         16.371982
        ],
        [
         48.225738,
         16.371982
        ],
        [
         48.225738,
         16.371982
        ],
        [
         48.225738,
         16.371982
        ],
        [
         48.225738,
         16.371982
        ],
        [
         48.225738,
         16.371982
        ],
        [
         48.225738,
         16.371982
        ],
        [
         48.225738,
         16.371982
        ],
        [
         48.225738,
         16.371982
        ],
        [
         48.225738,
         16.371982
        ],
        [
         48.225738,
         16.371982
        ],
        [
         48.225738,
         16.371982
        ],
        [
         48.225738,
         16.371982
        ],
        [
         48.225738,
         16.371982
        ],
        [
         48.225738,
         16.371982
        ],
        [
         48.225738,
         16.371982
        ],
        [
         48.225738,
         16.371982
        ],
        [
         48.225738,
         16.371982
        ],
        [
         48.225738,
         16.371982
        ],
        [
         48.225738,
         16.371982
        ],
        [
         48.225738,
         16.371982
        ],
        [
         48.225738,
         16.371982
        ],
        [
         48.225738,
         16.371982
        ],
        [
         48.225738,
         16.371982
        ],
        [
         48.225738,
         16.371982
        ],
        [
         48.225738,
         16.371982
        ],
        [
         48.225738,
         16.371982
        ],
        [
         48.225738,
         16.371982
        ],
        [
         48.225738,
         16.371982
        ],
        [
         48.225738,
         16.371982
        ],
        [
         48.225738,
         16.371982
        ],
        [
         48.225738,
         16.371982
        ],
        [
         48.225738,
         16.371982
        ],
        [
         48.225738,
         16.371982
        ],
        [
         48.225738,
         16.371982
        ],
        [
         48.225738,
         16.371982
        ],
        [
         48.225738,
         16.371982
        ],
        [
         48.225738,
         16.371982
        ],
        [
         48.225738,
         16.371982
        ],
        [
         48.225738,
         16.371982
        ],
        [
         48.225738,
         16.371982
        ],
        [
         48.225738,
         16.371982
        ],
        [
         48.225738,
         16.371982
        ],
        [
         48.225738,
         16.371982
        ],
        [
         48.225738,
         16.371982
        ],
        [
         48.225738,
         16.371982
        ],
        [
         48.225738,
         16.371982
        ],
        [
         48.225738,
         16.371982
        ],
        [
         48.225738,
         16.371982
        ],
        [
         48.225738,
         16.371982
        ],
        [
         48.225738,
         16.371982
        ],
        [
         48.225738,
         16.371982
        ],
        [
         48.225738,
         16.371982
        ],
        [
         48.225738,
         16.371982
        ],
        [
         48.225738,
         16.371982
        ],
        [
         48.225738,
         16.371982
        ],
        [
         48.218852000000005,
         16.380985
        ],
        [
         48.218779,
         16.380979999999997
        ],
        [
         48.218779,
         16.381002
        ],
        [
         48.218695000000004,
         16.380962
        ],
        [
         48.218681,
         16.380967000000002
        ],
        [
         48.218646,
         16.380985
        ],
        [
         48.218675,
         16.38102
        ],
        [
         48.218656,
         16.381031
        ],
        [
         48.218656,
         16.38105
        ],
        [
         48.218619,
         16.381069
        ],
        [
         48.218619,
         16.381104999999998
        ],
        [
         48.218478000000005,
         16.381089000000003
        ],
        [
         48.218361,
         16.381052
        ],
        [
         48.218253000000004,
         16.380986
        ],
        [
         48.218117,
         16.38091
        ],
        [
         48.21804,
         16.380857000000002
        ],
        [
         48.218005,
         16.380828
        ],
        [
         48.217968,
         16.380807
        ],
        [
         48.217981,
         16.380797
        ],
        [
         48.217985,
         16.380804
        ],
        [
         48.217928,
         16.380827
        ],
        [
         48.217839,
         16.380841
        ],
        [
         48.217729999999996,
         16.380810999999998
        ],
        [
         48.217696000000004,
         16.380804
        ],
        [
         48.2176,
         16.380675
        ],
        [
         48.217459000000005,
         16.380592
        ],
        [
         48.21732,
         16.380554
        ],
        [
         48.217178999999994,
         16.380566
        ],
        [
         48.217197,
         16.38062
        ],
        [
         48.217327000000004,
         16.380746
        ]
       ],
       "name": "Trail",
       "options": [
        "color",
        "dash_array",
        "delay",
        "hardware_accelerated",
        "paused",
        "pulse_color",
        "radius",
        "reverse",
        "use",
        "weight"
       ],
       "pulse_color": "#3f6fba"
      }
     },
     "81fcecb95f0b4fbfb5763d9a0be097df": {
      "model_module": "jupyter-leaflet",
      "model_module_version": "^0.13.2",
      "model_name": "LeafletSplitMapControlModel",
      "state": {
       "_model_module_version": "^0.13.2",
       "_model_name": "LeafletSplitMapControlModel",
       "_view_module_version": "^0.13.2",
       "_view_name": "LeafletSplitMapControlView",
       "left_layer": "IPY_MODEL_5072d821002f46a8bb576175337cb6d7",
       "options": [
        "position"
       ],
       "right_layer": "IPY_MODEL_0c18145acf894fc3955f2db7752f1f65"
      }
     },
     "86c958ab4a974ff0b6763131c6034afe": {
      "model_module": "jupyter-leaflet",
      "model_module_version": "^0.13.2",
      "model_name": "LeafletScaleControlModel",
      "state": {
       "_model_module_version": "^0.13.2",
       "_view_module_version": "^0.13.2",
       "imperial": false,
       "max_width": 100,
       "metric": true,
       "options": [
        "imperial",
        "max_width",
        "metric",
        "position",
        "update_when_idle"
       ],
       "position": "bottomleft",
       "update_when_idle": false
      }
     },
     "87956c5dfebf49dfaefa11d7394d792b": {
      "model_module": "jupyter-leaflet",
      "model_module_version": "^0.13.2",
      "model_name": "LeafletMapStyleModel",
      "state": {
       "_model_module_version": "^0.13.2"
      }
     },
     "885c041af1f94fd2bf8351856bff56cf": {
      "model_module": "jupyter-leaflet",
      "model_module_version": "^0.13.2",
      "model_name": "LeafletMarkerModel",
      "state": {
       "_model_module_version": "^0.13.2",
       "_view_module_version": "^0.13.2",
       "icon": "IPY_MODEL_a9714de54ea0436fb1b406c843cb2db1",
       "location": [
        48.233513,
        16.374668
       ],
       "options": [
        "alt",
        "draggable",
        "keyboard",
        "rise_offset",
        "rise_on_hover",
        "rotation_angle",
        "rotation_origin",
        "title",
        "z_index_offset"
       ]
      }
     },
     "8a0b622157874a9f98dde5abd8364faa": {
      "model_module": "jupyter-leaflet",
      "model_module_version": "^0.13.2",
      "model_name": "LeafletMapStyleModel",
      "state": {
       "_model_module_version": "^0.13.2"
      }
     },
     "8d661349edb1448bac203473fce9c6ec": {
      "model_module": "jupyter-leaflet",
      "model_module_version": "^0.13.2",
      "model_name": "LeafletMarkerModel",
      "state": {
       "_model_module_version": "^0.13.2",
       "_view_module_version": "^0.13.2",
       "icon": "IPY_MODEL_a9714de54ea0436fb1b406c843cb2db1",
       "location": [
        48.235084,
        16.370098000000002
       ],
       "options": [
        "alt",
        "draggable",
        "keyboard",
        "rise_offset",
        "rise_on_hover",
        "rotation_angle",
        "rotation_origin",
        "title",
        "z_index_offset"
       ]
      }
     },
     "8e1deec0f99941b7a0c6342d26eb8f46": {
      "model_module": "@jupyter-widgets/controls",
      "model_module_version": "1.5.0",
      "model_name": "IntSliderModel",
      "state": {
       "description": "Zoom level:",
       "layout": "IPY_MODEL_ded3c77bca5540c1acc3c7dcba84b016",
       "max": 20,
       "min": 10,
       "style": "IPY_MODEL_acc49f6bf47e4976b1c8cedd9a05595a",
       "value": 18
      }
     },
     "8e64a05e6365407c8b41202c6ba0e15e": {
      "model_module": "jupyter-leaflet",
      "model_module_version": "^0.13.2",
      "model_name": "LeafletMapStyleModel",
      "state": {
       "_model_module_version": "^0.13.2"
      }
     },
     "909e69291ad141948a9334e29dd14d5a": {
      "model_module": "jupyter-leaflet",
      "model_module_version": "^0.13.2",
      "model_name": "LeafletScaleControlModel",
      "state": {
       "_model_module_version": "^0.13.2",
       "_view_module_version": "^0.13.2",
       "imperial": false,
       "max_width": 100,
       "metric": true,
       "options": [
        "imperial",
        "max_width",
        "metric",
        "position",
        "update_when_idle"
       ],
       "position": "bottomleft",
       "update_when_idle": false
      }
     },
     "93e7cb772f554327a6da005214c54efa": {
      "model_module": "jupyter-leaflet",
      "model_module_version": "^0.13.2",
      "model_name": "LeafletTileLayerModel",
      "state": {
       "_model_module_version": "^0.13.2",
       "_view_module_version": "^0.13.2",
       "attribution": "Tiles &copy; Esri &mdash; Source: Esri, DeLorme, NAVTEQ, USGS, Intermap, iPC, NRCAN, Esri Japan, METI, Esri China (Hong Kong), Esri (Thailand), TomTom, 2012",
       "max_native_zoom": 18,
       "max_zoom": 20,
       "min_native_zoom": 0,
       "min_zoom": 1,
       "name": "Esri.WorldStreetMap",
       "options": [
        "attribution",
        "detect_retina",
        "max_native_zoom",
        "max_zoom",
        "min_native_zoom",
        "min_zoom",
        "no_wrap",
        "tile_size",
        "tms"
       ],
       "url": "http://server.arcgisonline.com/ArcGIS/rest/services/World_Street_Map/MapServer/tile/{z}/{y}/{x}"
      }
     },
     "9447b574baf7448cb363cb00f3e2fb5a": {
      "model_module": "jupyter-leaflet",
      "model_module_version": "^0.13.2",
      "model_name": "LeafletMapStyleModel",
      "state": {
       "_model_module_version": "^0.13.2"
      }
     },
     "958136fa45614d6da9ce362262bcc3ab": {
      "model_module": "jupyter-leaflet",
      "model_module_version": "^0.13.2",
      "model_name": "LeafletMarkerModel",
      "state": {
       "_model_module_version": "^0.13.2",
       "_view_module_version": "^0.13.2",
       "icon": "IPY_MODEL_a9714de54ea0436fb1b406c843cb2db1",
       "location": [
        48.232615,
        16.374924
       ],
       "options": [
        "alt",
        "draggable",
        "keyboard",
        "rise_offset",
        "rise_on_hover",
        "rotation_angle",
        "rotation_origin",
        "title",
        "z_index_offset"
       ]
      }
     },
     "987aece7b4084c989b34cacbbcdf91ed": {
      "model_module": "jupyter-leaflet",
      "model_module_version": "^0.13.2",
      "model_name": "LeafletTileLayerModel",
      "state": {
       "_model_module_version": "^0.13.2",
       "_view_module_version": "^0.13.2",
       "base": true,
       "max_native_zoom": 18,
       "max_zoom": 19,
       "min_native_zoom": 0,
       "min_zoom": 1,
       "options": [
        "attribution",
        "detect_retina",
        "max_native_zoom",
        "max_zoom",
        "min_native_zoom",
        "min_zoom",
        "no_wrap",
        "tile_size",
        "tms"
       ]
      }
     },
     "9a94f5dc27eb40b08d82b53959514be7": {
      "model_module": "jupyter-leaflet",
      "model_module_version": "^0.13.2",
      "model_name": "LeafletLayersControlModel",
      "state": {
       "_model_module_version": "^0.13.2",
       "_view_module_version": "^0.13.2",
       "options": [
        "position"
       ],
       "position": "topright"
      }
     },
     "9b0770d3b0974203ab884ad5fa3fd6d9": {
      "model_module": "jupyter-leaflet",
      "model_module_version": "^0.13.2",
      "model_name": "LeafletMarkerModel",
      "state": {
       "_model_module_version": "^0.13.2",
       "_view_module_version": "^0.13.2",
       "icon": "IPY_MODEL_f7e6f4eeb5ec49deb9c094aefb5ff7bb",
       "location": [
        48.233536,
        16.374654
       ],
       "options": [
        "alt",
        "draggable",
        "keyboard",
        "rise_offset",
        "rise_on_hover",
        "rotation_angle",
        "rotation_origin",
        "title",
        "z_index_offset"
       ]
      }
     },
     "9b8b5d99f6924b8e8c90c1ccebd9930a": {
      "model_module": "jupyter-leaflet",
      "model_module_version": "^0.13.2",
      "model_name": "LeafletLayersControlModel",
      "state": {
       "_model_module_version": "^0.13.2",
       "_view_module_version": "^0.13.2",
       "options": [
        "position"
       ],
       "position": "topright"
      }
     },
     "9d28f44174c747e6bcbff1f6b5546832": {
      "model_module": "jupyter-leaflet",
      "model_module_version": "^0.13.2",
      "model_name": "LeafletMapStyleModel",
      "state": {
       "_model_module_version": "^0.13.2"
      }
     },
     "9dccbbc1519b466dadd2fe0faed8cabb": {
      "model_module": "jupyter-leaflet",
      "model_module_version": "^0.13.2",
      "model_name": "LeafletMarkerModel",
      "state": {
       "_model_module_version": "^0.13.2",
       "_view_module_version": "^0.13.2",
       "icon": "IPY_MODEL_a9714de54ea0436fb1b406c843cb2db1",
       "location": [
        48.233894,
        16.373085
       ],
       "options": [
        "alt",
        "draggable",
        "keyboard",
        "rise_offset",
        "rise_on_hover",
        "rotation_angle",
        "rotation_origin",
        "title",
        "z_index_offset"
       ]
      }
     },
     "9e4c10c2813f4668966191f680b854db": {
      "model_module": "jupyter-leaflet",
      "model_module_version": "^0.13.2",
      "model_name": "LeafletMeasureControlModel",
      "state": {
       "_model_module_version": "^0.13.2",
       "_view_module_version": "^0.13.2",
       "active_color": "orange",
       "completed_color": "blue",
       "options": [
        "active_color",
        "capture_z_index",
        "completed_color",
        "popup_options",
        "position",
        "primary_area_unit",
        "primary_length_unit",
        "secondary_area_unit",
        "secondary_length_unit"
       ],
       "position": "bottomleft",
       "primary_area_unit": "sqmeters",
       "primary_length_unit": "meters",
       "secondary_area_unit": null,
       "secondary_length_unit": null
      }
     },
     "a1a4dee7140b4ea0963833614d01dbdd": {
      "model_module": "jupyter-leaflet",
      "model_module_version": "^0.13.2",
      "model_name": "LeafletMapStyleModel",
      "state": {
       "_model_module_version": "^0.13.2",
       "cursor": "move"
      }
     },
     "a515e6021ce5422f8e0b1899985bffd7": {
      "model_module": "jupyter-leaflet",
      "model_module_version": "^0.13.2",
      "model_name": "LeafletScaleControlModel",
      "state": {
       "_model_module_version": "^0.13.2",
       "_view_module_version": "^0.13.2",
       "imperial": false,
       "max_width": 100,
       "metric": true,
       "options": [
        "imperial",
        "max_width",
        "metric",
        "position",
        "update_when_idle"
       ],
       "position": "bottomleft",
       "update_when_idle": false
      }
     },
     "a7d4171776914ca0b6629c213f5ae5dd": {
      "model_module": "@jupyter-widgets/controls",
      "model_module_version": "1.5.0",
      "model_name": "LinkModel",
      "state": {
       "source": [
        "IPY_MODEL_c8dc46b97688472297df8ed230a365f7",
        "value"
       ],
       "target": [
        "IPY_MODEL_7ca8569ff5864ddbbd85025aa8f7d8f2",
        "zoom"
       ]
      }
     },
     "a9714de54ea0436fb1b406c843cb2db1": {
      "model_module": "jupyter-leaflet",
      "model_module_version": "^0.13.2",
      "model_name": "LeafletIconModel",
      "state": {
       "_model_module_version": "^0.13.2",
       "_view_module_version": "^0.13.2",
       "icon_size": [
        30,
        40
       ],
       "icon_url": "icons/tree.png",
       "options": [
        "icon_anchor",
        "icon_size",
        "icon_url",
        "popup_anchor",
        "shadow_anchor",
        "shadow_size",
        "shadow_url"
       ],
       "shadow_url": null
      }
     },
     "a9f5bdf11d4a40eb856e0b478190415a": {
      "model_module": "jupyter-leaflet",
      "model_module_version": "^0.13.2",
      "model_name": "LeafletMapStyleModel",
      "state": {
       "_model_module_version": "^0.13.2"
      }
     },
     "abc902eead624f73a73fce3ba4e00120": {
      "model_module": "jupyter-leaflet",
      "model_module_version": "^0.13.2",
      "model_name": "LeafletScaleControlModel",
      "state": {
       "_model_module_version": "^0.13.2",
       "_view_module_version": "^0.13.2",
       "imperial": false,
       "max_width": 100,
       "metric": true,
       "options": [
        "imperial",
        "max_width",
        "metric",
        "position",
        "update_when_idle"
       ],
       "position": "bottomleft",
       "update_when_idle": false
      }
     },
     "ac6d73a83be041b9984e30478e465030": {
      "model_module": "jupyter-leaflet",
      "model_module_version": "^0.13.2",
      "model_name": "LeafletZoomControlModel",
      "state": {
       "_model_module_version": "^0.13.2",
       "_view_module_version": "^0.13.2",
       "options": [
        "position",
        "zoom_in_text",
        "zoom_in_title",
        "zoom_out_text",
        "zoom_out_title"
       ]
      }
     },
     "acc49f6bf47e4976b1c8cedd9a05595a": {
      "model_module": "@jupyter-widgets/controls",
      "model_module_version": "1.5.0",
      "model_name": "SliderStyleModel",
      "state": {
       "description_width": ""
      }
     },
     "ad9b98f5e6584131b07a64f7da5312bd": {
      "model_module": "@jupyter-widgets/controls",
      "model_module_version": "1.5.0",
      "model_name": "LinkModel",
      "state": {
       "source": [
        "IPY_MODEL_b21ebbefc6b545a2abd3d8194bb314c7",
        "value"
       ],
       "target": [
        "IPY_MODEL_24a2029528cc4917b1982690a90e4f2b",
        "zoom"
       ]
      }
     },
     "af5528719e884659bd4ba49c7d9adfd6": {
      "model_module": "jupyter-leaflet",
      "model_module_version": "^0.13.2",
      "model_name": "LeafletLayersControlModel",
      "state": {
       "_model_module_version": "^0.13.2",
       "_view_module_version": "^0.13.2",
       "options": [
        "position"
       ],
       "position": "topright"
      }
     },
     "af7c0a3d97fe44779dec4147f2ed92e3": {
      "model_module": "jupyter-leaflet",
      "model_module_version": "^0.13.2",
      "model_name": "LeafletMarkerModel",
      "state": {
       "_model_module_version": "^0.13.2",
       "_view_module_version": "^0.13.2",
       "icon": "IPY_MODEL_47139d2718e44c5d96b690875addd5a2",
       "location": [
        48.232625,
        16.369195
       ],
       "options": [
        "alt",
        "draggable",
        "keyboard",
        "rise_offset",
        "rise_on_hover",
        "rotation_angle",
        "rotation_origin",
        "title",
        "z_index_offset"
       ]
      }
     },
     "b21ebbefc6b545a2abd3d8194bb314c7": {
      "model_module": "@jupyter-widgets/controls",
      "model_module_version": "1.5.0",
      "model_name": "IntSliderModel",
      "state": {
       "description": "Zoom level:",
       "layout": "IPY_MODEL_b3769d4aeae546c284ad785d06cdb132",
       "max": 20,
       "min": 10,
       "style": "IPY_MODEL_c876b5e86b4a4522add9078b3bed4eb2",
       "value": 16
      }
     },
     "b3769d4aeae546c284ad785d06cdb132": {
      "model_module": "@jupyter-widgets/base",
      "model_module_version": "1.2.0",
      "model_name": "LayoutModel",
      "state": {}
     },
     "b5282d119ccb4f3c9d2ddcb3c833fd74": {
      "model_module": "jupyter-leaflet",
      "model_module_version": "^0.13.2",
      "model_name": "LeafletSplitMapControlModel",
      "state": {
       "_model_module_version": "^0.13.2",
       "_model_name": "LeafletSplitMapControlModel",
       "_view_module_version": "^0.13.2",
       "_view_name": "LeafletSplitMapControlView",
       "left_layer": "IPY_MODEL_d935c4b941f54a0e97e86b0f60573d1d",
       "options": [
        "position"
       ],
       "right_layer": "IPY_MODEL_ebddfbcc2ccc475b85fffcdda8ea480f"
      }
     },
     "b6eb2ab74da04227baf3b74bdce11685": {
      "model_module": "jupyter-leaflet",
      "model_module_version": "^0.13.2",
      "model_name": "LeafletMapModel",
      "state": {
       "_model_module_version": "^0.13.2",
       "_view_module_version": "^0.13.2",
       "bottom": 5816168,
       "center": [
        48.231139,
        16.374955
       ],
       "controls": [
        "IPY_MODEL_2703d9f80ea145298e55df9dac43e035",
        "IPY_MODEL_cc918d2e6e1e43468369d823b23acbee",
        "IPY_MODEL_81fcecb95f0b4fbfb5763d9a0be097df",
        "IPY_MODEL_faf3d58c4a89455589183ddb6392240e",
        "IPY_MODEL_2f0208fc824048b6888606a1d9d40e10",
        "IPY_MODEL_909e69291ad141948a9334e29dd14d5a",
        "IPY_MODEL_4ea0a77ff6ae405db2a9995a56df98f0"
       ],
       "default_style": "IPY_MODEL_8a0b622157874a9f98dde5abd8364faa",
       "dragging_style": "IPY_MODEL_4ed088e6957540c1846c23f2e83abda1",
       "east": 16.385250091552738,
       "fullscreen": false,
       "interpolation": "bilinear",
       "layers": [
        "IPY_MODEL_0afe9009f9ac4a43891bfe8a8555ced5"
       ],
       "layout": "IPY_MODEL_714b8532db09498aaef80da054a3a5b6",
       "left": 9151256,
       "modisdate": "yesterday",
       "north": 48.235421620572104,
       "options": [
        "bounce_at_zoom_limits",
        "box_zoom",
        "center",
        "close_popup_on_click",
        "double_click_zoom",
        "dragging",
        "fullscreen",
        "inertia",
        "inertia_deceleration",
        "inertia_max_speed",
        "interpolation",
        "keyboard",
        "keyboard_pan_offset",
        "keyboard_zoom_offset",
        "max_zoom",
        "min_zoom",
        "scroll_wheel_zoom",
        "tap",
        "tap_tolerance",
        "touch_zoom",
        "world_copy_jump",
        "zoom",
        "zoom_animation_threshold",
        "zoom_delta",
        "zoom_snap",
        "zoom_start"
       ],
       "right": 9152216,
       "south": 48.22684549597699,
       "style": "IPY_MODEL_8a0b622157874a9f98dde5abd8364faa",
       "top": 5815568,
       "west": 16.364650726318363,
       "window_url": "http://localhost:8888/lab",
       "zoom": 16
      }
     },
     "b7376cbeab4d470d9d226129a07d4b38": {
      "model_module": "jupyter-leaflet",
      "model_module_version": "^0.13.2",
      "model_name": "LeafletFullScreenControlModel",
      "state": {
       "_model_module_version": "^0.13.2",
       "_view_module_version": "^0.13.2",
       "options": [
        "position"
       ]
      }
     },
     "b96ce589a86b445fa164b7754bca23ca": {
      "model_module": "@jupyter-widgets/base",
      "model_module_version": "1.2.0",
      "model_name": "LayoutModel",
      "state": {}
     },
     "bc10bcf87fd5491f96275a49847b3c5c": {
      "model_module": "jupyter-leaflet",
      "model_module_version": "^0.13.2",
      "model_name": "LeafletAttributionControlModel",
      "state": {
       "_model_module_version": "^0.13.2",
       "_view_module_version": "^0.13.2",
       "options": [
        "position",
        "prefix"
       ],
       "position": "bottomright",
       "prefix": "ipyleaflet"
      }
     },
     "bdf51bda213a45f193706b7008717b33": {
      "model_module": "@jupyter-widgets/controls",
      "model_module_version": "1.5.0",
      "model_name": "IntSliderModel",
      "state": {
       "description": "Zoom level:",
       "layout": "IPY_MODEL_fb07fc6b644d47f3a3954b0837408733",
       "max": 20,
       "min": 10,
       "style": "IPY_MODEL_e2938ca4b2f148b3bb81135dd3458374",
       "value": 16
      }
     },
     "be7e016abd864d499aaa5f4d5eb26b91": {
      "model_module": "jupyter-leaflet",
      "model_module_version": "^0.13.2",
      "model_name": "LeafletAttributionControlModel",
      "state": {
       "_model_module_version": "^0.13.2",
       "_view_module_version": "^0.13.2",
       "options": [
        "position",
        "prefix"
       ],
       "position": "bottomright",
       "prefix": "ipyleaflet"
      }
     },
     "bf2e8b0506d442d9b73c29c3aa840eeb": {
      "model_module": "jupyter-leaflet",
      "model_module_version": "^0.13.2",
      "model_name": "LeafletWidgetControlModel",
      "state": {
       "_model_module": "jupyter-leaflet",
       "_model_module_version": "^0.13.2",
       "_view_count": null,
       "_view_module": "jupyter-leaflet",
       "_view_module_version": "^0.13.2",
       "options": [
        "position"
       ],
       "position": "topright",
       "widget": "IPY_MODEL_fb7cefae41004ded94192f2a5f2266bf"
      }
     },
     "bf4ff175031c47adac713faadd67a8bb": {
      "model_module": "jupyter-leaflet",
      "model_module_version": "^0.13.2",
      "model_name": "LeafletMarkerModel",
      "state": {
       "_model_module_version": "^0.13.2",
       "_view_module_version": "^0.13.2",
       "icon": "IPY_MODEL_a9714de54ea0436fb1b406c843cb2db1",
       "location": [
        48.235334,
        16.372338
       ],
       "options": [
        "alt",
        "draggable",
        "keyboard",
        "rise_offset",
        "rise_on_hover",
        "rotation_angle",
        "rotation_origin",
        "title",
        "z_index_offset"
       ]
      }
     },
     "bfcf68539b0e4497a0a7842288db4d71": {
      "model_module": "jupyter-leaflet",
      "model_module_version": "^0.13.2",
      "model_name": "LeafletScaleControlModel",
      "state": {
       "_model_module_version": "^0.13.2",
       "_view_module_version": "^0.13.2",
       "imperial": false,
       "max_width": 100,
       "metric": true,
       "options": [
        "imperial",
        "max_width",
        "metric",
        "position",
        "update_when_idle"
       ],
       "position": "bottomleft",
       "update_when_idle": false
      }
     },
     "c02bfc5692be4d15aedb34548aa1f553": {
      "model_module": "jupyter-leaflet",
      "model_module_version": "^0.13.2",
      "model_name": "LeafletMapStyleModel",
      "state": {
       "_model_module_version": "^0.13.2",
       "cursor": "move"
      }
     },
     "c34c07182f8348839e986749579f3e73": {
      "model_module": "@jupyter-widgets/base",
      "model_module_version": "1.2.0",
      "model_name": "LayoutModel",
      "state": {}
     },
     "c34d5833ac804d70be68c6315c2f992f": {
      "model_module": "jupyter-leaflet",
      "model_module_version": "^0.13.2",
      "model_name": "LeafletMarkerModel",
      "state": {
       "_model_module_version": "^0.13.2",
       "_view_module_version": "^0.13.2",
       "icon": "IPY_MODEL_48aa036322554b2086e1192fc7abf556",
       "location": [
        48.233894,
        16.373085
       ],
       "options": [
        "alt",
        "draggable",
        "keyboard",
        "rise_offset",
        "rise_on_hover",
        "rotation_angle",
        "rotation_origin",
        "title",
        "z_index_offset"
       ]
      }
     },
     "c37f7c70f575420c8c0184a60ee2c513": {
      "model_module": "jupyter-leaflet",
      "model_module_version": "^0.13.2",
      "model_name": "LeafletLayersControlModel",
      "state": {
       "_model_module_version": "^0.13.2",
       "_view_module_version": "^0.13.2",
       "options": [
        "position"
       ],
       "position": "topright"
      }
     },
     "c65a6cd4e84845cd882fdc3b4d17038d": {
      "model_module": "jupyter-leaflet",
      "model_module_version": "^0.13.2",
      "model_name": "LeafletMapModel",
      "state": {
       "_model_module_version": "^0.13.2",
       "_view_module_version": "^0.13.2",
       "bottom": 5816168,
       "center": [
        48.231139,
        16.374955
       ],
       "controls": [
        "IPY_MODEL_4cb3c71fcb2644e4bbb717fa63138d9a",
        "IPY_MODEL_48c6a42907b446d889add45481b3ddf1",
        "IPY_MODEL_052827d532dc481381798695080334a6",
        "IPY_MODEL_cc01a28ccb334154b857480cd054b28d",
        "IPY_MODEL_403e4606ba1e43749263a92a07ebca0e",
        "IPY_MODEL_86c958ab4a974ff0b6763131c6034afe",
        "IPY_MODEL_d8dcb1d1b4904512a1e2c9620263554b"
       ],
       "default_style": "IPY_MODEL_de1c61d85a044f7ea85553bac9e57918",
       "dragging_style": "IPY_MODEL_c02bfc5692be4d15aedb34548aa1f553",
       "east": 16.3866662979126,
       "fullscreen": false,
       "interpolation": "bilinear",
       "layers": [
        "IPY_MODEL_34cd251a39bc435ca80cab9d129f0a6b"
       ],
       "layout": "IPY_MODEL_4aac481e9bc4474ea9c1045c599c03eb",
       "left": 9151190,
       "modisdate": "yesterday",
       "north": 48.235421620572104,
       "options": [
        "bounce_at_zoom_limits",
        "box_zoom",
        "center",
        "close_popup_on_click",
        "double_click_zoom",
        "dragging",
        "fullscreen",
        "inertia",
        "inertia_deceleration",
        "inertia_max_speed",
        "interpolation",
        "keyboard",
        "keyboard_pan_offset",
        "keyboard_zoom_offset",
        "max_zoom",
        "min_zoom",
        "scroll_wheel_zoom",
        "tap",
        "tap_tolerance",
        "touch_zoom",
        "world_copy_jump",
        "zoom",
        "zoom_animation_threshold",
        "zoom_delta",
        "zoom_snap",
        "zoom_start"
       ],
       "right": 9152282,
       "south": 48.22684549597699,
       "style": "IPY_MODEL_de1c61d85a044f7ea85553bac9e57918",
       "top": 5815568,
       "west": 16.3632345199585,
       "window_url": "http://localhost:8888/lab",
       "zoom": 16
      }
     },
     "c7231a745a454ad0888119cb964cc85a": {
      "model_module": "jupyter-leaflet",
      "model_module_version": "^0.13.2",
      "model_name": "LeafletFullScreenControlModel",
      "state": {
       "_model_module_version": "^0.13.2",
       "_view_module_version": "^0.13.2",
       "options": [
        "position"
       ]
      }
     },
     "c84841a3f50b43c981d6b1b3253b95ba": {
      "model_module": "jupyter-leaflet",
      "model_module_version": "^0.13.2",
      "model_name": "LeafletMapStyleModel",
      "state": {
       "_model_module_version": "^0.13.2",
       "cursor": "move"
      }
     },
     "c876b5e86b4a4522add9078b3bed4eb2": {
      "model_module": "@jupyter-widgets/controls",
      "model_module_version": "1.5.0",
      "model_name": "SliderStyleModel",
      "state": {
       "description_width": ""
      }
     },
     "c8b274f1a37b4a358cab1639c99d2cd6": {
      "model_module": "@jupyter-widgets/controls",
      "model_module_version": "1.5.0",
      "model_name": "SliderStyleModel",
      "state": {
       "description_width": ""
      }
     },
     "c8dc46b97688472297df8ed230a365f7": {
      "model_module": "@jupyter-widgets/controls",
      "model_module_version": "1.5.0",
      "model_name": "IntSliderModel",
      "state": {
       "description": "Zoom level:",
       "layout": "IPY_MODEL_78e1b44214bc4c9ca5c4d14eaa2635dd",
       "max": 20,
       "min": 10,
       "style": "IPY_MODEL_13e2b5f0291747bdb4883fbd110bd5a8",
       "value": 16
      }
     },
     "cad30dcd283749c49c5b965c139ca1b3": {
      "model_module": "jupyter-leaflet",
      "model_module_version": "^0.13.2",
      "model_name": "LeafletMapStyleModel",
      "state": {
       "_model_module_version": "^0.13.2",
       "cursor": "move"
      }
     },
     "cbb54213891d478686f22fa548ffc48e": {
      "model_module": "jupyter-leaflet",
      "model_module_version": "^0.13.2",
      "model_name": "LeafletMarkerModel",
      "state": {
       "_model_module_version": "^0.13.2",
       "_view_module_version": "^0.13.2",
       "icon": "IPY_MODEL_f7e6f4eeb5ec49deb9c094aefb5ff7bb",
       "location": [
        48.231945,
        16.371917
       ],
       "options": [
        "alt",
        "draggable",
        "keyboard",
        "rise_offset",
        "rise_on_hover",
        "rotation_angle",
        "rotation_origin",
        "title",
        "z_index_offset"
       ]
      }
     },
     "cc01a28ccb334154b857480cd054b28d": {
      "model_module": "jupyter-leaflet",
      "model_module_version": "^0.13.2",
      "model_name": "LeafletWidgetControlModel",
      "state": {
       "_model_module": "jupyter-leaflet",
       "_model_module_version": "^0.13.2",
       "_view_count": null,
       "_view_module": "jupyter-leaflet",
       "_view_module_version": "^0.13.2",
       "options": [
        "position"
       ],
       "position": "topright",
       "widget": "IPY_MODEL_c8dc46b97688472297df8ed230a365f7"
      }
     },
     "cc918d2e6e1e43468369d823b23acbee": {
      "model_module": "jupyter-leaflet",
      "model_module_version": "^0.13.2",
      "model_name": "LeafletAttributionControlModel",
      "state": {
       "_model_module_version": "^0.13.2",
       "_view_module_version": "^0.13.2",
       "options": [
        "position",
        "prefix"
       ],
       "position": "bottomright",
       "prefix": "ipyleaflet"
      }
     },
     "cf451524ddf04d848f63b04525dbcb30": {
      "model_module": "jupyter-leaflet",
      "model_module_version": "^0.13.2",
      "model_name": "LeafletZoomControlModel",
      "state": {
       "_model_module_version": "^0.13.2",
       "_view_module_version": "^0.13.2",
       "options": [
        "position",
        "zoom_in_text",
        "zoom_in_title",
        "zoom_out_text",
        "zoom_out_title"
       ]
      }
     },
     "d17ecf4c61cc4248818f13c385e0664f": {
      "model_module": "jupyter-leaflet",
      "model_module_version": "^0.13.2",
      "model_name": "LeafletTileLayerModel",
      "state": {
       "_model_module_version": "^0.13.2",
       "_view_module_version": "^0.13.2",
       "base": true,
       "max_native_zoom": 18,
       "max_zoom": 19,
       "min_native_zoom": 0,
       "min_zoom": 1,
       "options": [
        "attribution",
        "detect_retina",
        "max_native_zoom",
        "max_zoom",
        "min_native_zoom",
        "min_zoom",
        "no_wrap",
        "tile_size",
        "tms"
       ]
      }
     },
     "d1c621d6d72d43cab041cc94ed2ee65c": {
      "model_module": "jupyter-leaflet",
      "model_module_version": "^0.13.2",
      "model_name": "LeafletAttributionControlModel",
      "state": {
       "_model_module_version": "^0.13.2",
       "_view_module_version": "^0.13.2",
       "options": [
        "position",
        "prefix"
       ],
       "position": "bottomright",
       "prefix": "ipyleaflet"
      }
     },
     "d1cb00e465fe4f1a9eb28d13a09e1e5a": {
      "model_module": "@jupyter-widgets/controls",
      "model_module_version": "1.5.0",
      "model_name": "SliderStyleModel",
      "state": {
       "description_width": ""
      }
     },
     "d3e4cd1810154d0bae5439530e49bb5f": {
      "model_module": "jupyter-leaflet",
      "model_module_version": "^0.13.2",
      "model_name": "LeafletAntPathModel",
      "state": {
       "_model_module_version": "^0.13.2",
       "_view_module_version": "^0.13.2",
       "color": "#7590ba",
       "dash_array": [
        1,
        10
       ],
       "delay": 2000,
       "locations": [
        [
         48.231194,
         16.372839000000003
        ],
        [
         48.230459,
         16.372595999999998
        ],
        [
         48.230912,
         16.372421
        ],
        [
         48.231109000000004,
         16.372348000000002
        ],
        [
         48.23083,
         16.371501000000002
        ],
        [
         48.23083,
         16.371501000000002
        ],
        [
         48.23083,
         16.371501000000002
        ],
        [
         48.230529,
         16.371344
        ],
        [
         48.230399,
         16.371314
        ],
        [
         48.230340000000005,
         16.371259
        ],
        [
         48.230315000000004,
         16.37119
        ],
        [
         48.230283,
         16.371159
        ],
        [
         48.230273,
         16.371149
        ],
        [
         48.230272,
         16.371146
        ],
        [
         48.230264,
         16.371131
        ],
        [
         48.230246,
         16.371132
        ],
        [
         48.230237,
         16.371129999999997
        ],
        [
         48.230230999999996,
         16.371142000000003
        ],
        [
         48.230232,
         16.371151
        ],
        [
         48.230224,
         16.371168
        ],
        [
         48.230216999999996,
         16.371168
        ],
        [
         48.230201,
         16.371170000000003
        ],
        [
         48.230177000000005,
         16.371179
        ],
        [
         48.230115999999995,
         16.371175
        ],
        [
         48.230078000000006,
         16.371194
        ],
        [
         48.230039,
         16.371226999999998
        ],
        [
         48.230028999999995,
         16.37118
        ],
        [
         48.230121999999994,
         16.371151
        ],
        [
         48.230129,
         16.371176000000002
        ],
        [
         48.230149,
         16.371217
        ],
        [
         48.230049,
         16.371292
        ],
        [
         48.229914,
         16.371351999999998
        ],
        [
         48.229876000000004,
         16.371431
        ],
        [
         48.229946999999996,
         16.37151
        ],
        [
         48.229877,
         16.371592
        ],
        [
         48.229801,
         16.371647
        ],
        [
         48.230193,
         16.371605
        ],
        [
         48.230208000000005,
         16.371574
        ],
        [
         48.230222999999995,
         16.371606
        ],
        [
         48.230234,
         16.371644
        ],
        [
         48.230215,
         16.371639000000002
        ],
        [
         48.230432,
         16.371805
        ],
        [
         48.230444,
         16.371857000000002
        ],
        [
         48.230261,
         16.371916
        ],
        [
         48.230071,
         16.371928
        ],
        [
         48.229956,
         16.37197
        ],
        [
         48.229859999999995,
         16.371951
        ],
        [
         48.229714,
         16.371969
        ],
        [
         48.229492,
         16.372019
        ],
        [
         48.229378000000004,
         16.372071
        ],
        [
         48.229411,
         16.372048
        ],
        [
         48.229354,
         16.372153
        ],
        [
         48.229279999999996,
         16.372244
        ],
        [
         48.229088,
         16.372322
        ],
        [
         48.228955,
         16.372478
        ],
        [
         48.228842,
         16.372575
        ],
        [
         48.22886,
         16.372507000000002
        ],
        [
         48.228899,
         16.372514000000002
        ],
        [
         48.228826,
         16.372609
        ],
        [
         48.228896999999996,
         16.372654
        ],
        [
         48.228946,
         16.372692999999998
        ],
        [
         48.22895,
         16.372706
        ],
        [
         48.228955,
         16.37271
        ],
        [
         48.229056,
         16.37275
        ],
        [
         48.228833,
         16.372992
        ],
        [
         48.228724,
         16.373047
        ],
        [
         48.228867,
         16.373023999999997
        ],
        [
         48.228857,
         16.373132000000002
        ],
        [
         48.228840999999996,
         16.373286
        ],
        [
         48.228916999999996,
         16.373669
        ],
        [
         48.228958,
         16.373889000000002
        ],
        [
         48.228978999999995,
         16.374126
        ],
        [
         48.228764,
         16.373765
        ],
        [
         48.228583,
         16.373561
        ],
        [
         48.228536,
         16.373542
        ],
        [
         48.228476,
         16.373509
        ],
        [
         48.228435,
         16.373516
        ],
        [
         48.228395,
         16.373531
        ],
        [
         48.228371,
         16.373535999999998
        ],
        [
         48.228336999999996,
         16.373534
        ],
        [
         48.228322999999996,
         16.373542
        ],
        [
         48.2283,
         16.37354
        ],
        [
         48.228299,
         16.373547
        ],
        [
         48.228293,
         16.373531
        ],
        [
         48.228286,
         16.373502
        ],
        [
         48.228295,
         16.373478
        ],
        [
         48.228277,
         16.37346
        ],
        [
         48.228279,
         16.373401
        ],
        [
         48.228276,
         16.373332
        ],
        [
         48.228232,
         16.373262
        ],
        [
         48.228183,
         16.373178
        ],
        [
         48.228165999999995,
         16.373104
        ],
        [
         48.228141,
         16.373034
        ],
        [
         48.228108,
         16.372938
        ],
        [
         48.228079,
         16.372861999999998
        ],
        [
         48.228063,
         16.372782
        ],
        [
         48.22802,
         16.372711
        ],
        [
         48.227994,
         16.372622
        ],
        [
         48.227959999999996,
         16.372564
        ],
        [
         48.227956,
         16.372447
        ],
        [
         48.22793,
         16.372357
        ],
        [
         48.227884,
         16.372301999999998
        ],
        [
         48.227871,
         16.372294
        ],
        [
         48.227858000000005,
         16.372286
        ],
        [
         48.227823,
         16.372239
        ],
        [
         48.227776,
         16.372196
        ],
        [
         48.227716,
         16.372151000000002
        ],
        [
         48.227663,
         16.372103
        ],
        [
         48.227604,
         16.372042
        ],
        [
         48.227527,
         16.372006
        ],
        [
         48.227464000000005,
         16.371945999999998
        ],
        [
         48.227405,
         16.371907
        ],
        [
         48.227339,
         16.371859
        ],
        [
         48.227275,
         16.37181
        ],
        [
         48.227219,
         16.371763
        ],
        [
         48.227158,
         16.371719
        ],
        [
         48.227111,
         16.371682
        ],
        [
         48.227062,
         16.371617
        ],
        [
         48.227013,
         16.371567000000002
        ],
        [
         48.226934,
         16.371520999999998
        ],
        [
         48.226888,
         16.371513
        ],
        [
         48.226818,
         16.3715
        ],
        [
         48.226769,
         16.371476
        ],
        [
         48.226732,
         16.371451999999998
        ],
        [
         48.226672,
         16.3714
        ],
        [
         48.226634999999995,
         16.371337
        ],
        [
         48.226585,
         16.371312
        ],
        [
         48.226527000000004,
         16.37132
        ],
        [
         48.226463,
         16.37134
        ],
        [
         48.226399,
         16.37138
        ],
        [
         48.226324,
         16.371397
        ],
        [
         48.226256,
         16.371406
        ],
        [
         48.226198,
         16.371432000000002
        ],
        [
         48.226123,
         16.371469
        ],
        [
         48.226069,
         16.3715
        ],
        [
         48.226007,
         16.371547
        ],
        [
         48.225988,
         16.371597
        ],
        [
         48.225966,
         16.371644
        ],
        [
         48.225952,
         16.371674
        ],
        [
         48.225967,
         16.3717
        ],
        [
         48.225951,
         16.371745
        ],
        [
         48.225921,
         16.371807999999998
        ],
        [
         48.225868,
         16.371892000000003
        ],
        [
         48.225823,
         16.371944
        ],
        [
         48.225787,
         16.371983
        ],
        [
         48.225738,
         16.371982
        ],
        [
         48.225738,
         16.371982
        ],
        [
         48.225738,
         16.371982
        ],
        [
         48.225738,
         16.371982
        ],
        [
         48.225738,
         16.371982
        ],
        [
         48.225738,
         16.371982
        ],
        [
         48.225738,
         16.371982
        ],
        [
         48.225738,
         16.371982
        ],
        [
         48.225738,
         16.371982
        ],
        [
         48.225738,
         16.371982
        ],
        [
         48.225738,
         16.371982
        ],
        [
         48.225738,
         16.371982
        ],
        [
         48.225738,
         16.371982
        ],
        [
         48.225738,
         16.371982
        ],
        [
         48.225738,
         16.371982
        ],
        [
         48.225738,
         16.371982
        ],
        [
         48.225738,
         16.371982
        ],
        [
         48.225738,
         16.371982
        ],
        [
         48.225738,
         16.371982
        ],
        [
         48.225738,
         16.371982
        ],
        [
         48.225738,
         16.371982
        ],
        [
         48.225738,
         16.371982
        ],
        [
         48.225738,
         16.371982
        ],
        [
         48.225738,
         16.371982
        ],
        [
         48.225738,
         16.371982
        ],
        [
         48.225738,
         16.371982
        ],
        [
         48.225738,
         16.371982
        ],
        [
         48.225738,
         16.371982
        ],
        [
         48.225738,
         16.371982
        ],
        [
         48.225738,
         16.371982
        ],
        [
         48.225738,
         16.371982
        ],
        [
         48.225738,
         16.371982
        ],
        [
         48.225738,
         16.371982
        ],
        [
         48.225738,
         16.371982
        ],
        [
         48.225738,
         16.371982
        ],
        [
         48.225738,
         16.371982
        ],
        [
         48.225738,
         16.371982
        ],
        [
         48.225738,
         16.371982
        ],
        [
         48.225738,
         16.371982
        ],
        [
         48.225738,
         16.371982
        ],
        [
         48.225738,
         16.371982
        ],
        [
         48.225738,
         16.371982
        ],
        [
         48.225738,
         16.371982
        ],
        [
         48.225738,
         16.371982
        ],
        [
         48.225738,
         16.371982
        ],
        [
         48.225738,
         16.371982
        ],
        [
         48.225738,
         16.371982
        ],
        [
         48.225738,
         16.371982
        ],
        [
         48.225738,
         16.371982
        ],
        [
         48.225738,
         16.371982
        ],
        [
         48.225738,
         16.371982
        ],
        [
         48.225738,
         16.371982
        ],
        [
         48.225738,
         16.371982
        ],
        [
         48.225738,
         16.371982
        ],
        [
         48.225738,
         16.371982
        ],
        [
         48.225738,
         16.371982
        ],
        [
         48.225738,
         16.371982
        ],
        [
         48.225738,
         16.371982
        ],
        [
         48.225738,
         16.371982
        ],
        [
         48.225738,
         16.371982
        ],
        [
         48.225738,
         16.371982
        ],
        [
         48.225738,
         16.371982
        ],
        [
         48.225738,
         16.371982
        ],
        [
         48.225738,
         16.371982
        ],
        [
         48.225738,
         16.371982
        ],
        [
         48.225738,
         16.371982
        ],
        [
         48.225738,
         16.371982
        ],
        [
         48.225738,
         16.371982
        ],
        [
         48.225738,
         16.371982
        ],
        [
         48.225738,
         16.371982
        ],
        [
         48.225738,
         16.371982
        ],
        [
         48.225738,
         16.371982
        ],
        [
         48.225738,
         16.371982
        ],
        [
         48.225738,
         16.371982
        ],
        [
         48.225738,
         16.371982
        ],
        [
         48.225738,
         16.371982
        ],
        [
         48.225738,
         16.371982
        ],
        [
         48.225738,
         16.371982
        ],
        [
         48.225738,
         16.371982
        ],
        [
         48.225738,
         16.371982
        ],
        [
         48.225738,
         16.371982
        ],
        [
         48.225738,
         16.371982
        ],
        [
         48.225738,
         16.371982
        ],
        [
         48.225738,
         16.371982
        ],
        [
         48.225738,
         16.371982
        ],
        [
         48.225738,
         16.371982
        ],
        [
         48.225738,
         16.371982
        ],
        [
         48.225738,
         16.371982
        ],
        [
         48.225738,
         16.371982
        ],
        [
         48.225738,
         16.371982
        ],
        [
         48.225738,
         16.371982
        ],
        [
         48.225738,
         16.371982
        ],
        [
         48.225738,
         16.371982
        ],
        [
         48.225738,
         16.371982
        ],
        [
         48.225738,
         16.371982
        ],
        [
         48.225738,
         16.371982
        ],
        [
         48.225738,
         16.371982
        ],
        [
         48.225738,
         16.371982
        ],
        [
         48.225738,
         16.371982
        ],
        [
         48.225738,
         16.371982
        ],
        [
         48.225738,
         16.371982
        ],
        [
         48.225738,
         16.371982
        ],
        [
         48.225738,
         16.371982
        ],
        [
         48.225738,
         16.371982
        ],
        [
         48.225738,
         16.371982
        ],
        [
         48.225738,
         16.371982
        ],
        [
         48.225738,
         16.371982
        ],
        [
         48.225738,
         16.371982
        ],
        [
         48.225738,
         16.371982
        ],
        [
         48.225738,
         16.371982
        ],
        [
         48.225738,
         16.371982
        ],
        [
         48.225738,
         16.371982
        ],
        [
         48.225738,
         16.371982
        ],
        [
         48.225738,
         16.371982
        ],
        [
         48.225738,
         16.371982
        ],
        [
         48.225738,
         16.371982
        ],
        [
         48.225738,
         16.371982
        ],
        [
         48.225738,
         16.371982
        ],
        [
         48.225738,
         16.371982
        ],
        [
         48.225738,
         16.371982
        ],
        [
         48.225738,
         16.371982
        ],
        [
         48.225738,
         16.371982
        ],
        [
         48.225738,
         16.371982
        ],
        [
         48.225738,
         16.371982
        ],
        [
         48.225738,
         16.371982
        ],
        [
         48.225738,
         16.371982
        ],
        [
         48.225738,
         16.371982
        ],
        [
         48.225738,
         16.371982
        ],
        [
         48.225738,
         16.371982
        ],
        [
         48.225738,
         16.371982
        ],
        [
         48.225738,
         16.371982
        ],
        [
         48.225738,
         16.371982
        ],
        [
         48.225738,
         16.371982
        ],
        [
         48.225738,
         16.371982
        ],
        [
         48.225738,
         16.371982
        ],
        [
         48.225738,
         16.371982
        ],
        [
         48.225738,
         16.371982
        ],
        [
         48.225738,
         16.371982
        ],
        [
         48.225738,
         16.371982
        ],
        [
         48.225738,
         16.371982
        ],
        [
         48.225738,
         16.371982
        ],
        [
         48.225738,
         16.371982
        ],
        [
         48.225738,
         16.371982
        ],
        [
         48.225738,
         16.371982
        ],
        [
         48.225738,
         16.371982
        ],
        [
         48.225738,
         16.371982
        ],
        [
         48.225738,
         16.371982
        ],
        [
         48.225738,
         16.371982
        ],
        [
         48.225738,
         16.371982
        ],
        [
         48.225738,
         16.371982
        ],
        [
         48.225738,
         16.371982
        ],
        [
         48.225738,
         16.371982
        ],
        [
         48.225738,
         16.371982
        ],
        [
         48.225738,
         16.371982
        ],
        [
         48.225738,
         16.371982
        ],
        [
         48.225738,
         16.371982
        ],
        [
         48.225738,
         16.371982
        ],
        [
         48.225738,
         16.371982
        ],
        [
         48.225738,
         16.371982
        ],
        [
         48.225738,
         16.371982
        ],
        [
         48.225738,
         16.371982
        ],
        [
         48.225738,
         16.371982
        ],
        [
         48.225738,
         16.371982
        ],
        [
         48.225738,
         16.371982
        ],
        [
         48.225738,
         16.371982
        ],
        [
         48.225738,
         16.371982
        ],
        [
         48.225738,
         16.371982
        ],
        [
         48.225738,
         16.371982
        ],
        [
         48.225738,
         16.371982
        ],
        [
         48.225738,
         16.371982
        ],
        [
         48.225738,
         16.371982
        ],
        [
         48.225738,
         16.371982
        ],
        [
         48.225738,
         16.371982
        ],
        [
         48.225738,
         16.371982
        ],
        [
         48.225738,
         16.371982
        ],
        [
         48.225738,
         16.371982
        ],
        [
         48.225738,
         16.371982
        ],
        [
         48.225738,
         16.371982
        ],
        [
         48.225738,
         16.371982
        ],
        [
         48.225738,
         16.371982
        ],
        [
         48.225738,
         16.371982
        ],
        [
         48.225738,
         16.371982
        ],
        [
         48.225738,
         16.371982
        ],
        [
         48.225738,
         16.371982
        ],
        [
         48.225738,
         16.371982
        ],
        [
         48.225738,
         16.371982
        ],
        [
         48.225738,
         16.371982
        ],
        [
         48.225738,
         16.371982
        ],
        [
         48.225738,
         16.371982
        ],
        [
         48.225738,
         16.371982
        ],
        [
         48.225738,
         16.371982
        ],
        [
         48.225738,
         16.371982
        ],
        [
         48.225738,
         16.371982
        ],
        [
         48.225738,
         16.371982
        ],
        [
         48.225738,
         16.371982
        ],
        [
         48.225738,
         16.371982
        ],
        [
         48.225738,
         16.371982
        ],
        [
         48.225738,
         16.371982
        ],
        [
         48.225738,
         16.371982
        ],
        [
         48.225738,
         16.371982
        ],
        [
         48.225738,
         16.371982
        ],
        [
         48.225738,
         16.371982
        ],
        [
         48.225738,
         16.371982
        ],
        [
         48.225738,
         16.371982
        ],
        [
         48.225738,
         16.371982
        ],
        [
         48.225738,
         16.371982
        ],
        [
         48.225738,
         16.371982
        ],
        [
         48.225738,
         16.371982
        ],
        [
         48.225738,
         16.371982
        ],
        [
         48.225738,
         16.371982
        ],
        [
         48.225738,
         16.371982
        ],
        [
         48.225738,
         16.371982
        ],
        [
         48.225738,
         16.371982
        ],
        [
         48.225738,
         16.371982
        ],
        [
         48.225738,
         16.371982
        ],
        [
         48.225738,
         16.371982
        ],
        [
         48.225738,
         16.371982
        ],
        [
         48.225738,
         16.371982
        ],
        [
         48.225738,
         16.371982
        ],
        [
         48.225738,
         16.371982
        ],
        [
         48.225738,
         16.371982
        ],
        [
         48.225738,
         16.371982
        ],
        [
         48.225738,
         16.371982
        ],
        [
         48.225738,
         16.371982
        ],
        [
         48.225738,
         16.371982
        ],
        [
         48.225738,
         16.371982
        ],
        [
         48.225738,
         16.371982
        ],
        [
         48.225738,
         16.371982
        ],
        [
         48.225738,
         16.371982
        ],
        [
         48.225738,
         16.371982
        ],
        [
         48.225738,
         16.371982
        ],
        [
         48.225738,
         16.371982
        ],
        [
         48.225738,
         16.371982
        ],
        [
         48.225738,
         16.371982
        ],
        [
         48.225738,
         16.371982
        ],
        [
         48.225738,
         16.371982
        ],
        [
         48.225738,
         16.371982
        ],
        [
         48.225738,
         16.371982
        ],
        [
         48.225738,
         16.371982
        ],
        [
         48.225738,
         16.371982
        ],
        [
         48.225738,
         16.371982
        ],
        [
         48.225738,
         16.371982
        ],
        [
         48.225738,
         16.371982
        ],
        [
         48.225738,
         16.371982
        ],
        [
         48.225738,
         16.371982
        ],
        [
         48.225738,
         16.371982
        ],
        [
         48.225738,
         16.371982
        ],
        [
         48.225738,
         16.371982
        ],
        [
         48.225738,
         16.371982
        ],
        [
         48.225738,
         16.371982
        ],
        [
         48.225738,
         16.371982
        ],
        [
         48.225738,
         16.371982
        ],
        [
         48.225738,
         16.371982
        ],
        [
         48.225738,
         16.371982
        ],
        [
         48.225738,
         16.371982
        ],
        [
         48.225738,
         16.371982
        ],
        [
         48.225738,
         16.371982
        ],
        [
         48.225738,
         16.371982
        ],
        [
         48.225738,
         16.371982
        ],
        [
         48.225738,
         16.371982
        ],
        [
         48.225738,
         16.371982
        ],
        [
         48.225738,
         16.371982
        ],
        [
         48.225738,
         16.371982
        ],
        [
         48.225738,
         16.371982
        ],
        [
         48.225738,
         16.371982
        ],
        [
         48.225738,
         16.371982
        ],
        [
         48.225738,
         16.371982
        ],
        [
         48.225738,
         16.371982
        ],
        [
         48.225738,
         16.371982
        ],
        [
         48.225738,
         16.371982
        ],
        [
         48.225738,
         16.371982
        ],
        [
         48.225738,
         16.371982
        ],
        [
         48.225738,
         16.371982
        ],
        [
         48.225738,
         16.371982
        ],
        [
         48.218852000000005,
         16.380985
        ],
        [
         48.218779,
         16.380979999999997
        ],
        [
         48.218779,
         16.381002
        ],
        [
         48.218695000000004,
         16.380962
        ],
        [
         48.218681,
         16.380967000000002
        ],
        [
         48.218646,
         16.380985
        ],
        [
         48.218675,
         16.38102
        ],
        [
         48.218656,
         16.381031
        ],
        [
         48.218656,
         16.38105
        ],
        [
         48.218619,
         16.381069
        ],
        [
         48.218619,
         16.381104999999998
        ],
        [
         48.218478000000005,
         16.381089000000003
        ],
        [
         48.218361,
         16.381052
        ],
        [
         48.218253000000004,
         16.380986
        ],
        [
         48.218117,
         16.38091
        ],
        [
         48.21804,
         16.380857000000002
        ],
        [
         48.218005,
         16.380828
        ],
        [
         48.217968,
         16.380807
        ],
        [
         48.217981,
         16.380797
        ],
        [
         48.217985,
         16.380804
        ],
        [
         48.217928,
         16.380827
        ],
        [
         48.217839,
         16.380841
        ],
        [
         48.217729999999996,
         16.380810999999998
        ],
        [
         48.217696000000004,
         16.380804
        ],
        [
         48.2176,
         16.380675
        ],
        [
         48.217459000000005,
         16.380592
        ],
        [
         48.21732,
         16.380554
        ],
        [
         48.217178999999994,
         16.380566
        ],
        [
         48.217197,
         16.38062
        ],
        [
         48.217327000000004,
         16.380746
        ]
       ],
       "name": "Trail",
       "options": [
        "color",
        "dash_array",
        "delay",
        "hardware_accelerated",
        "paused",
        "pulse_color",
        "radius",
        "reverse",
        "use",
        "weight"
       ],
       "pulse_color": "#3f6fba"
      }
     },
     "d8dcb1d1b4904512a1e2c9620263554b": {
      "model_module": "jupyter-leaflet",
      "model_module_version": "^0.13.2",
      "model_name": "LeafletLayersControlModel",
      "state": {
       "_model_module_version": "^0.13.2",
       "_view_module_version": "^0.13.2",
       "options": [
        "position"
       ],
       "position": "topright"
      }
     },
     "d935c4b941f54a0e97e86b0f60573d1d": {
      "model_module": "jupyter-leaflet",
      "model_module_version": "^0.13.2",
      "model_name": "LeafletTileLayerModel",
      "state": {
       "_model_module_version": "^0.13.2",
       "_view_module_version": "^0.13.2",
       "attribution": "Tiles &copy; Esri &mdash; Source: Esri, DeLorme, NAVTEQ, USGS, Intermap, iPC, NRCAN, Esri Japan, METI, Esri China (Hong Kong), Esri (Thailand), TomTom, 2012",
       "max_native_zoom": 18,
       "max_zoom": 20,
       "min_native_zoom": 0,
       "min_zoom": 1,
       "name": "Esri.WorldStreetMap",
       "options": [
        "attribution",
        "detect_retina",
        "max_native_zoom",
        "max_zoom",
        "min_native_zoom",
        "min_zoom",
        "no_wrap",
        "tile_size",
        "tms"
       ],
       "url": "http://server.arcgisonline.com/ArcGIS/rest/services/World_Street_Map/MapServer/tile/{z}/{y}/{x}"
      }
     },
     "d950c576c1bc4da5bbe7ba016a4aa14f": {
      "model_module": "jupyter-leaflet",
      "model_module_version": "^0.13.2",
      "model_name": "LeafletWidgetControlModel",
      "state": {
       "_model_module": "jupyter-leaflet",
       "_model_module_version": "^0.13.2",
       "_view_count": null,
       "_view_module": "jupyter-leaflet",
       "_view_module_version": "^0.13.2",
       "options": [
        "position"
       ],
       "position": "topright",
       "widget": "IPY_MODEL_8064e1b48de84981904367ab550866a1"
      }
     },
     "d97972bc6f7443269657eb40a77c1613": {
      "model_module": "jupyter-leaflet",
      "model_module_version": "^0.13.2",
      "model_name": "LeafletMarkerModel",
      "state": {
       "_model_module_version": "^0.13.2",
       "_view_module_version": "^0.13.2",
       "icon": "IPY_MODEL_48aa036322554b2086e1192fc7abf556",
       "location": [
        48.235084,
        16.370098000000002
       ],
       "options": [
        "alt",
        "draggable",
        "keyboard",
        "rise_offset",
        "rise_on_hover",
        "rotation_angle",
        "rotation_origin",
        "title",
        "z_index_offset"
       ]
      }
     },
     "da6ed7f9441b44fc8388e5ddc91b83d7": {
      "model_module": "jupyter-leaflet",
      "model_module_version": "^0.13.2",
      "model_name": "LeafletFullScreenControlModel",
      "state": {
       "_model_module_version": "^0.13.2",
       "_view_module_version": "^0.13.2",
       "options": [
        "position"
       ]
      }
     },
     "db0c75b223a5427c8b6a37320ed3e5d8": {
      "model_module": "jupyter-leaflet",
      "model_module_version": "^0.13.2",
      "model_name": "LeafletZoomControlModel",
      "state": {
       "_model_module_version": "^0.13.2",
       "_view_module_version": "^0.13.2",
       "options": [
        "position",
        "zoom_in_text",
        "zoom_in_title",
        "zoom_out_text",
        "zoom_out_title"
       ]
      }
     },
     "db88a7eeb24c46f496fb13759d4eaaa2": {
      "model_module": "jupyter-leaflet",
      "model_module_version": "^0.13.2",
      "model_name": "LeafletSplitMapControlModel",
      "state": {
       "_model_module_version": "^0.13.2",
       "_model_name": "LeafletSplitMapControlModel",
       "_view_module_version": "^0.13.2",
       "_view_name": "LeafletSplitMapControlView",
       "left_layer": "IPY_MODEL_5fe5a262309246d8ad8b12d92a5d93f2",
       "options": [
        "position"
       ],
       "right_layer": "IPY_MODEL_7aa5934495ee489fb59b645e33c69a1d"
      }
     },
     "dc4399a20fa04c2ea4f934c6410afd51": {
      "model_module": "jupyter-leaflet",
      "model_module_version": "^0.13.2",
      "model_name": "LeafletMarkerModel",
      "state": {
       "_model_module_version": "^0.13.2",
       "_view_module_version": "^0.13.2",
       "icon": "IPY_MODEL_a9714de54ea0436fb1b406c843cb2db1",
       "location": [
        48.233724,
        16.373077
       ],
       "options": [
        "alt",
        "draggable",
        "keyboard",
        "rise_offset",
        "rise_on_hover",
        "rotation_angle",
        "rotation_origin",
        "title",
        "z_index_offset"
       ]
      }
     },
     "dc93cec10bba463f946ec89677a48e2a": {
      "model_module": "jupyter-leaflet",
      "model_module_version": "^0.13.2",
      "model_name": "LeafletMarkerModel",
      "state": {
       "_model_module_version": "^0.13.2",
       "_view_module_version": "^0.13.2",
       "icon": "IPY_MODEL_f7e6f4eeb5ec49deb9c094aefb5ff7bb",
       "location": [
        48.231184999999996,
        16.372423
       ],
       "options": [
        "alt",
        "draggable",
        "keyboard",
        "rise_offset",
        "rise_on_hover",
        "rotation_angle",
        "rotation_origin",
        "title",
        "z_index_offset"
       ]
      }
     },
     "de1c61d85a044f7ea85553bac9e57918": {
      "model_module": "jupyter-leaflet",
      "model_module_version": "^0.13.2",
      "model_name": "LeafletMapStyleModel",
      "state": {
       "_model_module_version": "^0.13.2"
      }
     },
     "ded3c77bca5540c1acc3c7dcba84b016": {
      "model_module": "@jupyter-widgets/base",
      "model_module_version": "1.2.0",
      "model_name": "LayoutModel",
      "state": {}
     },
     "e13fd03292454fb3acd72411dbc81904": {
      "model_module": "jupyter-leaflet",
      "model_module_version": "^0.13.2",
      "model_name": "LeafletAttributionControlModel",
      "state": {
       "_model_module_version": "^0.13.2",
       "_view_module_version": "^0.13.2",
       "options": [
        "position",
        "prefix"
       ],
       "position": "bottomright",
       "prefix": "ipyleaflet"
      }
     },
     "e2938ca4b2f148b3bb81135dd3458374": {
      "model_module": "@jupyter-widgets/controls",
      "model_module_version": "1.5.0",
      "model_name": "SliderStyleModel",
      "state": {
       "description_width": ""
      }
     },
     "e35b750c1aa5452db90fd2fe84513f2d": {
      "model_module": "@jupyter-widgets/controls",
      "model_module_version": "1.5.0",
      "model_name": "SliderStyleModel",
      "state": {
       "description_width": ""
      }
     },
     "e55a44ca5e034ba998642523b3460758": {
      "model_module": "jupyter-leaflet",
      "model_module_version": "^0.13.2",
      "model_name": "LeafletMeasureControlModel",
      "state": {
       "_model_module_version": "^0.13.2",
       "_view_module_version": "^0.13.2",
       "active_color": "orange",
       "completed_color": "blue",
       "options": [
        "active_color",
        "capture_z_index",
        "completed_color",
        "popup_options",
        "position",
        "primary_area_unit",
        "primary_length_unit",
        "secondary_area_unit",
        "secondary_length_unit"
       ],
       "position": "bottomleft",
       "primary_area_unit": "sqmeters",
       "primary_length_unit": "meters",
       "secondary_area_unit": null,
       "secondary_length_unit": null
      }
     },
     "e5d09500c7b34a369e2c55232407cbe1": {
      "model_module": "jupyter-leaflet",
      "model_module_version": "^0.13.2",
      "model_name": "LeafletTileLayerModel",
      "state": {
       "_model_module_version": "^0.13.2",
       "_view_module_version": "^0.13.2",
       "attribution": "Tiles &copy; Esri &mdash; Source: Esri, DeLorme, NAVTEQ, USGS, Intermap, iPC, NRCAN, Esri Japan, METI, Esri China (Hong Kong), Esri (Thailand), TomTom, 2012",
       "base": true,
       "max_native_zoom": 18,
       "max_zoom": 20,
       "min_native_zoom": 0,
       "min_zoom": 1,
       "name": "Esri.WorldStreetMap",
       "options": [
        "attribution",
        "detect_retina",
        "max_native_zoom",
        "max_zoom",
        "min_native_zoom",
        "min_zoom",
        "no_wrap",
        "tile_size",
        "tms"
       ],
       "url": "http://server.arcgisonline.com/ArcGIS/rest/services/World_Street_Map/MapServer/tile/{z}/{y}/{x}"
      }
     },
     "e726ba13ee2b4efcb552fcef21b2c2c4": {
      "model_module": "jupyter-leaflet",
      "model_module_version": "^0.13.2",
      "model_name": "LeafletMarkerModel",
      "state": {
       "_model_module_version": "^0.13.2",
       "_view_module_version": "^0.13.2",
       "icon": "IPY_MODEL_48aa036322554b2086e1192fc7abf556",
       "location": [
        48.235334,
        16.372338
       ],
       "options": [
        "alt",
        "draggable",
        "keyboard",
        "rise_offset",
        "rise_on_hover",
        "rotation_angle",
        "rotation_origin",
        "title",
        "z_index_offset"
       ]
      }
     },
     "e80564ee5af84f27a7a96504c56dd2bd": {
      "model_module": "jupyter-leaflet",
      "model_module_version": "^0.13.2",
      "model_name": "LeafletAttributionControlModel",
      "state": {
       "_model_module_version": "^0.13.2",
       "_view_module_version": "^0.13.2",
       "options": [
        "position",
        "prefix"
       ],
       "position": "bottomright",
       "prefix": "ipyleaflet"
      }
     },
     "e87857358c65450cb331dbee2b0332ad": {
      "model_module": "jupyter-leaflet",
      "model_module_version": "^0.13.2",
      "model_name": "LeafletZoomControlModel",
      "state": {
       "_model_module_version": "^0.13.2",
       "_view_module_version": "^0.13.2",
       "options": [
        "position",
        "zoom_in_text",
        "zoom_in_title",
        "zoom_out_text",
        "zoom_out_title"
       ]
      }
     },
     "e8e26efd13bc45e7983dcc20b4dc783c": {
      "model_module": "@jupyter-widgets/base",
      "model_module_version": "1.2.0",
      "model_name": "LayoutModel",
      "state": {
       "height": "600px",
       "width": "100%"
      }
     },
     "ea39f14ca0b74088bb20873858101110": {
      "model_module": "jupyter-leaflet",
      "model_module_version": "^0.13.2",
      "model_name": "LeafletTileLayerModel",
      "state": {
       "_model_module_version": "^0.13.2",
       "_view_module_version": "^0.13.2",
       "base": true,
       "max_native_zoom": 18,
       "max_zoom": 19,
       "min_native_zoom": 0,
       "min_zoom": 1,
       "options": [
        "attribution",
        "detect_retina",
        "max_native_zoom",
        "max_zoom",
        "min_native_zoom",
        "min_zoom",
        "no_wrap",
        "tile_size",
        "tms"
       ]
      }
     },
     "ebddfbcc2ccc475b85fffcdda8ea480f": {
      "model_module": "jupyter-leaflet",
      "model_module_version": "^0.13.2",
      "model_name": "LeafletTileLayerModel",
      "state": {
       "_model_module_version": "^0.13.2",
       "_view_module_version": "^0.13.2",
       "attribution": "Map tiles by <a href=\"http://stamen.com/\">Stamen Design</a>, under <a href=\"http://creativecommons.org/licenses/by/3.0\">CC BY 3.0</a>. Data by <a href=\"http://openstreetmap.org/\">OpenStreetMap</a>, under <a href=\"http://creativecommons.org/licenses/by-sa/3.0\">CC BY SA</a>.",
       "max_native_zoom": 18,
       "max_zoom": 20,
       "min_native_zoom": 0,
       "name": "Stamen.Toner",
       "options": [
        "attribution",
        "detect_retina",
        "max_native_zoom",
        "max_zoom",
        "min_native_zoom",
        "min_zoom",
        "no_wrap",
        "tile_size",
        "tms"
       ],
       "url": "https://stamen-tiles-a.a.ssl.fastly.net/toner/{z}/{x}/{y}.png"
      }
     },
     "ecd38393724e4615ab390f33d9c145bf": {
      "model_module": "jupyter-leaflet",
      "model_module_version": "^0.13.2",
      "model_name": "LeafletMarkerModel",
      "state": {
       "_model_module_version": "^0.13.2",
       "_view_module_version": "^0.13.2",
       "icon": "IPY_MODEL_48aa036322554b2086e1192fc7abf556",
       "location": [
        48.231947999999996,
        16.371916
       ],
       "options": [
        "alt",
        "draggable",
        "keyboard",
        "rise_offset",
        "rise_on_hover",
        "rotation_angle",
        "rotation_origin",
        "title",
        "z_index_offset"
       ]
      }
     },
     "ee241aa604194b118cec5cabdfd25622": {
      "model_module": "@jupyter-widgets/controls",
      "model_module_version": "1.5.0",
      "model_name": "LinkModel",
      "state": {
       "source": [
        "IPY_MODEL_bdf51bda213a45f193706b7008717b33",
        "value"
       ],
       "target": [
        "IPY_MODEL_087653ee04894d4f8cff0b83cbbe4f24",
        "zoom"
       ]
      }
     },
     "eea895f513f44c3582fb79da132e9c58": {
      "model_module": "jupyter-leaflet",
      "model_module_version": "^0.13.2",
      "model_name": "LeafletZoomControlModel",
      "state": {
       "_model_module_version": "^0.13.2",
       "_view_module_version": "^0.13.2",
       "options": [
        "position",
        "zoom_in_text",
        "zoom_in_title",
        "zoom_out_text",
        "zoom_out_title"
       ]
      }
     },
     "f220b23c36d34da0bd6531abdc6956cb": {
      "model_module": "@jupyter-widgets/controls",
      "model_module_version": "1.5.0",
      "model_name": "LinkModel",
      "state": {
       "source": [
        "IPY_MODEL_8e1deec0f99941b7a0c6342d26eb8f46",
        "value"
       ],
       "target": [
        "IPY_MODEL_f5cca37fa4704459994a9c616b11add8",
        "zoom"
       ]
      }
     },
     "f293bfdacdf640b4ba46eee7fc167c37": {
      "model_module": "@jupyter-widgets/base",
      "model_module_version": "1.2.0",
      "model_name": "LayoutModel",
      "state": {}
     },
     "f37863efb009472a95b4775478ac3f94": {
      "model_module": "jupyter-leaflet",
      "model_module_version": "^0.13.2",
      "model_name": "LeafletMarkerModel",
      "state": {
       "_model_module_version": "^0.13.2",
       "_view_module_version": "^0.13.2",
       "icon": "IPY_MODEL_48aa036322554b2086e1192fc7abf556",
       "location": [
        48.233513,
        16.374668
       ],
       "options": [
        "alt",
        "draggable",
        "keyboard",
        "rise_offset",
        "rise_on_hover",
        "rotation_angle",
        "rotation_origin",
        "title",
        "z_index_offset"
       ]
      }
     },
     "f3a5f930b4174b3b96f5b12331d620cf": {
      "model_module": "jupyter-leaflet",
      "model_module_version": "^0.13.2",
      "model_name": "LeafletMarkerModel",
      "state": {
       "_model_module_version": "^0.13.2",
       "_view_module_version": "^0.13.2",
       "icon": "IPY_MODEL_a9714de54ea0436fb1b406c843cb2db1",
       "location": [
        48.232442,
        16.374664000000003
       ],
       "options": [
        "alt",
        "draggable",
        "keyboard",
        "rise_offset",
        "rise_on_hover",
        "rotation_angle",
        "rotation_origin",
        "title",
        "z_index_offset"
       ]
      }
     },
     "f5cca37fa4704459994a9c616b11add8": {
      "model_module": "jupyter-leaflet",
      "model_module_version": "^0.13.2",
      "model_name": "LeafletMapModel",
      "state": {
       "_model_module_version": "^0.13.2",
       "_view_module_version": "^0.13.2",
       "bottom": 23267247,
       "center": [
        48.218714717557496,
        16.379480659961704
       ],
       "controls": [
        "IPY_MODEL_e87857358c65450cb331dbee2b0332ad",
        "IPY_MODEL_4dd8177dce8546e496b9c55b9feb0d85",
        "IPY_MODEL_512176f347de44d4bf9a28a4562cf1c2",
        "IPY_MODEL_b7376cbeab4d470d9d226129a07d4b38",
        "IPY_MODEL_abc902eead624f73a73fce3ba4e00120",
        "IPY_MODEL_9b8b5d99f6924b8e8c90c1ccebd9930a",
        "IPY_MODEL_2fbea331cc6f4d35bd2fae2affa19849"
       ],
       "default_style": "IPY_MODEL_2950a6be745548f784bcd841901fdf71",
       "dragging_style": "IPY_MODEL_2380828710eb41b387b3709d39395ca1",
       "east": 16.382058262825016,
       "fullscreen": false,
       "interpolation": "bilinear",
       "layers": [
        "IPY_MODEL_2369a4e45c214398a8d956f090fffb53",
        "IPY_MODEL_5eadf5fc036f409ea0300aaa911ef130",
        "IPY_MODEL_17fa223945ea49f78d9e1c13b8e95472",
        "IPY_MODEL_af7c0a3d97fe44779dec4147f2ed92e3",
        "IPY_MODEL_3fcece2202d14dafa7f7543d18eb9b78",
        "IPY_MODEL_354474d3363946749c9b1c38b29fe282",
        "IPY_MODEL_4e02d7a74241402da87f669e7919a3e2",
        "IPY_MODEL_f9c9f84c0e3941258a5400b1ab15fbb6",
        "IPY_MODEL_f3a5f930b4174b3b96f5b12331d620cf",
        "IPY_MODEL_958136fa45614d6da9ce362262bcc3ab",
        "IPY_MODEL_885c041af1f94fd2bf8351856bff56cf",
        "IPY_MODEL_7fcadc95532f43aebbfa64b72fa68956",
        "IPY_MODEL_708ea2cc42ac4369b9d25329b6300656",
        "IPY_MODEL_1a5ad1adf64f4a9bb324a43d8e3f5a1c",
        "IPY_MODEL_7523287281004c5a945223647a1fc6ea",
        "IPY_MODEL_dc4399a20fa04c2ea4f934c6410afd51",
        "IPY_MODEL_9dccbbc1519b466dadd2fe0faed8cabb",
        "IPY_MODEL_fb6f0977be6b4bd687882d5112e92137",
        "IPY_MODEL_201ef9912c6241d39f134807bd5ebf07",
        "IPY_MODEL_bf4ff175031c47adac713faadd67a8bb",
        "IPY_MODEL_44aa3c9f5da7429a99b9f192c29d9ba6",
        "IPY_MODEL_8d661349edb1448bac203473fce9c6ec",
        "IPY_MODEL_5b9c44505edb443890d64193a7b128a9",
        "IPY_MODEL_d3e4cd1810154d0bae5439530e49bb5f",
        "IPY_MODEL_81e8f6cd8bd549d98edeff9a064c054f"
       ],
       "layout": "IPY_MODEL_714b8532db09498aaef80da054a3a5b6",
       "left": 36607309,
       "modisdate": "yesterday",
       "north": 48.219786982044575,
       "options": [
        "bounce_at_zoom_limits",
        "box_zoom",
        "center",
        "close_popup_on_click",
        "double_click_zoom",
        "dragging",
        "fullscreen",
        "inertia",
        "inertia_deceleration",
        "inertia_max_speed",
        "interpolation",
        "keyboard",
        "keyboard_pan_offset",
        "keyboard_zoom_offset",
        "max_zoom",
        "min_zoom",
        "scroll_wheel_zoom",
        "tap",
        "tap_tolerance",
        "touch_zoom",
        "world_copy_jump",
        "zoom",
        "zoom_animation_threshold",
        "zoom_delta",
        "zoom_snap",
        "zoom_start"
       ],
       "right": 36608269,
       "south": 48.21764243061153,
       "style": "IPY_MODEL_2950a6be745548f784bcd841901fdf71",
       "top": 23266647,
       "west": 16.376908421516422,
       "window_url": "http://localhost:8888/lab",
       "zoom": 18
      }
     },
     "f6e08d93d18b41769bf80cd49662e554": {
      "model_module": "@jupyter-widgets/base",
      "model_module_version": "1.2.0",
      "model_name": "LayoutModel",
      "state": {
       "height": "600px",
       "width": "100%"
      }
     },
     "f7e6f4eeb5ec49deb9c094aefb5ff7bb": {
      "model_module": "jupyter-leaflet",
      "model_module_version": "^0.13.2",
      "model_name": "LeafletIconModel",
      "state": {
       "_model_module_version": "^0.13.2",
       "_view_module_version": "^0.13.2",
       "icon_size": [
        30,
        40
       ],
       "icon_url": "icons/trashbin.png",
       "options": [
        "icon_anchor",
        "icon_size",
        "icon_url",
        "popup_anchor",
        "shadow_anchor",
        "shadow_size",
        "shadow_url"
       ],
       "shadow_url": null
      }
     },
     "f8a851fe3c8a4841bd970ea18a75e044": {
      "model_module": "jupyter-leaflet",
      "model_module_version": "^0.13.2",
      "model_name": "LeafletMarkerModel",
      "state": {
       "_model_module_version": "^0.13.2",
       "_view_module_version": "^0.13.2",
       "icon": "IPY_MODEL_48aa036322554b2086e1192fc7abf556",
       "location": [
        48.231619,
        16.374845
       ],
       "options": [
        "alt",
        "draggable",
        "keyboard",
        "rise_offset",
        "rise_on_hover",
        "rotation_angle",
        "rotation_origin",
        "title",
        "z_index_offset"
       ]
      }
     },
     "f9c9f84c0e3941258a5400b1ab15fbb6": {
      "model_module": "jupyter-leaflet",
      "model_module_version": "^0.13.2",
      "model_name": "LeafletMarkerModel",
      "state": {
       "_model_module_version": "^0.13.2",
       "_view_module_version": "^0.13.2",
       "icon": "IPY_MODEL_a9714de54ea0436fb1b406c843cb2db1",
       "location": [
        48.231619,
        16.374845
       ],
       "options": [
        "alt",
        "draggable",
        "keyboard",
        "rise_offset",
        "rise_on_hover",
        "rotation_angle",
        "rotation_origin",
        "title",
        "z_index_offset"
       ]
      }
     },
     "faf3d58c4a89455589183ddb6392240e": {
      "model_module": "jupyter-leaflet",
      "model_module_version": "^0.13.2",
      "model_name": "LeafletWidgetControlModel",
      "state": {
       "_model_module": "jupyter-leaflet",
       "_model_module_version": "^0.13.2",
       "_view_count": null,
       "_view_module": "jupyter-leaflet",
       "_view_module_version": "^0.13.2",
       "options": [
        "position"
       ],
       "position": "topright",
       "widget": "IPY_MODEL_8e1deec0f99941b7a0c6342d26eb8f46"
      }
     },
     "faf730607b1d41d280ff3d1c863012db": {
      "model_module": "jupyter-leaflet",
      "model_module_version": "^0.13.2",
      "model_name": "LeafletMapStyleModel",
      "state": {
       "_model_module_version": "^0.13.2",
       "cursor": "move"
      }
     },
     "fafdacc5a4c140be9c1d288472503570": {
      "model_module": "jupyter-leaflet",
      "model_module_version": "^0.13.2",
      "model_name": "LeafletMapStyleModel",
      "state": {
       "_model_module_version": "^0.13.2"
      }
     },
     "fb07fc6b644d47f3a3954b0837408733": {
      "model_module": "@jupyter-widgets/base",
      "model_module_version": "1.2.0",
      "model_name": "LayoutModel",
      "state": {}
     },
     "fb6f0977be6b4bd687882d5112e92137": {
      "model_module": "jupyter-leaflet",
      "model_module_version": "^0.13.2",
      "model_name": "LeafletMarkerModel",
      "state": {
       "_model_module_version": "^0.13.2",
       "_view_module_version": "^0.13.2",
       "icon": "IPY_MODEL_a9714de54ea0436fb1b406c843cb2db1",
       "location": [
        48.233889000000005,
        16.373088
       ],
       "options": [
        "alt",
        "draggable",
        "keyboard",
        "rise_offset",
        "rise_on_hover",
        "rotation_angle",
        "rotation_origin",
        "title",
        "z_index_offset"
       ]
      }
     },
     "fb7cefae41004ded94192f2a5f2266bf": {
      "model_module": "@jupyter-widgets/controls",
      "model_module_version": "1.5.0",
      "model_name": "IntSliderModel",
      "state": {
       "description": "Zoom level:",
       "layout": "IPY_MODEL_f293bfdacdf640b4ba46eee7fc167c37",
       "max": 20,
       "min": 10,
       "style": "IPY_MODEL_e35b750c1aa5452db90fd2fe84513f2d",
       "value": 16
      }
     }
    },
    "version_major": 2,
    "version_minor": 0
   }
  }
 },
 "nbformat": 4,
 "nbformat_minor": 4
}
